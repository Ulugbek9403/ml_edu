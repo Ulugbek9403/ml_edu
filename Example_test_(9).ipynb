{
  "cells": [
    {
      "cell_type": "markdown",
      "metadata": {
        "id": "view-in-github",
        "colab_type": "text"
      },
      "source": [
        "<a href=\"https://colab.research.google.com/github/Ulugbek9403/ml_edu/blob/master/Example_test_(9).ipynb\" target=\"_parent\"><img src=\"https://colab.research.google.com/assets/colab-badge.svg\" alt=\"Open In Colab\"/></a>"
      ]
    },
    {
      "cell_type": "markdown",
      "id": "a014cbc1",
      "metadata": {
        "id": "a014cbc1"
      },
      "source": [
        "# Привет!\n",
        "\n",
        "Перед началом прохождения убедитесь, что все настроено как надо. Следующая ячейка должна выполниться без ошибок:"
      ]
    },
    {
      "cell_type": "markdown",
      "id": "1cce6501",
      "metadata": {
        "id": "1cce6501"
      },
      "source": [
        "После прохождения не забудьте **перезапустить ядро** (**restart the kernel**) (в панели меню выберите Kernel $\\rightarrow$ Restart) и затем **запуск всех ячеек** (**run all cells**) (в панели меню выберите Cell $\\rightarrow$ Run All).\n",
        "\n",
        "Убедитесь, что заменили все такие места\n",
        "```python\n",
        "# YOUR CODE HERE\n",
        "raise NotImplementedError()\n",
        "```\n",
        "и\n",
        "```\n",
        "\"YOUR ANSWER HERE\"\n",
        "```\n",
        "на свои решения и ответы.\n",
        "\n",
        "Если не установлены какие-то пакеты, то посмотрите нужные версии в ноутбуках по регрессии.\n",
        "\n",
        "Для прорешивания используйте среды с поддержкой формата Jupyter: [Google Colab](https://colab.research.google.com/), [Jupyter Notebook (Web)](https://jupyter.org/), [PyCharm](https://www.jetbrains.com/ru-ru/pycharm/), [DataSpell](https://www.jetbrains.com/ru-ru/dataspell/) или [VSCode](https://code.visualstudio.com/). Работа с этим форматом в обычном текстовом редакторе может сыграть злую шутку.\n",
        "\n",
        "Не забывайте о следующих особенностях:\n",
        "- 😉 Помимо указанных тестов после задания существуют и скрытые тесты, поэтому внимательнее читайте задание\n",
        "- 😎 Обязательно проверяйте выполнимость на тестах, для проверки перезапустите ядро и запустите все ячейки заново!\n",
        "- 😂 После скачивания ноутбуков достаточно заполнить места для ответов и отправить ноутбук обратно (сам ноутбук, ни в архиве, ни ссылкой на GitHub ни как-то еще принимать не будем, загружаете сам файл)\n",
        "- 😈 Не рекомендуем удалять исходные ячейки, так как из-за этого могут не начислиться баллы =(\n",
        "  - 👼 Если таки такое случилось, скачайте заново шаблон и перенесите в него свои решения\n",
        "- 😛 Свой код пишите только в ячейках для решений - любые дописывания в остальных ячейках (с текстом или тестами) могут не попасть в проверку (например, `import` вне ячейки для решения)\n"
      ]
    },
    {
      "cell_type": "markdown",
      "id": "9a566e76",
      "metadata": {
        "id": "9a566e76"
      },
      "source": [
        "---"
      ]
    },
    {
      "cell_type": "markdown",
      "id": "1d0ca4dd",
      "metadata": {
        "id": "1d0ca4dd"
      },
      "source": [
        "# Приветствие\n",
        "\n",
        "Привет, в этом тесте вы познакомитесь с тремя примерами задач, которые будут у вас в будущих контрольных точках.\n",
        "\n",
        "Задачи не сложные и нацелены лишь на то, чтобы просто вы опробовали свои силы и познакомились с форматом!"
      ]
    },
    {
      "cell_type": "markdown",
      "id": "ad46f702",
      "metadata": {
        "id": "ad46f702"
      },
      "source": [
        "## Задание 1 (1 балл)\n",
        "\n",
        "Напишите код разворачивания списка.\n",
        "\n",
        "Вместо блока\n",
        "```python\n",
        "# YOUR CODE HERE\n",
        "raise NotImplementedError()\n",
        "```\n",
        "нужно реализовать свой код, чтобы он проходил по следующим тестам.\n",
        "\n",
        "Сразу учитывайте, что не все тесты открыты и часть из них будет проверяться после сдачи решения.\n",
        "\n",
        "> Решение пиши сразу в ячейке ниже"
      ]
    },
    {
      "cell_type": "code",
      "execution_count": 3,
      "id": "41e68646",
      "metadata": {
        "deletable": false,
        "nbgrader": {
          "cell_type": "code",
          "checksum": "61fe39e3e209d485b3f63906f5295e82",
          "grade": false,
          "grade_id": "cell-b7df227e69ae6723",
          "locked": false,
          "schema_version": 3,
          "solution": true,
          "task": false
        },
        "id": "41e68646"
      },
      "outputs": [],
      "source": [
        "def reverse_list(data: list):\n",
        "    \"\"\"\n",
        "    Разворачивает список в обратном порядке.\n",
        "\n",
        "    Parameters:\n",
        "        data (list): Исходный список.\n",
        "\n",
        "    Returns:\n",
        "        list: Развернутый список.\n",
        "    \"\"\"\n",
        "    return data[::-1]\n",
        "    raise NotImplementedError()"
      ]
    },
    {
      "cell_type": "markdown",
      "id": "57b5132f",
      "metadata": {
        "id": "57b5132f"
      },
      "source": [
        "А это открытые тесты, которые будут проверять решение. Не бойтесь дополнять их, если хотите проверить больше кейсов."
      ]
    },
    {
      "cell_type": "code",
      "execution_count": 4,
      "id": "adda4cfd",
      "metadata": {
        "deletable": false,
        "editable": false,
        "nbgrader": {
          "cell_type": "code",
          "checksum": "a8ccbf8e8fdee94ca580ddbb4da299fb",
          "grade": true,
          "grade_id": "cell-a9075953f720b87b",
          "locked": true,
          "points": 1,
          "schema_version": 3,
          "solution": false,
          "task": false
        },
        "id": "adda4cfd"
      },
      "outputs": [],
      "source": [
        "assert reverse_list([0]) == [0]\n",
        "assert reverse_list([3, 2, 1]) == [1, 2, 3]\n",
        "assert reverse_list([]) == []\n"
      ]
    },
    {
      "cell_type": "markdown",
      "id": "d685a278",
      "metadata": {
        "id": "d685a278"
      },
      "source": [
        "## Задание 2 (1 балл)\n",
        "\n",
        "Разработайте функцию вычисления площади круга по переданному радиусу. В случае переданного отрицательного радиуса должен вернуться 0.\n",
        "\n",
        "> Здесь тоже решение пиши сразу в ячейке ниже"
      ]
    },
    {
      "cell_type": "code",
      "execution_count": 5,
      "id": "d80d4144",
      "metadata": {
        "deletable": false,
        "nbgrader": {
          "cell_type": "code",
          "checksum": "5a8b121276ad81a51cac3a402938ed93",
          "grade": false,
          "grade_id": "cell-e0913548aff9db16",
          "locked": false,
          "schema_version": 3,
          "solution": true,
          "task": false
        },
        "id": "d80d4144"
      },
      "outputs": [],
      "source": [
        "import math as m\n",
        "\n",
        "def compute_circle_area(radius: float):\n",
        "    \"\"\"\n",
        "    Вычисляет площадь круга по переданному радиусу.\n",
        "    Возвращает 0, если радиус отрицательный.\n",
        "\n",
        "    Parameters:\n",
        "        radius (float): Радиус круга.\n",
        "\n",
        "    Returns:\n",
        "        float: Площадь круга или 0, если радиус отрицательный.\n",
        "    \"\"\"\n",
        "    if radius < 0:\n",
        "        return 0\n",
        "    return m.pi * radius**2\n",
        "    raise NotImplementedError()"
      ]
    },
    {
      "cell_type": "code",
      "execution_count": 6,
      "id": "406c84fb",
      "metadata": {
        "deletable": false,
        "editable": false,
        "nbgrader": {
          "cell_type": "code",
          "checksum": "6e1e8fdf9abb25d471ccaf70c766708b",
          "grade": true,
          "grade_id": "cell-4302ce285797495b",
          "locked": true,
          "points": 1,
          "schema_version": 3,
          "solution": false,
          "task": false
        },
        "id": "406c84fb"
      },
      "outputs": [],
      "source": [
        "assert m.isclose(compute_circle_area(3), 28.274, abs_tol=1e-3)\n",
        "assert m.isclose(compute_circle_area(-2), 0)\n"
      ]
    },
    {
      "cell_type": "markdown",
      "id": "a9762254",
      "metadata": {
        "id": "a9762254"
      },
      "source": [
        "## Задание 3 (2 балла)\n",
        "\n",
        "Ответьте кратко на вопрос.\n",
        "Какие бывают типы данных Immutable, а какие Mutable? В чем разница между Immutable и Mutable типами?\n",
        "\n",
        "> Надеюсь, и так понятно? =)  \n",
        "> Решение пиши сразу в ячейке ниже"
      ]
    },
    {
      "cell_type": "markdown",
      "id": "5f714527",
      "metadata": {
        "deletable": false,
        "nbgrader": {
          "cell_type": "markdown",
          "checksum": "b147b36f08d8c1f42bd943bf9bb27c75",
          "grade": true,
          "grade_id": "cell-5008a206312d2427",
          "locked": false,
          "points": 2,
          "schema_version": 3,
          "solution": true,
          "task": false
        },
        "id": "5f714527"
      },
      "source": [
        "YOUR ANSWER HERE"
      ]
    },
    {
      "cell_type": "markdown",
      "id": "c79fefef",
      "metadata": {
        "id": "c79fefef"
      },
      "source": [
        "## Задание 4 (0 баллов)\n",
        "\n",
        "Напишите хокку"
      ]
    },
    {
      "cell_type": "markdown",
      "id": "c2befc80",
      "metadata": {
        "id": "c2befc80"
      },
      "source": []
    },
    {
      "cell_type": "markdown",
      "id": "8f78a82b",
      "metadata": {
        "id": "8f78a82b"
      },
      "source": [
        "## Подзравляем!\n",
        "\n",
        "Молодец, тебе удалось прорешать пример контрольной точки!\n",
        "\n",
        "Теперь прогони ноутбук еще разок с перезапуском ядра (Run All - Такие стрелочки на панели сверху \">>\" или меню \"Kernel -> Restart & Run All\") и убедись, что код работает верно и все открытые тесты проходят!"
      ]
    }
  ],
  "metadata": {
    "kernelspec": {
      "display_name": "Python 3 (ipykernel)",
      "language": "python",
      "name": "python3"
    },
    "language_info": {
      "codemirror_mode": {
        "name": "ipython",
        "version": 3
      },
      "file_extension": ".py",
      "mimetype": "text/x-python",
      "name": "python",
      "nbconvert_exporter": "python",
      "pygments_lexer": "ipython3",
      "version": "3.8.12"
    },
    "vscode": {
      "interpreter": {
        "hash": "5ef4d00d2bd0c756646408250b3e0222db1655439c25a4f11279476b8286db07"
      }
    },
    "colab": {
      "provenance": [],
      "include_colab_link": true
    }
  },
  "nbformat": 4,
  "nbformat_minor": 5
}