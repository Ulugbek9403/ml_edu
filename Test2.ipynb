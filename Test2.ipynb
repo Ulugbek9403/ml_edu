{
  "cells": [
    {
      "cell_type": "markdown",
      "metadata": {
        "id": "view-in-github",
        "colab_type": "text"
      },
      "source": [
        "<a href=\"https://colab.research.google.com/github/Ulugbek9403/ml_edu/blob/master/Test2.ipynb\" target=\"_parent\"><img src=\"https://colab.research.google.com/assets/colab-badge.svg\" alt=\"Open In Colab\"/></a>"
      ]
    },
    {
      "cell_type": "markdown",
      "id": "398ab551",
      "metadata": {
        "id": "398ab551"
      },
      "source": [
        "# Привет!\n",
        "\n",
        "Перед началом прохождения убедитесь, что все настроено как надо. Следующая ячейка должна выполниться без ошибок:"
      ]
    },
    {
      "cell_type": "markdown",
      "id": "6d99b509",
      "metadata": {
        "id": "6d99b509"
      },
      "source": [
        "После прохождения не забудьте **перезапустить ядро** (**restart the kernel**) (в панели меню выберите Kernel $\\rightarrow$ Restart) и затем **запуск всех ячеек** (**run all cells**) (в панели меню выберите Cell $\\rightarrow$ Run All).\n",
        "\n",
        "Убедитесь, что заменили все такие места\n",
        "```python\n",
        "# YOUR CODE HERE\n",
        "raise NotImplementedError()\n",
        "```\n",
        "и\n",
        "```\n",
        "\"YOUR ANSWER HERE\"\n",
        "```\n",
        "на свои решения и ответы.\n",
        "\n",
        "Если не установлены какие-то пакеты, то посмотрите нужные версии в ноутбуках по регрессии.\n",
        "\n",
        "Для прорешивания используйте среды с поддержкой формата Jupyter: [Google Colab](https://colab.research.google.com/), [Jupyter Notebook (Web)](https://jupyter.org/), [PyCharm](https://www.jetbrains.com/ru-ru/pycharm/), [DataSpell](https://www.jetbrains.com/ru-ru/dataspell/) или [VSCode](https://code.visualstudio.com/). Работа с этим форматом в обычном текстовом редакторе может сыграть злую шутку.\n",
        "\n",
        "Не забывайте о следующих особенностях:\n",
        "- 😉 Помимо указанных тестов после задания существуют и скрытые тесты, поэтому внимательнее читайте задание\n",
        "- 😎 Обязательно проверяйте выполнимость на тестах, для проверки перезапустите ядро и запустите все ячейки заново!\n",
        "- 😂 После скачивания ноутбуков достаточно заполнить места для ответов и отправить ноутбук обратно (сам ноутбук, ни в архиве, ни ссылкой на GitHub ни как-то еще принимать не будем, загружаете сам файл)\n",
        "- 😈 Не рекомендуем удалять исходные ячейки, так как из-за этого могут не начислиться баллы =(\n",
        "  - 👼 Если таки такое случилось, скачайте заново шаблон и перенесите в него свои решения\n",
        "- 😛 Свой код пишите только в ячейках для решений - любые дописывания в остальных ячейках (с текстом или тестами) могут не попасть в проверку (например, `import` вне ячейки для решения)\n"
      ]
    },
    {
      "cell_type": "markdown",
      "id": "a617f575",
      "metadata": {
        "id": "a617f575"
      },
      "source": [
        "---"
      ]
    },
    {
      "cell_type": "markdown",
      "id": "ba6c331b",
      "metadata": {
        "deletable": false,
        "editable": false,
        "nbgrader": {
          "cell_type": "markdown",
          "checksum": "ef71b55dfdc90791bcd2ac240683cc7c",
          "grade": false,
          "grade_id": "cell-6314f9c6166802af",
          "locked": true,
          "schema_version": 3,
          "solution": false,
          "task": false
        },
        "id": "ba6c331b"
      },
      "source": [
        "Это третья контрольная работа с некоторыми вопросами по теме классификации в машинном обучении!"
      ]
    },
    {
      "cell_type": "code",
      "execution_count": 125,
      "id": "af526f4b",
      "metadata": {
        "deletable": false,
        "editable": false,
        "nbgrader": {
          "cell_type": "code",
          "checksum": "48613af6348573367a0514bd58849d05",
          "grade": false,
          "grade_id": "cell-2f306df295a9654f",
          "locked": true,
          "schema_version": 3,
          "solution": false,
          "task": false
        },
        "colab": {
          "base_uri": "https://localhost:8080/"
        },
        "id": "af526f4b",
        "outputId": "90f57b76-77d9-437e-de44-aee2c50d3fdc"
      },
      "outputs": [
        {
          "output_type": "stream",
          "name": "stdout",
          "text": [
            "numpy version: 1.26.4\n",
            "pandas version: 2.2.2\n",
            "scikit-learn version: 1.5.2\n"
          ]
        }
      ],
      "source": [
        "import numpy as np\n",
        "print(f\"numpy version: {np.__version__}\")\n",
        "import pandas as pd\n",
        "print(f\"pandas version: {pd.__version__}\")\n",
        "# Just to check that it exists\n",
        "import sklearn\n",
        "print(f\"scikit-learn version: {sklearn.__version__}\")\n",
        "\n",
        "from sklearn.datasets import load_iris, load_linnerud\n",
        "from sklearn.metrics import classification_report, confusion_matrix\n",
        "\n",
        "from typing import Union\n",
        "\n",
        "RANDOM_SEED = 123\n",
        "np.random.seed(RANDOM_SEED)"
      ]
    },
    {
      "cell_type": "markdown",
      "id": "500b807d",
      "metadata": {
        "deletable": false,
        "editable": false,
        "nbgrader": {
          "cell_type": "markdown",
          "checksum": "902be5965c8919900ffc083c4dd5f72c",
          "grade": false,
          "grade_id": "cell-f9e85a6c6c3d6200",
          "locked": true,
          "schema_version": 3,
          "solution": false,
          "task": false
        },
        "id": "500b807d"
      },
      "source": [
        "### Задание 1\n",
        "\n",
        "У вас имеется следующий код и разработчик дает следующее описание:\n",
        "\n",
        "\"Я сделал код для датасета linnerud, который выбирает примеры со значением прыжков меньше 80. Написал как смог =)\"\n",
        "\n",
        "```python\n",
        "valid_data = []\n",
        "for i in range(data.shape[0]):\n",
        "    for j in range(data.shape[1]):\n",
        "        if j == 2:\n",
        "            row = data.iloc[i]\n",
        "            value = row[2]\n",
        "            if value < 80:\n",
        "                valid_data.append(row.name)\n",
        "```\n",
        "\n",
        "Ваша задача - написать код, который выбирает примеры с количеством приседаний от 120 до 250 (не включительно). Для реализации необходимо использовать pandas."
      ]
    },
    {
      "cell_type": "markdown",
      "source": [],
      "metadata": {
        "id": "S7eEC164JYA2"
      },
      "id": "S7eEC164JYA2"
    },
    {
      "cell_type": "code",
      "execution_count": 126,
      "id": "3ef640b8",
      "metadata": {
        "deletable": false,
        "nbgrader": {
          "cell_type": "code",
          "checksum": "ba04edcf3e15f1943c920bf6b0864e44",
          "grade": false,
          "grade_id": "cell-7acde17a369cca6b",
          "locked": false,
          "schema_version": 3,
          "solution": true,
          "task": false
        },
        "id": "3ef640b8"
      },
      "outputs": [],
      "source": [
        "def extract_average_situps_indexes(data: pd.DataFrame) -> list:\n",
        "    # Фильтруем строки по значению приседаний и возвращаем индексы\n",
        "    return data[(data['Situps'] > 120) & (data['Situps'] < 250)].index.tolist()\n",
        "\n",
        "\n",
        "\n",
        ""
      ]
    },
    {
      "cell_type": "code",
      "execution_count": 127,
      "id": "2f462aab",
      "metadata": {
        "deletable": false,
        "editable": false,
        "nbgrader": {
          "cell_type": "code",
          "checksum": "4ccd8512381b95ef0f25ca0f675d58c3",
          "grade": true,
          "grade_id": "cell-febc2b6e408ff090",
          "locked": true,
          "points": 1,
          "schema_version": 3,
          "solution": false,
          "task": false
        },
        "id": "2f462aab"
      },
      "outputs": [],
      "source": [
        "features, target = load_linnerud(return_X_y=True, as_frame=True)\n",
        "indexes = extract_average_situps_indexes(features)\n",
        "np.testing.assert_array_equal(indexes, [0, 4, 7, 8, 11, 12, 15, 17, 18])\n"
      ]
    },
    {
      "cell_type": "markdown",
      "id": "445ce76a",
      "metadata": {
        "deletable": false,
        "editable": false,
        "nbgrader": {
          "cell_type": "markdown",
          "checksum": "eedfbb5f3c6258a091dc863e11cf56de",
          "grade": false,
          "grade_id": "cell-7300c8a6c34455e4",
          "locked": true,
          "schema_version": 3,
          "solution": false,
          "task": false
        },
        "id": "445ce76a"
      },
      "source": [
        "### Задание 2\n",
        "\n",
        "Напишите класс классификатора, который проверяет значение задаваемой колонки (индекса по порядку) (anomaly_col_idx) и для примеров со значением больше заданного порога (threshold) **по абсолютному значению** записывает в предсказание \"Anomaly!\". Для предсказания используйте LogisticRegression и не забудьте зафиксировать random_state (для этого есть RANDOM_SEED переменная)!\n"
      ]
    },
    {
      "cell_type": "code",
      "execution_count": 128,
      "id": "6ae28219",
      "metadata": {
        "deletable": false,
        "nbgrader": {
          "cell_type": "code",
          "checksum": "1858f9a24051a2e8b03a9e55e529bd30",
          "grade": false,
          "grade_id": "cell-e103e3009e89d76b",
          "locked": false,
          "schema_version": 3,
          "solution": true,
          "task": false
        },
        "id": "6ae28219"
      },
      "outputs": [],
      "source": [
        "class ClassifierWithAnomalyDetection:\n",
        "    def __init__(self, anomaly_col_idx: int, threshold: float):\n",
        "        self.anomaly_col_idx = anomaly_col_idx\n",
        "        self.threshold = threshold\n",
        "        from sklearn.linear_model import LogisticRegression # Importing here to avoid import error\n",
        "        self.model = LogisticRegression(random_state=RANDOM_SEED)\n",
        "\n",
        "    def fit(self, X_train: pd.DataFrame, y_train: pd.Series):\n",
        "        self.model.fit(X_train, y_train)\n",
        "\n",
        "    def predict(self, X_test: pd.DataFrame):  # Indentation corrected to align with other methods\n",
        "        predictions = self.model.predict(X_test)\n",
        "        anomaly_conditions = X_test.iloc[:, self.anomaly_col_idx].abs() > self.threshold\n",
        "        for i in range(len(predictions)):\n",
        "            if anomaly_conditions.iloc[i]:\n",
        "                predictions[i] = \"Anomaly!\"\n",
        "        return predictions"
      ]
    },
    {
      "cell_type": "code",
      "execution_count": 129,
      "id": "d002d5dd",
      "metadata": {
        "deletable": false,
        "editable": false,
        "nbgrader": {
          "cell_type": "code",
          "checksum": "41b2b81045ef2b841d919b8f5aeedbc2",
          "grade": true,
          "grade_id": "cell-4ac1eb9df6ce8d74",
          "locked": true,
          "points": 2,
          "schema_version": 3,
          "solution": false,
          "task": false
        },
        "id": "d002d5dd"
      },
      "outputs": [],
      "source": [
        "from sklearn.datasets import make_classification\n",
        "from sklearn.model_selection import train_test_split\n",
        "\n",
        "# Prepare data for testing\n",
        "X_data, y_data = make_classification(\n",
        "    n_samples=100,\n",
        "    n_features=2,\n",
        "    n_redundant=0,\n",
        "    scale=[1, 10],\n",
        "    random_state=RANDOM_SEED)\n",
        "\n",
        "train_columns = [\"Feature_1\", \"Feature_2\"]\n",
        "target_column = \"target\"\n",
        "\n",
        "df = pd.DataFrame(X_data, columns=train_columns)\n",
        "df[target_column] = pd.Series(y_data).map({0: \"bad\", 1: \"good\"})\n",
        "\n",
        "train_df, test_df = train_test_split(df, test_size=0.3, random_state=RANDOM_SEED)\n",
        "\n",
        "classifier = ClassifierWithAnomalyDetection(anomaly_col_idx=0, threshold=18)\n",
        "\n",
        "classifier.fit(train_df[train_columns], train_df[target_column])\n",
        "y_pred = classifier.predict(test_df[train_columns])\n",
        "y_true = test_df[target_column]\n",
        "\n",
        "assert \"Anomaly!\" in y_pred\n",
        "assert \"bad\" in y_pred\n",
        "assert \"good\" in y_pred\n",
        "\n",
        "np.testing.assert_equal(len(y_pred), len(test_df))"
      ]
    },
    {
      "cell_type": "markdown",
      "id": "f4dc0db2",
      "metadata": {
        "deletable": false,
        "editable": false,
        "nbgrader": {
          "cell_type": "markdown",
          "checksum": "bc9b9f8a388d54d7de8a03d36eca09f4",
          "grade": false,
          "grade_id": "cell-b4890bc3e51af3c6",
          "locked": true,
          "schema_version": 3,
          "solution": false,
          "task": false
        },
        "id": "f4dc0db2"
      },
      "source": [
        "### Задание 3\n",
        "\n",
        "Перепешите реализацию кода с использованием pandas:\n",
        "\n",
        "```python\n",
        "df_1_data = df_main.values\n",
        "df_2_data = df_noise.values\n",
        "\n",
        "new_column = []\n",
        "for i in range(df_1_data.shape[0]):\n",
        "    for j in range(df_1_data.shape[1]):\n",
        "        if j == 0:\n",
        "            for k in range(df_2_data.shape[0]):\n",
        "                for m in range(df_2_data.shape[1]):\n",
        "                    if m == 0:\n",
        "                        if df_1_data[i][j] == df_2_data[k][m]:\n",
        "                            for n in range(df_2_data.shape[1]):\n",
        "                                if n == 1:\n",
        "                                    new_column.append(df_2_data[k][n])\n",
        "df_main = df_main.copy()\n",
        "df_main['has_noise'] = new_column\n",
        "\n",
        "return df_main\n",
        "```"
      ]
    },
    {
      "cell_type": "code",
      "execution_count": 130,
      "id": "0a8658b5",
      "metadata": {
        "deletable": false,
        "nbgrader": {
          "cell_type": "code",
          "checksum": "08363f5e92f649ade0d75162d0f9d758",
          "grade": false,
          "grade_id": "cell-ca7c8121aec3672d",
          "locked": false,
          "schema_version": 3,
          "solution": true,
          "task": false
        },
        "id": "0a8658b5"
      },
      "outputs": [],
      "source": [
        "def append_noise_column(df_main: pd.DataFrame, df_noise: pd.DataFrame) -> pd.DataFrame:\n",
        "    df_with_noise = pd.merge(df_main, df_noise, on=\"id\", how=\"left\")\n",
        "    return df_with_noise\n",
        "    raise NotImplementedError()\n"
      ]
    },
    {
      "cell_type": "code",
      "execution_count": 131,
      "id": "b36cf4e6",
      "metadata": {
        "deletable": false,
        "editable": false,
        "nbgrader": {
          "cell_type": "code",
          "checksum": "6ebc447a9cba9d167ebccf5cc021c4e3",
          "grade": true,
          "grade_id": "cell-2e3126d36950b822",
          "locked": true,
          "points": 2,
          "schema_version": 3,
          "solution": false,
          "task": false
        },
        "id": "b36cf4e6"
      },
      "outputs": [],
      "source": [
        "df_main = pd.DataFrame(\n",
        "    [\n",
        "        [1, 1.5], [1, 2.3],\n",
        "        [2, 0.7], [2, 1.6], [2, 3.4],\n",
        "        [3, 0.5], [3, 0.5], [3, 0.5]\n",
        "    ],\n",
        "    columns=[\"id\", \"value\"]\n",
        ")\n",
        "df_noise = pd.DataFrame(\n",
        "    [\n",
        "        [1, True], [2, False], [3, False]\n",
        "    ],\n",
        "    columns=[\"id\", \"has_noise\"]\n",
        ")\n",
        "\n",
        "df_with_noise = append_noise_column(df_main, df_noise)\n",
        "\n",
        "np.testing.assert_array_equal(df_with_noise.columns, [\"id\", \"value\", \"has_noise\"])\n",
        "\n",
        "np.testing.assert_equal(df_with_noise.loc[0, \"has_noise\"], True)\n",
        "np.testing.assert_equal(df_with_noise.loc[4, \"has_noise\"], False)\n",
        "np.testing.assert_equal(df_with_noise.loc[7, \"has_noise\"], False)\n"
      ]
    },
    {
      "cell_type": "markdown",
      "id": "f50d5134",
      "metadata": {
        "deletable": false,
        "editable": false,
        "nbgrader": {
          "cell_type": "markdown",
          "checksum": "086708acbb37d2ef3771cc5703f72738",
          "grade": false,
          "grade_id": "cell-e0d020f6cf0299fb",
          "locked": true,
          "schema_version": 3,
          "solution": false,
          "task": false
        },
        "id": "f50d5134"
      },
      "source": [
        "### Задание 4\n",
        "\n",
        "Найдите индексы строк, где колонка делится на n_div без остатка. Например, значения wine_serving на 3."
      ]
    },
    {
      "cell_type": "code",
      "execution_count": 132,
      "id": "e6ac7315",
      "metadata": {
        "deletable": false,
        "nbgrader": {
          "cell_type": "code",
          "checksum": "ccb874e187d9881c4aaaf90f453c5689",
          "grade": false,
          "grade_id": "cell-59c1ff1010ef6ada",
          "locked": false,
          "schema_version": 3,
          "solution": true,
          "task": false
        },
        "id": "e6ac7315"
      },
      "outputs": [],
      "source": [
        "def get_n_divisible_indexes(df: pd.DataFrame, column_name: str, n_div: int) -> list:\n",
        "    divisible_indexes = df[df[column_name] % n_div == 0].index.tolist()\n",
        "    return divisible_indexes\n",
        "    raise NotImplementedError()"
      ]
    },
    {
      "cell_type": "code",
      "execution_count": 133,
      "id": "c06273c4",
      "metadata": {
        "deletable": false,
        "editable": false,
        "nbgrader": {
          "cell_type": "code",
          "checksum": "f201e7b4ffa15c54520f28c01bf56542",
          "grade": true,
          "grade_id": "cell-4de68c6a6140e85e",
          "locked": true,
          "points": 1,
          "schema_version": 3,
          "solution": false,
          "task": false
        },
        "id": "c06273c4"
      },
      "outputs": [],
      "source": [
        "features, target = load_linnerud(return_X_y=True, as_frame=True)\n",
        "\n",
        "indexes = get_n_divisible_indexes(features, \"Jumps\", 5)\n",
        "np.testing.assert_array_equal(indexes, [0,  1,  7,  8,  9, 11, 12, 13, 15, 16, 17])\n"
      ]
    },
    {
      "cell_type": "markdown",
      "id": "d6263527",
      "metadata": {
        "deletable": false,
        "editable": false,
        "nbgrader": {
          "cell_type": "markdown",
          "checksum": "7aad333774c2540f968dd0d69d32df99",
          "grade": false,
          "grade_id": "cell-cde1d12e01d79da6",
          "locked": true,
          "schema_version": 3,
          "solution": false,
          "task": false
        },
        "id": "d6263527"
      },
      "source": [
        "### Задание 5\n",
        "\n",
        "Напишите функцию, которая строит confusion matrix (true ~ rows, pred ~ cols) по заданным классам по осям. Остальные классы скидываются в объединенный класс \"Другое\".\n",
        "\n",
        "Например, имеем:\n",
        "\n",
        "```python\n",
        "y_true = [0, 1, 1, 2, 2, 3, 1, 1]\n",
        "y_pred = [1, 1, 1, 3, 2, 3, 1, 0]\n",
        "```\n",
        "\n",
        "Мы задаем целевые классы\n",
        "\n",
        "```python\n",
        "true_classes = [0, 1]\n",
        "pred_classes = [1, 2]\n",
        "```\n",
        "\n",
        "Должна получиться матрица (DataFrame) с соответствующими именами строк и колонок. Порядок тоже должен сохраняться по задаваемому списку классов.\n",
        "\n",
        "|    |  1 | 2  | Другое |\n",
        "|---:|:--:|:--:|:--:  |\n",
        "| 0  | 1  | 0  |    0    |\n",
        "| 1  | 3  | 0  |   1     |\n",
        "|Другое| 0 | 1   |   2     |\n"
      ]
    },
    {
      "cell_type": "code",
      "execution_count": 134,
      "id": "bcb9d435",
      "metadata": {
        "deletable": false,
        "nbgrader": {
          "cell_type": "code",
          "checksum": "3ba9e48dfff424ce8f889b200cc6f327",
          "grade": false,
          "grade_id": "cell-e7f2339d39aba75b",
          "locked": false,
          "schema_version": 3,
          "solution": true,
          "task": false
        },
        "id": "bcb9d435"
      },
      "outputs": [],
      "source": [
        "def custom_confusion_matrix(y_true: list, y_pred: list, true_classes: list, pred_classes:list) -> pd.DataFrame:\n",
        "    conf_matrix = np.zeros((len(true_classes) + 1, len(pred_classes) + 1), dtype=int)\n",
        "    for true_label, pred_label in zip(y_true, y_pred):\n",
        "        if true_label in true_classes:\n",
        "            true_index = true_classes.index(true_label)\n",
        "        else:\n",
        "            true_index = len(true_classes)\n",
        "\n",
        "        if pred_label in pred_classes:\n",
        "            pred_index = pred_classes.index(pred_label)\n",
        "        else:\n",
        "            pred_index = len(pred_classes)\n",
        "        conf_matrix[true_index, pred_index] += 1\n",
        "    true_classes.append(\"Другое\")\n",
        "    pred_classes.append(\"Другое\")\n",
        "    df = pd.DataFrame(conf_matrix, index=true_classes, columns=pred_classes)\n",
        "    return df"
      ]
    },
    {
      "cell_type": "code",
      "execution_count": 135,
      "id": "b08346da",
      "metadata": {
        "deletable": false,
        "editable": false,
        "nbgrader": {
          "cell_type": "code",
          "checksum": "fdc0839bca9de353464487fe5bf140ea",
          "grade": true,
          "grade_id": "cell-b9e22341db021252",
          "locked": true,
          "points": 1,
          "schema_version": 3,
          "solution": false,
          "task": false
        },
        "id": "b08346da"
      },
      "outputs": [],
      "source": [
        "y_true = [0, 1, 1, 2, 2, 3, 1, 1]\n",
        "y_pred = [1, 1, 1, 3, 2, 3, 1, 0]\n",
        "\n",
        "true_classes = [0, 1]\n",
        "pred_classes = [1, 2]\n",
        "\n",
        "conf = custom_confusion_matrix(y_true, y_pred, true_classes, pred_classes)\n",
        "assert isinstance(conf, pd.DataFrame)\n",
        "np.testing.assert_array_equal(conf.columns, np.array([1, 2, \"Другое\"], dtype=object))\n",
        "np.testing.assert_array_equal(conf.index, np.array([0, 1, \"Другое\"], dtype=object))\n",
        "np.testing.assert_equal(conf.loc[1, 1], 3)\n",
        "np.testing.assert_equal(conf.loc[\"Другое\", 2], 1)"
      ]
    },
    {
      "cell_type": "code",
      "execution_count": 136,
      "id": "faf6a93b",
      "metadata": {
        "deletable": false,
        "editable": false,
        "nbgrader": {
          "cell_type": "code",
          "checksum": "4c479568d7bdfedce0ec5c2d4ddca9a6",
          "grade": true,
          "grade_id": "cell-90796b96652229ad",
          "locked": true,
          "points": 1,
          "schema_version": 3,
          "solution": false,
          "task": false
        },
        "id": "faf6a93b"
      },
      "outputs": [],
      "source": [
        "# Another test\n",
        "y_true = [0, 1, 1, 2, 2, 3, 1, 1, 2, 1, 0]\n",
        "y_pred = [1, 1, 1, 3, 2, 3, 1, 0, 4, 1, 2]\n",
        "\n",
        "true_classes = [3, 0]\n",
        "pred_classes = [1, 2]\n",
        "\n",
        "conf = custom_confusion_matrix(y_true, y_pred, true_classes, pred_classes)\n",
        "np.testing.assert_array_equal(conf, [[0, 0, 1], [1, 1, 0], [4, 1, 3]])\n",
        "\n"
      ]
    },
    {
      "cell_type": "markdown",
      "id": "5b74dc08",
      "metadata": {
        "deletable": false,
        "editable": false,
        "nbgrader": {
          "cell_type": "markdown",
          "checksum": "77d19b96b6173847b7968fa5b57fc83c",
          "grade": false,
          "grade_id": "cell-6d0e05e635be58fd",
          "locked": true,
          "schema_version": 3,
          "solution": false,
          "task": false
        },
        "id": "5b74dc08"
      },
      "source": [
        "### Задание 6\n",
        "\n",
        "Напишите функцию, которая принимает вектор предсказаний и возвращает индексы примеров, в которых модель совершила ошибки. Обратите внимание, что входной вектор может быть как обычным list или tuple, так и pd.Series. Вернуть необходимо индексы (index) из исходного y_true."
      ]
    },
    {
      "cell_type": "code",
      "execution_count": 137,
      "id": "349e7ccc",
      "metadata": {
        "deletable": false,
        "nbgrader": {
          "cell_type": "code",
          "checksum": "2f008b7a3f861723c9b4d984d5b14123",
          "grade": false,
          "grade_id": "cell-05d50ced32c904e1",
          "locked": false,
          "schema_version": 3,
          "solution": true,
          "task": false
        },
        "id": "349e7ccc"
      },
      "outputs": [],
      "source": [
        "def get_error_indexes(y_true: pd.Series, y_pred: Union[list, tuple, pd.Series]) -> pd.Index:\n",
        "    \"\"\"\n",
        "    Возвращает индексы примеров, где модель сделала ошибку.\n",
        "\n",
        "    Parameters:\n",
        "        y_true (pd.Series): Вектор истинных значений.\n",
        "        y_pred (Union[list, tuple, pd.Series]): Вектор предсказанных значений.\n",
        "\n",
        "    Returns:\n",
        "        pd.Index: Индексы примеров с ошибочными предсказаниями.\n",
        "    \"\"\"\n",
        "    # Преобразование y_pred в pd.Series, если это список или кортеж\n",
        "    if not isinstance(y_pred, pd.Series):\n",
        "        y_pred = pd.Series(y_pred, index=y_true.index)\n",
        "\n",
        "    # Вычисление индексов ошибок\n",
        "    error_indexes = y_true.index[y_true != y_pred]\n",
        "\n",
        "    return error_indexes\n",
        "    raise NotImplementedError()"
      ]
    },
    {
      "cell_type": "code",
      "execution_count": 138,
      "id": "c8c19be7",
      "metadata": {
        "deletable": false,
        "editable": false,
        "nbgrader": {
          "cell_type": "code",
          "checksum": "d40a1e0bc4678705fb1e8e97fcc7ae4c",
          "grade": true,
          "grade_id": "cell-f90eb36e2348451e",
          "locked": true,
          "points": 0.5,
          "schema_version": 3,
          "solution": false,
          "task": false
        },
        "id": "c8c19be7"
      },
      "outputs": [],
      "source": [
        "X, y = load_iris(as_frame=True, return_X_y=True)\n",
        "\n",
        "y_test = y.iloc[50:60]\n",
        "y_pred = [0, 0, 1, 1, 1, 0, 0, 0, 1, 1]\n",
        "\n",
        "err_idxs = get_error_indexes(y_test, y_pred)\n",
        "np.testing.assert_array_equal(err_idxs, [50, 51, 55, 56, 57])\n"
      ]
    },
    {
      "cell_type": "code",
      "execution_count": 139,
      "id": "300e390f",
      "metadata": {
        "deletable": false,
        "editable": false,
        "nbgrader": {
          "cell_type": "code",
          "checksum": "833383b0fb1f7dc92ebb980bab07d591",
          "grade": true,
          "grade_id": "cell-0255d9b9ba5ea6a7",
          "locked": true,
          "points": 0.5,
          "schema_version": 3,
          "solution": false,
          "task": false
        },
        "id": "300e390f",
        "colab": {
          "base_uri": "https://localhost:8080/",
          "height": 356
        },
        "outputId": "8d23b0bf-487c-4611-ce32-93d01b0fd949"
      },
      "outputs": [
        {
          "output_type": "error",
          "ename": "ValueError",
          "evalue": "Can only compare identically-labeled Series objects",
          "traceback": [
            "\u001b[0;31m---------------------------------------------------------------------------\u001b[0m",
            "\u001b[0;31mValueError\u001b[0m                                Traceback (most recent call last)",
            "\u001b[0;32m<ipython-input-139-ace559b2c358>\u001b[0m in \u001b[0;36m<cell line: 6>\u001b[0;34m()\u001b[0m\n\u001b[1;32m      4\u001b[0m \u001b[0my_pred\u001b[0m \u001b[0;34m=\u001b[0m \u001b[0mpd\u001b[0m\u001b[0;34m.\u001b[0m\u001b[0mSeries\u001b[0m\u001b[0;34m(\u001b[0m\u001b[0;34m[\u001b[0m\u001b[0;36m0\u001b[0m\u001b[0;34m,\u001b[0m \u001b[0;36m1\u001b[0m\u001b[0;34m,\u001b[0m \u001b[0;36m0\u001b[0m\u001b[0;34m,\u001b[0m \u001b[0;36m1\u001b[0m\u001b[0;34m,\u001b[0m \u001b[0;36m0\u001b[0m\u001b[0;34m,\u001b[0m \u001b[0;36m1\u001b[0m\u001b[0;34m,\u001b[0m \u001b[0;36m1\u001b[0m\u001b[0;34m,\u001b[0m \u001b[0;36m0\u001b[0m\u001b[0;34m,\u001b[0m \u001b[0;36m0\u001b[0m\u001b[0;34m,\u001b[0m \u001b[0;36m1\u001b[0m\u001b[0;34m]\u001b[0m\u001b[0;34m)\u001b[0m\u001b[0;34m\u001b[0m\u001b[0;34m\u001b[0m\u001b[0m\n\u001b[1;32m      5\u001b[0m \u001b[0;34m\u001b[0m\u001b[0m\n\u001b[0;32m----> 6\u001b[0;31m \u001b[0merr_idxs\u001b[0m \u001b[0;34m=\u001b[0m \u001b[0mget_error_indexes\u001b[0m\u001b[0;34m(\u001b[0m\u001b[0my_test\u001b[0m\u001b[0;34m,\u001b[0m \u001b[0my_pred\u001b[0m\u001b[0;34m)\u001b[0m\u001b[0;34m\u001b[0m\u001b[0;34m\u001b[0m\u001b[0m\n\u001b[0m\u001b[1;32m      7\u001b[0m \u001b[0;34m\u001b[0m\u001b[0m\n\u001b[1;32m      8\u001b[0m \u001b[0mnp\u001b[0m\u001b[0;34m.\u001b[0m\u001b[0mtesting\u001b[0m\u001b[0;34m.\u001b[0m\u001b[0massert_array_equal\u001b[0m\u001b[0;34m(\u001b[0m\u001b[0merr_idxs\u001b[0m\u001b[0;34m,\u001b[0m \u001b[0;34m[\u001b[0m\u001b[0;36m70\u001b[0m\u001b[0;34m,\u001b[0m \u001b[0;36m72\u001b[0m\u001b[0;34m,\u001b[0m \u001b[0;36m74\u001b[0m\u001b[0;34m,\u001b[0m \u001b[0;36m77\u001b[0m\u001b[0;34m,\u001b[0m \u001b[0;36m78\u001b[0m\u001b[0;34m]\u001b[0m\u001b[0;34m)\u001b[0m\u001b[0;34m\u001b[0m\u001b[0;34m\u001b[0m\u001b[0m\n",
            "\u001b[0;32m<ipython-input-137-c83f87691e0e>\u001b[0m in \u001b[0;36mget_error_indexes\u001b[0;34m(y_true, y_pred)\u001b[0m\n\u001b[1;32m     15\u001b[0m \u001b[0;34m\u001b[0m\u001b[0m\n\u001b[1;32m     16\u001b[0m     \u001b[0;31m# Вычисление индексов ошибок\u001b[0m\u001b[0;34m\u001b[0m\u001b[0;34m\u001b[0m\u001b[0m\n\u001b[0;32m---> 17\u001b[0;31m     \u001b[0merror_indexes\u001b[0m \u001b[0;34m=\u001b[0m \u001b[0my_true\u001b[0m\u001b[0;34m.\u001b[0m\u001b[0mindex\u001b[0m\u001b[0;34m[\u001b[0m\u001b[0my_true\u001b[0m \u001b[0;34m!=\u001b[0m \u001b[0my_pred\u001b[0m\u001b[0;34m]\u001b[0m\u001b[0;34m\u001b[0m\u001b[0;34m\u001b[0m\u001b[0m\n\u001b[0m\u001b[1;32m     18\u001b[0m \u001b[0;34m\u001b[0m\u001b[0m\n\u001b[1;32m     19\u001b[0m     \u001b[0;32mreturn\u001b[0m \u001b[0merror_indexes\u001b[0m\u001b[0;34m\u001b[0m\u001b[0;34m\u001b[0m\u001b[0m\n",
            "\u001b[0;32m/usr/local/lib/python3.10/dist-packages/pandas/core/ops/common.py\u001b[0m in \u001b[0;36mnew_method\u001b[0;34m(self, other)\u001b[0m\n\u001b[1;32m     74\u001b[0m         \u001b[0mother\u001b[0m \u001b[0;34m=\u001b[0m \u001b[0mitem_from_zerodim\u001b[0m\u001b[0;34m(\u001b[0m\u001b[0mother\u001b[0m\u001b[0;34m)\u001b[0m\u001b[0;34m\u001b[0m\u001b[0;34m\u001b[0m\u001b[0m\n\u001b[1;32m     75\u001b[0m \u001b[0;34m\u001b[0m\u001b[0m\n\u001b[0;32m---> 76\u001b[0;31m         \u001b[0;32mreturn\u001b[0m \u001b[0mmethod\u001b[0m\u001b[0;34m(\u001b[0m\u001b[0mself\u001b[0m\u001b[0;34m,\u001b[0m \u001b[0mother\u001b[0m\u001b[0;34m)\u001b[0m\u001b[0;34m\u001b[0m\u001b[0;34m\u001b[0m\u001b[0m\n\u001b[0m\u001b[1;32m     77\u001b[0m \u001b[0;34m\u001b[0m\u001b[0m\n\u001b[1;32m     78\u001b[0m     \u001b[0;32mreturn\u001b[0m \u001b[0mnew_method\u001b[0m\u001b[0;34m\u001b[0m\u001b[0;34m\u001b[0m\u001b[0m\n",
            "\u001b[0;32m/usr/local/lib/python3.10/dist-packages/pandas/core/arraylike.py\u001b[0m in \u001b[0;36m__ne__\u001b[0;34m(self, other)\u001b[0m\n\u001b[1;32m     42\u001b[0m     \u001b[0;34m@\u001b[0m\u001b[0munpack_zerodim_and_defer\u001b[0m\u001b[0;34m(\u001b[0m\u001b[0;34m\"__ne__\"\u001b[0m\u001b[0;34m)\u001b[0m\u001b[0;34m\u001b[0m\u001b[0;34m\u001b[0m\u001b[0m\n\u001b[1;32m     43\u001b[0m     \u001b[0;32mdef\u001b[0m \u001b[0m__ne__\u001b[0m\u001b[0;34m(\u001b[0m\u001b[0mself\u001b[0m\u001b[0;34m,\u001b[0m \u001b[0mother\u001b[0m\u001b[0;34m)\u001b[0m\u001b[0;34m:\u001b[0m\u001b[0;34m\u001b[0m\u001b[0;34m\u001b[0m\u001b[0m\n\u001b[0;32m---> 44\u001b[0;31m         \u001b[0;32mreturn\u001b[0m \u001b[0mself\u001b[0m\u001b[0;34m.\u001b[0m\u001b[0m_cmp_method\u001b[0m\u001b[0;34m(\u001b[0m\u001b[0mother\u001b[0m\u001b[0;34m,\u001b[0m \u001b[0moperator\u001b[0m\u001b[0;34m.\u001b[0m\u001b[0mne\u001b[0m\u001b[0;34m)\u001b[0m\u001b[0;34m\u001b[0m\u001b[0;34m\u001b[0m\u001b[0m\n\u001b[0m\u001b[1;32m     45\u001b[0m \u001b[0;34m\u001b[0m\u001b[0m\n\u001b[1;32m     46\u001b[0m     \u001b[0;34m@\u001b[0m\u001b[0munpack_zerodim_and_defer\u001b[0m\u001b[0;34m(\u001b[0m\u001b[0;34m\"__lt__\"\u001b[0m\u001b[0;34m)\u001b[0m\u001b[0;34m\u001b[0m\u001b[0;34m\u001b[0m\u001b[0m\n",
            "\u001b[0;32m/usr/local/lib/python3.10/dist-packages/pandas/core/series.py\u001b[0m in \u001b[0;36m_cmp_method\u001b[0;34m(self, other, op)\u001b[0m\n\u001b[1;32m   6112\u001b[0m \u001b[0;34m\u001b[0m\u001b[0m\n\u001b[1;32m   6113\u001b[0m         \u001b[0;32mif\u001b[0m \u001b[0misinstance\u001b[0m\u001b[0;34m(\u001b[0m\u001b[0mother\u001b[0m\u001b[0;34m,\u001b[0m \u001b[0mSeries\u001b[0m\u001b[0;34m)\u001b[0m \u001b[0;32mand\u001b[0m \u001b[0;32mnot\u001b[0m \u001b[0mself\u001b[0m\u001b[0;34m.\u001b[0m\u001b[0m_indexed_same\u001b[0m\u001b[0;34m(\u001b[0m\u001b[0mother\u001b[0m\u001b[0;34m)\u001b[0m\u001b[0;34m:\u001b[0m\u001b[0;34m\u001b[0m\u001b[0;34m\u001b[0m\u001b[0m\n\u001b[0;32m-> 6114\u001b[0;31m             \u001b[0;32mraise\u001b[0m \u001b[0mValueError\u001b[0m\u001b[0;34m(\u001b[0m\u001b[0;34m\"Can only compare identically-labeled Series objects\"\u001b[0m\u001b[0;34m)\u001b[0m\u001b[0;34m\u001b[0m\u001b[0;34m\u001b[0m\u001b[0m\n\u001b[0m\u001b[1;32m   6115\u001b[0m \u001b[0;34m\u001b[0m\u001b[0m\n\u001b[1;32m   6116\u001b[0m         \u001b[0mlvalues\u001b[0m \u001b[0;34m=\u001b[0m \u001b[0mself\u001b[0m\u001b[0;34m.\u001b[0m\u001b[0m_values\u001b[0m\u001b[0;34m\u001b[0m\u001b[0;34m\u001b[0m\u001b[0m\n",
            "\u001b[0;31mValueError\u001b[0m: Can only compare identically-labeled Series objects"
          ]
        }
      ],
      "source": [
        "X, y = load_iris(as_frame=True, return_X_y=True)\n",
        "\n",
        "y_test = y.iloc[70:80]\n",
        "y_pred = pd.Series([0, 1, 0, 1, 0, 1, 1, 0, 0, 1])\n",
        "\n",
        "err_idxs = get_error_indexes(y_test, y_pred)\n",
        "\n",
        "np.testing.assert_array_equal(err_idxs, [70, 72, 74, 77, 78])\n"
      ]
    },
    {
      "cell_type": "markdown",
      "id": "061ebf9b",
      "metadata": {
        "deletable": false,
        "editable": false,
        "nbgrader": {
          "cell_type": "markdown",
          "checksum": "e0d7baec93a6714f774644f83c07d17f",
          "grade": false,
          "grade_id": "cell-b43d6b0e152858f9",
          "locked": true,
          "schema_version": 3,
          "solution": false,
          "task": false
        },
        "id": "061ebf9b"
      },
      "source": [
        "### Задание 7\n",
        "\n",
        "Напишите функцию, которая по переданным `y_true, y_pred` строит стандартный `classification_report`, вычисляет `confusion_matrix` и обогащает данные из `classification_report` столбцом `specificity`. Столбец необходимо посчитать для каждого класса, а также `macro` и `weighted` значения.\n",
        "Используйте готовые реализации там, где это возможно."
      ]
    },
    {
      "cell_type": "code",
      "execution_count": 140,
      "id": "6c7a9d16",
      "metadata": {
        "deletable": false,
        "nbgrader": {
          "cell_type": "code",
          "checksum": "7c972be617664ae38a4708036f10ab95",
          "grade": false,
          "grade_id": "cell-f938d144bb8db284",
          "locked": false,
          "schema_version": 3,
          "solution": true,
          "task": false
        },
        "id": "6c7a9d16"
      },
      "outputs": [],
      "source": [
        "def extend_classification_report(y_true: np.ndarray, y_pred: np.ndarray, class_labels) -> pd.Index:\n",
        "    import pandas as pd\n",
        "import numpy as np\n",
        "from sklearn.metrics import classification_report, confusion_matrix\n",
        "\n",
        "def extend_classification_report(y_true: list, y_pred: list, class_labels: list) -> pd.DataFrame:\n",
        "    \"\"\"\n",
        "    Расширяет стандартный classification_report, добавляя столбец specificity.\n",
        "\n",
        "    Parameters:\n",
        "        y_true (list): Истинные метки классов.\n",
        "        y_pred (list): Предсказанные метки классов.\n",
        "        class_labels (list): Список всех меток классов.\n",
        "\n",
        "    Returns:\n",
        "        pd.DataFrame: Расширенный отчет с добавленным столбцом specificity.\n",
        "    \"\"\"\n",
        "    # Генерация классификационного отчета в виде словаря\n",
        "    report = classification_report(y_true, y_pred, target_names=class_labels, output_dict=True)\n",
        "\n",
        "    # Вычисление матрицы ошибок\n",
        "    cm = confusion_matrix(y_true, y_pred, labels=class_labels)\n",
        "\n",
        "    # Вычисление специфичности для каждого класса\n",
        "    specificity = {}\n",
        "    for i, label in enumerate(class_labels):\n",
        "        tn = cm.sum() - (cm[i, :].sum() + cm[:, i].sum() - cm[i, i])\n",
        "        fp = cm[:, i].sum() - cm[i, i]\n",
        "        specificity[label] = tn / (tn + fp) if (tn + fp) > 0 else 0.0\n",
        "\n",
        "    # Добавляем macro avg и weighted avg для специфичности\n",
        "    specificity['macro avg'] = np.mean(list(specificity.values()))\n",
        "    weights = [sum(np.array(y_true) == label) for label in class_labels]\n",
        "    specificity['weighted avg'] = np.average(list(specificity.values()), weights=weights)\n",
        "\n",
        "    # Преобразование отчета в DataFrame\n",
        "    df = pd.DataFrame(report).transpose()\n",
        "\n",
        "    # Добавление столбца specificity\n",
        "    df['specificity'] = pd.Series(specificity)\n",
        "\n",
        "    return df\n",
        "\n",
        "    raise NotImplementedError()"
      ]
    },
    {
      "cell_type": "code",
      "execution_count": 141,
      "id": "537e4456",
      "metadata": {
        "deletable": false,
        "editable": false,
        "nbgrader": {
          "cell_type": "code",
          "checksum": "049709675868eda59009dc584a55c7cf",
          "grade": true,
          "grade_id": "cell-2ab3cc440469c31b",
          "locked": true,
          "points": 4,
          "schema_version": 3,
          "solution": false,
          "task": false
        },
        "id": "537e4456",
        "colab": {
          "base_uri": "https://localhost:8080/",
          "height": 408
        },
        "outputId": "6cba7b8e-f713-4eb0-b46b-d9e50422f3f6"
      },
      "outputs": [
        {
          "output_type": "error",
          "ename": "TypeError",
          "evalue": "Axis must be specified when shapes of a and weights differ.",
          "traceback": [
            "\u001b[0;31m---------------------------------------------------------------------------\u001b[0m",
            "\u001b[0;31mTypeError\u001b[0m                                 Traceback (most recent call last)",
            "\u001b[0;32m<ipython-input-141-2039bb0b23fa>\u001b[0m in \u001b[0;36m<cell line: 5>\u001b[0;34m()\u001b[0m\n\u001b[1;32m      3\u001b[0m \u001b[0my_pred\u001b[0m \u001b[0;34m=\u001b[0m \u001b[0;34m[\u001b[0m\u001b[0;34m'white'\u001b[0m\u001b[0;34m,\u001b[0m \u001b[0;34m'white'\u001b[0m\u001b[0;34m,\u001b[0m \u001b[0;34m'white'\u001b[0m\u001b[0;34m,\u001b[0m \u001b[0;34m'red'\u001b[0m\u001b[0;34m,\u001b[0m \u001b[0;34m'white'\u001b[0m\u001b[0;34m,\u001b[0m \u001b[0;34m'yellow'\u001b[0m\u001b[0;34m,\u001b[0m \u001b[0;34m'red'\u001b[0m\u001b[0;34m,\u001b[0m \u001b[0;34m'white'\u001b[0m\u001b[0;34m,\u001b[0m \u001b[0;34m'red'\u001b[0m\u001b[0;34m,\u001b[0m \u001b[0;34m'red'\u001b[0m\u001b[0;34m,\u001b[0m \u001b[0;34m'red'\u001b[0m\u001b[0;34m,\u001b[0m \u001b[0;34m'white'\u001b[0m\u001b[0;34m]\u001b[0m\u001b[0;34m\u001b[0m\u001b[0;34m\u001b[0m\u001b[0m\n\u001b[1;32m      4\u001b[0m \u001b[0;34m\u001b[0m\u001b[0m\n\u001b[0;32m----> 5\u001b[0;31m \u001b[0mdf\u001b[0m \u001b[0;34m=\u001b[0m \u001b[0mextend_classification_report\u001b[0m\u001b[0;34m(\u001b[0m\u001b[0my_true\u001b[0m\u001b[0;34m,\u001b[0m \u001b[0my_pred\u001b[0m\u001b[0;34m,\u001b[0m \u001b[0mclass_labels\u001b[0m\u001b[0;34m)\u001b[0m\u001b[0;34m\u001b[0m\u001b[0;34m\u001b[0m\u001b[0m\n\u001b[0m\u001b[1;32m      6\u001b[0m \u001b[0;34m\u001b[0m\u001b[0m\n\u001b[1;32m      7\u001b[0m \u001b[0mnp\u001b[0m\u001b[0;34m.\u001b[0m\u001b[0mtesting\u001b[0m\u001b[0;34m.\u001b[0m\u001b[0massert_array_equal\u001b[0m\u001b[0;34m(\u001b[0m\u001b[0mdf\u001b[0m\u001b[0;34m.\u001b[0m\u001b[0mindex\u001b[0m\u001b[0;34m,\u001b[0m \u001b[0;34m[\u001b[0m\u001b[0;34m'yellow'\u001b[0m\u001b[0;34m,\u001b[0m \u001b[0;34m'red'\u001b[0m\u001b[0;34m,\u001b[0m \u001b[0;34m'white'\u001b[0m\u001b[0;34m,\u001b[0m \u001b[0;34m'accuracy'\u001b[0m\u001b[0;34m,\u001b[0m \u001b[0;34m'macro avg'\u001b[0m\u001b[0;34m,\u001b[0m \u001b[0;34m'weighted avg'\u001b[0m\u001b[0;34m]\u001b[0m\u001b[0;34m)\u001b[0m\u001b[0;34m\u001b[0m\u001b[0;34m\u001b[0m\u001b[0m\n",
            "\u001b[0;32m<ipython-input-140-c1cef4cb55f1>\u001b[0m in \u001b[0;36mextend_classification_report\u001b[0;34m(y_true, y_pred, class_labels)\u001b[0m\n\u001b[1;32m     32\u001b[0m     \u001b[0mspecificity\u001b[0m\u001b[0;34m[\u001b[0m\u001b[0;34m'macro avg'\u001b[0m\u001b[0;34m]\u001b[0m \u001b[0;34m=\u001b[0m \u001b[0mnp\u001b[0m\u001b[0;34m.\u001b[0m\u001b[0mmean\u001b[0m\u001b[0;34m(\u001b[0m\u001b[0mlist\u001b[0m\u001b[0;34m(\u001b[0m\u001b[0mspecificity\u001b[0m\u001b[0;34m.\u001b[0m\u001b[0mvalues\u001b[0m\u001b[0;34m(\u001b[0m\u001b[0;34m)\u001b[0m\u001b[0;34m)\u001b[0m\u001b[0;34m)\u001b[0m\u001b[0;34m\u001b[0m\u001b[0;34m\u001b[0m\u001b[0m\n\u001b[1;32m     33\u001b[0m     \u001b[0mweights\u001b[0m \u001b[0;34m=\u001b[0m \u001b[0;34m[\u001b[0m\u001b[0msum\u001b[0m\u001b[0;34m(\u001b[0m\u001b[0mnp\u001b[0m\u001b[0;34m.\u001b[0m\u001b[0marray\u001b[0m\u001b[0;34m(\u001b[0m\u001b[0my_true\u001b[0m\u001b[0;34m)\u001b[0m \u001b[0;34m==\u001b[0m \u001b[0mlabel\u001b[0m\u001b[0;34m)\u001b[0m \u001b[0;32mfor\u001b[0m \u001b[0mlabel\u001b[0m \u001b[0;32min\u001b[0m \u001b[0mclass_labels\u001b[0m\u001b[0;34m]\u001b[0m\u001b[0;34m\u001b[0m\u001b[0;34m\u001b[0m\u001b[0m\n\u001b[0;32m---> 34\u001b[0;31m     \u001b[0mspecificity\u001b[0m\u001b[0;34m[\u001b[0m\u001b[0;34m'weighted avg'\u001b[0m\u001b[0;34m]\u001b[0m \u001b[0;34m=\u001b[0m \u001b[0mnp\u001b[0m\u001b[0;34m.\u001b[0m\u001b[0maverage\u001b[0m\u001b[0;34m(\u001b[0m\u001b[0mlist\u001b[0m\u001b[0;34m(\u001b[0m\u001b[0mspecificity\u001b[0m\u001b[0;34m.\u001b[0m\u001b[0mvalues\u001b[0m\u001b[0;34m(\u001b[0m\u001b[0;34m)\u001b[0m\u001b[0;34m)\u001b[0m\u001b[0;34m,\u001b[0m \u001b[0mweights\u001b[0m\u001b[0;34m=\u001b[0m\u001b[0mweights\u001b[0m\u001b[0;34m)\u001b[0m\u001b[0;34m\u001b[0m\u001b[0;34m\u001b[0m\u001b[0m\n\u001b[0m\u001b[1;32m     35\u001b[0m \u001b[0;34m\u001b[0m\u001b[0m\n\u001b[1;32m     36\u001b[0m     \u001b[0;31m# Преобразование отчета в DataFrame\u001b[0m\u001b[0;34m\u001b[0m\u001b[0;34m\u001b[0m\u001b[0m\n",
            "\u001b[0;32m/usr/local/lib/python3.10/dist-packages/numpy/lib/function_base.py\u001b[0m in \u001b[0;36maverage\u001b[0;34m(a, axis, weights, returned, keepdims)\u001b[0m\n\u001b[1;32m    532\u001b[0m         \u001b[0;32mif\u001b[0m \u001b[0ma\u001b[0m\u001b[0;34m.\u001b[0m\u001b[0mshape\u001b[0m \u001b[0;34m!=\u001b[0m \u001b[0mwgt\u001b[0m\u001b[0;34m.\u001b[0m\u001b[0mshape\u001b[0m\u001b[0;34m:\u001b[0m\u001b[0;34m\u001b[0m\u001b[0;34m\u001b[0m\u001b[0m\n\u001b[1;32m    533\u001b[0m             \u001b[0;32mif\u001b[0m \u001b[0maxis\u001b[0m \u001b[0;32mis\u001b[0m \u001b[0;32mNone\u001b[0m\u001b[0;34m:\u001b[0m\u001b[0;34m\u001b[0m\u001b[0;34m\u001b[0m\u001b[0m\n\u001b[0;32m--> 534\u001b[0;31m                 raise TypeError(\n\u001b[0m\u001b[1;32m    535\u001b[0m                     \u001b[0;34m\"Axis must be specified when shapes of a and weights \"\u001b[0m\u001b[0;34m\u001b[0m\u001b[0;34m\u001b[0m\u001b[0m\n\u001b[1;32m    536\u001b[0m                     \"differ.\")\n",
            "\u001b[0;31mTypeError\u001b[0m: Axis must be specified when shapes of a and weights differ."
          ]
        }
      ],
      "source": [
        "class_labels = ['yellow', 'red', 'white']\n",
        "y_true = ['yellow', 'white', 'white', 'red', 'red', 'white', 'white', 'white', 'yellow', 'yellow', 'red', 'red']\n",
        "y_pred = ['white', 'white', 'white', 'red', 'white', 'yellow', 'red', 'white', 'red', 'red', 'red', 'white']\n",
        "\n",
        "df = extend_classification_report(y_true, y_pred, class_labels)\n",
        "\n",
        "np.testing.assert_array_equal(df.index, ['yellow', 'red', 'white', 'accuracy', 'macro avg', 'weighted avg'])\n",
        "\n",
        "np.testing.assert_almost_equal(df['specificity']['yellow'], 0.833)\n",
        "np.testing.assert_almost_equal(df['specificity']['red'], 0.5)\n",
        "np.testing.assert_almost_equal(df['specificity']['white'], 0.4)\n",
        "\n",
        "np.testing.assert_almost_equal(df['specificity']['macro avg'], 0.578)\n",
        "np.testing.assert_almost_equal(df['specificity']['weighted avg'], 0.542)\n"
      ]
    }
  ],
  "metadata": {
    "kernelspec": {
      "display_name": "Python 3 (ipykernel)",
      "language": "python",
      "name": "python3"
    },
    "language_info": {
      "codemirror_mode": {
        "name": "ipython",
        "version": 3
      },
      "file_extension": ".py",
      "mimetype": "text/x-python",
      "name": "python",
      "nbconvert_exporter": "python",
      "pygments_lexer": "ipython3",
      "version": "3.10.12"
    },
    "colab": {
      "provenance": [],
      "include_colab_link": true
    }
  },
  "nbformat": 4,
  "nbformat_minor": 5
}