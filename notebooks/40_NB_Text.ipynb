{
  "cells": [
    {
      "cell_type": "markdown",
      "metadata": {
        "id": "view-in-github",
        "colab_type": "text"
      },
      "source": [
        "<a href=\"https://colab.research.google.com/github/Ulugbek9403/ml_edu/blob/master/notebooks/40_NB_Text.ipynb\" target=\"_parent\"><img src=\"https://colab.research.google.com/assets/colab-badge.svg\" alt=\"Open In Colab\"/></a>"
      ]
    },
    {
      "cell_type": "markdown",
      "metadata": {
        "id": "9ECq7LEb3VFb"
      },
      "source": [
        "# Работа с текстом"
      ]
    },
    {
      "cell_type": "markdown",
      "source": [
        "> 🚀 В этой практике нам понадобятся: `numpy==1.26.4, pandas==2.2.2, scikit-learn==1.4.2, matplotlib==3.8.4, seaborn==0.13.2, nltk==3.8.1, scipy==1.13.0`\n",
        "\n",
        "> 🚀 Установить вы их можете с помощью команды: `%pip install numpy==1.26.4 pandas==2.2.2 scikit-learn==1.4.2 matplotlib==3.8.4 seaborn==0.13.2 nltk==3.8.1 scipy==1.13.0`\n"
      ],
      "metadata": {
        "id": "YqxOD4AZ3VFc"
      }
    },
    {
      "cell_type": "markdown",
      "source": [
        "## Содержание\n",
        "\n",
        "* [BOW](#BOW)\n",
        "* [TF-IDF](#TF-IDF)\n",
        "* [Байесовский классификатор](#Байесовский-классификатор)\n",
        "* [Применяем инструменты!](#Применяем-инструменты)\n",
        "* [Предобработка данных](#Предобработка-данных)\n",
        "* [Больше инструментов!](#Больше-инструментов)\n",
        "* [Задачи](#Задачи)\n",
        "* [Вопросы для закрепления](#Вопросы-для-закрепления)\n",
        "* [Полезные ссылки](#Полезные-ссылки)\n"
      ],
      "metadata": {
        "id": "lGwUZahl3VFd"
      }
    },
    {
      "cell_type": "markdown",
      "metadata": {
        "id": "oKfbM9Ks3VFd"
      },
      "source": [
        "До этого мы работали с численными данными или категориями, которые были представлены строками.\n",
        "\n",
        "Строки мы научились кодировать, но что, если данные - это не просто строка или число, а осмысленный текст (заявка пользователей, письмо, комментарий на сайте, отзыв). Что нам тогда делать?\n",
        "\n",
        "Для этого мы начнём со знакомства с методами кодирования текста в числовые векторы, а затем  посмотрим как дополнительная обработка данных может помочь улучшить результаты работы."
      ]
    },
    {
      "cell_type": "code",
      "execution_count": 1,
      "metadata": {
        "id": "7o8kVgDsrZDt",
        "_cell_id": "hWlB1O5B4YX98Eb9"
      },
      "outputs": [],
      "source": [
        "# Импорт необходимых модулей\n",
        "import numpy as np\n",
        "import pandas as pd\n",
        "import seaborn as sns\n",
        "import matplotlib.pyplot as plt\n",
        "import spacy\n",
        "TEXT_COLOR = \"black\"\n",
        "\n",
        "plt.rcParams[\"figure.figsize\"] = (15, 10)\n",
        "plt.rcParams[\"text.color\"] = TEXT_COLOR\n",
        "plt.rcParams[\"font.size\"] = 14\n",
        "plt.rcParams[\"lines.markersize\"] = 15\n",
        "plt.rcParams[\"axes.labelcolor\"] = TEXT_COLOR\n",
        "plt.rcParams[\"xtick.color\"] = TEXT_COLOR\n",
        "plt.rcParams[\"ytick.color\"] = TEXT_COLOR\n",
        "\n",
        "# Зафиксируем состояние случайных чисел\n",
        "RANDOM_STATE = 42\n",
        "np.random.seed(RANDOM_STATE)"
      ]
    },
    {
      "cell_type": "markdown",
      "metadata": {
        "id": "BVg0mhUfPmtG"
      },
      "source": [
        "## BOW\n",
        "\n",
        "Начнем с самого базового метода работы с данными и для этого зададимся простым набором текстов:\n",
        "- \"Пирожок - это лишь пирожок!\"\n",
        "- \"Пирог не кушать, пирожок - можно.\"\n",
        "- \"Я сегодня ходил в кино и поел пирог!\"\n",
        "\n",
        "Так, данные мы видим, это три предложения (три примера в данных), и что нам делать с ними дальше, если в будущем мы увидим одну из колонок текстового формата?\n",
        "\n",
        "Самым простым подходом является метод **Bag Of Words**. Суть его заключается в том, что мы составляем список всех возможных слов из всех текстов (**словарь**/**корпус**) в обучающей выборке. После этого мы можем сформировать числовую матрицу, в которой строки - это тексты набора данных, а колонки - слова из словаря.\n",
        "\n",
        "Сам подход, когда мы преобразуем что-то в числовой вектор фиксированной длины называется **векторизация**. То есть мы делаем преобразование данных неопределённой длины в вектор фиксированной длины, с которым модель уже может сама работать.\n",
        "\n",
        "Посмотрим:"
      ]
    },
    {
      "cell_type": "code",
      "execution_count": 2,
      "metadata": {
        "colab": {
          "base_uri": "https://localhost:8080/"
        },
        "id": "y1Oc4-5cQ1T4",
        "outputId": "07af87c0-6909-4e1d-d136-5897ecfa259d",
        "_cell_id": "TVGlg0JGRWnAxJwh"
      },
      "outputs": [
        {
          "output_type": "stream",
          "name": "stdout",
          "text": [
            "Corpus: ['не', 'пирожок', 'кушать', 'пирог', 'лишь', 'это', 'сегодня', 'ходил', 'кино', 'поел', 'можно']\n"
          ]
        }
      ],
      "source": [
        "# Здесь специально сделана некоторая предобработка текстов,\n",
        "#   которая обычно делается в рамках подготовки,\n",
        "#   поэтому не смотрите на отсутсвие знаков предпинания и необычный формат слов\n",
        "texts_dataset = [\n",
        "    \"пирожок это лишь пирожок\",\n",
        "    \"пирог не кушать пирожок можно\",\n",
        "    \"сегодня ходил кино поел пирог\"\n",
        "]\n",
        "\n",
        "corpus = set()\n",
        "# Для начала составим словарь\n",
        "for text in texts_dataset:\n",
        "    tokens = text.split(\" \")\n",
        "    corpus.update(tokens)\n",
        "\n",
        "corpus = list(corpus)\n",
        "print(f\"Corpus: {corpus}\")"
      ]
    },
    {
      "cell_type": "code",
      "execution_count": 3,
      "metadata": {
        "colab": {
          "base_uri": "https://localhost:8080/",
          "height": 143
        },
        "id": "H_xZG3ZGR18s",
        "outputId": "37c11f56-e9e1-466f-fc01-d8e81b23082a",
        "_cell_id": "FzDXQvjt1DzY7Kl3"
      },
      "outputs": [
        {
          "output_type": "execute_result",
          "data": {
            "text/plain": [
              "   не  пирожок  кушать  пирог  лишь  это  сегодня  ходил  кино  поел  можно  \\\n",
              "0   0        2       0      0     1    1        0      0     0     0      0   \n",
              "1   1        1       1      1     0    0        0      0     0     0      1   \n",
              "2   0        0       0      1     0    0        1      1     1     1      0   \n",
              "\n",
              "                          _texts  \n",
              "0       пирожок это лишь пирожок  \n",
              "1  пирог не кушать пирожок можно  \n",
              "2  сегодня ходил кино поел пирог  "
            ],
            "text/html": [
              "\n",
              "  <div id=\"df-8a058662-93b2-4ed1-885c-0d2c8cf60fdb\" class=\"colab-df-container\">\n",
              "    <div>\n",
              "<style scoped>\n",
              "    .dataframe tbody tr th:only-of-type {\n",
              "        vertical-align: middle;\n",
              "    }\n",
              "\n",
              "    .dataframe tbody tr th {\n",
              "        vertical-align: top;\n",
              "    }\n",
              "\n",
              "    .dataframe thead th {\n",
              "        text-align: right;\n",
              "    }\n",
              "</style>\n",
              "<table border=\"1\" class=\"dataframe\">\n",
              "  <thead>\n",
              "    <tr style=\"text-align: right;\">\n",
              "      <th></th>\n",
              "      <th>не</th>\n",
              "      <th>пирожок</th>\n",
              "      <th>кушать</th>\n",
              "      <th>пирог</th>\n",
              "      <th>лишь</th>\n",
              "      <th>это</th>\n",
              "      <th>сегодня</th>\n",
              "      <th>ходил</th>\n",
              "      <th>кино</th>\n",
              "      <th>поел</th>\n",
              "      <th>можно</th>\n",
              "      <th>_texts</th>\n",
              "    </tr>\n",
              "  </thead>\n",
              "  <tbody>\n",
              "    <tr>\n",
              "      <th>0</th>\n",
              "      <td>0</td>\n",
              "      <td>2</td>\n",
              "      <td>0</td>\n",
              "      <td>0</td>\n",
              "      <td>1</td>\n",
              "      <td>1</td>\n",
              "      <td>0</td>\n",
              "      <td>0</td>\n",
              "      <td>0</td>\n",
              "      <td>0</td>\n",
              "      <td>0</td>\n",
              "      <td>пирожок это лишь пирожок</td>\n",
              "    </tr>\n",
              "    <tr>\n",
              "      <th>1</th>\n",
              "      <td>1</td>\n",
              "      <td>1</td>\n",
              "      <td>1</td>\n",
              "      <td>1</td>\n",
              "      <td>0</td>\n",
              "      <td>0</td>\n",
              "      <td>0</td>\n",
              "      <td>0</td>\n",
              "      <td>0</td>\n",
              "      <td>0</td>\n",
              "      <td>1</td>\n",
              "      <td>пирог не кушать пирожок можно</td>\n",
              "    </tr>\n",
              "    <tr>\n",
              "      <th>2</th>\n",
              "      <td>0</td>\n",
              "      <td>0</td>\n",
              "      <td>0</td>\n",
              "      <td>1</td>\n",
              "      <td>0</td>\n",
              "      <td>0</td>\n",
              "      <td>1</td>\n",
              "      <td>1</td>\n",
              "      <td>1</td>\n",
              "      <td>1</td>\n",
              "      <td>0</td>\n",
              "      <td>сегодня ходил кино поел пирог</td>\n",
              "    </tr>\n",
              "  </tbody>\n",
              "</table>\n",
              "</div>\n",
              "    <div class=\"colab-df-buttons\">\n",
              "\n",
              "  <div class=\"colab-df-container\">\n",
              "    <button class=\"colab-df-convert\" onclick=\"convertToInteractive('df-8a058662-93b2-4ed1-885c-0d2c8cf60fdb')\"\n",
              "            title=\"Convert this dataframe to an interactive table.\"\n",
              "            style=\"display:none;\">\n",
              "\n",
              "  <svg xmlns=\"http://www.w3.org/2000/svg\" height=\"24px\" viewBox=\"0 -960 960 960\">\n",
              "    <path d=\"M120-120v-720h720v720H120Zm60-500h600v-160H180v160Zm220 220h160v-160H400v160Zm0 220h160v-160H400v160ZM180-400h160v-160H180v160Zm440 0h160v-160H620v160ZM180-180h160v-160H180v160Zm440 0h160v-160H620v160Z\"/>\n",
              "  </svg>\n",
              "    </button>\n",
              "\n",
              "  <style>\n",
              "    .colab-df-container {\n",
              "      display:flex;\n",
              "      gap: 12px;\n",
              "    }\n",
              "\n",
              "    .colab-df-convert {\n",
              "      background-color: #E8F0FE;\n",
              "      border: none;\n",
              "      border-radius: 50%;\n",
              "      cursor: pointer;\n",
              "      display: none;\n",
              "      fill: #1967D2;\n",
              "      height: 32px;\n",
              "      padding: 0 0 0 0;\n",
              "      width: 32px;\n",
              "    }\n",
              "\n",
              "    .colab-df-convert:hover {\n",
              "      background-color: #E2EBFA;\n",
              "      box-shadow: 0px 1px 2px rgba(60, 64, 67, 0.3), 0px 1px 3px 1px rgba(60, 64, 67, 0.15);\n",
              "      fill: #174EA6;\n",
              "    }\n",
              "\n",
              "    .colab-df-buttons div {\n",
              "      margin-bottom: 4px;\n",
              "    }\n",
              "\n",
              "    [theme=dark] .colab-df-convert {\n",
              "      background-color: #3B4455;\n",
              "      fill: #D2E3FC;\n",
              "    }\n",
              "\n",
              "    [theme=dark] .colab-df-convert:hover {\n",
              "      background-color: #434B5C;\n",
              "      box-shadow: 0px 1px 3px 1px rgba(0, 0, 0, 0.15);\n",
              "      filter: drop-shadow(0px 1px 2px rgba(0, 0, 0, 0.3));\n",
              "      fill: #FFFFFF;\n",
              "    }\n",
              "  </style>\n",
              "\n",
              "    <script>\n",
              "      const buttonEl =\n",
              "        document.querySelector('#df-8a058662-93b2-4ed1-885c-0d2c8cf60fdb button.colab-df-convert');\n",
              "      buttonEl.style.display =\n",
              "        google.colab.kernel.accessAllowed ? 'block' : 'none';\n",
              "\n",
              "      async function convertToInteractive(key) {\n",
              "        const element = document.querySelector('#df-8a058662-93b2-4ed1-885c-0d2c8cf60fdb');\n",
              "        const dataTable =\n",
              "          await google.colab.kernel.invokeFunction('convertToInteractive',\n",
              "                                                    [key], {});\n",
              "        if (!dataTable) return;\n",
              "\n",
              "        const docLinkHtml = 'Like what you see? Visit the ' +\n",
              "          '<a target=\"_blank\" href=https://colab.research.google.com/notebooks/data_table.ipynb>data table notebook</a>'\n",
              "          + ' to learn more about interactive tables.';\n",
              "        element.innerHTML = '';\n",
              "        dataTable['output_type'] = 'display_data';\n",
              "        await google.colab.output.renderOutput(dataTable, element);\n",
              "        const docLink = document.createElement('div');\n",
              "        docLink.innerHTML = docLinkHtml;\n",
              "        element.appendChild(docLink);\n",
              "      }\n",
              "    </script>\n",
              "  </div>\n",
              "\n",
              "\n",
              "<div id=\"df-c7f4832b-a627-4402-943c-2b6caa213935\">\n",
              "  <button class=\"colab-df-quickchart\" onclick=\"quickchart('df-c7f4832b-a627-4402-943c-2b6caa213935')\"\n",
              "            title=\"Suggest charts\"\n",
              "            style=\"display:none;\">\n",
              "\n",
              "<svg xmlns=\"http://www.w3.org/2000/svg\" height=\"24px\"viewBox=\"0 0 24 24\"\n",
              "     width=\"24px\">\n",
              "    <g>\n",
              "        <path d=\"M19 3H5c-1.1 0-2 .9-2 2v14c0 1.1.9 2 2 2h14c1.1 0 2-.9 2-2V5c0-1.1-.9-2-2-2zM9 17H7v-7h2v7zm4 0h-2V7h2v10zm4 0h-2v-4h2v4z\"/>\n",
              "    </g>\n",
              "</svg>\n",
              "  </button>\n",
              "\n",
              "<style>\n",
              "  .colab-df-quickchart {\n",
              "      --bg-color: #E8F0FE;\n",
              "      --fill-color: #1967D2;\n",
              "      --hover-bg-color: #E2EBFA;\n",
              "      --hover-fill-color: #174EA6;\n",
              "      --disabled-fill-color: #AAA;\n",
              "      --disabled-bg-color: #DDD;\n",
              "  }\n",
              "\n",
              "  [theme=dark] .colab-df-quickchart {\n",
              "      --bg-color: #3B4455;\n",
              "      --fill-color: #D2E3FC;\n",
              "      --hover-bg-color: #434B5C;\n",
              "      --hover-fill-color: #FFFFFF;\n",
              "      --disabled-bg-color: #3B4455;\n",
              "      --disabled-fill-color: #666;\n",
              "  }\n",
              "\n",
              "  .colab-df-quickchart {\n",
              "    background-color: var(--bg-color);\n",
              "    border: none;\n",
              "    border-radius: 50%;\n",
              "    cursor: pointer;\n",
              "    display: none;\n",
              "    fill: var(--fill-color);\n",
              "    height: 32px;\n",
              "    padding: 0;\n",
              "    width: 32px;\n",
              "  }\n",
              "\n",
              "  .colab-df-quickchart:hover {\n",
              "    background-color: var(--hover-bg-color);\n",
              "    box-shadow: 0 1px 2px rgba(60, 64, 67, 0.3), 0 1px 3px 1px rgba(60, 64, 67, 0.15);\n",
              "    fill: var(--button-hover-fill-color);\n",
              "  }\n",
              "\n",
              "  .colab-df-quickchart-complete:disabled,\n",
              "  .colab-df-quickchart-complete:disabled:hover {\n",
              "    background-color: var(--disabled-bg-color);\n",
              "    fill: var(--disabled-fill-color);\n",
              "    box-shadow: none;\n",
              "  }\n",
              "\n",
              "  .colab-df-spinner {\n",
              "    border: 2px solid var(--fill-color);\n",
              "    border-color: transparent;\n",
              "    border-bottom-color: var(--fill-color);\n",
              "    animation:\n",
              "      spin 1s steps(1) infinite;\n",
              "  }\n",
              "\n",
              "  @keyframes spin {\n",
              "    0% {\n",
              "      border-color: transparent;\n",
              "      border-bottom-color: var(--fill-color);\n",
              "      border-left-color: var(--fill-color);\n",
              "    }\n",
              "    20% {\n",
              "      border-color: transparent;\n",
              "      border-left-color: var(--fill-color);\n",
              "      border-top-color: var(--fill-color);\n",
              "    }\n",
              "    30% {\n",
              "      border-color: transparent;\n",
              "      border-left-color: var(--fill-color);\n",
              "      border-top-color: var(--fill-color);\n",
              "      border-right-color: var(--fill-color);\n",
              "    }\n",
              "    40% {\n",
              "      border-color: transparent;\n",
              "      border-right-color: var(--fill-color);\n",
              "      border-top-color: var(--fill-color);\n",
              "    }\n",
              "    60% {\n",
              "      border-color: transparent;\n",
              "      border-right-color: var(--fill-color);\n",
              "    }\n",
              "    80% {\n",
              "      border-color: transparent;\n",
              "      border-right-color: var(--fill-color);\n",
              "      border-bottom-color: var(--fill-color);\n",
              "    }\n",
              "    90% {\n",
              "      border-color: transparent;\n",
              "      border-bottom-color: var(--fill-color);\n",
              "    }\n",
              "  }\n",
              "</style>\n",
              "\n",
              "  <script>\n",
              "    async function quickchart(key) {\n",
              "      const quickchartButtonEl =\n",
              "        document.querySelector('#' + key + ' button');\n",
              "      quickchartButtonEl.disabled = true;  // To prevent multiple clicks.\n",
              "      quickchartButtonEl.classList.add('colab-df-spinner');\n",
              "      try {\n",
              "        const charts = await google.colab.kernel.invokeFunction(\n",
              "            'suggestCharts', [key], {});\n",
              "      } catch (error) {\n",
              "        console.error('Error during call to suggestCharts:', error);\n",
              "      }\n",
              "      quickchartButtonEl.classList.remove('colab-df-spinner');\n",
              "      quickchartButtonEl.classList.add('colab-df-quickchart-complete');\n",
              "    }\n",
              "    (() => {\n",
              "      let quickchartButtonEl =\n",
              "        document.querySelector('#df-c7f4832b-a627-4402-943c-2b6caa213935 button');\n",
              "      quickchartButtonEl.style.display =\n",
              "        google.colab.kernel.accessAllowed ? 'block' : 'none';\n",
              "    })();\n",
              "  </script>\n",
              "</div>\n",
              "    </div>\n",
              "  </div>\n"
            ],
            "application/vnd.google.colaboratory.intrinsic+json": {
              "type": "dataframe",
              "variable_name": "X_df",
              "summary": "{\n  \"name\": \"X_df\",\n  \"rows\": 3,\n  \"fields\": [\n    {\n      \"column\": \"\\u043d\\u0435\",\n      \"properties\": {\n        \"dtype\": \"number\",\n        \"std\": 0,\n        \"min\": 0,\n        \"max\": 1,\n        \"num_unique_values\": 2,\n        \"samples\": [\n          1,\n          0\n        ],\n        \"semantic_type\": \"\",\n        \"description\": \"\"\n      }\n    },\n    {\n      \"column\": \"\\u043f\\u0438\\u0440\\u043e\\u0436\\u043e\\u043a\",\n      \"properties\": {\n        \"dtype\": \"number\",\n        \"std\": 1,\n        \"min\": 0,\n        \"max\": 2,\n        \"num_unique_values\": 3,\n        \"samples\": [\n          2,\n          1\n        ],\n        \"semantic_type\": \"\",\n        \"description\": \"\"\n      }\n    },\n    {\n      \"column\": \"\\u043a\\u0443\\u0448\\u0430\\u0442\\u044c\",\n      \"properties\": {\n        \"dtype\": \"number\",\n        \"std\": 0,\n        \"min\": 0,\n        \"max\": 1,\n        \"num_unique_values\": 2,\n        \"samples\": [\n          1,\n          0\n        ],\n        \"semantic_type\": \"\",\n        \"description\": \"\"\n      }\n    },\n    {\n      \"column\": \"\\u043f\\u0438\\u0440\\u043e\\u0433\",\n      \"properties\": {\n        \"dtype\": \"number\",\n        \"std\": 0,\n        \"min\": 0,\n        \"max\": 1,\n        \"num_unique_values\": 2,\n        \"samples\": [\n          1,\n          0\n        ],\n        \"semantic_type\": \"\",\n        \"description\": \"\"\n      }\n    },\n    {\n      \"column\": \"\\u043b\\u0438\\u0448\\u044c\",\n      \"properties\": {\n        \"dtype\": \"number\",\n        \"std\": 0,\n        \"min\": 0,\n        \"max\": 1,\n        \"num_unique_values\": 2,\n        \"samples\": [\n          0,\n          1\n        ],\n        \"semantic_type\": \"\",\n        \"description\": \"\"\n      }\n    },\n    {\n      \"column\": \"\\u044d\\u0442\\u043e\",\n      \"properties\": {\n        \"dtype\": \"number\",\n        \"std\": 0,\n        \"min\": 0,\n        \"max\": 1,\n        \"num_unique_values\": 2,\n        \"samples\": [\n          0,\n          1\n        ],\n        \"semantic_type\": \"\",\n        \"description\": \"\"\n      }\n    },\n    {\n      \"column\": \"\\u0441\\u0435\\u0433\\u043e\\u0434\\u043d\\u044f\",\n      \"properties\": {\n        \"dtype\": \"number\",\n        \"std\": 0,\n        \"min\": 0,\n        \"max\": 1,\n        \"num_unique_values\": 2,\n        \"samples\": [\n          1,\n          0\n        ],\n        \"semantic_type\": \"\",\n        \"description\": \"\"\n      }\n    },\n    {\n      \"column\": \"\\u0445\\u043e\\u0434\\u0438\\u043b\",\n      \"properties\": {\n        \"dtype\": \"number\",\n        \"std\": 0,\n        \"min\": 0,\n        \"max\": 1,\n        \"num_unique_values\": 2,\n        \"samples\": [\n          1,\n          0\n        ],\n        \"semantic_type\": \"\",\n        \"description\": \"\"\n      }\n    },\n    {\n      \"column\": \"\\u043a\\u0438\\u043d\\u043e\",\n      \"properties\": {\n        \"dtype\": \"number\",\n        \"std\": 0,\n        \"min\": 0,\n        \"max\": 1,\n        \"num_unique_values\": 2,\n        \"samples\": [\n          1,\n          0\n        ],\n        \"semantic_type\": \"\",\n        \"description\": \"\"\n      }\n    },\n    {\n      \"column\": \"\\u043f\\u043e\\u0435\\u043b\",\n      \"properties\": {\n        \"dtype\": \"number\",\n        \"std\": 0,\n        \"min\": 0,\n        \"max\": 1,\n        \"num_unique_values\": 2,\n        \"samples\": [\n          1,\n          0\n        ],\n        \"semantic_type\": \"\",\n        \"description\": \"\"\n      }\n    },\n    {\n      \"column\": \"\\u043c\\u043e\\u0436\\u043d\\u043e\",\n      \"properties\": {\n        \"dtype\": \"number\",\n        \"std\": 0,\n        \"min\": 0,\n        \"max\": 1,\n        \"num_unique_values\": 2,\n        \"samples\": [\n          1,\n          0\n        ],\n        \"semantic_type\": \"\",\n        \"description\": \"\"\n      }\n    },\n    {\n      \"column\": \"_texts\",\n      \"properties\": {\n        \"dtype\": \"string\",\n        \"num_unique_values\": 3,\n        \"samples\": [\n          \"\\u043f\\u0438\\u0440\\u043e\\u0436\\u043e\\u043a \\u044d\\u0442\\u043e \\u043b\\u0438\\u0448\\u044c \\u043f\\u0438\\u0440\\u043e\\u0436\\u043e\\u043a\",\n          \"\\u043f\\u0438\\u0440\\u043e\\u0433 \\u043d\\u0435 \\u043a\\u0443\\u0448\\u0430\\u0442\\u044c \\u043f\\u0438\\u0440\\u043e\\u0436\\u043e\\u043a \\u043c\\u043e\\u0436\\u043d\\u043e\"\n        ],\n        \"semantic_type\": \"\",\n        \"description\": \"\"\n      }\n    }\n  ]\n}"
            }
          },
          "metadata": {},
          "execution_count": 3
        }
      ],
      "source": [
        "# После составления корпуса мы можем составить матрицу попаданий\n",
        "samples_count = len(texts_dataset)\n",
        "corpus_len = len(corpus)\n",
        "X_data = np.zeros((samples_count, corpus_len), dtype=int)\n",
        "\n",
        "for i_sample, text in enumerate(texts_dataset):\n",
        "    tokens = text.split(\" \")\n",
        "    for token in tokens:\n",
        "        token_index = corpus.index(token)\n",
        "        X_data[i_sample, token_index] += 1\n",
        "\n",
        "# Для лучшего представления составим DataFrame\n",
        "X_df = pd.DataFrame(X_data, columns=corpus)\n",
        "X_df[\"_texts\"] = texts_dataset\n",
        "\n",
        "X_df"
      ]
    },
    {
      "cell_type": "markdown",
      "metadata": {
        "id": "S8l542tLS5-M"
      },
      "source": [
        "Отлично! Теперь вне зависимости от длины текста, мы для каждого текста имеем закодированное представление в виде числового вектора! Каждый текст превращается в вектор длиной 11 элементов. То, что надо для модели!\n",
        "\n",
        "Только есть два момента:\n",
        "1. Значения в векторах дискретны и могут бесконечно расти, если одно и то же слово в конкретном тексте встречается 10 раз;\n",
        "2. Теряется порядок слов."
      ]
    },
    {
      "cell_type": "markdown",
      "metadata": {
        "id": "BERu8poRUE8H"
      },
      "source": [
        "Что же делать с порядком слов?\n",
        "\n",
        "Мы можем вместо разовых слов проверять ещё и комбинации слов, например *good movie*, *did not* и другие.\n",
        "\n",
        "Комбинации из двух слов называются **биграммы**, из трех - **триграммы**, и так общее название - **n-граммы** (**n-grams**). Это позволяет учитывать порядок в словах, а также ещё и очень сильно расширяет словарь!\n",
        "\n",
        "> 🤓 В терминологии обработки текста атомарные единицы обработки называются **токены**. Часто под токенами понимаются отдельные слова в предложениях. Не исключением является и возможность назвать токеном целое предложение, но бывает такое в отдельных ситуациях обработки. Самая простая (но не самая лучшая) токенизация (разбиение текста на токены) - сплит по пробелам, это мы и сделали!\n",
        "\n",
        "Вроде и вектора можно нормировать, взять каждый вектор и поделить на длину по L2 или L1 нормам, но даже так, просто подсчёт, как часто встречается слово в конкретном тексте, не отражает реальной значимости слова.\n",
        "\n",
        "> ⚠️ Всё из-за того, что мы просто подсчитываем частоту слов в каждом тексте, но ведь важно ещё понимать, как часто слово встречается во всех текстах. Давайте посмотрим, что если мы имеем датасет на строительную тематику и в каждом тексте будет встречаться слово \"строитель\". В результате кодирования BOW подходом, на месте слова строитель в векторе всегда будет стоять единица. Таким образом, становится понятно, что это слово совсем незначимое, ведь оно есть везде и смысла его учитывать нет, но словарь это всё равно расширяет!\n",
        "\n",
        "По сути подход BOW - отличный вариант, когда тексты небольшие и корпусы (словари) получаются маленькими.\n",
        "\n",
        "**Основной проблемой** этого подхода является количество признаков в матрице (то есть размер словаря), которые летят на вход модели, и невозможность учесть важность слов среди всех текстов. Давайте рассмотрим другой подход, чуть сложнее, но он стоит того!"
      ]
    },
    {
      "cell_type": "markdown",
      "metadata": {
        "id": "f4ddRVfJ5dYV"
      },
      "source": [
        "## TF-IDF\n",
        "\n",
        "\n",
        "Название **TF-IDF** формируется из следующих названий:\n",
        "- TF (term frequency) - отношение числа вхождений слова в тексте к числу слов в тексте;\n",
        "- IDF (inverse document frequency) - логарифм количества текстов к количеству текстов с этим словом.\n",
        "\n",
        "> Если пока формулировки не очень понятны - не беда. Дальше всё рассмотрим более подробно!\n",
        "\n",
        "Результирующий показатель формируется из умножения значений TF на IDF для каждого интересующего слова. То есть, показатель $TFIDF = TF * IDF$.\n",
        "\n",
        "Давайте попробуем разобраться в подходе! Наша задача - вычислить два показателя (TF и IDF) и после этого умножить их.\n",
        "\n",
        "По сути мы уже создавали вектора в формате TF, когда для каждого слова рассчитывали сколько раз он попадается в каждом тексте к общему числу слов в этом тексте. Можно сказать, что нормированный BOW - это TF!\n",
        "\n",
        "Давайте для примера рассчитаем TF-IDF для слова пирожок в наборе текстов:\n",
        "- \"Пирожок - это лишь пирожок!\"\n",
        "- \"Пирог не кушать, пирожок - можно.\"\n",
        "- \"Я сегодня ходил в кино и поел пирог!\"\n",
        "\n",
        "$$\n",
        "TF(word) = W(word) / N;\n",
        "$$\n",
        "где $W$ - количество упоминаний слова в тексте, $N$ - количество слов в тексте.\n",
        "\n",
        "Для нашего случая получается по каждому тексту (нижний индекс):\n",
        "$$\n",
        "TF_1(пирожок) = 2 / 4 = 0.5; \\\\\n",
        "TF_2(пирожок) = 1 / 5 = 0.2; \\\\\n",
        "TF_3(пирожок) = 0 / 8 = 0; \\\\\n",
        "$$\n",
        "\n",
        "Теперь остаётся понять, как рассчитывать IDF. По сути, обратная частота документов - это сколько мы имеем текстов со словом по отношению к количеству текстов, только наоборот! Он показывает, в скольки текстах упоминается это слово.\n",
        "\n",
        "$$\n",
        "IDF(word) = log(M / T(word));\n",
        "$$\n",
        "где $T$ - количество текстов с этим словом в наборе данных, $M$ - количество текстов в наборе данных.\n",
        "\n",
        "А значит для нас:\n",
        "$$\n",
        "IDF(пирожок) = log(3/2) = 0.176;\n",
        "$$\n",
        "\n",
        "Итого:\n",
        "$$\n",
        "TFIDF_1(пирожок) = 0.5 * 0.176 = 0.088; \\\\\n",
        "TFIDF_2(пирожок) = 0.2 * 0.176 = 0.035; \\\\\n",
        "TFIDF_3(пирожок) = 0 * 0.176 = 0; \\\\\n",
        "$$\n",
        "\n",
        "Вот такая математика! Но для чего это нужно? У нас же уже есть отличный BOW с нормированием.\n",
        "\n",
        "IDF на самом деле делает очень важную вещь - помимо того, что мы оцениваем с помощью TF, насколько \"важно\" слово в отдельных текстах, с помощью IDF мы ещё и устраиваем нормирование с уточнением, насколько слово важно во всех текстах, так сказать, тематическое нормирование. Но не нужно сильно ориентироваться на \"важно\", тут скорее играет большую роль тот факт, что каждое слово имеет дополнительную характеристику, что сделает вектор более уникальным.\n",
        "\n",
        "Давайте посмотрим на примере, как работает TF-IDF в рамках инструмента из фреймворка `sklearn` - [TfidfVectorizer](https://scikit-learn.org/stable/modules/generated/sklearn.feature_extraction.text.TfidfVectorizer.html)."
      ]
    },
    {
      "cell_type": "code",
      "execution_count": 4,
      "metadata": {
        "colab": {
          "base_uri": "https://localhost:8080/"
        },
        "id": "IchCrnXG5iRo",
        "outputId": "18feec02-c25e-4749-8add-1bc95a93e753",
        "_cell_id": "oTSYUNNciLmIktZi"
      },
      "outputs": [
        {
          "output_type": "stream",
          "name": "stdout",
          "text": [
            "(3, 11)\n"
          ]
        }
      ],
      "source": [
        "from sklearn.feature_extraction.text import TfidfVectorizer\n",
        "\n",
        "vectorizer = TfidfVectorizer(\n",
        "    # Ограничение максимального кол-ва признаков (размера выходного вектора)\n",
        "    #   None -> не ограничено, вычисляется из данных\n",
        "    max_features=None\n",
        ")\n",
        "\n",
        "X_data = [\n",
        "    \"Пирожок - это лишь пирожок!\",\n",
        "    \"Пирог не кушать, пирожок - можно.\",\n",
        "    \"Я сегодня ходил в кино и поел пирог!\"\n",
        "]\n",
        "\n",
        "X_data_vec = vectorizer.fit_transform(X_data)\n",
        "# Отобразим векторизированное представление (кол-во данных, кол-во фич)\n",
        "print(X_data_vec.shape)"
      ]
    },
    {
      "cell_type": "code",
      "execution_count": 5,
      "metadata": {
        "colab": {
          "base_uri": "https://localhost:8080/"
        },
        "id": "3IMfT5sB8pme",
        "outputId": "60184675-b6bb-4fbe-d5e7-1fe850b601b5",
        "_cell_id": "bPPr0HlqvEzcRaHl"
      },
      "outputs": [
        {
          "output_type": "execute_result",
          "data": {
            "text/plain": [
              "array(['кино', 'кушать', 'лишь', 'можно', 'не', 'пирог', 'пирожок',\n",
              "       'поел', 'сегодня', 'ходил', 'это'], dtype=object)"
            ]
          },
          "metadata": {},
          "execution_count": 5
        }
      ],
      "source": [
        "# Мы можем проверить корпус, который сформировался при генерации\n",
        "corpus = vectorizer.get_feature_names_out()\n",
        "corpus"
      ]
    },
    {
      "cell_type": "code",
      "execution_count": 6,
      "metadata": {
        "colab": {
          "base_uri": "https://localhost:8080/"
        },
        "id": "uobov16d9lsO",
        "outputId": "5878bf80-1a5b-4899-efc6-65f39cd3490e",
        "_cell_id": "S66MyLZxx6Vc36Fh"
      },
      "outputs": [
        {
          "output_type": "execute_result",
          "data": {
            "text/plain": [
              "{'кино': 1.6931471805599454,\n",
              " 'кушать': 1.6931471805599454,\n",
              " 'лишь': 1.6931471805599454,\n",
              " 'можно': 1.6931471805599454,\n",
              " 'не': 1.6931471805599454,\n",
              " 'пирог': 1.2876820724517808,\n",
              " 'пирожок': 1.2876820724517808,\n",
              " 'поел': 1.6931471805599454,\n",
              " 'сегодня': 1.6931471805599454,\n",
              " 'ходил': 1.6931471805599454,\n",
              " 'это': 1.6931471805599454}"
            ]
          },
          "metadata": {},
          "execution_count": 6
        }
      ],
      "source": [
        "# Посмотрим на IDF значения корпуса\n",
        "dict(zip(corpus, vectorizer.idf_))"
      ]
    },
    {
      "cell_type": "code",
      "execution_count": 7,
      "metadata": {
        "colab": {
          "base_uri": "https://localhost:8080/",
          "height": 265
        },
        "id": "CLDnQkKd9gdk",
        "outputId": "4640d899-353a-40be-b3f5-baa9d2c19b30",
        "_cell_id": "v0ea3dXIcRIOKSTE"
      },
      "outputs": [
        {
          "output_type": "execute_result",
          "data": {
            "text/plain": [
              "       кино    кушать      лишь     можно        не     пирог   пирожок  \\\n",
              "0  0.000000  0.000000  0.481482  0.000000  0.000000  0.000000  0.732359   \n",
              "1  0.000000  0.490479  0.000000  0.490479  0.490479  0.373022  0.373022   \n",
              "2  0.467351  0.000000  0.000000  0.000000  0.000000  0.355432  0.000000   \n",
              "\n",
              "       поел   сегодня     ходил       это  \\\n",
              "0  0.000000  0.000000  0.000000  0.481482   \n",
              "1  0.000000  0.000000  0.000000  0.000000   \n",
              "2  0.467351  0.467351  0.467351  0.000000   \n",
              "\n",
              "                                 _texts  \n",
              "0           Пирожок - это лишь пирожок!  \n",
              "1     Пирог не кушать, пирожок - можно.  \n",
              "2  Я сегодня ходил в кино и поел пирог!  "
            ],
            "text/html": [
              "\n",
              "  <div id=\"df-c8914f3b-48f5-44c6-b95f-73e1c3264594\" class=\"colab-df-container\">\n",
              "    <div>\n",
              "<style scoped>\n",
              "    .dataframe tbody tr th:only-of-type {\n",
              "        vertical-align: middle;\n",
              "    }\n",
              "\n",
              "    .dataframe tbody tr th {\n",
              "        vertical-align: top;\n",
              "    }\n",
              "\n",
              "    .dataframe thead th {\n",
              "        text-align: right;\n",
              "    }\n",
              "</style>\n",
              "<table border=\"1\" class=\"dataframe\">\n",
              "  <thead>\n",
              "    <tr style=\"text-align: right;\">\n",
              "      <th></th>\n",
              "      <th>кино</th>\n",
              "      <th>кушать</th>\n",
              "      <th>лишь</th>\n",
              "      <th>можно</th>\n",
              "      <th>не</th>\n",
              "      <th>пирог</th>\n",
              "      <th>пирожок</th>\n",
              "      <th>поел</th>\n",
              "      <th>сегодня</th>\n",
              "      <th>ходил</th>\n",
              "      <th>это</th>\n",
              "      <th>_texts</th>\n",
              "    </tr>\n",
              "  </thead>\n",
              "  <tbody>\n",
              "    <tr>\n",
              "      <th>0</th>\n",
              "      <td>0.000000</td>\n",
              "      <td>0.000000</td>\n",
              "      <td>0.481482</td>\n",
              "      <td>0.000000</td>\n",
              "      <td>0.000000</td>\n",
              "      <td>0.000000</td>\n",
              "      <td>0.732359</td>\n",
              "      <td>0.000000</td>\n",
              "      <td>0.000000</td>\n",
              "      <td>0.000000</td>\n",
              "      <td>0.481482</td>\n",
              "      <td>Пирожок - это лишь пирожок!</td>\n",
              "    </tr>\n",
              "    <tr>\n",
              "      <th>1</th>\n",
              "      <td>0.000000</td>\n",
              "      <td>0.490479</td>\n",
              "      <td>0.000000</td>\n",
              "      <td>0.490479</td>\n",
              "      <td>0.490479</td>\n",
              "      <td>0.373022</td>\n",
              "      <td>0.373022</td>\n",
              "      <td>0.000000</td>\n",
              "      <td>0.000000</td>\n",
              "      <td>0.000000</td>\n",
              "      <td>0.000000</td>\n",
              "      <td>Пирог не кушать, пирожок - можно.</td>\n",
              "    </tr>\n",
              "    <tr>\n",
              "      <th>2</th>\n",
              "      <td>0.467351</td>\n",
              "      <td>0.000000</td>\n",
              "      <td>0.000000</td>\n",
              "      <td>0.000000</td>\n",
              "      <td>0.000000</td>\n",
              "      <td>0.355432</td>\n",
              "      <td>0.000000</td>\n",
              "      <td>0.467351</td>\n",
              "      <td>0.467351</td>\n",
              "      <td>0.467351</td>\n",
              "      <td>0.000000</td>\n",
              "      <td>Я сегодня ходил в кино и поел пирог!</td>\n",
              "    </tr>\n",
              "  </tbody>\n",
              "</table>\n",
              "</div>\n",
              "    <div class=\"colab-df-buttons\">\n",
              "\n",
              "  <div class=\"colab-df-container\">\n",
              "    <button class=\"colab-df-convert\" onclick=\"convertToInteractive('df-c8914f3b-48f5-44c6-b95f-73e1c3264594')\"\n",
              "            title=\"Convert this dataframe to an interactive table.\"\n",
              "            style=\"display:none;\">\n",
              "\n",
              "  <svg xmlns=\"http://www.w3.org/2000/svg\" height=\"24px\" viewBox=\"0 -960 960 960\">\n",
              "    <path d=\"M120-120v-720h720v720H120Zm60-500h600v-160H180v160Zm220 220h160v-160H400v160Zm0 220h160v-160H400v160ZM180-400h160v-160H180v160Zm440 0h160v-160H620v160ZM180-180h160v-160H180v160Zm440 0h160v-160H620v160Z\"/>\n",
              "  </svg>\n",
              "    </button>\n",
              "\n",
              "  <style>\n",
              "    .colab-df-container {\n",
              "      display:flex;\n",
              "      gap: 12px;\n",
              "    }\n",
              "\n",
              "    .colab-df-convert {\n",
              "      background-color: #E8F0FE;\n",
              "      border: none;\n",
              "      border-radius: 50%;\n",
              "      cursor: pointer;\n",
              "      display: none;\n",
              "      fill: #1967D2;\n",
              "      height: 32px;\n",
              "      padding: 0 0 0 0;\n",
              "      width: 32px;\n",
              "    }\n",
              "\n",
              "    .colab-df-convert:hover {\n",
              "      background-color: #E2EBFA;\n",
              "      box-shadow: 0px 1px 2px rgba(60, 64, 67, 0.3), 0px 1px 3px 1px rgba(60, 64, 67, 0.15);\n",
              "      fill: #174EA6;\n",
              "    }\n",
              "\n",
              "    .colab-df-buttons div {\n",
              "      margin-bottom: 4px;\n",
              "    }\n",
              "\n",
              "    [theme=dark] .colab-df-convert {\n",
              "      background-color: #3B4455;\n",
              "      fill: #D2E3FC;\n",
              "    }\n",
              "\n",
              "    [theme=dark] .colab-df-convert:hover {\n",
              "      background-color: #434B5C;\n",
              "      box-shadow: 0px 1px 3px 1px rgba(0, 0, 0, 0.15);\n",
              "      filter: drop-shadow(0px 1px 2px rgba(0, 0, 0, 0.3));\n",
              "      fill: #FFFFFF;\n",
              "    }\n",
              "  </style>\n",
              "\n",
              "    <script>\n",
              "      const buttonEl =\n",
              "        document.querySelector('#df-c8914f3b-48f5-44c6-b95f-73e1c3264594 button.colab-df-convert');\n",
              "      buttonEl.style.display =\n",
              "        google.colab.kernel.accessAllowed ? 'block' : 'none';\n",
              "\n",
              "      async function convertToInteractive(key) {\n",
              "        const element = document.querySelector('#df-c8914f3b-48f5-44c6-b95f-73e1c3264594');\n",
              "        const dataTable =\n",
              "          await google.colab.kernel.invokeFunction('convertToInteractive',\n",
              "                                                    [key], {});\n",
              "        if (!dataTable) return;\n",
              "\n",
              "        const docLinkHtml = 'Like what you see? Visit the ' +\n",
              "          '<a target=\"_blank\" href=https://colab.research.google.com/notebooks/data_table.ipynb>data table notebook</a>'\n",
              "          + ' to learn more about interactive tables.';\n",
              "        element.innerHTML = '';\n",
              "        dataTable['output_type'] = 'display_data';\n",
              "        await google.colab.output.renderOutput(dataTable, element);\n",
              "        const docLink = document.createElement('div');\n",
              "        docLink.innerHTML = docLinkHtml;\n",
              "        element.appendChild(docLink);\n",
              "      }\n",
              "    </script>\n",
              "  </div>\n",
              "\n",
              "\n",
              "<div id=\"df-04674986-eb6c-46d3-8ffc-9143c4ee605c\">\n",
              "  <button class=\"colab-df-quickchart\" onclick=\"quickchart('df-04674986-eb6c-46d3-8ffc-9143c4ee605c')\"\n",
              "            title=\"Suggest charts\"\n",
              "            style=\"display:none;\">\n",
              "\n",
              "<svg xmlns=\"http://www.w3.org/2000/svg\" height=\"24px\"viewBox=\"0 0 24 24\"\n",
              "     width=\"24px\">\n",
              "    <g>\n",
              "        <path d=\"M19 3H5c-1.1 0-2 .9-2 2v14c0 1.1.9 2 2 2h14c1.1 0 2-.9 2-2V5c0-1.1-.9-2-2-2zM9 17H7v-7h2v7zm4 0h-2V7h2v10zm4 0h-2v-4h2v4z\"/>\n",
              "    </g>\n",
              "</svg>\n",
              "  </button>\n",
              "\n",
              "<style>\n",
              "  .colab-df-quickchart {\n",
              "      --bg-color: #E8F0FE;\n",
              "      --fill-color: #1967D2;\n",
              "      --hover-bg-color: #E2EBFA;\n",
              "      --hover-fill-color: #174EA6;\n",
              "      --disabled-fill-color: #AAA;\n",
              "      --disabled-bg-color: #DDD;\n",
              "  }\n",
              "\n",
              "  [theme=dark] .colab-df-quickchart {\n",
              "      --bg-color: #3B4455;\n",
              "      --fill-color: #D2E3FC;\n",
              "      --hover-bg-color: #434B5C;\n",
              "      --hover-fill-color: #FFFFFF;\n",
              "      --disabled-bg-color: #3B4455;\n",
              "      --disabled-fill-color: #666;\n",
              "  }\n",
              "\n",
              "  .colab-df-quickchart {\n",
              "    background-color: var(--bg-color);\n",
              "    border: none;\n",
              "    border-radius: 50%;\n",
              "    cursor: pointer;\n",
              "    display: none;\n",
              "    fill: var(--fill-color);\n",
              "    height: 32px;\n",
              "    padding: 0;\n",
              "    width: 32px;\n",
              "  }\n",
              "\n",
              "  .colab-df-quickchart:hover {\n",
              "    background-color: var(--hover-bg-color);\n",
              "    box-shadow: 0 1px 2px rgba(60, 64, 67, 0.3), 0 1px 3px 1px rgba(60, 64, 67, 0.15);\n",
              "    fill: var(--button-hover-fill-color);\n",
              "  }\n",
              "\n",
              "  .colab-df-quickchart-complete:disabled,\n",
              "  .colab-df-quickchart-complete:disabled:hover {\n",
              "    background-color: var(--disabled-bg-color);\n",
              "    fill: var(--disabled-fill-color);\n",
              "    box-shadow: none;\n",
              "  }\n",
              "\n",
              "  .colab-df-spinner {\n",
              "    border: 2px solid var(--fill-color);\n",
              "    border-color: transparent;\n",
              "    border-bottom-color: var(--fill-color);\n",
              "    animation:\n",
              "      spin 1s steps(1) infinite;\n",
              "  }\n",
              "\n",
              "  @keyframes spin {\n",
              "    0% {\n",
              "      border-color: transparent;\n",
              "      border-bottom-color: var(--fill-color);\n",
              "      border-left-color: var(--fill-color);\n",
              "    }\n",
              "    20% {\n",
              "      border-color: transparent;\n",
              "      border-left-color: var(--fill-color);\n",
              "      border-top-color: var(--fill-color);\n",
              "    }\n",
              "    30% {\n",
              "      border-color: transparent;\n",
              "      border-left-color: var(--fill-color);\n",
              "      border-top-color: var(--fill-color);\n",
              "      border-right-color: var(--fill-color);\n",
              "    }\n",
              "    40% {\n",
              "      border-color: transparent;\n",
              "      border-right-color: var(--fill-color);\n",
              "      border-top-color: var(--fill-color);\n",
              "    }\n",
              "    60% {\n",
              "      border-color: transparent;\n",
              "      border-right-color: var(--fill-color);\n",
              "    }\n",
              "    80% {\n",
              "      border-color: transparent;\n",
              "      border-right-color: var(--fill-color);\n",
              "      border-bottom-color: var(--fill-color);\n",
              "    }\n",
              "    90% {\n",
              "      border-color: transparent;\n",
              "      border-bottom-color: var(--fill-color);\n",
              "    }\n",
              "  }\n",
              "</style>\n",
              "\n",
              "  <script>\n",
              "    async function quickchart(key) {\n",
              "      const quickchartButtonEl =\n",
              "        document.querySelector('#' + key + ' button');\n",
              "      quickchartButtonEl.disabled = true;  // To prevent multiple clicks.\n",
              "      quickchartButtonEl.classList.add('colab-df-spinner');\n",
              "      try {\n",
              "        const charts = await google.colab.kernel.invokeFunction(\n",
              "            'suggestCharts', [key], {});\n",
              "      } catch (error) {\n",
              "        console.error('Error during call to suggestCharts:', error);\n",
              "      }\n",
              "      quickchartButtonEl.classList.remove('colab-df-spinner');\n",
              "      quickchartButtonEl.classList.add('colab-df-quickchart-complete');\n",
              "    }\n",
              "    (() => {\n",
              "      let quickchartButtonEl =\n",
              "        document.querySelector('#df-04674986-eb6c-46d3-8ffc-9143c4ee605c button');\n",
              "      quickchartButtonEl.style.display =\n",
              "        google.colab.kernel.accessAllowed ? 'block' : 'none';\n",
              "    })();\n",
              "  </script>\n",
              "</div>\n",
              "    </div>\n",
              "  </div>\n"
            ],
            "application/vnd.google.colaboratory.intrinsic+json": {
              "type": "dataframe",
              "variable_name": "df",
              "summary": "{\n  \"name\": \"df\",\n  \"rows\": 3,\n  \"fields\": [\n    {\n      \"column\": \"\\u043a\\u0438\\u043d\\u043e\",\n      \"properties\": {\n        \"dtype\": \"number\",\n        \"std\": 0.26982521515445296,\n        \"min\": 0.0,\n        \"max\": 0.4673509818107163,\n        \"num_unique_values\": 2,\n        \"samples\": [\n          0.4673509818107163,\n          0.0\n        ],\n        \"semantic_type\": \"\",\n        \"description\": \"\"\n      }\n    },\n    {\n      \"column\": \"\\u043a\\u0443\\u0448\\u0430\\u0442\\u044c\",\n      \"properties\": {\n        \"dtype\": \"number\",\n        \"std\": 0.2831782312982749,\n        \"min\": 0.0,\n        \"max\": 0.49047908420610337,\n        \"num_unique_values\": 2,\n        \"samples\": [\n          0.49047908420610337,\n          0.0\n        ],\n        \"semantic_type\": \"\",\n        \"description\": \"\"\n      }\n    },\n    {\n      \"column\": \"\\u043b\\u0438\\u0448\\u044c\",\n      \"properties\": {\n        \"dtype\": \"number\",\n        \"std\": 0.2779838382278775,\n        \"min\": 0.0,\n        \"max\": 0.4814821314936913,\n        \"num_unique_values\": 2,\n        \"samples\": [\n          0.0,\n          0.4814821314936913\n        ],\n        \"semantic_type\": \"\",\n        \"description\": \"\"\n      }\n    },\n    {\n      \"column\": \"\\u043c\\u043e\\u0436\\u043d\\u043e\",\n      \"properties\": {\n        \"dtype\": \"number\",\n        \"std\": 0.2831782312982749,\n        \"min\": 0.0,\n        \"max\": 0.49047908420610337,\n        \"num_unique_values\": 2,\n        \"samples\": [\n          0.49047908420610337,\n          0.0\n        ],\n        \"semantic_type\": \"\",\n        \"description\": \"\"\n      }\n    },\n    {\n      \"column\": \"\\u043d\\u0435\",\n      \"properties\": {\n        \"dtype\": \"number\",\n        \"std\": 0.2831782312982749,\n        \"min\": 0.0,\n        \"max\": 0.49047908420610337,\n        \"num_unique_values\": 2,\n        \"samples\": [\n          0.49047908420610337,\n          0.0\n        ],\n        \"semantic_type\": \"\",\n        \"description\": \"\"\n      }\n    },\n    {\n      \"column\": \"\\u043f\\u0438\\u0440\\u043e\\u0433\",\n      \"properties\": {\n        \"dtype\": \"number\",\n        \"std\": 0.21047051744466122,\n        \"min\": 0.0,\n        \"max\": 0.3730219858594306,\n        \"num_unique_values\": 3,\n        \"samples\": [\n          0.0,\n          0.3730219858594306\n        ],\n        \"semantic_type\": \"\",\n        \"description\": \"\"\n      }\n    },\n    {\n      \"column\": \"\\u043f\\u0438\\u0440\\u043e\\u0436\\u043e\\u043a\",\n      \"properties\": {\n        \"dtype\": \"number\",\n        \"std\": 0.36620088030741793,\n        \"min\": 0.0,\n        \"max\": 0.7323591428422148,\n        \"num_unique_values\": 3,\n        \"samples\": [\n          0.7323591428422148,\n          0.3730219858594306\n        ],\n        \"semantic_type\": \"\",\n        \"description\": \"\"\n      }\n    },\n    {\n      \"column\": \"\\u043f\\u043e\\u0435\\u043b\",\n      \"properties\": {\n        \"dtype\": \"number\",\n        \"std\": 0.26982521515445296,\n        \"min\": 0.0,\n        \"max\": 0.4673509818107163,\n        \"num_unique_values\": 2,\n        \"samples\": [\n          0.4673509818107163,\n          0.0\n        ],\n        \"semantic_type\": \"\",\n        \"description\": \"\"\n      }\n    },\n    {\n      \"column\": \"\\u0441\\u0435\\u0433\\u043e\\u0434\\u043d\\u044f\",\n      \"properties\": {\n        \"dtype\": \"number\",\n        \"std\": 0.26982521515445296,\n        \"min\": 0.0,\n        \"max\": 0.4673509818107163,\n        \"num_unique_values\": 2,\n        \"samples\": [\n          0.4673509818107163,\n          0.0\n        ],\n        \"semantic_type\": \"\",\n        \"description\": \"\"\n      }\n    },\n    {\n      \"column\": \"\\u0445\\u043e\\u0434\\u0438\\u043b\",\n      \"properties\": {\n        \"dtype\": \"number\",\n        \"std\": 0.26982521515445296,\n        \"min\": 0.0,\n        \"max\": 0.4673509818107163,\n        \"num_unique_values\": 2,\n        \"samples\": [\n          0.4673509818107163,\n          0.0\n        ],\n        \"semantic_type\": \"\",\n        \"description\": \"\"\n      }\n    },\n    {\n      \"column\": \"\\u044d\\u0442\\u043e\",\n      \"properties\": {\n        \"dtype\": \"number\",\n        \"std\": 0.2779838382278775,\n        \"min\": 0.0,\n        \"max\": 0.4814821314936913,\n        \"num_unique_values\": 2,\n        \"samples\": [\n          0.0,\n          0.4814821314936913\n        ],\n        \"semantic_type\": \"\",\n        \"description\": \"\"\n      }\n    },\n    {\n      \"column\": \"_texts\",\n      \"properties\": {\n        \"dtype\": \"string\",\n        \"num_unique_values\": 3,\n        \"samples\": [\n          \"\\u041f\\u0438\\u0440\\u043e\\u0436\\u043e\\u043a - \\u044d\\u0442\\u043e \\u043b\\u0438\\u0448\\u044c \\u043f\\u0438\\u0440\\u043e\\u0436\\u043e\\u043a!\",\n          \"\\u041f\\u0438\\u0440\\u043e\\u0433 \\u043d\\u0435 \\u043a\\u0443\\u0448\\u0430\\u0442\\u044c, \\u043f\\u0438\\u0440\\u043e\\u0436\\u043e\\u043a - \\u043c\\u043e\\u0436\\u043d\\u043e.\"\n        ],\n        \"semantic_type\": \"\",\n        \"description\": \"\"\n      }\n    }\n  ]\n}"
            }
          },
          "metadata": {},
          "execution_count": 7
        }
      ],
      "source": [
        "df = pd.DataFrame(X_data_vec.todense(), columns = corpus)\n",
        "df[\"_texts\"] = X_data\n",
        "\n",
        "df"
      ]
    },
    {
      "cell_type": "markdown",
      "metadata": {
        "id": "88OIKCO9A2J_"
      },
      "source": [
        "Можно заметить, что численные значения отличаются от наших расчётов. Всё верно, так как внутренняя формула для расчёта немного отличается от той, что мы рассмотрели. Но не так важно получить конкретные числа (до тех пор, пока мы не хотим реализовать свой TF-IDF трансформер), как понять, что каждый текст представлен в виде численного вектора, который может быть подан на вход модели!\n",
        "\n",
        "> Ещё обратите внимание, что трансформер сам делает некоторую предобработку: и слова, в которых всего одна буква - исключены из корпуса.\n",
        "\n",
        "В результате из-за того, что помимо частоты слова в конкретном тексте, мы оцениваем ещё и насколько часто слово встречается среди текстов, векторы отличаются сильнее, что нам и нужно! По сути нам не так важны значения векторов, нежели их различия в значениях между собой, чтобы модель понимала отличия и вытаскивала информацию из этого!"
      ]
    },
    {
      "cell_type": "markdown",
      "metadata": {
        "id": "yhz6Y5y2Ck6n"
      },
      "source": [
        "## Байесовский классификатор\n",
        "\n",
        "Мы уже знаем различные модели, но специфика данных в данном случае такая: они кодируются с частотой появления в текстах и, как результат, матрица данных имеет очень много фич (столбцов). Не нужно говорить, что для деревьев такой случай не очень подходит из-за количества фич, а линейная регрессия может оказаться недостаточной, поэтому мы познакомимся с подходом, который основывается на теореме Байеса и хорошо работает с закодированными данными в виде частот появлений.\n",
        "\n",
        "Напомним, что теорема выглядит так:\n",
        "$$\n",
        "P(A|B) = \\frac{P(B|A)P(A)}{P(B)}\n",
        "$$\n",
        "\n",
        "Здесь расшифровка следующая:\n",
        "$P(A|B)$ - вероятность $A$ при истинности $B$;\n",
        "$P(B|A)$ - вероятность $B$ при истинности $A$;\n",
        "$P(A)$ - априорная вероятность того, что $A$ истинно;\n",
        "$P(B)$ - априорная вероятность того, что $B$ истинно.\n",
        "\n",
        "Сложно? На сегодняшний день очень много статей в интернете, объясняющих теорему, а мы будем сразу применять нашу теорему к данным для классификации!\n",
        "\n",
        "Для примера возьмём следующие данные:"
      ]
    },
    {
      "cell_type": "code",
      "execution_count": 8,
      "metadata": {
        "colab": {
          "base_uri": "https://localhost:8080/",
          "height": 519
        },
        "id": "52ZxQgFgdSp6",
        "outputId": "cd5fad9b-6915-4f6b-8477-baa109ac40ee",
        "_cell_id": "6ThGlhTa7Oa82Twi"
      },
      "outputs": [
        {
          "output_type": "execute_result",
          "data": {
            "text/plain": [
              "    x1 x2  y\n",
              "0    0  A  0\n",
              "1    0  B  0\n",
              "2    0  B  1\n",
              "3    0  B  1\n",
              "4    0  C  0\n",
              "5    1  A  0\n",
              "6    1  A  1\n",
              "7    1  C  1\n",
              "8    1  A  1\n",
              "9    1  A  0\n",
              "10   2  C  0\n",
              "11   2  B  1\n",
              "12   2  B  1\n",
              "13   2  C  1\n",
              "14   2  C  0"
            ],
            "text/html": [
              "\n",
              "  <div id=\"df-4b42de56-6a63-4ff3-8820-25850ab59590\" class=\"colab-df-container\">\n",
              "    <div>\n",
              "<style scoped>\n",
              "    .dataframe tbody tr th:only-of-type {\n",
              "        vertical-align: middle;\n",
              "    }\n",
              "\n",
              "    .dataframe tbody tr th {\n",
              "        vertical-align: top;\n",
              "    }\n",
              "\n",
              "    .dataframe thead th {\n",
              "        text-align: right;\n",
              "    }\n",
              "</style>\n",
              "<table border=\"1\" class=\"dataframe\">\n",
              "  <thead>\n",
              "    <tr style=\"text-align: right;\">\n",
              "      <th></th>\n",
              "      <th>x1</th>\n",
              "      <th>x2</th>\n",
              "      <th>y</th>\n",
              "    </tr>\n",
              "  </thead>\n",
              "  <tbody>\n",
              "    <tr>\n",
              "      <th>0</th>\n",
              "      <td>0</td>\n",
              "      <td>A</td>\n",
              "      <td>0</td>\n",
              "    </tr>\n",
              "    <tr>\n",
              "      <th>1</th>\n",
              "      <td>0</td>\n",
              "      <td>B</td>\n",
              "      <td>0</td>\n",
              "    </tr>\n",
              "    <tr>\n",
              "      <th>2</th>\n",
              "      <td>0</td>\n",
              "      <td>B</td>\n",
              "      <td>1</td>\n",
              "    </tr>\n",
              "    <tr>\n",
              "      <th>3</th>\n",
              "      <td>0</td>\n",
              "      <td>B</td>\n",
              "      <td>1</td>\n",
              "    </tr>\n",
              "    <tr>\n",
              "      <th>4</th>\n",
              "      <td>0</td>\n",
              "      <td>C</td>\n",
              "      <td>0</td>\n",
              "    </tr>\n",
              "    <tr>\n",
              "      <th>5</th>\n",
              "      <td>1</td>\n",
              "      <td>A</td>\n",
              "      <td>0</td>\n",
              "    </tr>\n",
              "    <tr>\n",
              "      <th>6</th>\n",
              "      <td>1</td>\n",
              "      <td>A</td>\n",
              "      <td>1</td>\n",
              "    </tr>\n",
              "    <tr>\n",
              "      <th>7</th>\n",
              "      <td>1</td>\n",
              "      <td>C</td>\n",
              "      <td>1</td>\n",
              "    </tr>\n",
              "    <tr>\n",
              "      <th>8</th>\n",
              "      <td>1</td>\n",
              "      <td>A</td>\n",
              "      <td>1</td>\n",
              "    </tr>\n",
              "    <tr>\n",
              "      <th>9</th>\n",
              "      <td>1</td>\n",
              "      <td>A</td>\n",
              "      <td>0</td>\n",
              "    </tr>\n",
              "    <tr>\n",
              "      <th>10</th>\n",
              "      <td>2</td>\n",
              "      <td>C</td>\n",
              "      <td>0</td>\n",
              "    </tr>\n",
              "    <tr>\n",
              "      <th>11</th>\n",
              "      <td>2</td>\n",
              "      <td>B</td>\n",
              "      <td>1</td>\n",
              "    </tr>\n",
              "    <tr>\n",
              "      <th>12</th>\n",
              "      <td>2</td>\n",
              "      <td>B</td>\n",
              "      <td>1</td>\n",
              "    </tr>\n",
              "    <tr>\n",
              "      <th>13</th>\n",
              "      <td>2</td>\n",
              "      <td>C</td>\n",
              "      <td>1</td>\n",
              "    </tr>\n",
              "    <tr>\n",
              "      <th>14</th>\n",
              "      <td>2</td>\n",
              "      <td>C</td>\n",
              "      <td>0</td>\n",
              "    </tr>\n",
              "  </tbody>\n",
              "</table>\n",
              "</div>\n",
              "    <div class=\"colab-df-buttons\">\n",
              "\n",
              "  <div class=\"colab-df-container\">\n",
              "    <button class=\"colab-df-convert\" onclick=\"convertToInteractive('df-4b42de56-6a63-4ff3-8820-25850ab59590')\"\n",
              "            title=\"Convert this dataframe to an interactive table.\"\n",
              "            style=\"display:none;\">\n",
              "\n",
              "  <svg xmlns=\"http://www.w3.org/2000/svg\" height=\"24px\" viewBox=\"0 -960 960 960\">\n",
              "    <path d=\"M120-120v-720h720v720H120Zm60-500h600v-160H180v160Zm220 220h160v-160H400v160Zm0 220h160v-160H400v160ZM180-400h160v-160H180v160Zm440 0h160v-160H620v160ZM180-180h160v-160H180v160Zm440 0h160v-160H620v160Z\"/>\n",
              "  </svg>\n",
              "    </button>\n",
              "\n",
              "  <style>\n",
              "    .colab-df-container {\n",
              "      display:flex;\n",
              "      gap: 12px;\n",
              "    }\n",
              "\n",
              "    .colab-df-convert {\n",
              "      background-color: #E8F0FE;\n",
              "      border: none;\n",
              "      border-radius: 50%;\n",
              "      cursor: pointer;\n",
              "      display: none;\n",
              "      fill: #1967D2;\n",
              "      height: 32px;\n",
              "      padding: 0 0 0 0;\n",
              "      width: 32px;\n",
              "    }\n",
              "\n",
              "    .colab-df-convert:hover {\n",
              "      background-color: #E2EBFA;\n",
              "      box-shadow: 0px 1px 2px rgba(60, 64, 67, 0.3), 0px 1px 3px 1px rgba(60, 64, 67, 0.15);\n",
              "      fill: #174EA6;\n",
              "    }\n",
              "\n",
              "    .colab-df-buttons div {\n",
              "      margin-bottom: 4px;\n",
              "    }\n",
              "\n",
              "    [theme=dark] .colab-df-convert {\n",
              "      background-color: #3B4455;\n",
              "      fill: #D2E3FC;\n",
              "    }\n",
              "\n",
              "    [theme=dark] .colab-df-convert:hover {\n",
              "      background-color: #434B5C;\n",
              "      box-shadow: 0px 1px 3px 1px rgba(0, 0, 0, 0.15);\n",
              "      filter: drop-shadow(0px 1px 2px rgba(0, 0, 0, 0.3));\n",
              "      fill: #FFFFFF;\n",
              "    }\n",
              "  </style>\n",
              "\n",
              "    <script>\n",
              "      const buttonEl =\n",
              "        document.querySelector('#df-4b42de56-6a63-4ff3-8820-25850ab59590 button.colab-df-convert');\n",
              "      buttonEl.style.display =\n",
              "        google.colab.kernel.accessAllowed ? 'block' : 'none';\n",
              "\n",
              "      async function convertToInteractive(key) {\n",
              "        const element = document.querySelector('#df-4b42de56-6a63-4ff3-8820-25850ab59590');\n",
              "        const dataTable =\n",
              "          await google.colab.kernel.invokeFunction('convertToInteractive',\n",
              "                                                    [key], {});\n",
              "        if (!dataTable) return;\n",
              "\n",
              "        const docLinkHtml = 'Like what you see? Visit the ' +\n",
              "          '<a target=\"_blank\" href=https://colab.research.google.com/notebooks/data_table.ipynb>data table notebook</a>'\n",
              "          + ' to learn more about interactive tables.';\n",
              "        element.innerHTML = '';\n",
              "        dataTable['output_type'] = 'display_data';\n",
              "        await google.colab.output.renderOutput(dataTable, element);\n",
              "        const docLink = document.createElement('div');\n",
              "        docLink.innerHTML = docLinkHtml;\n",
              "        element.appendChild(docLink);\n",
              "      }\n",
              "    </script>\n",
              "  </div>\n",
              "\n",
              "\n",
              "<div id=\"df-4398a4b9-96de-4f51-a0c1-6cbc0e9f74fc\">\n",
              "  <button class=\"colab-df-quickchart\" onclick=\"quickchart('df-4398a4b9-96de-4f51-a0c1-6cbc0e9f74fc')\"\n",
              "            title=\"Suggest charts\"\n",
              "            style=\"display:none;\">\n",
              "\n",
              "<svg xmlns=\"http://www.w3.org/2000/svg\" height=\"24px\"viewBox=\"0 0 24 24\"\n",
              "     width=\"24px\">\n",
              "    <g>\n",
              "        <path d=\"M19 3H5c-1.1 0-2 .9-2 2v14c0 1.1.9 2 2 2h14c1.1 0 2-.9 2-2V5c0-1.1-.9-2-2-2zM9 17H7v-7h2v7zm4 0h-2V7h2v10zm4 0h-2v-4h2v4z\"/>\n",
              "    </g>\n",
              "</svg>\n",
              "  </button>\n",
              "\n",
              "<style>\n",
              "  .colab-df-quickchart {\n",
              "      --bg-color: #E8F0FE;\n",
              "      --fill-color: #1967D2;\n",
              "      --hover-bg-color: #E2EBFA;\n",
              "      --hover-fill-color: #174EA6;\n",
              "      --disabled-fill-color: #AAA;\n",
              "      --disabled-bg-color: #DDD;\n",
              "  }\n",
              "\n",
              "  [theme=dark] .colab-df-quickchart {\n",
              "      --bg-color: #3B4455;\n",
              "      --fill-color: #D2E3FC;\n",
              "      --hover-bg-color: #434B5C;\n",
              "      --hover-fill-color: #FFFFFF;\n",
              "      --disabled-bg-color: #3B4455;\n",
              "      --disabled-fill-color: #666;\n",
              "  }\n",
              "\n",
              "  .colab-df-quickchart {\n",
              "    background-color: var(--bg-color);\n",
              "    border: none;\n",
              "    border-radius: 50%;\n",
              "    cursor: pointer;\n",
              "    display: none;\n",
              "    fill: var(--fill-color);\n",
              "    height: 32px;\n",
              "    padding: 0;\n",
              "    width: 32px;\n",
              "  }\n",
              "\n",
              "  .colab-df-quickchart:hover {\n",
              "    background-color: var(--hover-bg-color);\n",
              "    box-shadow: 0 1px 2px rgba(60, 64, 67, 0.3), 0 1px 3px 1px rgba(60, 64, 67, 0.15);\n",
              "    fill: var(--button-hover-fill-color);\n",
              "  }\n",
              "\n",
              "  .colab-df-quickchart-complete:disabled,\n",
              "  .colab-df-quickchart-complete:disabled:hover {\n",
              "    background-color: var(--disabled-bg-color);\n",
              "    fill: var(--disabled-fill-color);\n",
              "    box-shadow: none;\n",
              "  }\n",
              "\n",
              "  .colab-df-spinner {\n",
              "    border: 2px solid var(--fill-color);\n",
              "    border-color: transparent;\n",
              "    border-bottom-color: var(--fill-color);\n",
              "    animation:\n",
              "      spin 1s steps(1) infinite;\n",
              "  }\n",
              "\n",
              "  @keyframes spin {\n",
              "    0% {\n",
              "      border-color: transparent;\n",
              "      border-bottom-color: var(--fill-color);\n",
              "      border-left-color: var(--fill-color);\n",
              "    }\n",
              "    20% {\n",
              "      border-color: transparent;\n",
              "      border-left-color: var(--fill-color);\n",
              "      border-top-color: var(--fill-color);\n",
              "    }\n",
              "    30% {\n",
              "      border-color: transparent;\n",
              "      border-left-color: var(--fill-color);\n",
              "      border-top-color: var(--fill-color);\n",
              "      border-right-color: var(--fill-color);\n",
              "    }\n",
              "    40% {\n",
              "      border-color: transparent;\n",
              "      border-right-color: var(--fill-color);\n",
              "      border-top-color: var(--fill-color);\n",
              "    }\n",
              "    60% {\n",
              "      border-color: transparent;\n",
              "      border-right-color: var(--fill-color);\n",
              "    }\n",
              "    80% {\n",
              "      border-color: transparent;\n",
              "      border-right-color: var(--fill-color);\n",
              "      border-bottom-color: var(--fill-color);\n",
              "    }\n",
              "    90% {\n",
              "      border-color: transparent;\n",
              "      border-bottom-color: var(--fill-color);\n",
              "    }\n",
              "  }\n",
              "</style>\n",
              "\n",
              "  <script>\n",
              "    async function quickchart(key) {\n",
              "      const quickchartButtonEl =\n",
              "        document.querySelector('#' + key + ' button');\n",
              "      quickchartButtonEl.disabled = true;  // To prevent multiple clicks.\n",
              "      quickchartButtonEl.classList.add('colab-df-spinner');\n",
              "      try {\n",
              "        const charts = await google.colab.kernel.invokeFunction(\n",
              "            'suggestCharts', [key], {});\n",
              "      } catch (error) {\n",
              "        console.error('Error during call to suggestCharts:', error);\n",
              "      }\n",
              "      quickchartButtonEl.classList.remove('colab-df-spinner');\n",
              "      quickchartButtonEl.classList.add('colab-df-quickchart-complete');\n",
              "    }\n",
              "    (() => {\n",
              "      let quickchartButtonEl =\n",
              "        document.querySelector('#df-4398a4b9-96de-4f51-a0c1-6cbc0e9f74fc button');\n",
              "      quickchartButtonEl.style.display =\n",
              "        google.colab.kernel.accessAllowed ? 'block' : 'none';\n",
              "    })();\n",
              "  </script>\n",
              "</div>\n",
              "    </div>\n",
              "  </div>\n"
            ],
            "application/vnd.google.colaboratory.intrinsic+json": {
              "type": "dataframe",
              "variable_name": "df",
              "summary": "{\n  \"name\": \"df\",\n  \"rows\": 15,\n  \"fields\": [\n    {\n      \"column\": \"x1\",\n      \"properties\": {\n        \"dtype\": \"number\",\n        \"std\": 0,\n        \"min\": 0,\n        \"max\": 2,\n        \"num_unique_values\": 3,\n        \"samples\": [\n          0,\n          1,\n          2\n        ],\n        \"semantic_type\": \"\",\n        \"description\": \"\"\n      }\n    },\n    {\n      \"column\": \"x2\",\n      \"properties\": {\n        \"dtype\": \"category\",\n        \"num_unique_values\": 3,\n        \"samples\": [\n          \"A\",\n          \"B\",\n          \"C\"\n        ],\n        \"semantic_type\": \"\",\n        \"description\": \"\"\n      }\n    },\n    {\n      \"column\": \"y\",\n      \"properties\": {\n        \"dtype\": \"number\",\n        \"std\": 0,\n        \"min\": 0,\n        \"max\": 1,\n        \"num_unique_values\": 2,\n        \"samples\": [\n          1,\n          0\n        ],\n        \"semantic_type\": \"\",\n        \"description\": \"\"\n      }\n    }\n  ]\n}"
            }
          },
          "metadata": {},
          "execution_count": 8
        }
      ],
      "source": [
        "df = pd.DataFrame({\n",
        "    \"x1\": [0, 0, 0, 0, 0, 1, 1, 1, 1, 1, 2, 2, 2, 2, 2],\n",
        "    \"x2\": [\"A\", \"B\", \"B\", \"B\", \"C\", \"A\", \"A\", \"C\", \"A\", \"A\", \"C\", \"B\", \"B\", \"C\", \"C\"],\n",
        "    \"y\": [0, 0, 1, 1, 0, 0, 1, 1, 1, 0, 0, 1, 1, 1, 0]\n",
        "})\n",
        "\n",
        "df"
      ]
    },
    {
      "cell_type": "markdown",
      "metadata": {
        "id": "HwEWBWPId8ZP"
      },
      "source": [
        "Давайте попробуем с помощью байесовской теоремы определить, к какому классу принадлежит новая запись $X_{new}$ со значениями $x_1$ и $x_2$ равными $[2, C]$?\n",
        "\n",
        "По сути нашей задачей является определение вероятностей $P(y=1|X=X_{new})$ и $P(y=0|X=X_{new})$. Первая вероятность $P(y=1|X=X_{new})$ - это вероятность того, что новая запись принадлежит классу 1 (то есть вероятность выбора класса 1 при условии появления данных $X_{new}$). Вторая вероятность $P(y=0|X=X_{new})$ - это вероятность классифицировать новую запись как класс 0 (аналогично). Какая вероятность будет больше - тот класс и выберем!\n",
        "\n",
        "Теперь распишем формулы:\n",
        "$$\n",
        "P(y=1|X=X_{new}) = \\frac{P(X=X_{new}|y=1)P(y=1)}{P(X=X_{new})} \\\\\n",
        "P(y=0|X=X_{new}) = \\frac{P(X=X_{new}|y=0)P(y=0)}{P(X=X_{new})} \\\\\n",
        "$$\n",
        "\n",
        "По сути, из-за того, что знаменатели одинаковые, то нам нужно всего-то сравнить числители! Не будем усложнять себе жизнь, надо определить всего-то 4 показателя:\n",
        "- $P(y=0)$;\n",
        "- $P(y=1)$;\n",
        "- $P(X=X_{new}|y=0)$;\n",
        "- $P(X=X_{new}|y=1)$.\n",
        "\n",
        "Начнём с первых двух, это априорные вероятности, то есть, нам просто нужно определить, насколько вероятно на основе данных получить запись с классом $y=0$ или $y=1$. Как это сделать? Поделить количество записей класса на общее количество записей!"
      ]
    },
    {
      "cell_type": "code",
      "execution_count": 9,
      "metadata": {
        "colab": {
          "base_uri": "https://localhost:8080/",
          "height": 178
        },
        "id": "WxZMyEQIgG3x",
        "outputId": "46a2420a-0aca-42a9-87c1-3dda15ec7040",
        "_cell_id": "65uwW9vn03dEEuDV"
      },
      "outputs": [
        {
          "output_type": "execute_result",
          "data": {
            "text/plain": [
              "y\n",
              "1    8\n",
              "0    7\n",
              "Name: count, dtype: int64"
            ],
            "text/html": [
              "<div>\n",
              "<style scoped>\n",
              "    .dataframe tbody tr th:only-of-type {\n",
              "        vertical-align: middle;\n",
              "    }\n",
              "\n",
              "    .dataframe tbody tr th {\n",
              "        vertical-align: top;\n",
              "    }\n",
              "\n",
              "    .dataframe thead th {\n",
              "        text-align: right;\n",
              "    }\n",
              "</style>\n",
              "<table border=\"1\" class=\"dataframe\">\n",
              "  <thead>\n",
              "    <tr style=\"text-align: right;\">\n",
              "      <th></th>\n",
              "      <th>count</th>\n",
              "    </tr>\n",
              "    <tr>\n",
              "      <th>y</th>\n",
              "      <th></th>\n",
              "    </tr>\n",
              "  </thead>\n",
              "  <tbody>\n",
              "    <tr>\n",
              "      <th>1</th>\n",
              "      <td>8</td>\n",
              "    </tr>\n",
              "    <tr>\n",
              "      <th>0</th>\n",
              "      <td>7</td>\n",
              "    </tr>\n",
              "  </tbody>\n",
              "</table>\n",
              "</div><br><label><b>dtype:</b> int64</label>"
            ]
          },
          "metadata": {},
          "execution_count": 9
        }
      ],
      "source": [
        "df[\"y\"].value_counts()"
      ]
    },
    {
      "cell_type": "markdown",
      "metadata": {
        "id": "C_rviZmbgS9e"
      },
      "source": [
        "Вот так мы получили количество записей классов, а значит можем рассчитать априорные вероятности:\n",
        "$$\n",
        "P(y=0) = \\frac{7}{15}, P(y=1) = \\frac{8}{15}\n",
        "$$\n",
        "\n",
        "Не сложно, не так ли? А что нам делать с остальными двумя? Тут немного сложнее, нам нужно рассчитать вероятности получения определённых значений фич при условии, что выбран конкретный класс. То есть, чтобы посчитать $P(X=X_{new}|y=1)$ для новой записи $X_{new} = [2, C]$, нам нужно раскрыть это выражение в виде $P(x_1=2|y=1)*P(x_2=C|y=1)$. Аналогично для другого класса. Итого, мы получаем:\n",
        "$$\n",
        "P(X=X_{new}|y=1) = P(x_1=2|y=1)*P(x_2=C|y=1) \\\\\n",
        "P(X=X_{new}|y=0) = P(x_1=2|y=0)*P(x_2=C|y=0) \\\\\n",
        "$$\n",
        "\n",
        "> Тут по сути раскрытие $P(X) \\rightarrow P(x_1)*P(x_2)$, так как вектор X состоит из двух компонент.\n",
        "\n",
        "Давайте посмотрим, какие показатели нам нужны для вероятностей:"
      ]
    },
    {
      "cell_type": "code",
      "execution_count": 10,
      "metadata": {
        "colab": {
          "base_uri": "https://localhost:8080/",
          "height": 209
        },
        "id": "v3W-YPGfiCnI",
        "outputId": "0b92fa72-f3fb-48ae-921e-a0ff24b5f8b9",
        "_cell_id": "aULxLvaVeXqRA7tn"
      },
      "outputs": [
        {
          "output_type": "execute_result",
          "data": {
            "text/plain": [
              "x1\n",
              "1    3\n",
              "2    3\n",
              "0    2\n",
              "Name: count, dtype: int64"
            ],
            "text/html": [
              "<div>\n",
              "<style scoped>\n",
              "    .dataframe tbody tr th:only-of-type {\n",
              "        vertical-align: middle;\n",
              "    }\n",
              "\n",
              "    .dataframe tbody tr th {\n",
              "        vertical-align: top;\n",
              "    }\n",
              "\n",
              "    .dataframe thead th {\n",
              "        text-align: right;\n",
              "    }\n",
              "</style>\n",
              "<table border=\"1\" class=\"dataframe\">\n",
              "  <thead>\n",
              "    <tr style=\"text-align: right;\">\n",
              "      <th></th>\n",
              "      <th>count</th>\n",
              "    </tr>\n",
              "    <tr>\n",
              "      <th>x1</th>\n",
              "      <th></th>\n",
              "    </tr>\n",
              "  </thead>\n",
              "  <tbody>\n",
              "    <tr>\n",
              "      <th>1</th>\n",
              "      <td>3</td>\n",
              "    </tr>\n",
              "    <tr>\n",
              "      <th>2</th>\n",
              "      <td>3</td>\n",
              "    </tr>\n",
              "    <tr>\n",
              "      <th>0</th>\n",
              "      <td>2</td>\n",
              "    </tr>\n",
              "  </tbody>\n",
              "</table>\n",
              "</div><br><label><b>dtype:</b> int64</label>"
            ]
          },
          "metadata": {},
          "execution_count": 10
        }
      ],
      "source": [
        "df.loc[df[\"y\"] == 1, \"x1\"].value_counts()"
      ]
    },
    {
      "cell_type": "markdown",
      "metadata": {
        "id": "LGiZCNw5iNoB"
      },
      "source": [
        "Таакс, мы можем рассчитать нашу первую вероятность, по сути поделив количество записей, в которых $x_1$ равен 2 и эти записи принадлежат классу $y = 1$ на общее количество записей этого класса:\n",
        "$$\n",
        "P(x_1=2|y=1) = \\frac{3}{8}\n",
        "$$\n",
        "\n",
        "По аналогии считаем остальные показатели:"
      ]
    },
    {
      "cell_type": "code",
      "execution_count": 11,
      "metadata": {
        "colab": {
          "base_uri": "https://localhost:8080/",
          "height": 209
        },
        "id": "ovrU0Nr1ipK9",
        "outputId": "e1246897-25bf-441a-9743-9c8593960c3f",
        "_cell_id": "oQgiyDKRHgQF2qjd"
      },
      "outputs": [
        {
          "output_type": "execute_result",
          "data": {
            "text/plain": [
              "x2\n",
              "B    4\n",
              "A    2\n",
              "C    2\n",
              "Name: count, dtype: int64"
            ],
            "text/html": [
              "<div>\n",
              "<style scoped>\n",
              "    .dataframe tbody tr th:only-of-type {\n",
              "        vertical-align: middle;\n",
              "    }\n",
              "\n",
              "    .dataframe tbody tr th {\n",
              "        vertical-align: top;\n",
              "    }\n",
              "\n",
              "    .dataframe thead th {\n",
              "        text-align: right;\n",
              "    }\n",
              "</style>\n",
              "<table border=\"1\" class=\"dataframe\">\n",
              "  <thead>\n",
              "    <tr style=\"text-align: right;\">\n",
              "      <th></th>\n",
              "      <th>count</th>\n",
              "    </tr>\n",
              "    <tr>\n",
              "      <th>x2</th>\n",
              "      <th></th>\n",
              "    </tr>\n",
              "  </thead>\n",
              "  <tbody>\n",
              "    <tr>\n",
              "      <th>B</th>\n",
              "      <td>4</td>\n",
              "    </tr>\n",
              "    <tr>\n",
              "      <th>A</th>\n",
              "      <td>2</td>\n",
              "    </tr>\n",
              "    <tr>\n",
              "      <th>C</th>\n",
              "      <td>2</td>\n",
              "    </tr>\n",
              "  </tbody>\n",
              "</table>\n",
              "</div><br><label><b>dtype:</b> int64</label>"
            ]
          },
          "metadata": {},
          "execution_count": 11
        }
      ],
      "source": [
        "df.loc[df[\"y\"] == 1, \"x2\"].value_counts()"
      ]
    },
    {
      "cell_type": "code",
      "execution_count": 12,
      "metadata": {
        "colab": {
          "base_uri": "https://localhost:8080/",
          "height": 209
        },
        "id": "qFWzcDhJinK-",
        "outputId": "0a142444-e508-42da-9173-2f138402d21b",
        "_cell_id": "wJQps5xJd7LpXv0Y"
      },
      "outputs": [
        {
          "output_type": "execute_result",
          "data": {
            "text/plain": [
              "x1\n",
              "0    3\n",
              "1    2\n",
              "2    2\n",
              "Name: count, dtype: int64"
            ],
            "text/html": [
              "<div>\n",
              "<style scoped>\n",
              "    .dataframe tbody tr th:only-of-type {\n",
              "        vertical-align: middle;\n",
              "    }\n",
              "\n",
              "    .dataframe tbody tr th {\n",
              "        vertical-align: top;\n",
              "    }\n",
              "\n",
              "    .dataframe thead th {\n",
              "        text-align: right;\n",
              "    }\n",
              "</style>\n",
              "<table border=\"1\" class=\"dataframe\">\n",
              "  <thead>\n",
              "    <tr style=\"text-align: right;\">\n",
              "      <th></th>\n",
              "      <th>count</th>\n",
              "    </tr>\n",
              "    <tr>\n",
              "      <th>x1</th>\n",
              "      <th></th>\n",
              "    </tr>\n",
              "  </thead>\n",
              "  <tbody>\n",
              "    <tr>\n",
              "      <th>0</th>\n",
              "      <td>3</td>\n",
              "    </tr>\n",
              "    <tr>\n",
              "      <th>1</th>\n",
              "      <td>2</td>\n",
              "    </tr>\n",
              "    <tr>\n",
              "      <th>2</th>\n",
              "      <td>2</td>\n",
              "    </tr>\n",
              "  </tbody>\n",
              "</table>\n",
              "</div><br><label><b>dtype:</b> int64</label>"
            ]
          },
          "metadata": {},
          "execution_count": 12
        }
      ],
      "source": [
        "df.loc[df[\"y\"] == 0, \"x1\"].value_counts()"
      ]
    },
    {
      "cell_type": "code",
      "execution_count": 13,
      "metadata": {
        "colab": {
          "base_uri": "https://localhost:8080/",
          "height": 209
        },
        "id": "cCp5AFpAiqT_",
        "outputId": "6a73a9dc-44d1-45e2-df44-4e693671c212",
        "_cell_id": "7JHdUmLyIRvwct02"
      },
      "outputs": [
        {
          "output_type": "execute_result",
          "data": {
            "text/plain": [
              "x2\n",
              "A    3\n",
              "C    3\n",
              "B    1\n",
              "Name: count, dtype: int64"
            ],
            "text/html": [
              "<div>\n",
              "<style scoped>\n",
              "    .dataframe tbody tr th:only-of-type {\n",
              "        vertical-align: middle;\n",
              "    }\n",
              "\n",
              "    .dataframe tbody tr th {\n",
              "        vertical-align: top;\n",
              "    }\n",
              "\n",
              "    .dataframe thead th {\n",
              "        text-align: right;\n",
              "    }\n",
              "</style>\n",
              "<table border=\"1\" class=\"dataframe\">\n",
              "  <thead>\n",
              "    <tr style=\"text-align: right;\">\n",
              "      <th></th>\n",
              "      <th>count</th>\n",
              "    </tr>\n",
              "    <tr>\n",
              "      <th>x2</th>\n",
              "      <th></th>\n",
              "    </tr>\n",
              "  </thead>\n",
              "  <tbody>\n",
              "    <tr>\n",
              "      <th>A</th>\n",
              "      <td>3</td>\n",
              "    </tr>\n",
              "    <tr>\n",
              "      <th>C</th>\n",
              "      <td>3</td>\n",
              "    </tr>\n",
              "    <tr>\n",
              "      <th>B</th>\n",
              "      <td>1</td>\n",
              "    </tr>\n",
              "  </tbody>\n",
              "</table>\n",
              "</div><br><label><b>dtype:</b> int64</label>"
            ]
          },
          "metadata": {},
          "execution_count": 13
        }
      ],
      "source": [
        "df.loc[df[\"y\"] == 0, \"x2\"].value_counts()"
      ]
    },
    {
      "cell_type": "markdown",
      "metadata": {
        "id": "fvavX0Whisl7"
      },
      "source": [
        "Итого получаем:\n",
        "$$\n",
        "P(x_1=2|y=1) = \\frac{3}{8},\n",
        "P(x_2=С|y=1) = \\frac{2}{8} \\\\\n",
        "P(x_1=2|y=0) = \\frac{2}{7},\n",
        "P(x_2=С|y=0) = \\frac{3}{7} \\\\\n",
        "$$\n",
        "\n",
        "И считаем наши вероятности:\n",
        "$$\n",
        "P(y=1|X=X_{new}) = P(X=X_{new}|y=1)P(y=1) = \\frac{3}{8} * \\frac{2}{8} * \\frac{8}{15} = \\frac{1}{20} \\\\\n",
        "P(y=0|X=X_{new}) = P(X=X_{new}|y=0)P(y=0) = \\frac{2}{7} * \\frac{3}{7} * \\frac{7}{15} = \\frac{2}{35}\n",
        "$$\n",
        "\n",
        "Так как $\\frac{1}{20} < \\frac{2}{35}$, то вывод - новая запись $X_{new} = [2, C]$ будет присвоена классу $y=0$!\n",
        "\n",
        "Обратите внимание, классификатору для предсказания не потребовалось ничего, кроме данных и пары расчётов вероятностей. Именно поэтому данные модели хорошо справляются в задачами, в которых данные представлены в виде частот или количества повторений!"
      ]
    },
    {
      "cell_type": "markdown",
      "metadata": {
        "id": "-pmgslQV3VFh"
      },
      "source": [
        "## Применяем инструменты!\n",
        "\n",
        "Давайте попробуем применить новые изученные инструменты для обработки наших данных!\n",
        "\n",
        "Для новой байесовской модели интерфейс работы ничем не отличается от того, к которому мы уже привыкли, вот класс [MultinomialNB](https://scikit-learn.org/stable/modules/generated/sklearn.naive_bayes.MultinomialNB.html).\n",
        "\n",
        "Нашей сегодняшней задачей будет классификация новостей по категориям, для этого воспользуемся вот [этим набором данных](https://scikit-learn.org/stable/datasets/index.html#newsgroups-dataset).\n",
        "\n",
        "Начнём с того, что посмотрим на наши данные:"
      ]
    },
    {
      "cell_type": "code",
      "execution_count": 14,
      "metadata": {
        "id": "tVDJl67jsVId",
        "_cell_id": "jv13mki9dBa0dnfo"
      },
      "outputs": [],
      "source": [
        "from sklearn.datasets import fetch_20newsgroups\n",
        "\n",
        "# В функции загрузки уже есть разделение на обучение/тест\n",
        "#   воспользуемся этим на момент подготовки модели\n",
        "# Для анализа лучше посмотреть на все данные\n",
        "newsgroups_data = fetch_20newsgroups(subset=\"all\", random_state=RANDOM_STATE)"
      ]
    },
    {
      "cell_type": "code",
      "execution_count": 15,
      "metadata": {
        "colab": {
          "base_uri": "https://localhost:8080/"
        },
        "id": "ZqwUgMtiwOCP",
        "outputId": "02375285-071a-498e-d571-0d893cd5de89",
        "_cell_id": "ZKJEZZ8hT4K1hddN"
      },
      "outputs": [
        {
          "output_type": "stream",
          "name": "stdout",
          "text": [
            "dict_keys(['data', 'filenames', 'target_names', 'target', 'DESCR'])\n"
          ]
        }
      ],
      "source": [
        "print(newsgroups_data.keys())"
      ]
    },
    {
      "cell_type": "code",
      "execution_count": 16,
      "metadata": {
        "colab": {
          "base_uri": "https://localhost:8080/"
        },
        "id": "wgSmSzpbwx8N",
        "outputId": "cdcf4cfa-4e82-4c03-93a5-30856abbeb5d",
        "_cell_id": "a4l9sTcqRwjnwHqP"
      },
      "outputs": [
        {
          "output_type": "stream",
          "name": "stdout",
          "text": [
            "Data type:\t<class 'list'>\n",
            "\n",
            "Target names:\n",
            "['alt.atheism', 'comp.graphics', 'comp.os.ms-windows.misc', 'comp.sys.ibm.pc.hardware', 'comp.sys.mac.hardware', 'comp.windows.x', 'misc.forsale', 'rec.autos', 'rec.motorcycles', 'rec.sport.baseball', 'rec.sport.hockey', 'sci.crypt', 'sci.electronics', 'sci.med', 'sci.space', 'soc.religion.christian', 'talk.politics.guns', 'talk.politics.mideast', 'talk.politics.misc', 'talk.religion.misc']\n",
            "\n",
            "Target data:\n",
            "[10  3 17  3  4 12  4 10 10 19]\n"
          ]
        }
      ],
      "source": [
        "# Посмотрим, какой у данных тип\n",
        "data = newsgroups_data[\"data\"]\n",
        "targets = newsgroups_data[\"target\"]\n",
        "target_names = newsgroups_data[\"target_names\"]\n",
        "\n",
        "print(f\"Data type:\\t{type(data)}\\n\")\n",
        "print(f\"Target names:\\n{target_names}\\n\")\n",
        "print(f\"Target data:\\n{targets[:10]}\")"
      ]
    },
    {
      "cell_type": "markdown",
      "metadata": {
        "id": "lQE9Uwt2RWiS"
      },
      "source": [
        "Таакс, данные - это какой-то список и мы скоро узнаем какой именно, целевые переменные - индексы категорий. Посмотрим на пример данных:"
      ]
    },
    {
      "cell_type": "code",
      "execution_count": 17,
      "metadata": {
        "colab": {
          "base_uri": "https://localhost:8080/"
        },
        "id": "IeHSVjQhw50Y",
        "outputId": "eb615fb2-53ad-4dee-aa24-4384cde3099e",
        "_cell_id": "JugoTqHRA4Hxcff2"
      },
      "outputs": [
        {
          "output_type": "stream",
          "name": "stdout",
          "text": [
            "From: Mamatha Devineni Ratnam <mr47+@andrew.cmu.edu>\n",
            "Subject: Pens fans reactions\n",
            "Organization: Post Office, Carnegie Mellon, Pittsburgh, PA\n",
            "Lines: 12\n",
            "NNTP-Posting-Host: po4.andrew.cmu.edu\n",
            "\n",
            "\n",
            "\n",
            "I am sure some bashers of Pens fans are pretty confused about the lack\n",
            "of any kind of posts about the recent Pens massacre of the Devils. Actually,\n",
            "I am  bit puzzled too and a bit relieved. However, I am going to put an end\n",
            "to non-PIttsburghers' relief with a bit of praise for the Pens. Man, they\n",
            "are killing those Devils worse than I thought. Jagr just showed you why\n",
            "he is much better than his regular season stats. He is also a lot\n",
            "fo fun to watch in the playoffs. Bowman should let JAgr have a lot of\n",
            "fun in the next couple of games since the Pens are going to beat the pulp out of Jersey anyway. I was very disappointed not to see the Islanders lose the final\n",
            "regular season game.          PENS RULE!!!\n",
            "\n",
            "\n",
            "--------------\n",
            "Target: rec.sport.hockey\n"
          ]
        }
      ],
      "source": [
        "print(data[0])\n",
        "print(\"--------------\")\n",
        "print(f\"Target: {target_names[targets[0]]}\")"
      ]
    },
    {
      "cell_type": "markdown",
      "metadata": {
        "id": "FG4SwF8A20Oq"
      },
      "source": [
        "Как видим, данные представляют собой список текстов, поэтому предобработка будет связана с анализом и обработкой текстовой информациий.\n",
        "\n",
        "Теперь берём подготовленные выборки и попробуем построить baseline на основе имеющихся данных."
      ]
    },
    {
      "cell_type": "code",
      "execution_count": 18,
      "metadata": {
        "id": "KxcPdujmlG_Z",
        "_cell_id": "iTPi6hW9G7VV2xqT"
      },
      "outputs": [],
      "source": [
        "# Подгрузим данные\n",
        "newsgroups_train = fetch_20newsgroups(\n",
        "    subset=\"train\", random_state=RANDOM_STATE)\n",
        "newsgroups_test = fetch_20newsgroups(\n",
        "    subset=\"test\", random_state=RANDOM_STATE)\n",
        "\n",
        "X_train = newsgroups_train[\"data\"]\n",
        "y_train = newsgroups_train[\"target\"]\n",
        "\n",
        "X_test = newsgroups_test[\"data\"]\n",
        "y_test = newsgroups_test[\"target\"]"
      ]
    },
    {
      "cell_type": "code",
      "execution_count": 19,
      "metadata": {
        "colab": {
          "base_uri": "https://localhost:8080/"
        },
        "id": "f8b0tKyclUYW",
        "outputId": "8d9897b8-06c5-479d-d027-66884389f6e6",
        "_cell_id": "w45WroCUT8KYgdCA"
      },
      "outputs": [
        {
          "output_type": "stream",
          "name": "stdout",
          "text": [
            "Train accuracy: 0.9326498143892522\n",
            "              precision    recall  f1-score   support\n",
            "\n",
            "           0       0.80      0.52      0.63       319\n",
            "           1       0.81      0.65      0.72       389\n",
            "           2       0.82      0.65      0.73       394\n",
            "           3       0.67      0.78      0.72       392\n",
            "           4       0.86      0.77      0.81       385\n",
            "           5       0.89      0.75      0.82       395\n",
            "           6       0.93      0.69      0.80       390\n",
            "           7       0.85      0.92      0.88       396\n",
            "           8       0.94      0.93      0.93       398\n",
            "           9       0.92      0.90      0.91       397\n",
            "          10       0.89      0.97      0.93       399\n",
            "          11       0.59      0.97      0.74       396\n",
            "          12       0.84      0.60      0.70       393\n",
            "          13       0.92      0.74      0.82       396\n",
            "          14       0.84      0.89      0.87       394\n",
            "          15       0.44      0.98      0.61       398\n",
            "          16       0.64      0.94      0.76       364\n",
            "          17       0.93      0.91      0.92       376\n",
            "          18       0.96      0.42      0.58       310\n",
            "          19       0.97      0.14      0.24       251\n",
            "\n",
            "    accuracy                           0.77      7532\n",
            "   macro avg       0.83      0.76      0.76      7532\n",
            "weighted avg       0.82      0.77      0.77      7532\n",
            "\n"
          ]
        }
      ],
      "source": [
        "from sklearn.naive_bayes import MultinomialNB\n",
        "from sklearn.metrics import classification_report, confusion_matrix\n",
        "\n",
        "# Без всяких предобработок кидаем, что есть в трансформацию\n",
        "vectorizer = TfidfVectorizer()\n",
        "\n",
        "X_train_vec = vectorizer.fit_transform(X_train)\n",
        "X_test_vec = vectorizer.transform(X_test)\n",
        "\n",
        "nb_clf = MultinomialNB()\n",
        "nb_clf.fit(X_train_vec, y_train)\n",
        "\n",
        "y_pred = nb_clf.predict(X_test_vec)\n",
        "\n",
        "print(f\"Train accuracy: {nb_clf.score(X_train_vec, y_train)}\")\n",
        "\n",
        "print(classification_report(y_test, y_pred))"
      ]
    },
    {
      "cell_type": "markdown",
      "metadata": {
        "id": "TSDXnqLVl7VT"
      },
      "source": [
        "Вот так мы построили какую-то модель, которая немного переобучилась, судя по метрике точности."
      ]
    },
    {
      "cell_type": "code",
      "execution_count": 20,
      "metadata": {
        "_cell_id": "EvGk3mmZ3G88kQ2b",
        "id": "mN2o9wM03VFh",
        "outputId": "cc932766-41ce-4a07-efd9-1e8d7cfdcb48",
        "colab": {
          "base_uri": "https://localhost:8080/",
          "height": 1000
        }
      },
      "outputs": [
        {
          "output_type": "display_data",
          "data": {
            "text/plain": [
              "<Figure size 1500x1500 with 2 Axes>"
            ],
            "image/png": "[encoded data removed]"
          },
          "metadata": {}
        }
      ],
      "source": [
        "cm = confusion_matrix(y_test, y_pred)\n",
        "\n",
        "plt.figure(figsize=(15,15))\n",
        "sns.heatmap(cm, annot=True)\n",
        "plt.show()"
      ]
    },
    {
      "cell_type": "markdown",
      "metadata": {
        "id": "lM8gcu8X3VFh"
      },
      "source": [
        "Как видно, модель путается в темах 18, 19.\n",
        "\n",
        "В остальном, работает относительно неплохо для baseline решения.\n",
        "\n",
        "Давайте посмотрим, как мы можем улучшить результат за счёт предобработки!"
      ]
    },
    {
      "cell_type": "markdown",
      "metadata": {
        "id": "oFCQHTF53_3H"
      },
      "source": [
        "## Предобработка данных\n",
        "\n",
        "Мы, конечно, увидели, что можно текст кинуть на работу модели просто прогнав через трансформацию, но работа с текстом имеет и свои подходы расширенного анализа и предобработки!\n",
        "\n",
        "Рассмотрим некоторые основные из них!\n",
        "\n",
        "При работе с текстом наиболее распространёнными практиками являются следующие способы предоработки:\n",
        "- Приведение к нижнему регистру - позволяет работать с единой формой слов, при которой нет разницы в словах Hello и hello;\n",
        "- Удаление пунктуации, стоп-слов и низкочастотных слов - позволяет акценитровать внимание на значимых словах;\n",
        "- Токенизация - разбиение предложений на токены (слова, биграммы, триграммы, N-граммы);\n",
        "- Стеммизация - удаление суффиксов слов: playing -> play, studied -> studi, один из методов нормализации;\n",
        "- Лемматизация - приведение к лемме (нормальной форме): played -> play, тоже один из подходов нормализации;\n",
        "\n",
        "> Насчёт паттернов (`re` ~ `RegularExpressions`) и того, как ими пользоваться есть хорошая [статья](https://tproger.ru/translations/regular-expression-python/).\n",
        "\n",
        "Для реализации необходимого функционала воспользуемся фреймворком `nltk` и загрузкой необходимых данных через `nltk.download()`."
      ]
    },
    {
      "cell_type": "code",
      "execution_count": 21,
      "metadata": {
        "colab": {
          "base_uri": "https://localhost:8080/"
        },
        "id": "qLe0GF1sSUdB",
        "outputId": "e10f613b-edf1-4634-e4c4-7cd0364e1873",
        "_cell_id": "1mCKwcZGodp92TvL"
      },
      "outputs": [
        {
          "output_type": "stream",
          "name": "stderr",
          "text": [
            "[nltk_data] Downloading package stopwords to /root/nltk_data...\n",
            "[nltk_data]   Unzipping corpora/stopwords.zip.\n",
            "[nltk_data] Downloading package punkt to /root/nltk_data...\n",
            "[nltk_data]   Unzipping tokenizers/punkt.zip.\n",
            "[nltk_data] Downloading package wordnet to /root/nltk_data...\n"
          ]
        }
      ],
      "source": [
        "import nltk\n",
        "# Скачиваем необходимые модули фреймворка nltk\n",
        "nltk.download(\"stopwords\")\n",
        "nltk.download(\"punkt\")\n",
        "nltk.download(\"wordnet\")\n",
        "from nltk.corpus import stopwords\n",
        "from nltk.stem import WordNetLemmatizer, PorterStemmer\n",
        "import re\n",
        "from string import punctuation"
      ]
    },
    {
      "cell_type": "markdown",
      "metadata": {
        "id": "UghybN1uSWMN"
      },
      "source": [
        "Теперь опробуем каждую из методик:"
      ]
    },
    {
      "cell_type": "code",
      "execution_count": 22,
      "metadata": {
        "colab": {
          "base_uri": "https://localhost:8080/"
        },
        "id": "g_uK0lphSZjL",
        "outputId": "f1f7ac01-242e-4d96-d2fe-58bfa9bf223e",
        "_cell_id": "CP6h2rsaWxNU0Hxd"
      },
      "outputs": [
        {
          "output_type": "stream",
          "name": "stdout",
          "text": [
            "From: guykuo@carson.u.washington.edu (Guy Kuo)\n",
            "Subject: SI Clock Poll - Final Call\n",
            "Summary: Final call for SI clock reports\n",
            "Keywords: SI,acceleration,clock,upgrade\n",
            "Article-I.D.: shelley.1qvfo9INNc3s\n",
            "Organization: University of Washington\n",
            "Lines: 11\n",
            "NNTP-Posting-Host: carson.u.washington.edu\n",
            "\n",
            "A fair number of brave souls who upgraded their SI clock oscillator have\n",
            "shared their experiences for this poll. Please send a brief message detailing\n",
            "your experiences with the procedure. Top speed attained, CPU rated speed,\n",
            "add on cards and adapters, heat sinks, hour of usage per day, floppy disk\n",
            "functionality with 800 and 1.4 m floppies are especially requested.\n",
            "\n",
            "I will be summarizing in the next two days, so please add to the network\n",
            "knowledge base if you have done the clock upgrade and haven't answered this\n",
            "poll. Thanks.\n",
            "\n",
            "Guy Kuo <guykuo@u.washington.edu>\n",
            "\n"
          ]
        }
      ],
      "source": [
        "# Выберем текст для примера и посмотрим\n",
        "sample_text = X_train[1]\n",
        "\n",
        "print(sample_text)"
      ]
    },
    {
      "cell_type": "code",
      "execution_count": 23,
      "metadata": {
        "colab": {
          "base_uri": "https://localhost:8080/"
        },
        "id": "7c9IaSU4SrAM",
        "outputId": "70c6f78e-6588-4ede-effe-042b7825ffdb",
        "_cell_id": "YL6OtMEsjryODr6B"
      },
      "outputs": [
        {
          "output_type": "stream",
          "name": "stdout",
          "text": [
            "from: guykuo@carson.u.washington.edu (guy kuo)\n",
            "subject: si clock poll - final call\n",
            "summary: final call for si clock reports\n",
            "keywords: si,acceleration,clock,upgrade\n",
            "article-i.d.: shelley.1qvfo9innc3s\n",
            "organization: university of washington\n",
            "lines: 11\n",
            "nntp-posting-host: carson.u.washington.edu\n",
            "\n",
            "a fair number of brave souls who upgraded their si clock oscillator have\n",
            "shared their experiences for this poll. please send a brief message detailing\n",
            "your experiences with the procedure. top speed attained, cpu rated speed,\n",
            "add on cards and adapters, heat sinks, hour of usage per day, floppy disk\n",
            "functionality with 800 and 1.4 m floppies are especially requested.\n",
            "\n",
            "i will be summarizing in the next two days, so please add to the network\n",
            "knowledge base if you have done the clock upgrade and haven't answered this\n",
            "poll. thanks.\n",
            "\n",
            "guy kuo <guykuo@u.washington.edu>\n",
            "\n"
          ]
        }
      ],
      "source": [
        "# Проверим работу приведения к нижнему регистру\n",
        "# Этот подход позволяет исключить различия слов Hello и hello,\n",
        "#   так как по сути это одно и то же слово\n",
        "sample_text = sample_text.lower()\n",
        "print(sample_text)"
      ]
    },
    {
      "cell_type": "code",
      "execution_count": 24,
      "metadata": {
        "colab": {
          "base_uri": "https://localhost:8080/"
        },
        "id": "GvacGgYCS_2M",
        "outputId": "b1f88220-219b-4a1f-f65c-f2efa361d377",
        "_cell_id": "Q8WOUgTX23cyKj3T"
      },
      "outputs": [
        {
          "output_type": "stream",
          "name": "stdout",
          "text": [
            "from guykuocarsonuwashingtonedu guy kuo\n",
            "subject si clock poll  final call\n",
            "summary final call for si clock reports\n",
            "keywords siaccelerationclockupgrade\n",
            "articleid shelley1qvfo9innc3s\n",
            "organization university of washington\n",
            "lines 11\n",
            "nntppostinghost carsonuwashingtonedu\n",
            "\n",
            "a fair number of brave souls who upgraded their si clock oscillator have\n",
            "shared their experiences for this poll please send a brief message detailing\n",
            "your experiences with the procedure top speed attained cpu rated speed\n",
            "add on cards and adapters heat sinks hour of usage per day floppy disk\n",
            "functionality with 800 and 14 m floppies are especially requested\n",
            "\n",
            "i will be summarizing in the next two days so please add to the network\n",
            "knowledge base if you have done the clock upgrade and havent answered this\n",
            "poll thanks\n",
            "\n",
            "guy kuo guykuouwashingtonedu\n",
            "\n"
          ]
        }
      ],
      "source": [
        "# Удаление пунктуации\n",
        "# Более сложный анализ может учитывать пунктуацию, но для простых\n",
        "#   случаев пунктуация исключается, чтобы оставить лишь слова\n",
        "#   как основную информацию\n",
        "punct_transl = str.maketrans(\"\", \"\", punctuation)\n",
        "sample_text = sample_text.translate(punct_transl)\n",
        "print(sample_text)"
      ]
    },
    {
      "cell_type": "code",
      "execution_count": 25,
      "metadata": {
        "colab": {
          "base_uri": "https://localhost:8080/"
        },
        "id": "hdug1_JGTXjC",
        "outputId": "0988513a-f98e-4912-805a-092341441fc0",
        "_cell_id": "ldRlt45gvnyUWdPF"
      },
      "outputs": [
        {
          "output_type": "stream",
          "name": "stdout",
          "text": [
            "from guykuocarsonuwashingtonedu guy kuo\n",
            "subject si clock poll  final call\n",
            "summary final call for si clock reports\n",
            "keywords siaccelerationclockupgrade\n",
            "articleid shelleyqvfoinncs\n",
            "organization university of washington\n",
            "lines \n",
            "nntppostinghost carsonuwashingtonedu\n",
            "\n",
            "a fair number of brave souls who upgraded their si clock oscillator have\n",
            "shared their experiences for this poll please send a brief message detailing\n",
            "your experiences with the procedure top speed attained cpu rated speed\n",
            "add on cards and adapters heat sinks hour of usage per day floppy disk\n",
            "functionality with  and  m floppies are especially requested\n",
            "\n",
            "i will be summarizing in the next two days so please add to the network\n",
            "knowledge base if you have done the clock upgrade and havent answered this\n",
            "poll thanks\n",
            "\n",
            "guy kuo guykuouwashingtonedu\n",
            "\n"
          ]
        }
      ],
      "source": [
        "# Удаление чисел\n",
        "# Числа как правило редко повторяются, для простого подхода\n",
        "#   достаточно удалить числа, так как это неповторяющаяся информация\n",
        "sample_text = re.sub(r\"\\d+\", \"\", sample_text)\n",
        "print(sample_text)"
      ]
    },
    {
      "cell_type": "code",
      "execution_count": 26,
      "metadata": {
        "colab": {
          "base_uri": "https://localhost:8080/"
        },
        "id": "lbnFAQV-Tnut",
        "outputId": "bc30db51-6450-4ad1-e0d0-d7163ab2847e",
        "_cell_id": "Ds5JOWXezaHr7Nje"
      },
      "outputs": [
        {
          "output_type": "stream",
          "name": "stdout",
          "text": [
            "from guykuocarsonuwashingtonedu guy kuo subject si clock poll final call summary final call for si clock reports keywords siaccelerationclockupgrade articleid shelleyqvfoinncs organization university of washington lines nntppostinghost carsonuwashingtonedu a fair number of brave souls who upgraded their si clock oscillator have shared their experiences for this poll please send a brief message detailing your experiences with the procedure top speed attained cpu rated speed add on cards and adapters heat sinks hour of usage per day floppy disk functionality with and m floppies are especially requested i will be summarizing in the next two days so please add to the network knowledge base if you have done the clock upgrade and havent answered this poll thanks guy kuo guykuouwashingtonedu \n"
          ]
        }
      ],
      "source": [
        "# Удаление повторяющихся пробелов\n",
        "# Часто в текста делают кучу пробелов, переносов и отступов - они не несут информации\n",
        "sample_text = re.sub(r\"\\s+\", \" \", sample_text)\n",
        "print(sample_text)"
      ]
    },
    {
      "cell_type": "code",
      "execution_count": 29,
      "metadata": {
        "id": "ibQScaXxUctI",
        "_cell_id": "KzzQqIE3fKt3RlVj"
      },
      "outputs": [],
      "source": [
        "# Токенизация - превращаем одну большую строку в массив токенов (в нашем случае слов)\n",
        "# Под токенами могут пониматься не только слова, но и комбинации слов,\n",
        "#   хотя для простого анализа - достаточно токенизировать до слов\n"
      ]
    },
    {
      "cell_type": "code",
      "execution_count": 30,
      "metadata": {
        "colab": {
          "base_uri": "https://localhost:8080/"
        },
        "id": "kt_G5w7nU3J4",
        "outputId": "0db5bc55-edeb-4386-dbb5-c39a9599785a",
        "_cell_id": "2nJ7QYHXf0crRgFw"
      },
      "outputs": [
        {
          "output_type": "stream",
          "name": "stdout",
          "text": [
            "{'too', 'all', 'y', \"hasn't\", \"you're\", 'until', 'we', 'themselves', 're', 'ma', 'again', 'each', 'up', 'then', 'that', 'should', \"haven't\", 'itself', 'if', 'as', 't', 'most', 'he', 'i', 'it', 'wouldn', 'out', 'had', 'himself', 'under', 'of', 'this', 'off', 'and', 'just', 'its', 'during', 'which', 'been', 'his', 'here', 'was', 'me', 'have', 'shan', \"mightn't\", 'the', 'over', 'but', 'at', 'has', 'weren', 'shouldn', \"she's\", 'such', 'after', \"don't\", 'o', 'she', 'about', 'haven', 'in', 'm', 'being', 'do', 'my', 'you', 'while', 'both', 'other', 'is', 'hadn', 'what', \"weren't\", 'these', 'were', 'couldn', 'didn', 'when', 'be', \"it's\", 'ours', 'against', 'who', 'needn', 'did', 'not', 'can', 'by', \"doesn't\", 'no', 'her', 'their', 've', 'ourselves', 'down', 'with', 'so', 'our', 'nor', 'him', \"couldn't\", 's', 'they', 'wasn', \"wasn't\", 'or', 'only', \"that'll\", 'through', 'any', 'between', 'very', 'isn', 'doing', \"you'll\", 'herself', 'why', 'now', 'once', \"shouldn't\", 'above', 'll', 'yourselves', \"hadn't\", 'a', 'doesn', 'on', 'won', 'further', \"won't\", 'than', 'hasn', 'whom', 'hers', \"mustn't\", 'from', \"didn't\", 'd', 'mightn', \"needn't\", 'theirs', 'before', 'some', 'own', \"you'd\", 'yourself', 'am', 'yours', 'them', 'more', 'those', 'for', 'does', 'your', 'how', \"aren't\", 'ain', 'same', 'will', 'to', 'into', 'an', 'having', \"shan't\", 'myself', 'few', 'below', \"should've\", \"wouldn't\", 'don', \"isn't\", 'because', 'mustn', 'where', 'aren', 'are', 'there', \"you've\"}\n"
          ]
        }
      ],
      "source": [
        "# Удаляем стоп-слова, для начала посмотрим, что это за слова\n",
        "stop_words = set(stopwords.words(\"english\"))\n",
        "print(stop_words)"
      ]
    },
    {
      "cell_type": "code",
      "execution_count": 31,
      "metadata": {
        "colab": {
          "base_uri": "https://localhost:8080/",
          "height": 176
        },
        "id": "tlhaD7OcVBTE",
        "outputId": "c21a4c30-0de3-446d-8440-48c89316cc83",
        "_cell_id": "HZwNluzpH78Ls6k9"
      },
      "outputs": [
        {
          "output_type": "error",
          "ename": "NameError",
          "evalue": "name 'word_tokens' is not defined",
          "traceback": [
            "\u001b[0;31m---------------------------------------------------------------------------\u001b[0m",
            "\u001b[0;31mNameError\u001b[0m                                 Traceback (most recent call last)",
            "\u001b[0;32m<ipython-input-31-42347debb273>\u001b[0m in \u001b[0;36m<cell line: 0>\u001b[0;34m()\u001b[0m\n\u001b[1;32m      1\u001b[0m \u001b[0;31m# Теперь фильтруем стоп-слова из наших токенов\u001b[0m\u001b[0;34m\u001b[0m\u001b[0;34m\u001b[0m\u001b[0m\n\u001b[0;32m----> 2\u001b[0;31m \u001b[0mword_tokens\u001b[0m \u001b[0;34m=\u001b[0m \u001b[0;34m[\u001b[0m\u001b[0mword\u001b[0m \u001b[0;32mfor\u001b[0m \u001b[0mword\u001b[0m \u001b[0;32min\u001b[0m \u001b[0mword_tokens\u001b[0m \u001b[0;32mif\u001b[0m \u001b[0mword\u001b[0m \u001b[0;32mnot\u001b[0m \u001b[0;32min\u001b[0m \u001b[0mstop_words\u001b[0m\u001b[0;34m]\u001b[0m\u001b[0;34m\u001b[0m\u001b[0;34m\u001b[0m\u001b[0m\n\u001b[0m\u001b[1;32m      3\u001b[0m \u001b[0mprint\u001b[0m\u001b[0;34m(\u001b[0m\u001b[0mword_tokens\u001b[0m\u001b[0;34m)\u001b[0m\u001b[0;34m\u001b[0m\u001b[0;34m\u001b[0m\u001b[0m\n",
            "\u001b[0;31mNameError\u001b[0m: name 'word_tokens' is not defined"
          ]
        }
      ],
      "source": [
        "# Теперь фильтруем стоп-слова из наших токенов\n",
        "word_tokens = [word for word in word_tokens if word not in stop_words]\n",
        "print(word_tokens)"
      ]
    },
    {
      "cell_type": "code",
      "execution_count": 32,
      "metadata": {
        "colab": {
          "base_uri": "https://localhost:8080/",
          "height": 193
        },
        "id": "JeeTqsweVJhQ",
        "outputId": "48dad1c6-a472-42fd-c559-26c5010d9b8d",
        "_cell_id": "0pEWm8TABtwoBuTR"
      },
      "outputs": [
        {
          "output_type": "error",
          "ename": "NameError",
          "evalue": "name 'word_tokens' is not defined",
          "traceback": [
            "\u001b[0;31m---------------------------------------------------------------------------\u001b[0m",
            "\u001b[0;31mNameError\u001b[0m                                 Traceback (most recent call last)",
            "\u001b[0;32m<ipython-input-32-66f10a3edc11>\u001b[0m in \u001b[0;36m<cell line: 0>\u001b[0;34m()\u001b[0m\n\u001b[1;32m      2\u001b[0m \u001b[0mwordnet_lemmatizer\u001b[0m \u001b[0;34m=\u001b[0m \u001b[0mWordNetLemmatizer\u001b[0m\u001b[0;34m(\u001b[0m\u001b[0;34m)\u001b[0m\u001b[0;34m\u001b[0m\u001b[0;34m\u001b[0m\u001b[0m\n\u001b[1;32m      3\u001b[0m \u001b[0;34m\u001b[0m\u001b[0m\n\u001b[0;32m----> 4\u001b[0;31m \u001b[0mword_tokens\u001b[0m \u001b[0;34m=\u001b[0m \u001b[0;34m[\u001b[0m\u001b[0mwordnet_lemmatizer\u001b[0m\u001b[0;34m.\u001b[0m\u001b[0mlemmatize\u001b[0m\u001b[0;34m(\u001b[0m\u001b[0mword\u001b[0m\u001b[0;34m)\u001b[0m \u001b[0;32mfor\u001b[0m \u001b[0mword\u001b[0m \u001b[0;32min\u001b[0m \u001b[0mword_tokens\u001b[0m\u001b[0;34m]\u001b[0m\u001b[0;34m\u001b[0m\u001b[0;34m\u001b[0m\u001b[0m\n\u001b[0m\u001b[1;32m      5\u001b[0m \u001b[0mprint\u001b[0m\u001b[0;34m(\u001b[0m\u001b[0mword_tokens\u001b[0m\u001b[0;34m)\u001b[0m\u001b[0;34m\u001b[0m\u001b[0;34m\u001b[0m\u001b[0m\n",
            "\u001b[0;31mNameError\u001b[0m: name 'word_tokens' is not defined"
          ]
        }
      ],
      "source": [
        "# Проводим лемматизацию - приводим к нормальной форме\n",
        "wordnet_lemmatizer = WordNetLemmatizer()\n",
        "\n",
        "word_tokens = [wordnet_lemmatizer.lemmatize(word) for word in word_tokens]\n",
        "print(word_tokens)"
      ]
    },
    {
      "cell_type": "code",
      "execution_count": 33,
      "metadata": {
        "colab": {
          "base_uri": "https://localhost:8080/"
        },
        "id": "N8lPCMeH8TqF",
        "outputId": "24aecbec-58a4-4ca6-879b-e2d2ffac1335",
        "_cell_id": "12QDNeLJiNnJhxlJ"
      },
      "outputs": [
        {
          "output_type": "stream",
          "name": "stdout",
          "text": [
            "bat\n",
            "are\n",
            "foot\n"
          ]
        }
      ],
      "source": [
        "# Чтобы лучше понять, как он работает - рассмотрим примеры:\n",
        "print(wordnet_lemmatizer.lemmatize(\"bats\"))\n",
        "print(wordnet_lemmatizer.lemmatize(\"are\"))  # Ууупс, тут не преобразовалось в be =(\n",
        "print(wordnet_lemmatizer.lemmatize(\"feet\"))"
      ]
    },
    {
      "cell_type": "code",
      "execution_count": 34,
      "metadata": {
        "_cell_id": "ZpQUSN1qUEsZ847T",
        "id": "vKVZi3Hm3VFi",
        "outputId": "8200af27-936b-4bef-b70e-391be936ec7f",
        "colab": {
          "base_uri": "https://localhost:8080/"
        }
      },
      "outputs": [
        {
          "output_type": "stream",
          "name": "stdout",
          "text": [
            "bat\n",
            "are\n",
            "feet\n",
            "shortli\n",
            "magnific\n"
          ]
        }
      ],
      "source": [
        "# А вот как работает стемминг - другой подход нормализации текста\n",
        "stemmer = PorterStemmer()\n",
        "\n",
        "print(stemmer.stem(\"bats\"))\n",
        "print(stemmer.stem(\"are\"))  # Ууупс, тут не преобразовалось в be =(\n",
        "print(stemmer.stem(\"feet\"))\n",
        "# Ещё примеров, чтобы лучше понять, что просто отрывать часть слова - не всегда хорошая идея\n",
        "print(stemmer.stem(\"shortly\"))\n",
        "print(stemmer.stem(\"magnificence\"))"
      ]
    },
    {
      "cell_type": "code",
      "execution_count": 35,
      "metadata": {
        "colab": {
          "base_uri": "https://localhost:8080/",
          "height": 193
        },
        "id": "4dAKuO0LVb9_",
        "outputId": "9d9060bb-3072-4f05-e5b7-a716c84aa660",
        "_cell_id": "2l5spyi4GHETJehf"
      },
      "outputs": [
        {
          "output_type": "error",
          "ename": "NameError",
          "evalue": "name 'word_tokens' is not defined",
          "traceback": [
            "\u001b[0;31m---------------------------------------------------------------------------\u001b[0m",
            "\u001b[0;31mNameError\u001b[0m                                 Traceback (most recent call last)",
            "\u001b[0;32m<ipython-input-35-c18913817385>\u001b[0m in \u001b[0;36m<cell line: 0>\u001b[0;34m()\u001b[0m\n\u001b[1;32m      1\u001b[0m \u001b[0;31m# После этого нам нужно объединить токены обратно в единую строку\u001b[0m\u001b[0;34m\u001b[0m\u001b[0;34m\u001b[0m\u001b[0m\n\u001b[1;32m      2\u001b[0m \u001b[0;31m#   для будущего кодирования\u001b[0m\u001b[0;34m\u001b[0m\u001b[0;34m\u001b[0m\u001b[0m\n\u001b[0;32m----> 3\u001b[0;31m \u001b[0mprocessed_text\u001b[0m \u001b[0;34m=\u001b[0m \u001b[0;34m\" \"\u001b[0m\u001b[0;34m.\u001b[0m\u001b[0mjoin\u001b[0m\u001b[0;34m(\u001b[0m\u001b[0mword_tokens\u001b[0m\u001b[0;34m)\u001b[0m\u001b[0;34m\u001b[0m\u001b[0;34m\u001b[0m\u001b[0m\n\u001b[0m\u001b[1;32m      4\u001b[0m \u001b[0mprint\u001b[0m\u001b[0;34m(\u001b[0m\u001b[0mprocessed_text\u001b[0m\u001b[0;34m)\u001b[0m\u001b[0;34m\u001b[0m\u001b[0;34m\u001b[0m\u001b[0m\n",
            "\u001b[0;31mNameError\u001b[0m: name 'word_tokens' is not defined"
          ]
        }
      ],
      "source": [
        "# После этого нам нужно объединить токены обратно в единую строку\n",
        "#   для будущего кодирования\n",
        "processed_text = \" \".join(word_tokens)\n",
        "print(processed_text)"
      ]
    },
    {
      "cell_type": "markdown",
      "metadata": {
        "id": "7IR3kQBe80DL"
      },
      "source": [
        "Как вы видите, каждый этап предобработки делает простую трансформацию данных, чтобы в конечном итоге привести к более стандартному виду без примесей и лишних выбросов. При этом один из последних этапов - лемматизация может иметь ошибки в работе. Аналогом лемматизации является стемминг, когда вместо приведения к нормальной форме мы отбрасывает окончание и суффикс. Выбор подхода остаётся за разработчиком и конкретной задачей.\n",
        "\n",
        "> Альтернативными фреймворками для обработки текста являются фреймворки [spaCy](https://spacy.io/), [TextBlob](https://textblob.readthedocs.io/en/dev/), [Gensim](https://radimrehurek.com/gensim/), [pymorphy2](https://pymorphy2.readthedocs.io/en/stable/). Вы можете попробовать использовать их, так как каждый из них имеет свои плюсы и минусы."
      ]
    },
    {
      "cell_type": "markdown",
      "metadata": {
        "id": "bKeHj5eE3VFi"
      },
      "source": [
        "## Больше инструментов!\n",
        "\n",
        "Давайте опробуем аналогичные вещи, но с использованием другого инструмента, который имеет более широкую поддержку сегодня и более широкий набор языков - [spaCy](https://spacy.io/)!\n",
        "\n",
        "Для примера будем  обрабатывать следующий текст:\n",
        "\n",
        "*С другой стороны, новая модель организационной деятельности в значительной степени обусловливает важность системы массового участия. Равным образом, семантический разбор внешних противодействий играет определяющее значение для стандартных подходов. Ясность нашей позиции очевидна: внедрение современных методик предоставляет широкие возможности для модели развития.*\n",
        "\n",
        "Начнём с того, что загрузим и импортируем требуемую модель под конкретный язык. Посмотреть доступные модели можно на [странице spaCy](https://spacy.io/usage/models)."
      ]
    },
    {
      "cell_type": "code",
      "execution_count": 36,
      "metadata": {
        "_cell_id": "3A4lCWRZuF5xBzNv",
        "id": "7f_DZRSn3VFj",
        "outputId": "bfe46cc9-f793-4a14-dcd8-ffde8718688b",
        "colab": {
          "base_uri": "https://localhost:8080/"
        }
      },
      "outputs": [
        {
          "output_type": "stream",
          "name": "stdout",
          "text": [
            "Collecting ru-core-news-sm==3.7.0\n",
            "  Downloading https://github.com/explosion/spacy-models/releases/download/ru_core_news_sm-3.7.0/ru_core_news_sm-3.7.0-py3-none-any.whl (15.3 MB)\n",
            "     ━━━━━━━━━━━━━━━━━━━━━━━━━━━━━━━━━━━━━━━━ 15.3/15.3 MB 25.5 MB/s eta 0:00:00\n",
            "Requirement already satisfied: spacy<3.8.0,>=3.7.0 in /usr/local/lib/python3.11/dist-packages (from ru-core-news-sm==3.7.0) (3.7.5)\n",
            "Collecting pymorphy3>=1.0.0 (from ru-core-news-sm==3.7.0)\n",
            "  Downloading pymorphy3-2.0.2-py3-none-any.whl.metadata (1.8 kB)\n",
            "Collecting dawg-python>=0.7.1 (from pymorphy3>=1.0.0->ru-core-news-sm==3.7.0)\n",
            "  Downloading DAWG_Python-0.7.2-py2.py3-none-any.whl.metadata (7.0 kB)\n",
            "Collecting pymorphy3-dicts-ru (from pymorphy3>=1.0.0->ru-core-news-sm==3.7.0)\n",
            "  Downloading pymorphy3_dicts_ru-2.4.417150.4580142-py2.py3-none-any.whl.metadata (2.0 kB)\n",
            "Requirement already satisfied: spacy-legacy<3.1.0,>=3.0.11 in /usr/local/lib/python3.11/dist-packages (from spacy<3.8.0,>=3.7.0->ru-core-news-sm==3.7.0) (3.0.12)\n",
            "Requirement already satisfied: spacy-loggers<2.0.0,>=1.0.0 in /usr/local/lib/python3.11/dist-packages (from spacy<3.8.0,>=3.7.0->ru-core-news-sm==3.7.0) (1.0.5)\n",
            "Requirement already satisfied: murmurhash<1.1.0,>=0.28.0 in /usr/local/lib/python3.11/dist-packages (from spacy<3.8.0,>=3.7.0->ru-core-news-sm==3.7.0) (1.0.12)\n",
            "Requirement already satisfied: cymem<2.1.0,>=2.0.2 in /usr/local/lib/python3.11/dist-packages (from spacy<3.8.0,>=3.7.0->ru-core-news-sm==3.7.0) (2.0.11)\n",
            "Requirement already satisfied: preshed<3.1.0,>=3.0.2 in /usr/local/lib/python3.11/dist-packages (from spacy<3.8.0,>=3.7.0->ru-core-news-sm==3.7.0) (3.0.9)\n",
            "Requirement already satisfied: thinc<8.3.0,>=8.2.2 in /usr/local/lib/python3.11/dist-packages (from spacy<3.8.0,>=3.7.0->ru-core-news-sm==3.7.0) (8.2.5)\n",
            "Requirement already satisfied: wasabi<1.2.0,>=0.9.1 in /usr/local/lib/python3.11/dist-packages (from spacy<3.8.0,>=3.7.0->ru-core-news-sm==3.7.0) (1.1.3)\n",
            "Requirement already satisfied: srsly<3.0.0,>=2.4.3 in /usr/local/lib/python3.11/dist-packages (from spacy<3.8.0,>=3.7.0->ru-core-news-sm==3.7.0) (2.5.1)\n",
            "Requirement already satisfied: catalogue<2.1.0,>=2.0.6 in /usr/local/lib/python3.11/dist-packages (from spacy<3.8.0,>=3.7.0->ru-core-news-sm==3.7.0) (2.0.10)\n",
            "Requirement already satisfied: weasel<0.5.0,>=0.1.0 in /usr/local/lib/python3.11/dist-packages (from spacy<3.8.0,>=3.7.0->ru-core-news-sm==3.7.0) (0.4.1)\n",
            "Requirement already satisfied: typer<1.0.0,>=0.3.0 in /usr/local/lib/python3.11/dist-packages (from spacy<3.8.0,>=3.7.0->ru-core-news-sm==3.7.0) (0.15.1)\n",
            "Requirement already satisfied: tqdm<5.0.0,>=4.38.0 in /usr/local/lib/python3.11/dist-packages (from spacy<3.8.0,>=3.7.0->ru-core-news-sm==3.7.0) (4.67.1)\n",
            "Requirement already satisfied: requests<3.0.0,>=2.13.0 in /usr/local/lib/python3.11/dist-packages (from spacy<3.8.0,>=3.7.0->ru-core-news-sm==3.7.0) (2.32.3)\n",
            "Requirement already satisfied: pydantic!=1.8,!=1.8.1,<3.0.0,>=1.7.4 in /usr/local/lib/python3.11/dist-packages (from spacy<3.8.0,>=3.7.0->ru-core-news-sm==3.7.0) (2.10.6)\n",
            "Requirement already satisfied: jinja2 in /usr/local/lib/python3.11/dist-packages (from spacy<3.8.0,>=3.7.0->ru-core-news-sm==3.7.0) (3.1.5)\n",
            "Requirement already satisfied: setuptools in /usr/local/lib/python3.11/dist-packages (from spacy<3.8.0,>=3.7.0->ru-core-news-sm==3.7.0) (75.1.0)\n",
            "Requirement already satisfied: packaging>=20.0 in /usr/local/lib/python3.11/dist-packages (from spacy<3.8.0,>=3.7.0->ru-core-news-sm==3.7.0) (24.2)\n",
            "Requirement already satisfied: langcodes<4.0.0,>=3.2.0 in /usr/local/lib/python3.11/dist-packages (from spacy<3.8.0,>=3.7.0->ru-core-news-sm==3.7.0) (3.5.0)\n",
            "Requirement already satisfied: numpy>=1.19.0 in /usr/local/lib/python3.11/dist-packages (from spacy<3.8.0,>=3.7.0->ru-core-news-sm==3.7.0) (1.26.4)\n",
            "Requirement already satisfied: language-data>=1.2 in /usr/local/lib/python3.11/dist-packages (from langcodes<4.0.0,>=3.2.0->spacy<3.8.0,>=3.7.0->ru-core-news-sm==3.7.0) (1.3.0)\n",
            "Requirement already satisfied: annotated-types>=0.6.0 in /usr/local/lib/python3.11/dist-packages (from pydantic!=1.8,!=1.8.1,<3.0.0,>=1.7.4->spacy<3.8.0,>=3.7.0->ru-core-news-sm==3.7.0) (0.7.0)\n",
            "Requirement already satisfied: pydantic-core==2.27.2 in /usr/local/lib/python3.11/dist-packages (from pydantic!=1.8,!=1.8.1,<3.0.0,>=1.7.4->spacy<3.8.0,>=3.7.0->ru-core-news-sm==3.7.0) (2.27.2)\n",
            "Requirement already satisfied: typing-extensions>=4.12.2 in /usr/local/lib/python3.11/dist-packages (from pydantic!=1.8,!=1.8.1,<3.0.0,>=1.7.4->spacy<3.8.0,>=3.7.0->ru-core-news-sm==3.7.0) (4.12.2)\n",
            "Requirement already satisfied: charset-normalizer<4,>=2 in /usr/local/lib/python3.11/dist-packages (from requests<3.0.0,>=2.13.0->spacy<3.8.0,>=3.7.0->ru-core-news-sm==3.7.0) (3.4.1)\n",
            "Requirement already satisfied: idna<4,>=2.5 in /usr/local/lib/python3.11/dist-packages (from requests<3.0.0,>=2.13.0->spacy<3.8.0,>=3.7.0->ru-core-news-sm==3.7.0) (3.10)\n",
            "Requirement already satisfied: urllib3<3,>=1.21.1 in /usr/local/lib/python3.11/dist-packages (from requests<3.0.0,>=2.13.0->spacy<3.8.0,>=3.7.0->ru-core-news-sm==3.7.0) (2.3.0)\n",
            "Requirement already satisfied: certifi>=2017.4.17 in /usr/local/lib/python3.11/dist-packages (from requests<3.0.0,>=2.13.0->spacy<3.8.0,>=3.7.0->ru-core-news-sm==3.7.0) (2024.12.14)\n",
            "Requirement already satisfied: blis<0.8.0,>=0.7.8 in /usr/local/lib/python3.11/dist-packages (from thinc<8.3.0,>=8.2.2->spacy<3.8.0,>=3.7.0->ru-core-news-sm==3.7.0) (0.7.11)\n",
            "Requirement already satisfied: confection<1.0.0,>=0.0.1 in /usr/local/lib/python3.11/dist-packages (from thinc<8.3.0,>=8.2.2->spacy<3.8.0,>=3.7.0->ru-core-news-sm==3.7.0) (0.1.5)\n",
            "Requirement already satisfied: click>=8.0.0 in /usr/local/lib/python3.11/dist-packages (from typer<1.0.0,>=0.3.0->spacy<3.8.0,>=3.7.0->ru-core-news-sm==3.7.0) (8.1.8)\n",
            "Requirement already satisfied: shellingham>=1.3.0 in /usr/local/lib/python3.11/dist-packages (from typer<1.0.0,>=0.3.0->spacy<3.8.0,>=3.7.0->ru-core-news-sm==3.7.0) (1.5.4)\n",
            "Requirement already satisfied: rich>=10.11.0 in /usr/local/lib/python3.11/dist-packages (from typer<1.0.0,>=0.3.0->spacy<3.8.0,>=3.7.0->ru-core-news-sm==3.7.0) (13.9.4)\n",
            "Requirement already satisfied: cloudpathlib<1.0.0,>=0.7.0 in /usr/local/lib/python3.11/dist-packages (from weasel<0.5.0,>=0.1.0->spacy<3.8.0,>=3.7.0->ru-core-news-sm==3.7.0) (0.20.0)\n",
            "Requirement already satisfied: smart-open<8.0.0,>=5.2.1 in /usr/local/lib/python3.11/dist-packages (from weasel<0.5.0,>=0.1.0->spacy<3.8.0,>=3.7.0->ru-core-news-sm==3.7.0) (7.1.0)\n",
            "Requirement already satisfied: MarkupSafe>=2.0 in /usr/local/lib/python3.11/dist-packages (from jinja2->spacy<3.8.0,>=3.7.0->ru-core-news-sm==3.7.0) (3.0.2)\n",
            "Requirement already satisfied: marisa-trie>=1.1.0 in /usr/local/lib/python3.11/dist-packages (from language-data>=1.2->langcodes<4.0.0,>=3.2.0->spacy<3.8.0,>=3.7.0->ru-core-news-sm==3.7.0) (1.2.1)\n",
            "Requirement already satisfied: markdown-it-py>=2.2.0 in /usr/local/lib/python3.11/dist-packages (from rich>=10.11.0->typer<1.0.0,>=0.3.0->spacy<3.8.0,>=3.7.0->ru-core-news-sm==3.7.0) (3.0.0)\n",
            "Requirement already satisfied: pygments<3.0.0,>=2.13.0 in /usr/local/lib/python3.11/dist-packages (from rich>=10.11.0->typer<1.0.0,>=0.3.0->spacy<3.8.0,>=3.7.0->ru-core-news-sm==3.7.0) (2.18.0)\n",
            "Requirement already satisfied: wrapt in /usr/local/lib/python3.11/dist-packages (from smart-open<8.0.0,>=5.2.1->weasel<0.5.0,>=0.1.0->spacy<3.8.0,>=3.7.0->ru-core-news-sm==3.7.0) (1.17.2)\n",
            "Requirement already satisfied: mdurl~=0.1 in /usr/local/lib/python3.11/dist-packages (from markdown-it-py>=2.2.0->rich>=10.11.0->typer<1.0.0,>=0.3.0->spacy<3.8.0,>=3.7.0->ru-core-news-sm==3.7.0) (0.1.2)\n",
            "Downloading pymorphy3-2.0.2-py3-none-any.whl (53 kB)\n",
            "   ━━━━━━━━━━━━━━━━━━━━━━━━━━━━━━━━━━━━━━━━ 53.8/53.8 kB 1.8 MB/s eta 0:00:00\n",
            "Downloading DAWG_Python-0.7.2-py2.py3-none-any.whl (11 kB)\n",
            "Downloading pymorphy3_dicts_ru-2.4.417150.4580142-py2.py3-none-any.whl (8.4 MB)\n",
            "   ━━━━━━━━━━━━━━━━━━━━━━━━━━━━━━━━━━━━━━━━ 8.4/8.4 MB 41.8 MB/s eta 0:00:00\n",
            "Installing collected packages: pymorphy3-dicts-ru, dawg-python, pymorphy3, ru-core-news-sm\n",
            "Successfully installed dawg-python-0.7.2 pymorphy3-2.0.2 pymorphy3-dicts-ru-2.4.417150.4580142 ru-core-news-sm-3.7.0\n",
            "\u001b[38;5;2m✔ Download and installation successful\u001b[0m\n",
            "You can now load the package via spacy.load('ru_core_news_sm')\n",
            "\u001b[38;5;3m⚠ Restart to reload dependencies\u001b[0m\n",
            "If you are in a Jupyter or Colab notebook, you may need to restart Python in\n",
            "order to load all the package's dependencies. You can do this by selecting the\n",
            "'Restart kernel' or 'Restart runtime' option.\n"
          ]
        }
      ],
      "source": [
        "%%bash\n",
        "spacy download ru_core_news_sm"
      ]
    },
    {
      "cell_type": "code",
      "execution_count": 37,
      "metadata": {
        "_cell_id": "3HiBb90nc89ayytH",
        "id": "P1PwzcPO3VFj"
      },
      "outputs": [],
      "source": [
        "import spacy\n",
        "nlp = spacy.load(\"ru_core_news_sm\")"
      ]
    },
    {
      "cell_type": "markdown",
      "metadata": {
        "id": "jxeeoct_3VFj"
      },
      "source": [
        "Отлично, вот так просто загружается модель для работы с языком! Теперь давайте попробуем токенизировать текст - разбить на токены (слова).\n",
        "\n",
        "> 🤓 Несмотря на кажущуюся очевидность операции токенизации, простой сплит по \"пробелу\" даёт не всегда ожидаемый результат, так как слова могут быть разделены дефисом, иметь в конце символы и т.д. Поэтому, современные инструменты могут за вас хорошо решить даже такую простую операцию!"
      ]
    },
    {
      "cell_type": "code",
      "execution_count": 38,
      "metadata": {
        "_cell_id": "HFprfqWsi6osO2AF",
        "id": "X3e6kmPn3VFj",
        "outputId": "5324b522-cb77-4377-b4b5-537f9ea79d41",
        "colab": {
          "base_uri": "https://localhost:8080/",
          "height": 70
        }
      },
      "outputs": [
        {
          "output_type": "execute_result",
          "data": {
            "text/plain": [
              "'С другой стороны, новая модель организационной деятельности в значительной степени обусловливает важность системы массового участия. Равным образом, семантический разбор внешних противодействий играет определяющее значение для стандартных подходов. Ясность нашей позиции очевидна: внедрение современных методик предоставляет широкие возможности для модели развития.'"
            ],
            "application/vnd.google.colaboratory.intrinsic+json": {
              "type": "string"
            }
          },
          "metadata": {},
          "execution_count": 38
        }
      ],
      "source": [
        "text = \"С другой стороны, новая модель организационной деятельности в значительной степени обусловливает важность системы массового участия. \\\n",
        "Равным образом, семантический разбор внешних противодействий играет определяющее значение для стандартных подходов. \\\n",
        "Ясность нашей позиции очевидна: внедрение современных методик предоставляет широкие возможности для модели развития.\"\n",
        "\n",
        "text"
      ]
    },
    {
      "cell_type": "code",
      "execution_count": 39,
      "metadata": {
        "_cell_id": "d7Rb9gLbhyO8bnMI",
        "id": "ROL9SvcE3VFj",
        "outputId": "ca0de1dd-ad96-4686-e927-d12d53a23b11",
        "colab": {
          "base_uri": "https://localhost:8080/"
        }
      },
      "outputs": [
        {
          "output_type": "stream",
          "name": "stderr",
          "text": [
            "/usr/local/lib/python3.11/dist-packages/spacy/util.py:1740: UserWarning: [W111] Jupyter notebook detected: if using `prefer_gpu()` or `require_gpu()`, include it in the same cell right before `spacy.load()` to ensure that the model is loaded on the correct device. More information: http://spacy.io/usage/v3#jupyter-notebook-gpu\n",
            "  warnings.warn(Warnings.W111)\n"
          ]
        },
        {
          "output_type": "stream",
          "name": "stdout",
          "text": [
            "С\n",
            "другой\n",
            "стороны\n",
            ",\n",
            "новая\n",
            "модель\n",
            "организационной\n",
            "деятельности\n",
            "в\n",
            "значительной\n",
            "степени\n",
            "обусловливает\n",
            "важность\n",
            "системы\n",
            "массового\n",
            "участия\n",
            ".\n",
            "Равным\n",
            "образом\n",
            ",\n"
          ]
        }
      ],
      "source": [
        "nlp = spacy.load(\"ru_core_news_sm\")\n",
        "doc = nlp(text)\n",
        "\n",
        "for token in doc[:20]:\n",
        "    print(token)"
      ]
    },
    {
      "cell_type": "markdown",
      "metadata": {
        "id": "f1ByUVie3VFj"
      },
      "source": [
        "Как видите, токенизация сама смогла выделить пунктуацию в отдельные токены, чего не смог бы простой сплит!\n",
        "\n",
        "Теперь давайте посмотрим, как нам произвести нормализацию текста. SpaCy подерживает только лемматизацию, поэтому для стемминга можно воспользоваться уже изученным подходом из nltk."
      ]
    },
    {
      "cell_type": "code",
      "execution_count": 40,
      "metadata": {
        "_cell_id": "ODv4vjqHa9whJ4rN",
        "id": "V-Wbs3Is3VFj",
        "outputId": "c7b85b59-0ca7-49c8-f7ba-6591d093a6ad",
        "colab": {
          "base_uri": "https://localhost:8080/"
        }
      },
      "outputs": [
        {
          "output_type": "stream",
          "name": "stdout",
          "text": [
            "С -> с\n",
            "другой -> другой\n",
            "стороны -> сторона\n",
            ", -> ,\n",
            "новая -> новый\n",
            "модель -> модель\n",
            "организационной -> организационный\n",
            "деятельности -> деятельность\n",
            "в -> в\n",
            "значительной -> значительный\n",
            "степени -> степень\n",
            "обусловливает -> обусловливать\n",
            "важность -> важность\n",
            "системы -> система\n",
            "массового -> массовый\n",
            "участия -> участие\n",
            ". -> .\n",
            "Равным -> равный\n",
            "образом -> образ\n",
            ", -> ,\n"
          ]
        }
      ],
      "source": [
        "doc = nlp(text)\n",
        "\n",
        "for token in doc[:20]:\n",
        "    print(f\"{token} -> {token.lemma_}\")"
      ]
    },
    {
      "cell_type": "markdown",
      "metadata": {
        "id": "0iycbJB33VFj"
      },
      "source": [
        "Отлично! Вот так просто делается лемматизация слов в spaCy, но что же насчёт стоп-слов?\n",
        "\n",
        "Как и со стеммингом, список стоп-слов можно использовать из nltk:"
      ]
    },
    {
      "cell_type": "code",
      "execution_count": 41,
      "metadata": {
        "_cell_id": "xsPw7fsVHeAGXEpZ",
        "id": "uCRdi54W3VFj",
        "outputId": "52abee14-4a10-499b-ac4a-df9a95c59672",
        "colab": {
          "base_uri": "https://localhost:8080/"
        }
      },
      "outputs": [
        {
          "output_type": "stream",
          "name": "stdout",
          "text": [
            "{'не', 'до', 'были', 'вам', 'после', 'ему', 'чего', 'через', 'надо', 'сам', 'во', 'между', 'тем', 'ни', 'впрочем', 'ней', 'этой', 'этого', 'у', 'ним', 'уже', 'них', 'об', 'в', 'нибудь', 'будет', 'при', 'вдруг', 'больше', 'иногда', 'какая', 'конечно', 'хоть', 'разве', 'даже', 'тогда', 'зачем', 'нее', 'перед', 'ничего', 'где', 'мы', 'ж', 'никогда', 'много', 'всех', 'если', 'из', 'такой', 'себя', 'лучше', 'а', 'хорошо', 'был', 'с', 'они', 'три', 'ты', 'почти', 'но', 'этот', 'было', 'будто', 'совсем', 'про', 'чтоб', 'без', 'бы', 'о', 'того', 'этом', 'всю', 'тебя', 'теперь', 'его', 'один', 'то', 'да', 'ли', 'так', 'себе', 'него', 'чуть', 'мне', 'что', 'мой', 'их', 'меня', 'им', 'была', 'на', 'нас', 'нельзя', 'ведь', 'потому', 'к', 'ее', 'вы', 'ну', 'все', 'сейчас', 'только', 'вас', 'над', 'эту', 'всегда', 'там', 'тоже', 'со', 'раз', 'эти', 'же', 'другой', 'есть', 'потом', 'всего', 'наконец', 'он', 'том', 'здесь', 'куда', 'уж', 'и', 'за', 'как', 'от', 'под', 'два', 'ей', 'еще', 'опять', 'кто', 'нет', 'моя', 'или', 'тот', 'можно', 'более', 'чем', 'вот', 'тут', 'чтобы', 'свою', 'для', 'может', 'когда', 'быть', 'какой', 'по', 'она', 'я'}\n"
          ]
        }
      ],
      "source": [
        "stop_words = set(stopwords.words(\"russian\"))\n",
        "print(stop_words)"
      ]
    },
    {
      "cell_type": "markdown",
      "metadata": {
        "id": "9sIqsIbD3VFj"
      },
      "source": [
        "Такс, окей, тогда получается, что в nltk функционал даже шире, чем в spaCy? Тогда зачем же использовать spaCy и почему он такой популярный?\n",
        "\n",
        "Ответ прост! То, что мы рассмотрели - это лишь малая часть той красоты, что может spaCy. Прибавьте к высокой скорости обработки поддержку огромного количества языков и ещё такие плюшки, как распознавание части речи! Представляете, и такое он может:"
      ]
    },
    {
      "cell_type": "code",
      "execution_count": 42,
      "metadata": {
        "_cell_id": "VaYVwkPDCWbyWipQ",
        "id": "N5-4mf2s3VFj",
        "outputId": "edf34d27-70e2-464f-aeff-0d0c97f07e3f",
        "colab": {
          "base_uri": "https://localhost:8080/"
        }
      },
      "outputs": [
        {
          "output_type": "stream",
          "name": "stdout",
          "text": [
            "           Token        POS \n",
            "\n",
            "               С        ADP\n",
            "          другой        ADJ\n",
            "         стороны       NOUN\n",
            "               ,      PUNCT\n",
            "           новая        ADJ\n",
            "          модель       NOUN\n",
            " организационной        ADJ\n",
            "    деятельности       NOUN\n",
            "               в        ADP\n",
            "    значительной        ADJ\n",
            "         степени       NOUN\n",
            "   обусловливает       VERB\n",
            "        важность       NOUN\n",
            "         системы       NOUN\n",
            "       массового        ADJ\n",
            "         участия       NOUN\n",
            "               .      PUNCT\n",
            "          Равным        ADJ\n",
            "         образом       NOUN\n",
            "               ,      PUNCT\n"
          ]
        }
      ],
      "source": [
        "fmt = \"{:>16} {:>10}\"\n",
        "\n",
        "print(fmt.format(\"Token\", \"POS\"), \"\\n\")\n",
        "for token in doc[:20]:\n",
        "   print(fmt.format(token.text, token.pos_))"
      ]
    },
    {
      "cell_type": "markdown",
      "metadata": {
        "id": "9yZ5MEjQ3VFj"
      },
      "source": [
        "Для нашего случая мы имеем:\n",
        "- ADJ - прилагательное\n",
        "- ADP - предлог\n",
        "- NOUN - существительное\n",
        "- VERB - глагол\n",
        "- PUNCT - пунктуация\n",
        "\n",
        "И ведь нам практически ничего не пришлось делать! Весь разбор был сделан передачей текста в **пайплайн** обработки текста (это в терминологии spaCy).\n",
        "\n",
        "Вот такие интересные трюки и подходы можно применять, чтобы разобрать тексты, подготовить, обработать и в результате улучшить работу модели!\n",
        "\n",
        "Теперь, когда мы рассмотрели, а вы поняли основные подходы, вы сможете сделать очень крутые вещи!\n",
        "\n",
        "А пока, мы предлагаем вам попробовать свои силы в обработке текста и классификации на основе него на датасете с новостями."
      ]
    },
    {
      "cell_type": "markdown",
      "metadata": {
        "id": "beNdjyWeremG"
      },
      "source": [
        "## Задачи\n",
        "\n",
        "Следующие задачки позволят вам самостоятельно опробовать работу моделей и попрактиковаться в применении изученных инструментов.\n",
        "\n",
        "> 🔥 Не забывайте, что предобработку лучше заворачивать в класс, чтобы потом можно было его просто применять!"
      ]
    },
    {
      "cell_type": "markdown",
      "metadata": {
        "id": "JHx7ixtd95jQ"
      },
      "source": [
        "- Проведите анализ текстовых данных набора данных 20newsgroups;\n",
        "- Постройте модель `MultinominalNB` с параметрами по-умолчанию и без предобработки текста, только векторизация (baseline);\n",
        "- Добавьте предобработку текста, оцените работу модели;\n",
        "- Отобразите CM и сделайте выводы, какие разделы путаются;\n",
        "- Изучите влияние $\\alpha$ байесовского классификатора (7 значений);\n",
        "- Изучите влияние максимального количества признаков `TfidfVectorizer` (10 значений `max_features`);\n",
        "- Оцените работу модели при различных значения `ngram_range` (варьируя верхний предел - от 1 до 3 включительно);\n",
        "- Определите лучшую модель путём настройки гиперпараметров (по показателю `f1_macro`), отобразите CM и отчёт по классификации;\n",
        "- Постройте модель случайного леса, определите лучшие гиперпараметры и сравните с моделью байесовского классификатора;\n",
        "- Проанализируйте ошибки классификаторов и сделайте выводы;\n",
        "- Удалите дополнительную информацию (используйте аргумент `remove` в функции `fetch_20newsgroups()` с указанием в качестве значения кортеж `(\"headers\", \"footers\", \"quotes\")`) -> оцените работу лучшей модели (с переобучением на очищенном наборе данных);\n",
        "- Определите новую лучшую модель (с учетом удаления доп.информации из текстов) путем настройки гиперпараметров (по показателю `f1_macro`);\n",
        "- Отобразите CM и сделайте выводы, какие разделы путаются;\n",
        "\n",
        "> CM = Confusion Matrix"
      ]
    },
    {
      "cell_type": "markdown",
      "metadata": {
        "id": "p3s5LT4qre7v"
      },
      "source": [
        "## Вопросы для закрепления\n",
        "\n",
        "А теперь пара вопросов, чтобы закрепить материал!\n",
        "\n",
        "- За что отвечает параметр $\\alpha$ в модели? Как значение влияет на показатели\n",
        "метрик?\n",
        "- В чём разница работы модели случайного леса и байесовского классификатора?\n",
        "- Как повлияло удаление дополнительной информации из текстов? С чем это может быть связано?"
      ]
    },
    {
      "cell_type": "markdown",
      "source": [
        "## Полезные ссылки\n",
        "* [Naive Bayes от StatQuest](https://www.youtube.com/watch?v=O2L2Uv9pdDA)\n",
        "* [Naive Gaussian Bayes от StatQuest](https://www.youtube.com/watch?v=H3EjCKtlVog)\n"
      ],
      "metadata": {
        "id": "WkQZF4VE3VFk"
      }
    }
  ],
  "metadata": {
    "colab": {
      "name": "Lab5_Text.ipynb",
      "provenance": [],
      "toc_visible": true,
      "include_colab_link": true
    },
    "kernelspec": {
      "display_name": "Python 3.8.10 ('.venv': poetry)",
      "language": "python",
      "name": "python3"
    },
    "language_info": {
      "codemirror_mode": {
        "name": "ipython",
        "version": 3
      },
      "file_extension": ".py",
      "mimetype": "text/x-python",
      "name": "python",
      "nbconvert_exporter": "python",
      "pygments_lexer": "ipython3",
      "version": "3.10.15"
    },
    "vscode": {
      "interpreter": {
        "hash": "5ef4d00d2bd0c756646408250b3e0222db1655439c25a4f11279476b8286db07"
      }
    }
  },
  "nbformat": 4,
  "nbformat_minor": 0
}