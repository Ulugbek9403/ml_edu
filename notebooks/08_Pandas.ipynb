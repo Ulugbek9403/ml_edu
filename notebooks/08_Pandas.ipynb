{
  "cells": [
    {
      "cell_type": "markdown",
      "metadata": {
        "id": "view-in-github",
        "colab_type": "text"
      },
      "source": [
        "<a href=\"https://colab.research.google.com/github/Ulugbek9403/ml_edu/blob/master/notebooks/08_Pandas.ipynb\" target=\"_parent\"><img src=\"https://colab.research.google.com/assets/colab-badge.svg\" alt=\"Open In Colab\"/></a>"
      ]
    },
    {
      "cell_type": "markdown",
      "metadata": {
        "id": "_hmXpj3l1WIL"
      },
      "source": [
        "# Pandas (Часть 3)"
      ]
    },
    {
      "cell_type": "markdown",
      "source": [
        "# Новый раздел"
      ],
      "metadata": {
        "id": "Gk8myRm_z6fC"
      }
    },
    {
      "cell_type": "markdown",
      "source": [
        "> 🚀 В этой практике нам понадобятся: `numpy==1.26.4, pandas==2.2.2`\n",
        "\n",
        "> 🚀 Установить вы их можете с помощью команды: `%pip install numpy==1.26.4 pandas==2.2.2`\n"
      ],
      "metadata": {
        "id": "RGAhT0txZbCS"
      }
    },
    {
      "cell_type": "markdown",
      "source": [
        "## Содержание\n",
        "\n",
        "* [Сохранение / загрузка данных (работа с CSV)](#Сохранение-/-загрузка-данных-работа-с-CSV)\n",
        "  * [Задание - чуток самостоятельного разбора](#Задание---чуток-самостоятельного-разбора)\n",
        "* [Задачки](#Задачки)\n"
      ],
      "metadata": {
        "id": "v6pw1n6rZbCS"
      }
    },
    {
      "cell_type": "markdown",
      "metadata": {
        "id": "tCX-A3xSZbCT"
      },
      "source": [
        "В этом ноутбуке:\n",
        "- CSV файлы\n",
        "- Кто не работает тот ест: землю при встрече с трудностями. Задачки"
      ]
    },
    {
      "cell_type": "code",
      "execution_count": 1,
      "metadata": {
        "_cell_id": "LHqcVPM8fofLeSd4",
        "id": "QH3s5g_1ZbCT"
      },
      "outputs": [],
      "source": [
        "import pandas as pd\n",
        "import numpy as np"
      ]
    },
    {
      "cell_type": "markdown",
      "metadata": {
        "id": "QoA5WcSp_1am"
      },
      "source": [
        "## Сохранение / загрузка данных (работа с CSV)"
      ]
    },
    {
      "cell_type": "markdown",
      "metadata": {
        "id": "FRzJjPfe_55Q"
      },
      "source": [
        "Одним из важных инструментов в работе с таблицами является возможность сохранить результаты работы в файл или загрузить данные из файла. Пользоваться мы будем форматом CSV, который является текстовым форматом для хранения таблицы. Формат представляет собой текстовые строки, каждая колонка разделяется разделителем (запятая, точка запятой и др.), поэтому его просто понять и обрабатывать, так как не требуется никакого специального протокола для понимания.\n",
        "\n",
        "Для сохранения данных имеется метод `DataFrame.to_csv()`:"
      ]
    },
    {
      "cell_type": "code",
      "execution_count": 2,
      "metadata": {
        "colab": {
          "base_uri": "https://localhost:8080/",
          "height": 143
        },
        "id": "DmYMxecrAq10",
        "outputId": "e3cd4655-4119-4dae-d563-c940303477be",
        "_cell_id": "QMQ5sHUhrwyL398z"
      },
      "outputs": [
        {
          "output_type": "execute_result",
          "data": {
            "text/plain": [
              "   x1  x2  x3\n",
              "A   0   2   6\n",
              "B   3   8   8\n",
              "C   3   9   9"
            ],
            "text/html": [
              "\n",
              "  <div id=\"df-0bf8db77-8f92-44a1-85e0-92eae643b53a\" class=\"colab-df-container\">\n",
              "    <div>\n",
              "<style scoped>\n",
              "    .dataframe tbody tr th:only-of-type {\n",
              "        vertical-align: middle;\n",
              "    }\n",
              "\n",
              "    .dataframe tbody tr th {\n",
              "        vertical-align: top;\n",
              "    }\n",
              "\n",
              "    .dataframe thead th {\n",
              "        text-align: right;\n",
              "    }\n",
              "</style>\n",
              "<table border=\"1\" class=\"dataframe\">\n",
              "  <thead>\n",
              "    <tr style=\"text-align: right;\">\n",
              "      <th></th>\n",
              "      <th>x1</th>\n",
              "      <th>x2</th>\n",
              "      <th>x3</th>\n",
              "    </tr>\n",
              "  </thead>\n",
              "  <tbody>\n",
              "    <tr>\n",
              "      <th>A</th>\n",
              "      <td>0</td>\n",
              "      <td>2</td>\n",
              "      <td>6</td>\n",
              "    </tr>\n",
              "    <tr>\n",
              "      <th>B</th>\n",
              "      <td>3</td>\n",
              "      <td>8</td>\n",
              "      <td>8</td>\n",
              "    </tr>\n",
              "    <tr>\n",
              "      <th>C</th>\n",
              "      <td>3</td>\n",
              "      <td>9</td>\n",
              "      <td>9</td>\n",
              "    </tr>\n",
              "  </tbody>\n",
              "</table>\n",
              "</div>\n",
              "    <div class=\"colab-df-buttons\">\n",
              "\n",
              "  <div class=\"colab-df-container\">\n",
              "    <button class=\"colab-df-convert\" onclick=\"convertToInteractive('df-0bf8db77-8f92-44a1-85e0-92eae643b53a')\"\n",
              "            title=\"Convert this dataframe to an interactive table.\"\n",
              "            style=\"display:none;\">\n",
              "\n",
              "  <svg xmlns=\"http://www.w3.org/2000/svg\" height=\"24px\" viewBox=\"0 -960 960 960\">\n",
              "    <path d=\"M120-120v-720h720v720H120Zm60-500h600v-160H180v160Zm220 220h160v-160H400v160Zm0 220h160v-160H400v160ZM180-400h160v-160H180v160Zm440 0h160v-160H620v160ZM180-180h160v-160H180v160Zm440 0h160v-160H620v160Z\"/>\n",
              "  </svg>\n",
              "    </button>\n",
              "\n",
              "  <style>\n",
              "    .colab-df-container {\n",
              "      display:flex;\n",
              "      gap: 12px;\n",
              "    }\n",
              "\n",
              "    .colab-df-convert {\n",
              "      background-color: #E8F0FE;\n",
              "      border: none;\n",
              "      border-radius: 50%;\n",
              "      cursor: pointer;\n",
              "      display: none;\n",
              "      fill: #1967D2;\n",
              "      height: 32px;\n",
              "      padding: 0 0 0 0;\n",
              "      width: 32px;\n",
              "    }\n",
              "\n",
              "    .colab-df-convert:hover {\n",
              "      background-color: #E2EBFA;\n",
              "      box-shadow: 0px 1px 2px rgba(60, 64, 67, 0.3), 0px 1px 3px 1px rgba(60, 64, 67, 0.15);\n",
              "      fill: #174EA6;\n",
              "    }\n",
              "\n",
              "    .colab-df-buttons div {\n",
              "      margin-bottom: 4px;\n",
              "    }\n",
              "\n",
              "    [theme=dark] .colab-df-convert {\n",
              "      background-color: #3B4455;\n",
              "      fill: #D2E3FC;\n",
              "    }\n",
              "\n",
              "    [theme=dark] .colab-df-convert:hover {\n",
              "      background-color: #434B5C;\n",
              "      box-shadow: 0px 1px 3px 1px rgba(0, 0, 0, 0.15);\n",
              "      filter: drop-shadow(0px 1px 2px rgba(0, 0, 0, 0.3));\n",
              "      fill: #FFFFFF;\n",
              "    }\n",
              "  </style>\n",
              "\n",
              "    <script>\n",
              "      const buttonEl =\n",
              "        document.querySelector('#df-0bf8db77-8f92-44a1-85e0-92eae643b53a button.colab-df-convert');\n",
              "      buttonEl.style.display =\n",
              "        google.colab.kernel.accessAllowed ? 'block' : 'none';\n",
              "\n",
              "      async function convertToInteractive(key) {\n",
              "        const element = document.querySelector('#df-0bf8db77-8f92-44a1-85e0-92eae643b53a');\n",
              "        const dataTable =\n",
              "          await google.colab.kernel.invokeFunction('convertToInteractive',\n",
              "                                                    [key], {});\n",
              "        if (!dataTable) return;\n",
              "\n",
              "        const docLinkHtml = 'Like what you see? Visit the ' +\n",
              "          '<a target=\"_blank\" href=https://colab.research.google.com/notebooks/data_table.ipynb>data table notebook</a>'\n",
              "          + ' to learn more about interactive tables.';\n",
              "        element.innerHTML = '';\n",
              "        dataTable['output_type'] = 'display_data';\n",
              "        await google.colab.output.renderOutput(dataTable, element);\n",
              "        const docLink = document.createElement('div');\n",
              "        docLink.innerHTML = docLinkHtml;\n",
              "        element.appendChild(docLink);\n",
              "      }\n",
              "    </script>\n",
              "  </div>\n",
              "\n",
              "\n",
              "<div id=\"df-f5c3d5fb-f8a0-4ca7-a671-f5b7bf250f11\">\n",
              "  <button class=\"colab-df-quickchart\" onclick=\"quickchart('df-f5c3d5fb-f8a0-4ca7-a671-f5b7bf250f11')\"\n",
              "            title=\"Suggest charts\"\n",
              "            style=\"display:none;\">\n",
              "\n",
              "<svg xmlns=\"http://www.w3.org/2000/svg\" height=\"24px\"viewBox=\"0 0 24 24\"\n",
              "     width=\"24px\">\n",
              "    <g>\n",
              "        <path d=\"M19 3H5c-1.1 0-2 .9-2 2v14c0 1.1.9 2 2 2h14c1.1 0 2-.9 2-2V5c0-1.1-.9-2-2-2zM9 17H7v-7h2v7zm4 0h-2V7h2v10zm4 0h-2v-4h2v4z\"/>\n",
              "    </g>\n",
              "</svg>\n",
              "  </button>\n",
              "\n",
              "<style>\n",
              "  .colab-df-quickchart {\n",
              "      --bg-color: #E8F0FE;\n",
              "      --fill-color: #1967D2;\n",
              "      --hover-bg-color: #E2EBFA;\n",
              "      --hover-fill-color: #174EA6;\n",
              "      --disabled-fill-color: #AAA;\n",
              "      --disabled-bg-color: #DDD;\n",
              "  }\n",
              "\n",
              "  [theme=dark] .colab-df-quickchart {\n",
              "      --bg-color: #3B4455;\n",
              "      --fill-color: #D2E3FC;\n",
              "      --hover-bg-color: #434B5C;\n",
              "      --hover-fill-color: #FFFFFF;\n",
              "      --disabled-bg-color: #3B4455;\n",
              "      --disabled-fill-color: #666;\n",
              "  }\n",
              "\n",
              "  .colab-df-quickchart {\n",
              "    background-color: var(--bg-color);\n",
              "    border: none;\n",
              "    border-radius: 50%;\n",
              "    cursor: pointer;\n",
              "    display: none;\n",
              "    fill: var(--fill-color);\n",
              "    height: 32px;\n",
              "    padding: 0;\n",
              "    width: 32px;\n",
              "  }\n",
              "\n",
              "  .colab-df-quickchart:hover {\n",
              "    background-color: var(--hover-bg-color);\n",
              "    box-shadow: 0 1px 2px rgba(60, 64, 67, 0.3), 0 1px 3px 1px rgba(60, 64, 67, 0.15);\n",
              "    fill: var(--button-hover-fill-color);\n",
              "  }\n",
              "\n",
              "  .colab-df-quickchart-complete:disabled,\n",
              "  .colab-df-quickchart-complete:disabled:hover {\n",
              "    background-color: var(--disabled-bg-color);\n",
              "    fill: var(--disabled-fill-color);\n",
              "    box-shadow: none;\n",
              "  }\n",
              "\n",
              "  .colab-df-spinner {\n",
              "    border: 2px solid var(--fill-color);\n",
              "    border-color: transparent;\n",
              "    border-bottom-color: var(--fill-color);\n",
              "    animation:\n",
              "      spin 1s steps(1) infinite;\n",
              "  }\n",
              "\n",
              "  @keyframes spin {\n",
              "    0% {\n",
              "      border-color: transparent;\n",
              "      border-bottom-color: var(--fill-color);\n",
              "      border-left-color: var(--fill-color);\n",
              "    }\n",
              "    20% {\n",
              "      border-color: transparent;\n",
              "      border-left-color: var(--fill-color);\n",
              "      border-top-color: var(--fill-color);\n",
              "    }\n",
              "    30% {\n",
              "      border-color: transparent;\n",
              "      border-left-color: var(--fill-color);\n",
              "      border-top-color: var(--fill-color);\n",
              "      border-right-color: var(--fill-color);\n",
              "    }\n",
              "    40% {\n",
              "      border-color: transparent;\n",
              "      border-right-color: var(--fill-color);\n",
              "      border-top-color: var(--fill-color);\n",
              "    }\n",
              "    60% {\n",
              "      border-color: transparent;\n",
              "      border-right-color: var(--fill-color);\n",
              "    }\n",
              "    80% {\n",
              "      border-color: transparent;\n",
              "      border-right-color: var(--fill-color);\n",
              "      border-bottom-color: var(--fill-color);\n",
              "    }\n",
              "    90% {\n",
              "      border-color: transparent;\n",
              "      border-bottom-color: var(--fill-color);\n",
              "    }\n",
              "  }\n",
              "</style>\n",
              "\n",
              "  <script>\n",
              "    async function quickchart(key) {\n",
              "      const quickchartButtonEl =\n",
              "        document.querySelector('#' + key + ' button');\n",
              "      quickchartButtonEl.disabled = true;  // To prevent multiple clicks.\n",
              "      quickchartButtonEl.classList.add('colab-df-spinner');\n",
              "      try {\n",
              "        const charts = await google.colab.kernel.invokeFunction(\n",
              "            'suggestCharts', [key], {});\n",
              "      } catch (error) {\n",
              "        console.error('Error during call to suggestCharts:', error);\n",
              "      }\n",
              "      quickchartButtonEl.classList.remove('colab-df-spinner');\n",
              "      quickchartButtonEl.classList.add('colab-df-quickchart-complete');\n",
              "    }\n",
              "    (() => {\n",
              "      let quickchartButtonEl =\n",
              "        document.querySelector('#df-f5c3d5fb-f8a0-4ca7-a671-f5b7bf250f11 button');\n",
              "      quickchartButtonEl.style.display =\n",
              "        google.colab.kernel.accessAllowed ? 'block' : 'none';\n",
              "    })();\n",
              "  </script>\n",
              "</div>\n",
              "\n",
              "    </div>\n",
              "  </div>\n"
            ],
            "application/vnd.google.colaboratory.intrinsic+json": {
              "type": "dataframe",
              "variable_name": "df",
              "summary": "{\n  \"name\": \"df\",\n  \"rows\": 15,\n  \"fields\": [\n    {\n      \"column\": \"x1\",\n      \"properties\": {\n        \"dtype\": \"number\",\n        \"std\": 2,\n        \"min\": 0,\n        \"max\": 9,\n        \"num_unique_values\": 7,\n        \"samples\": [\n          0,\n          3,\n          6\n        ],\n        \"semantic_type\": \"\",\n        \"description\": \"\"\n      }\n    },\n    {\n      \"column\": \"x2\",\n      \"properties\": {\n        \"dtype\": \"number\",\n        \"std\": 2,\n        \"min\": 1,\n        \"max\": 9,\n        \"num_unique_values\": 7,\n        \"samples\": [\n          2,\n          8,\n          5\n        ],\n        \"semantic_type\": \"\",\n        \"description\": \"\"\n      }\n    },\n    {\n      \"column\": \"x3\",\n      \"properties\": {\n        \"dtype\": \"number\",\n        \"std\": 2,\n        \"min\": 1,\n        \"max\": 9,\n        \"num_unique_values\": 8,\n        \"samples\": [\n          8,\n          3,\n          6\n        ],\n        \"semantic_type\": \"\",\n        \"description\": \"\"\n      }\n    }\n  ]\n}"
            }
          },
          "metadata": {},
          "execution_count": 2
        }
      ],
      "source": [
        "import string\n",
        "\n",
        "df = pd.DataFrame(\n",
        "    data=np.random.randint(0, 10, size=(15, 3)),\n",
        "    columns=[\"x1\", \"x2\", \"x3\"],\n",
        "    index=list(string.ascii_uppercase)[:15]\n",
        ")\n",
        "df.head(3)"
      ]
    },
    {
      "cell_type": "code",
      "execution_count": 3,
      "metadata": {
        "id": "KMNVroGbA7Vw",
        "_cell_id": "PKPMvXkgMzr53w1f"
      },
      "outputs": [],
      "source": [
        "# Для сохранения задается путь до файла\n",
        "df.to_csv(\"my_first_file.csv\")"
      ]
    },
    {
      "cell_type": "markdown",
      "metadata": {
        "id": "s8k6zkCrBgJf"
      },
      "source": [
        "Чтобы убедиться в работе метода найдите файл рядом с ноутбуком и откройте его через редактор.\n",
        "\n",
        "> При работе в Google Colab слева есть вкладка, которая показывает файлы на сервере.\n",
        "\n",
        "При открытии можно увидеть четыре колонки:\n",
        "- Колонка индекса;\n",
        "- Три колонки из наших данных.\n",
        "\n",
        "Теперь, когда мы имеем файл CSV в системе - можем испытать функцию загрузки `pd.read_csv()`:"
      ]
    },
    {
      "cell_type": "code",
      "execution_count": 4,
      "metadata": {
        "colab": {
          "base_uri": "https://localhost:8080/",
          "height": 143
        },
        "id": "Hu1Cn2dAAtZE",
        "outputId": "3dc9172f-2268-46bf-c465-be1a3140aa77",
        "_cell_id": "NtTQAVZOxuZiWlkh"
      },
      "outputs": [
        {
          "output_type": "execute_result",
          "data": {
            "text/plain": [
              "  Unnamed: 0  x1  x2  x3\n",
              "0          A   0   2   6\n",
              "1          B   3   8   8\n",
              "2          C   3   9   9"
            ],
            "text/html": [
              "\n",
              "  <div id=\"df-9edb1832-b15e-407b-9b4a-6b6cc7baf113\" class=\"colab-df-container\">\n",
              "    <div>\n",
              "<style scoped>\n",
              "    .dataframe tbody tr th:only-of-type {\n",
              "        vertical-align: middle;\n",
              "    }\n",
              "\n",
              "    .dataframe tbody tr th {\n",
              "        vertical-align: top;\n",
              "    }\n",
              "\n",
              "    .dataframe thead th {\n",
              "        text-align: right;\n",
              "    }\n",
              "</style>\n",
              "<table border=\"1\" class=\"dataframe\">\n",
              "  <thead>\n",
              "    <tr style=\"text-align: right;\">\n",
              "      <th></th>\n",
              "      <th>Unnamed: 0</th>\n",
              "      <th>x1</th>\n",
              "      <th>x2</th>\n",
              "      <th>x3</th>\n",
              "    </tr>\n",
              "  </thead>\n",
              "  <tbody>\n",
              "    <tr>\n",
              "      <th>0</th>\n",
              "      <td>A</td>\n",
              "      <td>0</td>\n",
              "      <td>2</td>\n",
              "      <td>6</td>\n",
              "    </tr>\n",
              "    <tr>\n",
              "      <th>1</th>\n",
              "      <td>B</td>\n",
              "      <td>3</td>\n",
              "      <td>8</td>\n",
              "      <td>8</td>\n",
              "    </tr>\n",
              "    <tr>\n",
              "      <th>2</th>\n",
              "      <td>C</td>\n",
              "      <td>3</td>\n",
              "      <td>9</td>\n",
              "      <td>9</td>\n",
              "    </tr>\n",
              "  </tbody>\n",
              "</table>\n",
              "</div>\n",
              "    <div class=\"colab-df-buttons\">\n",
              "\n",
              "  <div class=\"colab-df-container\">\n",
              "    <button class=\"colab-df-convert\" onclick=\"convertToInteractive('df-9edb1832-b15e-407b-9b4a-6b6cc7baf113')\"\n",
              "            title=\"Convert this dataframe to an interactive table.\"\n",
              "            style=\"display:none;\">\n",
              "\n",
              "  <svg xmlns=\"http://www.w3.org/2000/svg\" height=\"24px\" viewBox=\"0 -960 960 960\">\n",
              "    <path d=\"M120-120v-720h720v720H120Zm60-500h600v-160H180v160Zm220 220h160v-160H400v160Zm0 220h160v-160H400v160ZM180-400h160v-160H180v160Zm440 0h160v-160H620v160ZM180-180h160v-160H180v160Zm440 0h160v-160H620v160Z\"/>\n",
              "  </svg>\n",
              "    </button>\n",
              "\n",
              "  <style>\n",
              "    .colab-df-container {\n",
              "      display:flex;\n",
              "      gap: 12px;\n",
              "    }\n",
              "\n",
              "    .colab-df-convert {\n",
              "      background-color: #E8F0FE;\n",
              "      border: none;\n",
              "      border-radius: 50%;\n",
              "      cursor: pointer;\n",
              "      display: none;\n",
              "      fill: #1967D2;\n",
              "      height: 32px;\n",
              "      padding: 0 0 0 0;\n",
              "      width: 32px;\n",
              "    }\n",
              "\n",
              "    .colab-df-convert:hover {\n",
              "      background-color: #E2EBFA;\n",
              "      box-shadow: 0px 1px 2px rgba(60, 64, 67, 0.3), 0px 1px 3px 1px rgba(60, 64, 67, 0.15);\n",
              "      fill: #174EA6;\n",
              "    }\n",
              "\n",
              "    .colab-df-buttons div {\n",
              "      margin-bottom: 4px;\n",
              "    }\n",
              "\n",
              "    [theme=dark] .colab-df-convert {\n",
              "      background-color: #3B4455;\n",
              "      fill: #D2E3FC;\n",
              "    }\n",
              "\n",
              "    [theme=dark] .colab-df-convert:hover {\n",
              "      background-color: #434B5C;\n",
              "      box-shadow: 0px 1px 3px 1px rgba(0, 0, 0, 0.15);\n",
              "      filter: drop-shadow(0px 1px 2px rgba(0, 0, 0, 0.3));\n",
              "      fill: #FFFFFF;\n",
              "    }\n",
              "  </style>\n",
              "\n",
              "    <script>\n",
              "      const buttonEl =\n",
              "        document.querySelector('#df-9edb1832-b15e-407b-9b4a-6b6cc7baf113 button.colab-df-convert');\n",
              "      buttonEl.style.display =\n",
              "        google.colab.kernel.accessAllowed ? 'block' : 'none';\n",
              "\n",
              "      async function convertToInteractive(key) {\n",
              "        const element = document.querySelector('#df-9edb1832-b15e-407b-9b4a-6b6cc7baf113');\n",
              "        const dataTable =\n",
              "          await google.colab.kernel.invokeFunction('convertToInteractive',\n",
              "                                                    [key], {});\n",
              "        if (!dataTable) return;\n",
              "\n",
              "        const docLinkHtml = 'Like what you see? Visit the ' +\n",
              "          '<a target=\"_blank\" href=https://colab.research.google.com/notebooks/data_table.ipynb>data table notebook</a>'\n",
              "          + ' to learn more about interactive tables.';\n",
              "        element.innerHTML = '';\n",
              "        dataTable['output_type'] = 'display_data';\n",
              "        await google.colab.output.renderOutput(dataTable, element);\n",
              "        const docLink = document.createElement('div');\n",
              "        docLink.innerHTML = docLinkHtml;\n",
              "        element.appendChild(docLink);\n",
              "      }\n",
              "    </script>\n",
              "  </div>\n",
              "\n",
              "\n",
              "<div id=\"df-b5d98816-f4e6-4b30-b33f-671a1b8f09b8\">\n",
              "  <button class=\"colab-df-quickchart\" onclick=\"quickchart('df-b5d98816-f4e6-4b30-b33f-671a1b8f09b8')\"\n",
              "            title=\"Suggest charts\"\n",
              "            style=\"display:none;\">\n",
              "\n",
              "<svg xmlns=\"http://www.w3.org/2000/svg\" height=\"24px\"viewBox=\"0 0 24 24\"\n",
              "     width=\"24px\">\n",
              "    <g>\n",
              "        <path d=\"M19 3H5c-1.1 0-2 .9-2 2v14c0 1.1.9 2 2 2h14c1.1 0 2-.9 2-2V5c0-1.1-.9-2-2-2zM9 17H7v-7h2v7zm4 0h-2V7h2v10zm4 0h-2v-4h2v4z\"/>\n",
              "    </g>\n",
              "</svg>\n",
              "  </button>\n",
              "\n",
              "<style>\n",
              "  .colab-df-quickchart {\n",
              "      --bg-color: #E8F0FE;\n",
              "      --fill-color: #1967D2;\n",
              "      --hover-bg-color: #E2EBFA;\n",
              "      --hover-fill-color: #174EA6;\n",
              "      --disabled-fill-color: #AAA;\n",
              "      --disabled-bg-color: #DDD;\n",
              "  }\n",
              "\n",
              "  [theme=dark] .colab-df-quickchart {\n",
              "      --bg-color: #3B4455;\n",
              "      --fill-color: #D2E3FC;\n",
              "      --hover-bg-color: #434B5C;\n",
              "      --hover-fill-color: #FFFFFF;\n",
              "      --disabled-bg-color: #3B4455;\n",
              "      --disabled-fill-color: #666;\n",
              "  }\n",
              "\n",
              "  .colab-df-quickchart {\n",
              "    background-color: var(--bg-color);\n",
              "    border: none;\n",
              "    border-radius: 50%;\n",
              "    cursor: pointer;\n",
              "    display: none;\n",
              "    fill: var(--fill-color);\n",
              "    height: 32px;\n",
              "    padding: 0;\n",
              "    width: 32px;\n",
              "  }\n",
              "\n",
              "  .colab-df-quickchart:hover {\n",
              "    background-color: var(--hover-bg-color);\n",
              "    box-shadow: 0 1px 2px rgba(60, 64, 67, 0.3), 0 1px 3px 1px rgba(60, 64, 67, 0.15);\n",
              "    fill: var(--button-hover-fill-color);\n",
              "  }\n",
              "\n",
              "  .colab-df-quickchart-complete:disabled,\n",
              "  .colab-df-quickchart-complete:disabled:hover {\n",
              "    background-color: var(--disabled-bg-color);\n",
              "    fill: var(--disabled-fill-color);\n",
              "    box-shadow: none;\n",
              "  }\n",
              "\n",
              "  .colab-df-spinner {\n",
              "    border: 2px solid var(--fill-color);\n",
              "    border-color: transparent;\n",
              "    border-bottom-color: var(--fill-color);\n",
              "    animation:\n",
              "      spin 1s steps(1) infinite;\n",
              "  }\n",
              "\n",
              "  @keyframes spin {\n",
              "    0% {\n",
              "      border-color: transparent;\n",
              "      border-bottom-color: var(--fill-color);\n",
              "      border-left-color: var(--fill-color);\n",
              "    }\n",
              "    20% {\n",
              "      border-color: transparent;\n",
              "      border-left-color: var(--fill-color);\n",
              "      border-top-color: var(--fill-color);\n",
              "    }\n",
              "    30% {\n",
              "      border-color: transparent;\n",
              "      border-left-color: var(--fill-color);\n",
              "      border-top-color: var(--fill-color);\n",
              "      border-right-color: var(--fill-color);\n",
              "    }\n",
              "    40% {\n",
              "      border-color: transparent;\n",
              "      border-right-color: var(--fill-color);\n",
              "      border-top-color: var(--fill-color);\n",
              "    }\n",
              "    60% {\n",
              "      border-color: transparent;\n",
              "      border-right-color: var(--fill-color);\n",
              "    }\n",
              "    80% {\n",
              "      border-color: transparent;\n",
              "      border-right-color: var(--fill-color);\n",
              "      border-bottom-color: var(--fill-color);\n",
              "    }\n",
              "    90% {\n",
              "      border-color: transparent;\n",
              "      border-bottom-color: var(--fill-color);\n",
              "    }\n",
              "  }\n",
              "</style>\n",
              "\n",
              "  <script>\n",
              "    async function quickchart(key) {\n",
              "      const quickchartButtonEl =\n",
              "        document.querySelector('#' + key + ' button');\n",
              "      quickchartButtonEl.disabled = true;  // To prevent multiple clicks.\n",
              "      quickchartButtonEl.classList.add('colab-df-spinner');\n",
              "      try {\n",
              "        const charts = await google.colab.kernel.invokeFunction(\n",
              "            'suggestCharts', [key], {});\n",
              "      } catch (error) {\n",
              "        console.error('Error during call to suggestCharts:', error);\n",
              "      }\n",
              "      quickchartButtonEl.classList.remove('colab-df-spinner');\n",
              "      quickchartButtonEl.classList.add('colab-df-quickchart-complete');\n",
              "    }\n",
              "    (() => {\n",
              "      let quickchartButtonEl =\n",
              "        document.querySelector('#df-b5d98816-f4e6-4b30-b33f-671a1b8f09b8 button');\n",
              "      quickchartButtonEl.style.display =\n",
              "        google.colab.kernel.accessAllowed ? 'block' : 'none';\n",
              "    })();\n",
              "  </script>\n",
              "</div>\n",
              "\n",
              "    </div>\n",
              "  </div>\n"
            ],
            "application/vnd.google.colaboratory.intrinsic+json": {
              "type": "dataframe",
              "variable_name": "df",
              "summary": "{\n  \"name\": \"df\",\n  \"rows\": 15,\n  \"fields\": [\n    {\n      \"column\": \"Unnamed: 0\",\n      \"properties\": {\n        \"dtype\": \"string\",\n        \"num_unique_values\": 15,\n        \"samples\": [\n          \"J\",\n          \"L\",\n          \"A\"\n        ],\n        \"semantic_type\": \"\",\n        \"description\": \"\"\n      }\n    },\n    {\n      \"column\": \"x1\",\n      \"properties\": {\n        \"dtype\": \"number\",\n        \"std\": 2,\n        \"min\": 0,\n        \"max\": 9,\n        \"num_unique_values\": 7,\n        \"samples\": [\n          0,\n          3,\n          6\n        ],\n        \"semantic_type\": \"\",\n        \"description\": \"\"\n      }\n    },\n    {\n      \"column\": \"x2\",\n      \"properties\": {\n        \"dtype\": \"number\",\n        \"std\": 2,\n        \"min\": 1,\n        \"max\": 9,\n        \"num_unique_values\": 7,\n        \"samples\": [\n          2,\n          8,\n          5\n        ],\n        \"semantic_type\": \"\",\n        \"description\": \"\"\n      }\n    },\n    {\n      \"column\": \"x3\",\n      \"properties\": {\n        \"dtype\": \"number\",\n        \"std\": 2,\n        \"min\": 1,\n        \"max\": 9,\n        \"num_unique_values\": 8,\n        \"samples\": [\n          8,\n          3,\n          6\n        ],\n        \"semantic_type\": \"\",\n        \"description\": \"\"\n      }\n    }\n  ]\n}"
            }
          },
          "metadata": {},
          "execution_count": 4
        }
      ],
      "source": [
        "df = pd.read_csv(\"my_first_file.csv\")\n",
        "df.head(3)"
      ]
    },
    {
      "cell_type": "markdown",
      "metadata": {
        "id": "826nsjTTDELg"
      },
      "source": [
        "Видна одна явная проблема - у нас появилась колонка, которая должна быть индексом, но она стала новой колонкой, а индексы создались новые. Для решения проблемы при загрузке необходимо явно задать, какая колонка считается индексом:"
      ]
    },
    {
      "cell_type": "code",
      "execution_count": 5,
      "metadata": {
        "colab": {
          "base_uri": "https://localhost:8080/",
          "height": 143
        },
        "id": "4ro4a8XQD7NU",
        "outputId": "04772685-1eb2-4e5b-8dbd-364c132175cf",
        "_cell_id": "R0RmtTjHSek7gJfr"
      },
      "outputs": [
        {
          "output_type": "execute_result",
          "data": {
            "text/plain": [
              "   x1  x2  x3\n",
              "A   0   2   6\n",
              "B   3   8   8\n",
              "C   3   9   9"
            ],
            "text/html": [
              "\n",
              "  <div id=\"df-3d0cbfdf-4511-4c07-b696-683246d4ab48\" class=\"colab-df-container\">\n",
              "    <div>\n",
              "<style scoped>\n",
              "    .dataframe tbody tr th:only-of-type {\n",
              "        vertical-align: middle;\n",
              "    }\n",
              "\n",
              "    .dataframe tbody tr th {\n",
              "        vertical-align: top;\n",
              "    }\n",
              "\n",
              "    .dataframe thead th {\n",
              "        text-align: right;\n",
              "    }\n",
              "</style>\n",
              "<table border=\"1\" class=\"dataframe\">\n",
              "  <thead>\n",
              "    <tr style=\"text-align: right;\">\n",
              "      <th></th>\n",
              "      <th>x1</th>\n",
              "      <th>x2</th>\n",
              "      <th>x3</th>\n",
              "    </tr>\n",
              "  </thead>\n",
              "  <tbody>\n",
              "    <tr>\n",
              "      <th>A</th>\n",
              "      <td>0</td>\n",
              "      <td>2</td>\n",
              "      <td>6</td>\n",
              "    </tr>\n",
              "    <tr>\n",
              "      <th>B</th>\n",
              "      <td>3</td>\n",
              "      <td>8</td>\n",
              "      <td>8</td>\n",
              "    </tr>\n",
              "    <tr>\n",
              "      <th>C</th>\n",
              "      <td>3</td>\n",
              "      <td>9</td>\n",
              "      <td>9</td>\n",
              "    </tr>\n",
              "  </tbody>\n",
              "</table>\n",
              "</div>\n",
              "    <div class=\"colab-df-buttons\">\n",
              "\n",
              "  <div class=\"colab-df-container\">\n",
              "    <button class=\"colab-df-convert\" onclick=\"convertToInteractive('df-3d0cbfdf-4511-4c07-b696-683246d4ab48')\"\n",
              "            title=\"Convert this dataframe to an interactive table.\"\n",
              "            style=\"display:none;\">\n",
              "\n",
              "  <svg xmlns=\"http://www.w3.org/2000/svg\" height=\"24px\" viewBox=\"0 -960 960 960\">\n",
              "    <path d=\"M120-120v-720h720v720H120Zm60-500h600v-160H180v160Zm220 220h160v-160H400v160Zm0 220h160v-160H400v160ZM180-400h160v-160H180v160Zm440 0h160v-160H620v160ZM180-180h160v-160H180v160Zm440 0h160v-160H620v160Z\"/>\n",
              "  </svg>\n",
              "    </button>\n",
              "\n",
              "  <style>\n",
              "    .colab-df-container {\n",
              "      display:flex;\n",
              "      gap: 12px;\n",
              "    }\n",
              "\n",
              "    .colab-df-convert {\n",
              "      background-color: #E8F0FE;\n",
              "      border: none;\n",
              "      border-radius: 50%;\n",
              "      cursor: pointer;\n",
              "      display: none;\n",
              "      fill: #1967D2;\n",
              "      height: 32px;\n",
              "      padding: 0 0 0 0;\n",
              "      width: 32px;\n",
              "    }\n",
              "\n",
              "    .colab-df-convert:hover {\n",
              "      background-color: #E2EBFA;\n",
              "      box-shadow: 0px 1px 2px rgba(60, 64, 67, 0.3), 0px 1px 3px 1px rgba(60, 64, 67, 0.15);\n",
              "      fill: #174EA6;\n",
              "    }\n",
              "\n",
              "    .colab-df-buttons div {\n",
              "      margin-bottom: 4px;\n",
              "    }\n",
              "\n",
              "    [theme=dark] .colab-df-convert {\n",
              "      background-color: #3B4455;\n",
              "      fill: #D2E3FC;\n",
              "    }\n",
              "\n",
              "    [theme=dark] .colab-df-convert:hover {\n",
              "      background-color: #434B5C;\n",
              "      box-shadow: 0px 1px 3px 1px rgba(0, 0, 0, 0.15);\n",
              "      filter: drop-shadow(0px 1px 2px rgba(0, 0, 0, 0.3));\n",
              "      fill: #FFFFFF;\n",
              "    }\n",
              "  </style>\n",
              "\n",
              "    <script>\n",
              "      const buttonEl =\n",
              "        document.querySelector('#df-3d0cbfdf-4511-4c07-b696-683246d4ab48 button.colab-df-convert');\n",
              "      buttonEl.style.display =\n",
              "        google.colab.kernel.accessAllowed ? 'block' : 'none';\n",
              "\n",
              "      async function convertToInteractive(key) {\n",
              "        const element = document.querySelector('#df-3d0cbfdf-4511-4c07-b696-683246d4ab48');\n",
              "        const dataTable =\n",
              "          await google.colab.kernel.invokeFunction('convertToInteractive',\n",
              "                                                    [key], {});\n",
              "        if (!dataTable) return;\n",
              "\n",
              "        const docLinkHtml = 'Like what you see? Visit the ' +\n",
              "          '<a target=\"_blank\" href=https://colab.research.google.com/notebooks/data_table.ipynb>data table notebook</a>'\n",
              "          + ' to learn more about interactive tables.';\n",
              "        element.innerHTML = '';\n",
              "        dataTable['output_type'] = 'display_data';\n",
              "        await google.colab.output.renderOutput(dataTable, element);\n",
              "        const docLink = document.createElement('div');\n",
              "        docLink.innerHTML = docLinkHtml;\n",
              "        element.appendChild(docLink);\n",
              "      }\n",
              "    </script>\n",
              "  </div>\n",
              "\n",
              "\n",
              "<div id=\"df-3f23d628-1910-4ff4-abce-0f3068e060c8\">\n",
              "  <button class=\"colab-df-quickchart\" onclick=\"quickchart('df-3f23d628-1910-4ff4-abce-0f3068e060c8')\"\n",
              "            title=\"Suggest charts\"\n",
              "            style=\"display:none;\">\n",
              "\n",
              "<svg xmlns=\"http://www.w3.org/2000/svg\" height=\"24px\"viewBox=\"0 0 24 24\"\n",
              "     width=\"24px\">\n",
              "    <g>\n",
              "        <path d=\"M19 3H5c-1.1 0-2 .9-2 2v14c0 1.1.9 2 2 2h14c1.1 0 2-.9 2-2V5c0-1.1-.9-2-2-2zM9 17H7v-7h2v7zm4 0h-2V7h2v10zm4 0h-2v-4h2v4z\"/>\n",
              "    </g>\n",
              "</svg>\n",
              "  </button>\n",
              "\n",
              "<style>\n",
              "  .colab-df-quickchart {\n",
              "      --bg-color: #E8F0FE;\n",
              "      --fill-color: #1967D2;\n",
              "      --hover-bg-color: #E2EBFA;\n",
              "      --hover-fill-color: #174EA6;\n",
              "      --disabled-fill-color: #AAA;\n",
              "      --disabled-bg-color: #DDD;\n",
              "  }\n",
              "\n",
              "  [theme=dark] .colab-df-quickchart {\n",
              "      --bg-color: #3B4455;\n",
              "      --fill-color: #D2E3FC;\n",
              "      --hover-bg-color: #434B5C;\n",
              "      --hover-fill-color: #FFFFFF;\n",
              "      --disabled-bg-color: #3B4455;\n",
              "      --disabled-fill-color: #666;\n",
              "  }\n",
              "\n",
              "  .colab-df-quickchart {\n",
              "    background-color: var(--bg-color);\n",
              "    border: none;\n",
              "    border-radius: 50%;\n",
              "    cursor: pointer;\n",
              "    display: none;\n",
              "    fill: var(--fill-color);\n",
              "    height: 32px;\n",
              "    padding: 0;\n",
              "    width: 32px;\n",
              "  }\n",
              "\n",
              "  .colab-df-quickchart:hover {\n",
              "    background-color: var(--hover-bg-color);\n",
              "    box-shadow: 0 1px 2px rgba(60, 64, 67, 0.3), 0 1px 3px 1px rgba(60, 64, 67, 0.15);\n",
              "    fill: var(--button-hover-fill-color);\n",
              "  }\n",
              "\n",
              "  .colab-df-quickchart-complete:disabled,\n",
              "  .colab-df-quickchart-complete:disabled:hover {\n",
              "    background-color: var(--disabled-bg-color);\n",
              "    fill: var(--disabled-fill-color);\n",
              "    box-shadow: none;\n",
              "  }\n",
              "\n",
              "  .colab-df-spinner {\n",
              "    border: 2px solid var(--fill-color);\n",
              "    border-color: transparent;\n",
              "    border-bottom-color: var(--fill-color);\n",
              "    animation:\n",
              "      spin 1s steps(1) infinite;\n",
              "  }\n",
              "\n",
              "  @keyframes spin {\n",
              "    0% {\n",
              "      border-color: transparent;\n",
              "      border-bottom-color: var(--fill-color);\n",
              "      border-left-color: var(--fill-color);\n",
              "    }\n",
              "    20% {\n",
              "      border-color: transparent;\n",
              "      border-left-color: var(--fill-color);\n",
              "      border-top-color: var(--fill-color);\n",
              "    }\n",
              "    30% {\n",
              "      border-color: transparent;\n",
              "      border-left-color: var(--fill-color);\n",
              "      border-top-color: var(--fill-color);\n",
              "      border-right-color: var(--fill-color);\n",
              "    }\n",
              "    40% {\n",
              "      border-color: transparent;\n",
              "      border-right-color: var(--fill-color);\n",
              "      border-top-color: var(--fill-color);\n",
              "    }\n",
              "    60% {\n",
              "      border-color: transparent;\n",
              "      border-right-color: var(--fill-color);\n",
              "    }\n",
              "    80% {\n",
              "      border-color: transparent;\n",
              "      border-right-color: var(--fill-color);\n",
              "      border-bottom-color: var(--fill-color);\n",
              "    }\n",
              "    90% {\n",
              "      border-color: transparent;\n",
              "      border-bottom-color: var(--fill-color);\n",
              "    }\n",
              "  }\n",
              "</style>\n",
              "\n",
              "  <script>\n",
              "    async function quickchart(key) {\n",
              "      const quickchartButtonEl =\n",
              "        document.querySelector('#' + key + ' button');\n",
              "      quickchartButtonEl.disabled = true;  // To prevent multiple clicks.\n",
              "      quickchartButtonEl.classList.add('colab-df-spinner');\n",
              "      try {\n",
              "        const charts = await google.colab.kernel.invokeFunction(\n",
              "            'suggestCharts', [key], {});\n",
              "      } catch (error) {\n",
              "        console.error('Error during call to suggestCharts:', error);\n",
              "      }\n",
              "      quickchartButtonEl.classList.remove('colab-df-spinner');\n",
              "      quickchartButtonEl.classList.add('colab-df-quickchart-complete');\n",
              "    }\n",
              "    (() => {\n",
              "      let quickchartButtonEl =\n",
              "        document.querySelector('#df-3f23d628-1910-4ff4-abce-0f3068e060c8 button');\n",
              "      quickchartButtonEl.style.display =\n",
              "        google.colab.kernel.accessAllowed ? 'block' : 'none';\n",
              "    })();\n",
              "  </script>\n",
              "</div>\n",
              "\n",
              "    </div>\n",
              "  </div>\n"
            ],
            "application/vnd.google.colaboratory.intrinsic+json": {
              "type": "dataframe",
              "variable_name": "df",
              "summary": "{\n  \"name\": \"df\",\n  \"rows\": 15,\n  \"fields\": [\n    {\n      \"column\": \"x1\",\n      \"properties\": {\n        \"dtype\": \"number\",\n        \"std\": 2,\n        \"min\": 0,\n        \"max\": 9,\n        \"num_unique_values\": 7,\n        \"samples\": [\n          0,\n          3,\n          6\n        ],\n        \"semantic_type\": \"\",\n        \"description\": \"\"\n      }\n    },\n    {\n      \"column\": \"x2\",\n      \"properties\": {\n        \"dtype\": \"number\",\n        \"std\": 2,\n        \"min\": 1,\n        \"max\": 9,\n        \"num_unique_values\": 7,\n        \"samples\": [\n          2,\n          8,\n          5\n        ],\n        \"semantic_type\": \"\",\n        \"description\": \"\"\n      }\n    },\n    {\n      \"column\": \"x3\",\n      \"properties\": {\n        \"dtype\": \"number\",\n        \"std\": 2,\n        \"min\": 1,\n        \"max\": 9,\n        \"num_unique_values\": 8,\n        \"samples\": [\n          8,\n          3,\n          6\n        ],\n        \"semantic_type\": \"\",\n        \"description\": \"\"\n      }\n    }\n  ]\n}"
            }
          },
          "metadata": {},
          "execution_count": 5
        }
      ],
      "source": [
        "df = pd.read_csv(\"my_first_file.csv\", index_col=0)\n",
        "df.head(3)"
      ]
    },
    {
      "cell_type": "markdown",
      "metadata": {
        "id": "VvNbDFPlD-kK"
      },
      "source": [
        "Теперь все отлично, и данные загрузились."
      ]
    },
    {
      "cell_type": "markdown",
      "metadata": {
        "id": "iji4lnn2DRrF"
      },
      "source": [
        "### Задание - чуток самостоятельного разбора\n",
        "\n",
        "Разберитесь в аргументах `DataFrame.to_csv()` и сохраните данные в файл так, чтобы индекс в файл не сохранялся."
      ]
    },
    {
      "cell_type": "code",
      "execution_count": 6,
      "metadata": {
        "id": "QmxqqhksDdZz",
        "_cell_id": "yoyKMNprzbIagekG"
      },
      "outputs": [],
      "source": [
        "df = pd.DataFrame(\n",
        "    data=np.random.randint(0, 10, size=(15, 3)),\n",
        "    columns=[\"x1\", \"x2\", \"x3\"],\n",
        "    index=list(string.ascii_uppercase)[:15]\n",
        ")\n",
        "df.head(3)\n",
        "\n",
        "import pandas as pd\n",
        "import numpy as np\n",
        "import string\n",
        "\n",
        "df = pd.DataFrame(\n",
        "    data=np.random.randint(0, 10, size=(15, 3)),\n",
        "    columns=[\"x1\", \"x2\", \"x3\"],\n",
        "    index=list(string.ascii_uppercase)[:15]\n",
        ")\n",
        "\n",
        "df.to_csv(\"no_index.csv\", index=False)\n"
      ]
    },
    {
      "cell_type": "markdown",
      "metadata": {
        "id": "irt2kdlT1Y5g"
      },
      "source": [
        "## Задачки"
      ]
    },
    {
      "cell_type": "markdown",
      "metadata": {
        "id": "ia4T__g3U7JG"
      },
      "source": [
        "Создайте фрейм с четыремя колонками:\n",
        "- колонка с именами (тип - объекты);\n",
        "- колонка с стажем работы (тип - вещественный);\n",
        "- колонка с возрастом (тип - целочисленный);\n",
        "- колонка с названием любимого цвета (тип - категориальный).\n",
        "\n",
        "Имена колонок и значения любые, не менее трех записей (строк) в фрейме."
      ]
    },
    {
      "cell_type": "code",
      "execution_count": 7,
      "metadata": {
        "id": "gjI5Zey31Ntq",
        "_cell_id": "6tMlQi2Vyz10qieF",
        "outputId": "31c31e4c-3c23-420a-e8df-d4a766d40664",
        "colab": {
          "base_uri": "https://localhost:8080/"
        }
      },
      "outputs": [
        {
          "output_type": "stream",
          "name": "stdout",
          "text": [
            "<class 'pandas.core.frame.DataFrame'>\n",
            "RangeIndex: 3 entries, 0 to 2\n",
            "Data columns (total 4 columns):\n",
            " #   Column        Non-Null Count  Dtype   \n",
            "---  ------        --------------  -----   \n",
            " 0   Имя           3 non-null      object  \n",
            " 1   Стаж          3 non-null      float64 \n",
            " 2   Возраст       3 non-null      int64   \n",
            " 3   Любимый цвет  3 non-null      category\n",
            "dtypes: category(1), float64(1), int64(1), object(1)\n",
            "memory usage: 335.0+ bytes\n",
            "None\n"
          ]
        }
      ],
      "source": [
        "\n",
        "import pandas as pd\n",
        "\n",
        "data = {\n",
        "    \"Имя\": [\"Иван\", \"Мария\", \"Петр\"],\n",
        "    \"Стаж\": [2.5, 5.0, 1.8],\n",
        "    \"Возраст\": [28, 35, 24],\n",
        "    \"Любимый цвет\": [\"Синий\", \"Красный\", \"Зеленый\"]\n",
        "}\n",
        "\n",
        "df = pd.DataFrame(data)\n",
        "df[\"Стаж\"] = df[\"Стаж\"].astype(float)\n",
        "df[\"Возраст\"] = df[\"Возраст\"].astype(int)\n",
        "df[\"Любимый цвет\"] = df[\"Любимый цвет\"].astype(\"category\")\n",
        "\n",
        "print(df.info())\n"
      ]
    },
    {
      "cell_type": "markdown",
      "metadata": {
        "id": "Mq_Iapt6Wuzq"
      },
      "source": [
        "Выберите числа в ряду `ds1`, которых нет в ряду `ds2`:\n",
        "\n",
        "> Почитайте и примение метод `Series.isin()`"
      ]
    },
    {
      "cell_type": "code",
      "execution_count": 8,
      "metadata": {
        "_cell_id": "fJeJfFPpFiWN76yo",
        "id": "N44D2VXWZbCV",
        "outputId": "2c23a560-d5b1-40d1-f1f7-4bb1e245b0a6",
        "colab": {
          "base_uri": "https://localhost:8080/"
        }
      },
      "outputs": [
        {
          "output_type": "stream",
          "name": "stdout",
          "text": [
            "1    2\n",
            "2    3\n",
            "dtype: int64\n"
          ]
        }
      ],
      "source": [
        "ds1 = pd.Series([1, 2, 3, 4, 5])\n",
        "ds2 = pd.Series([4, 5, 6, 7, 8, 1, 9])\n",
        "\n",
        "import pandas as pd\n",
        "\n",
        "ds1 = pd.Series([1, 2, 3, 4, 5])\n",
        "ds2 = pd.Series([4, 5, 6, 7, 8, 1, 9])\n",
        "\n",
        "result = ds1[~ds1.isin(ds2)]\n",
        "\n",
        "print(result)\n"
      ]
    },
    {
      "cell_type": "markdown",
      "metadata": {
        "id": "zpEVG3hjZGfS"
      },
      "source": [
        "Оставьте в ряду два наиболее частых значения, остальные замените значением \"Другое\":\n",
        "\n",
        "<details>\n",
        "<summary>Подсказка 1</summary>\n",
        "\n",
        "Для определения наиболее частых значений воспользуйтесь методом `Series.value_counts()`\n",
        "</details>\n",
        "\n",
        "<details>\n",
        "<summary>Подсказка 2</summary>\n",
        "\n",
        "Чтобы получить наиболее частые значения можно воспользоваться результатом `Series.value_counts()` - атрибутом `Series.index`\n",
        "</details>\n",
        "\n",
        "<details>\n",
        "<summary>Подсказка 3</summary>\n",
        "\n",
        "Получив наиболее частые значения, можно индексировать другие через маску метода `Series.isin()`\n",
        "</details>\n"
      ]
    },
    {
      "cell_type": "code",
      "execution_count": 9,
      "metadata": {
        "id": "6hexIuIsYw-D",
        "_cell_id": "Zyl0irwhAIxs24Fe",
        "outputId": "50acb070-1e21-4bbd-fec6-32804aeb3e31",
        "colab": {
          "base_uri": "https://localhost:8080/"
        }
      },
      "outputs": [
        {
          "output_type": "stream",
          "name": "stdout",
          "text": [
            "0     Другое\n",
            "1     Другое\n",
            "2     Другое\n",
            "3          4\n",
            "4          4\n",
            "5          4\n",
            "6     Другое\n",
            "7          1\n",
            "8          1\n",
            "9          1\n",
            "10         1\n",
            "11         4\n",
            "dtype: object\n"
          ]
        }
      ],
      "source": [
        "ds = pd.Series([2, 2, 2, 4, 4, 4, 3, 1, 1, 1, 1, 4])\n",
        "\n",
        "import pandas as pd\n",
        "\n",
        "ds = pd.Series([2, 2, 2, 4, 4, 4, 3, 1, 1, 1, 1, 4])\n",
        "\n",
        "top_two = ds.value_counts().index[:2]\n",
        "\n",
        "ds = ds.where(ds.isin(top_two), \"Другое\")\n",
        "\n",
        "print(ds)\n"
      ]
    },
    {
      "cell_type": "markdown",
      "metadata": {
        "id": "oz2HQvOcb5SN"
      },
      "source": [
        "Сделайте каждую первую букву в словах ряда заглавной:"
      ]
    },
    {
      "cell_type": "code",
      "execution_count": 10,
      "metadata": {
        "_cell_id": "Z0ZLYaIRtZrsXJVV",
        "id": "WY1weCCPZbCV",
        "outputId": "26077782-c187-40fa-af5f-99575ffa8556",
        "colab": {
          "base_uri": "https://localhost:8080/"
        }
      },
      "outputs": [
        {
          "output_type": "stream",
          "name": "stdout",
          "text": [
            "0        How\n",
            "1         To\n",
            "2        Use\n",
            "3    Pandas?\n",
            "dtype: object\n"
          ]
        }
      ],
      "source": [
        "ds = pd.Series([\"how\", \"to\", \"use\", \"pandas?\"])\n",
        "\n",
        "import pandas as pd\n",
        "\n",
        "ds = pd.Series([\"how\", \"to\", \"use\", \"pandas?\"])\n",
        "\n",
        "ds = ds.apply(lambda x: x.capitalize())\n",
        "\n",
        "print(ds)\n"
      ]
    },
    {
      "cell_type": "markdown",
      "metadata": {
        "id": "DMVceUcqd9RF"
      },
      "source": [
        "Выберите записи с максимальным значением по колонке `x1`:"
      ]
    },
    {
      "cell_type": "code",
      "execution_count": 11,
      "metadata": {
        "_cell_id": "u2nT6Ibsi3B5kbJx",
        "id": "K5E8RNHQZbCV",
        "outputId": "cd939371-f072-42c9-a317-fef95b05ec73",
        "colab": {
          "base_uri": "https://localhost:8080/"
        }
      },
      "outputs": [
        {
          "output_type": "stream",
          "name": "stdout",
          "text": [
            "    x1  x2  x3\n",
            "0    2   3   0\n",
            "1    3   0   1\n",
            "2    2   3   0\n",
            "3    2   0   0\n",
            "4    2   0   1\n",
            "5    3   2   0\n",
            "6    2   2   2\n",
            "7    2   3   0\n",
            "8    2   2   2\n",
            "9    3   0   2\n",
            "10   0   1   3\n",
            "11   3   3   0\n",
            "12   1   1   3\n",
            "13   0   3   1\n",
            "14   3   2   3\n",
            "\n",
            "Записи с максимальным значением по колонке x1:\n",
            "    x1  x2  x3\n",
            "1    3   0   1\n",
            "5    3   2   0\n",
            "9    3   0   2\n",
            "11   3   3   0\n",
            "14   3   2   3\n"
          ]
        }
      ],
      "source": [
        "df = pd.DataFrame(\n",
        "    np.random.randint(0, 4, size=(15, 3)),\n",
        "    columns=[\"x1\", \"x2\", \"x3\"]\n",
        ")\n",
        "\n",
        "import pandas as pd\n",
        "import numpy as np\n",
        "\n",
        "df = pd.DataFrame(\n",
        "    np.random.randint(0, 4, size=(15, 3)),\n",
        "    columns=[\"x1\", \"x2\", \"x3\"]\n",
        ")\n",
        "\n",
        "max_x1 = df[\"x1\"].max()\n",
        "filtered_df = df[df[\"x1\"] == max_x1]\n",
        "\n",
        "print(df)\n",
        "print(\"\\nЗаписи с максимальным значением по колонке x1:\")\n",
        "print(filtered_df)\n"
      ]
    },
    {
      "cell_type": "markdown",
      "metadata": {
        "id": "Ct6PN4nCeqOA"
      },
      "source": [
        "Выведите количество пропусков в каждой колонке данных:"
      ]
    },
    {
      "cell_type": "code",
      "execution_count": 12,
      "metadata": {
        "_cell_id": "Knvzp5bAgjj0djGA",
        "id": "hH5_OsVzZbCV",
        "outputId": "c4d7a3d2-57a1-443b-bcf4-c236d91c3ea6",
        "colab": {
          "base_uri": "https://localhost:8080/"
        }
      },
      "outputs": [
        {
          "output_type": "stream",
          "name": "stdout",
          "text": [
            "Manufacturer           4\n",
            "Model                  1\n",
            "Type                   3\n",
            "Min.Price              7\n",
            "Price                  2\n",
            "Max.Price              5\n",
            "MPG.city               9\n",
            "MPG.highway            2\n",
            "AirBags               38\n",
            "DriveTrain             7\n",
            "Cylinders              5\n",
            "EngineSize             2\n",
            "Horsepower             7\n",
            "RPM                    3\n",
            "Rev.per.mile           6\n",
            "Man.trans.avail        5\n",
            "Fuel.tank.capacity     8\n",
            "Passengers             2\n",
            "Length                 4\n",
            "Wheelbase              1\n",
            "Width                  6\n",
            "Turn.circle            5\n",
            "Rear.seat.room         4\n",
            "Luggage.room          19\n",
            "Weight                 7\n",
            "Origin                 5\n",
            "Make                   3\n",
            "dtype: int64\n"
          ]
        }
      ],
      "source": [
        "df = pd.read_csv(\"https://raw.githubusercontent.com/AleksDevEdu/ml_edu/master/datasets/Cars93_miss.csv\")\n",
        "\n",
        "import pandas as pd\n",
        "\n",
        "df = pd.read_csv(\"https://raw.githubusercontent.com/AleksDevEdu/ml_edu/master/datasets/Cars93_miss.csv\")\n",
        "\n",
        "print(df.isnull().sum())\n"
      ]
    },
    {
      "cell_type": "markdown",
      "metadata": {
        "id": "suuzAbGzhlX1"
      },
      "source": [
        "Замените пропущенные значения в колонке `Min.Price` средним значениям по этой колонке:"
      ]
    },
    {
      "cell_type": "code",
      "execution_count": 13,
      "metadata": {
        "id": "JVSvCfgThTh3",
        "_cell_id": "xmxQbvZenje3a141",
        "outputId": "ae79f9b6-70a9-45b3-dd76-5eafb1b9bf46",
        "colab": {
          "base_uri": "https://localhost:8080/"
        }
      },
      "outputs": [
        {
          "output_type": "stream",
          "name": "stdout",
          "text": [
            "0\n"
          ]
        },
        {
          "output_type": "stream",
          "name": "stderr",
          "text": [
            "<ipython-input-13-b2f28a44845f>:9: FutureWarning: A value is trying to be set on a copy of a DataFrame or Series through chained assignment using an inplace method.\n",
            "The behavior will change in pandas 3.0. This inplace method will never work because the intermediate object on which we are setting values always behaves as a copy.\n",
            "\n",
            "For example, when doing 'df[col].method(value, inplace=True)', try using 'df.method({col: value}, inplace=True)' or df[col] = df[col].method(value) instead, to perform the operation inplace on the original object.\n",
            "\n",
            "\n",
            "  df[\"Min.Price\"].fillna(mean_min_price, inplace=True)\n"
          ]
        }
      ],
      "source": [
        "df = pd.read_csv(\"https://raw.githubusercontent.com/AleksDevEdu/ml_edu/master/datasets/Cars93_miss.csv\")\n",
        "\n",
        "import pandas as pd\n",
        "\n",
        "df = pd.read_csv(\"https://raw.githubusercontent.com/AleksDevEdu/ml_edu/master/datasets/Cars93_miss.csv\")\n",
        "\n",
        "\n",
        "mean_min_price = df[\"Min.Price\"].mean()\n",
        "df[\"Min.Price\"].fillna(mean_min_price, inplace=True)\n",
        "\n",
        "print(df[\"Min.Price\"].isnull().sum()) # Должно вывести 0\n"
      ]
    },
    {
      "cell_type": "markdown",
      "metadata": {
        "id": "FMmDLiwxg3W1"
      },
      "source": [
        "Отсортируйте и выведите фрейм с колонками в алфавитном порядке:"
      ]
    },
    {
      "cell_type": "code",
      "execution_count": 14,
      "metadata": {
        "id": "0rcW6H5qf70T",
        "_cell_id": "5yJOL2yL9XuoTfDx",
        "outputId": "035d2de1-5193-4bbe-a2c4-99c906b88582",
        "colab": {
          "base_uri": "https://localhost:8080/"
        }
      },
      "outputs": [
        {
          "output_type": "stream",
          "name": "stdout",
          "text": [
            "   a  b  c  d  e  f\n",
            "0  3  8  1  4  7  0\n",
            "1  4  0  8  7  9  3\n",
            "2  2  3  3  4  1  0\n",
            "3  8  9  6  3  7  8\n",
            "4  7  1  7  8  4  2\n"
          ]
        }
      ],
      "source": [
        "df = pd.DataFrame(np.random.randint(0, 10, size=(5, 6)), columns=list(\"fbecda\"))\n",
        "\n",
        "import pandas as pd\n",
        "import numpy as np\n",
        "\n",
        "df = pd.DataFrame(np.random.randint(0, 10, size=(5, 6)), columns=list(\"fbecda\"))\n",
        "\n",
        "df = df.reindex(sorted(df.columns), axis=1)\n",
        "\n",
        "print(df)\n"
      ]
    },
    {
      "cell_type": "markdown",
      "metadata": {
        "id": "sRobyGHAjlRm"
      },
      "source": [
        "Отобразите каждую тринадцатую запись во фрейме и только колонки `Manufacturer`, `Model`, `Type`:"
      ]
    },
    {
      "cell_type": "code",
      "execution_count": 15,
      "metadata": {
        "id": "kNNS2B5ai9GU",
        "_cell_id": "0F7WwivL2hJ7NQ8E",
        "outputId": "f89c7f0e-9423-4202-a2f2-e9694e00880d",
        "colab": {
          "base_uri": "https://localhost:8080/"
        }
      },
      "outputs": [
        {
          "output_type": "stream",
          "name": "stdout",
          "text": [
            "   Manufacturer    Model     Type\n",
            "0         Acura  Integra    Small\n",
            "13    Chevrolet   Camaro   Sporty\n",
            "26        Dodge  Dynasty  Midsize\n",
            "39          Geo    Storm   Sporty\n",
            "52        Mazda      323    Small\n",
            "65       Nissan    Quest      Van\n",
            "78       Saturn       SL    Small\n",
            "91        Volvo      240  Compact\n"
          ]
        }
      ],
      "source": [
        "df = pd.read_csv(\"https://raw.githubusercontent.com/AleksDevEdu/ml_edu/master/datasets/Cars93_miss.csv\")\n",
        "\n",
        "import pandas as pd\n",
        "\n",
        "df = pd.read_csv(\"https://raw.githubusercontent.com/AleksDevEdu/ml_edu/master/datasets/Cars93_miss.csv\")\n",
        "\n",
        "df_subset = df.iloc[::13][[\"Manufacturer\", \"Model\", \"Type\"]]\n",
        "print(df_subset)\n"
      ]
    },
    {
      "cell_type": "markdown",
      "metadata": {
        "id": "im7s33LdkZPq"
      },
      "source": [
        "Получите ряд, который содержит длины строк:"
      ]
    },
    {
      "cell_type": "code",
      "execution_count": 16,
      "metadata": {
        "id": "WKREEgzYj9Dv",
        "_cell_id": "K1ksyOI7TGlXEWVF",
        "outputId": "0ac5758f-e54c-47df-a78a-3e7f3d966e83",
        "colab": {
          "base_uri": "https://localhost:8080/"
        }
      },
      "outputs": [
        {
          "output_type": "stream",
          "name": "stdout",
          "text": [
            "0    3\n",
            "1    2\n",
            "2    3\n",
            "3    7\n",
            "dtype: int64\n"
          ]
        }
      ],
      "source": [
        "ds = pd.Series([\"how\", \"to\", \"use\", \"pandas?\"])\n",
        "\n",
        "import pandas as pd\n",
        "\n",
        "ds = pd.Series([\"how\", \"to\", \"use\", \"pandas?\"])\n",
        "\n",
        "ds_lengths = ds.apply(len)\n",
        "\n",
        "print(ds_lengths)\n"
      ]
    }
  ],
  "metadata": {
    "colab": {
      "name": "Pr03_Pandas.ipynb",
      "provenance": [],
      "toc_visible": true,
      "include_colab_link": true
    },
    "kernelspec": {
      "display_name": "Python 3.8.10 ('.venv': poetry)",
      "language": "python",
      "name": "python3"
    },
    "language_info": {
      "codemirror_mode": {
        "name": "ipython",
        "version": 3
      },
      "file_extension": ".py",
      "mimetype": "text/x-python",
      "name": "python",
      "nbconvert_exporter": "python",
      "pygments_lexer": "ipython3",
      "version": "3.10.15"
    },
    "vscode": {
      "interpreter": {
        "hash": "5ef4d00d2bd0c756646408250b3e0222db1655439c25a4f11279476b8286db07"
      }
    }
  },
  "nbformat": 4,
  "nbformat_minor": 0
}