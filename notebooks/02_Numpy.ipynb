{
  "cells": [
    {
      "cell_type": "markdown",
      "metadata": {
        "id": "view-in-github",
        "colab_type": "text"
      },
      "source": [
        "<a href=\"https://colab.research.google.com/github/Ulugbek9403/ml_edu/blob/master/notebooks/02_Numpy.ipynb\" target=\"_parent\"><img src=\"https://colab.research.google.com/assets/colab-badge.svg\" alt=\"Open In Colab\"/></a>"
      ]
    },
    {
      "cell_type": "markdown",
      "metadata": {
        "id": "-JUOp2KEdHTn"
      },
      "source": [
        "# Numpy (Часть 1)\n"
      ]
    },
    {
      "cell_type": "markdown",
      "source": [
        "> 🚀 В этой практике нам понадобятся: `numpy==1.26.4`\n",
        "\n",
        "> 🚀 Установить вы их можете с помощью команды: `%pip install numpy==1.26.4`\n"
      ],
      "metadata": {
        "id": "i1XdiyEF416g"
      }
    },
    {
      "cell_type": "markdown",
      "source": [
        "## Содержание\n",
        "\n",
        "* [Создание массивов](#Создание-массивов)\n",
        "* [Удобная индексация в одномерных массивах <a name=\"index\"></a>](#Удобная-индексация-в-одномерных-массивах-<a-name=index></a>)\n",
        "  * [Задание - подумаем](#Задание---подумаем)\n",
        "  * [Задание - учимся обращать](#Задание---учимся-обращать)\n",
        "  * [Задание - подмассив](#Задание---подмассив)\n",
        "* [Удобная индексация в матрицах <a name=\"mat_index\"></a>](#Удобная-индексация-в-матрицах-<a-name=mat_index></a>)\n",
        "  * [Задание - еще больше срезаем](#Задание---еще-больше-срезаем)\n",
        "  * [Задание - кручу-верчу - запутать хочу](#Задание---кручу-верчу---запутать-хочу)\n",
        "* [Типы данных в массивах](#Типы-данных-в-массивах)\n"
      ],
      "metadata": {
        "id": "pwNDXCQ9416h"
      }
    },
    {
      "cell_type": "markdown",
      "metadata": {
        "id": "SucvuiPw416h"
      },
      "source": [
        "В этом ноутбуке:\n",
        "- Как работать с массивами\n",
        "- Удобная индексация для массивов (срезы \"[ : ]\")\n",
        "- Типы данных в массивах"
      ]
    },
    {
      "cell_type": "markdown",
      "metadata": {
        "id": "oTtiG3HMz-Rt"
      },
      "source": [
        "Numpy - это библиотека для математических вычислений. Написана на языке С, поэтому считается наиболее предпочтительным вариантом при работе с многомерными **массивами** из-за производительности.\n",
        "\n",
        "<img src=\"https://raw.githubusercontent.com/AleksDevEdu/ml_edu/master/assets/logo/np-logo.svg\" height=\"150px\"></img>\n",
        "\n",
        "**Numpy ≡ Массивы с математикой**\n",
        "\n",
        "\n",
        "[Официальный сайт](https://numpy.org/doc/stable/) последней стабильной версии.\n",
        "\n",
        "Начало работы с `numpy` заключается в подключении модуля. При этом в практике применения есть уже общепринятое сокращение для него под названием `np`:"
      ]
    },
    {
      "cell_type": "code",
      "execution_count": 1,
      "metadata": {
        "id": "2HARN7afZ1Fk",
        "_cell_id": "eRqhqWJYAXeRpzds"
      },
      "outputs": [],
      "source": [
        "import numpy as np"
      ]
    },
    {
      "cell_type": "markdown",
      "metadata": {
        "id": "81-wHdEbg-qI"
      },
      "source": [
        "> Если вы ранее работали с MATLAB, обратите внимание, как некоторые подходы и функции схожи."
      ]
    },
    {
      "cell_type": "markdown",
      "metadata": {
        "id": "woHgRbgPZ99s"
      },
      "source": [
        "## Создание массивов"
      ]
    },
    {
      "cell_type": "markdown",
      "metadata": {
        "id": "DVVfQ6DwaBUH"
      },
      "source": [
        "Для того, чтобы начать работать с `NumPy`, мы должны научиться создавать объекты `ndarray` (n+dimensional+array), которые по сути являются N-мерными массивами"
      ]
    },
    {
      "cell_type": "code",
      "execution_count": 2,
      "metadata": {
        "id": "kQqPek1xZ2y7",
        "_cell_id": "3mOjAqnJcXKV5NDk"
      },
      "outputs": [],
      "source": [
        "# Самый просто способ создать массив numpy - взять уже существующий list и передать в функцию np.array()\n",
        "# Тип создаваемого объекта - ndarray\n",
        "arr_1d = np.array([1, 2, 3])"
      ]
    },
    {
      "cell_type": "code",
      "execution_count": 3,
      "metadata": {
        "colab": {
          "base_uri": "https://localhost:8080/"
        },
        "id": "7thycVOKbCJ7",
        "outputId": "58a2a6da-c40e-4dcb-ad37-87114c8ded76",
        "_cell_id": "0MEgr0VrZz1FB6D0"
      },
      "outputs": [
        {
          "output_type": "stream",
          "name": "stdout",
          "text": [
            "[1 2 3]\n",
            "<class 'numpy.ndarray'>\n",
            "(3,)\n",
            "1\n",
            "3\n",
            "3\n"
          ]
        }
      ],
      "source": [
        "# Теперь проверим\n",
        "#   - тип объекта c помощью функции type()\n",
        "#   - размерность с помощью аттрибута .shape\n",
        "#   - доступ по индексам, как у обычного list\n",
        "\n",
        "# Для отладки можно выводить небольшие массивы прямо через print()\n",
        "\n",
        "print(arr_1d)\n",
        "print(type(arr_1d))\n",
        "print(arr_1d.shape)\n",
        "print(arr_1d[0])\n",
        "print(arr_1d[2])\n",
        "print(arr_1d[-1])"
      ]
    },
    {
      "cell_type": "markdown",
      "metadata": {
        "id": "90qAyGF8bLLs"
      },
      "source": [
        "> Обратите внимание, индекс с отрицательным значением означает индексацию с конца. Это возможность языка Python. В данном случае индекс -1 ~ 2, так как 2 - последний индекс в массиве из трёх элементов. Аналогично, если хотите взять второй элемент с конца, то можете использовать индекс -2 и т.д."
      ]
    },
    {
      "cell_type": "markdown",
      "metadata": {
        "id": "GlDZi0V_bijd"
      },
      "source": [
        "Как видите, объект имеет тип `np.ndarray`, таким образом описываются все массивы при работе с numpy. Размерность представляет собой кортеж с одним элементом (создали 1D массив ~ массив первого ранга в терминах numpy)."
      ]
    },
    {
      "cell_type": "code",
      "execution_count": 4,
      "metadata": {
        "id": "WfMA2hmgcPFH",
        "_cell_id": "6qgOFb8cHqbIiU4n"
      },
      "outputs": [],
      "source": [
        "# Теперь создадим двумерный массив с помощью тех же list\n",
        "arr_2d = np.array([[1, 2, 3], [4, 5, 6]])"
      ]
    },
    {
      "cell_type": "code",
      "execution_count": 5,
      "metadata": {
        "colab": {
          "base_uri": "https://localhost:8080/"
        },
        "id": "ljaLlNS2cdvd",
        "outputId": "67b37005-7425-48f6-b34a-375d0ceb4d5f",
        "_cell_id": "jKs4DjKg0FZmaqme"
      },
      "outputs": [
        {
          "output_type": "stream",
          "name": "stdout",
          "text": [
            "[[1 2 3]\n",
            " [4 5 6]]\n",
            "<class 'numpy.ndarray'>\n",
            "(2, 3)\n",
            "1\n",
            "6\n",
            "4\n"
          ]
        }
      ],
      "source": [
        "# Проверим также тип, размерность и доступ по индексам\n",
        "\n",
        "print(arr_2d)\n",
        "print(type(arr_2d))\n",
        "print(arr_2d.shape)\n",
        "print(arr_2d[0, 0])\n",
        "print(arr_2d[1, 2])\n",
        "print(arr_2d[1, 0])"
      ]
    },
    {
      "cell_type": "markdown",
      "metadata": {
        "id": "wQKPgHh7cOlh"
      },
      "source": [
        "Теперь видно, что в кортеже размерности стало два элемента, при этом тип объекта никак не поменялся.\n",
        "\n",
        "Индексация в 2D массиве делается уже посредством двух индексов:\n",
        "- первый индекс - номер ряда (строки);\n",
        "- второй индекс - номер колонки (столбца).\n",
        "\n",
        "> В 1D массивах вообще никаких вопросов не возникает, в 2D (ряд, колонка), если разворачивать до 3D массивов, то можно интерпретировать как (ряд, колонка, глубина). Дальнейшие размерности уже сложнее в визуальной интерпретации, поэтому вместо названий для каждой размерности идет просто индексация."
      ]
    },
    {
      "cell_type": "markdown",
      "metadata": {
        "id": "zeUwMz9aem4U"
      },
      "source": [
        "Помимо способов создания массивов из уже существующих представлений в виде `list`, можно также создавать массивы по-другому. Рассмотрим некоторые из них:\n"
      ]
    },
    {
      "cell_type": "code",
      "execution_count": 6,
      "metadata": {
        "colab": {
          "base_uri": "https://localhost:8080/"
        },
        "id": "W8EnLNXlf6HW",
        "outputId": "798e84d2-83fc-433f-f154-a9167c71fcee",
        "_cell_id": "emYiBpuF9MyqQW8X"
      },
      "outputs": [
        {
          "output_type": "execute_result",
          "data": {
            "text/plain": [
              "array([[1.17301242e-313, 0.00000000e+000, 6.86832059e-310],\n",
              "       [6.86832059e-310, 6.86831382e-310, 6.86831078e-310],\n",
              "       [6.86831870e-310, 6.86832059e-310, 6.86831354e-310],\n",
              "       [6.86832059e-310, 6.86832026e-310, 6.86832026e-310],\n",
              "       [6.86831077e-310, 6.86831947e-310, 6.32404027e-322]])"
            ]
          },
          "metadata": {},
          "execution_count": 6
        }
      ],
      "source": [
        "# Создание массива фиксированного размера\n",
        "np.ndarray((5, 3))"
      ]
    },
    {
      "cell_type": "markdown",
      "metadata": {
        "id": "IAHEQ5N2gUP_"
      },
      "source": [
        "В представленном способе мы напрямую вызываем конструктор и передаем ему размерность. Какими числами будет заполнен массив - никто не знает. Вероятнее всего, это будут нули, но для уверенности лучше самостоятельно заполнить такой массив данными."
      ]
    },
    {
      "cell_type": "code",
      "execution_count": 7,
      "metadata": {
        "colab": {
          "base_uri": "https://localhost:8080/"
        },
        "id": "U4fnZoDMgJc6",
        "outputId": "9909932b-ee87-4e6e-a6d1-2dd445a5be0b",
        "_cell_id": "3sYrTHQPVXXgkzwg"
      },
      "outputs": [
        {
          "output_type": "execute_result",
          "data": {
            "text/plain": [
              "array([[0., 0., 0.],\n",
              "       [0., 0., 0.]])"
            ]
          },
          "metadata": {},
          "execution_count": 7
        }
      ],
      "source": [
        "# Явное создание массива нулей\n",
        "np.zeros((2, 3))"
      ]
    },
    {
      "cell_type": "code",
      "execution_count": 8,
      "metadata": {
        "colab": {
          "base_uri": "https://localhost:8080/"
        },
        "id": "AaJSBHSdgtCY",
        "outputId": "d3dda5ad-f584-42ce-8505-bfe7d9df6508",
        "_cell_id": "LBY02bChBOrbCYNx"
      },
      "outputs": [
        {
          "output_type": "execute_result",
          "data": {
            "text/plain": [
              "array([[1., 1.],\n",
              "       [1., 1.],\n",
              "       [1., 1.]])"
            ]
          },
          "metadata": {},
          "execution_count": 8
        }
      ],
      "source": [
        "# Явное создание массива единиц\n",
        "np.ones((3, 2))"
      ]
    },
    {
      "cell_type": "code",
      "execution_count": 9,
      "metadata": {
        "colab": {
          "base_uri": "https://localhost:8080/"
        },
        "id": "8_elMSoK7wQL",
        "outputId": "1f0ac939-9fdb-408c-8a6e-a2d3f0bdc9d8",
        "_cell_id": "mGwjOLEsRCbRfWmo"
      },
      "outputs": [
        {
          "output_type": "execute_result",
          "data": {
            "text/plain": [
              "array([[5, 5, 5, 5],\n",
              "       [5, 5, 5, 5],\n",
              "       [5, 5, 5, 5]])"
            ]
          },
          "metadata": {},
          "execution_count": 9
        }
      ],
      "source": [
        "# Создание массива, заполненного константным значением\n",
        "np.full((3, 4), 5)"
      ]
    },
    {
      "cell_type": "code",
      "execution_count": 10,
      "metadata": {
        "colab": {
          "base_uri": "https://localhost:8080/"
        },
        "id": "iNN2C908gwUB",
        "outputId": "79580fa0-0fe8-4363-a002-aebe23a2ab87",
        "_cell_id": "uDgdXNVSdes92eP9"
      },
      "outputs": [
        {
          "output_type": "execute_result",
          "data": {
            "text/plain": [
              "array([[1., 0.],\n",
              "       [0., 1.],\n",
              "       [0., 0.]])"
            ]
          },
          "metadata": {},
          "execution_count": 10
        }
      ],
      "source": [
        "# 2D массив с единичной главной диагональю\n",
        "# (*) В этой функции размерность задается не кортежем, а отдельными аргументами\n",
        "np.eye(3, 2)"
      ]
    },
    {
      "cell_type": "code",
      "execution_count": 11,
      "metadata": {
        "colab": {
          "base_uri": "https://localhost:8080/"
        },
        "id": "x8cGz7nIhbbE",
        "outputId": "da09d75b-d16a-45a1-bbbd-63f42fc4740b",
        "_cell_id": "Kd7jXLMxvO6mA8R6"
      },
      "outputs": [
        {
          "output_type": "execute_result",
          "data": {
            "text/plain": [
              "array([[0, 0, 0],\n",
              "       [0, 0, 0]])"
            ]
          },
          "metadata": {},
          "execution_count": 11
        }
      ],
      "source": [
        "# Создание массива нулей с такой же размерностью, как уже существующий\n",
        "arr_2d = np.array([[1, 2, 3], [4, 5, 6]])\n",
        "\n",
        "np.zeros_like(arr_2d)"
      ]
    },
    {
      "cell_type": "code",
      "execution_count": 12,
      "metadata": {
        "colab": {
          "base_uri": "https://localhost:8080/"
        },
        "id": "BqDTBiWzhj9R",
        "outputId": "7b18f86a-ec88-499a-fa90-148e28084cc0",
        "_cell_id": "xzVLPyAgCPnHXigJ"
      },
      "outputs": [
        {
          "output_type": "execute_result",
          "data": {
            "text/plain": [
              "array([[1, 1, 1],\n",
              "       [1, 1, 1]])"
            ]
          },
          "metadata": {},
          "execution_count": 12
        }
      ],
      "source": [
        "# Создание массива единиц с такой же размерностью, как уже существующий\n",
        "arr_2d = np.array([[1, 2, 3], [4, 5, 6]])\n",
        "\n",
        "np.ones_like(arr_2d)"
      ]
    },
    {
      "cell_type": "code",
      "execution_count": 13,
      "metadata": {
        "colab": {
          "base_uri": "https://localhost:8080/"
        },
        "id": "MOqhVLYL7flG",
        "outputId": "9f754502-d891-4a6a-b1f3-dfd3daae4247",
        "_cell_id": "B7U4yq1RoHOyhgef"
      },
      "outputs": [
        {
          "output_type": "execute_result",
          "data": {
            "text/plain": [
              "array([[0.84079862, 0.94609427],\n",
              "       [0.73788751, 0.50009729]])"
            ]
          },
          "metadata": {},
          "execution_count": 13
        }
      ],
      "source": [
        "# Создание массива со случайными значениями в интервале [0; 1.0)\n",
        "np.random.random((2,2))"
      ]
    },
    {
      "cell_type": "code",
      "execution_count": 14,
      "metadata": {
        "colab": {
          "base_uri": "https://localhost:8080/"
        },
        "id": "PwWoeq26zmFm",
        "outputId": "90efa4c3-13dd-40d1-baf2-fb23884aa184",
        "_cell_id": "oWQr8c5vKcSn3CRV"
      },
      "outputs": [
        {
          "output_type": "execute_result",
          "data": {
            "text/plain": [
              "array([1. , 2.5, 4. , 5.5, 7. , 8.5])"
            ]
          },
          "metadata": {},
          "execution_count": 14
        }
      ],
      "source": [
        "# Аналог функции range\n",
        "np.arange(start=1, stop=10, step=1.5)"
      ]
    },
    {
      "cell_type": "code",
      "execution_count": 15,
      "metadata": {
        "colab": {
          "base_uri": "https://localhost:8080/"
        },
        "id": "adlhJ7Hnz-z9",
        "outputId": "f4d5b118-ed11-4c16-dff3-447b032d54a6",
        "_cell_id": "83gosctyNuShQBrA"
      },
      "outputs": [
        {
          "output_type": "execute_result",
          "data": {
            "text/plain": [
              "array([1.        , 1.11111111, 1.22222222, 1.33333333, 1.44444444,\n",
              "       1.55555556, 1.66666667, 1.77777778, 1.88888889, 2.        ])"
            ]
          },
          "metadata": {},
          "execution_count": 15
        }
      ],
      "source": [
        "# Также создание диапазона значений, но уже с заданием количества элементов\n",
        "# (*) stop уже входит в создаваемый диапазон\n",
        "np.linspace(start=1, stop=2, num=10)"
      ]
    },
    {
      "cell_type": "markdown",
      "metadata": {
        "id": "S-szHgm6hq7X"
      },
      "source": [
        "## Удобная индексация в одномерных массивах <a name=\"index\"></a>"
      ]
    },
    {
      "cell_type": "markdown",
      "metadata": {
        "id": "LYFlLDO5huxy"
      },
      "source": [
        "Индексация в Python не ограничивается заданием конкретных индексов для получения значений в контейнерах (стандартных или массивов `ndarray`). Существуют специальные символы и подходы для работы с диапазонами данных, которые не только упрощают и улучшают код, но и выполняются более быстро, нежели проходы по массивам циклом.\n",
        "\n",
        "Начнём со знакомства с символом `:`, который позволяет задавать диапазон индексов для чтения/записи контейнеров. Такой способ называется slice (срез)"
      ]
    },
    {
      "cell_type": "code",
      "execution_count": null,
      "metadata": {
        "id": "9UClHM52huJi",
        "_cell_id": "sBIj4RaIPMbeDjkn"
      },
      "outputs": [],
      "source": [
        "# Для начала на простом списке (1D массива)\n",
        "# Следующее создание массива можно заменить list(range(1, 11))\n",
        "arr = [1, 2, 3, 4, 5, 6, 7, 8, 9, 10]"
      ]
    },
    {
      "cell_type": "code",
      "execution_count": null,
      "metadata": {
        "id": "eltg4vei7P2R",
        "_cell_id": "u679QwCablF5ZyMl"
      },
      "outputs": [],
      "source": [
        "# Простая индексация\n",
        "print(arr[0])\n",
        "print(arr[-2])\n",
        "print(arr[5])"
      ]
    },
    {
      "cell_type": "markdown",
      "metadata": {
        "id": "dzWHdiZw8GlN"
      },
      "source": [
        "Для получения подмассива (части массива) или записи в подмассив используется нотация $$index_{start}:index_{end}:step$$\n",
        "\n",
        "- $index_{start}$ - индекс начала подмассива\n",
        "- $index_{end}$ - индекс конца подмассива\n",
        "- $step$ - шаг подмассива"
      ]
    },
    {
      "cell_type": "code",
      "execution_count": null,
      "metadata": {
        "id": "w3x1hjul7ZnM",
        "_cell_id": "jWXovYkKBstJ5BzC"
      },
      "outputs": [],
      "source": [
        "# Получение части массива c 3-го по 9-й элемент (не включительно)\n",
        "    #   или со 2-го по 8-й (при индексации с нуля)\n",
        "    #   с шагом 2\n",
        "print(arr[2:8:2])"
      ]
    },
    {
      "cell_type": "code",
      "execution_count": null,
      "metadata": {
        "id": "UeghJuRp9XSG",
        "_cell_id": "5E6aiMy7YyGtWMTR"
      },
      "outputs": [],
      "source": [
        "# Если шаг не задан, то он равен единице (при этом второй раз : не пишется)\n",
        "print(arr[2:8])"
      ]
    },
    {
      "cell_type": "code",
      "execution_count": null,
      "metadata": {
        "id": "f2et5vq_9YQ0",
        "_cell_id": "7ysrifnnHNimsrZl"
      },
      "outputs": [],
      "source": [
        "# Шаг может быть и отрицательным (индексы меняются местами)\n",
        "print(arr[8:2:-1])"
      ]
    },
    {
      "cell_type": "code",
      "execution_count": null,
      "metadata": {
        "id": "THxAw6mR9ZK1",
        "_cell_id": "PEaWUFrVJrFuTTsL"
      },
      "outputs": [],
      "source": [
        "# Если не задавать index_start или index_end,\n",
        "#   то они будут равны индексу начала и конца массива\n",
        "print(arr[2:])\n",
        "print(arr[:8])"
      ]
    },
    {
      "cell_type": "code",
      "execution_count": null,
      "metadata": {
        "id": "Ti3t0ZVa9gfe",
        "_cell_id": "wrqo7bXLBNfncfLD"
      },
      "outputs": [],
      "source": [
        "# Можно комбинировать один из индексов и шаг\n",
        "print(arr[2::2])\n",
        "print(arr[:8:3])"
      ]
    },
    {
      "cell_type": "code",
      "execution_count": null,
      "metadata": {
        "id": "xj257QBQ-LsQ",
        "_cell_id": "qmVdP4UG8OA9XXR2"
      },
      "outputs": [],
      "source": [
        "# И не забываем, что все трюки работают и на запись\n",
        "new_arr = list(range(1, 11))\n",
        "\n",
        "new_arr[1:5] = arr[:4]\n",
        "print(new_arr)"
      ]
    },
    {
      "cell_type": "code",
      "execution_count": null,
      "metadata": {
        "id": "UiQHCjYPAreX",
        "_cell_id": "MsbSOh6Jg5sVKgdY"
      },
      "outputs": [],
      "source": [
        "# Не самая полезная, но все же запись (получить весь диапазон)\n",
        "print(arr[:])"
      ]
    },
    {
      "cell_type": "markdown",
      "metadata": {
        "id": "Y1CX7Bpi91aI"
      },
      "source": [
        "### Задание - подумаем\n",
        "\n",
        "Объясните результат операции:"
      ]
    },
    {
      "cell_type": "code",
      "execution_count": null,
      "metadata": {
        "id": "HRS-xvPK97di",
        "_cell_id": "mg1tPddy2D1xOais"
      },
      "outputs": [],
      "source": [
        "print(arr[:5:-2])"
      ]
    },
    {
      "cell_type": "markdown",
      "metadata": {
        "id": "CmTGLk0n_K8w"
      },
      "source": [
        "### Задание - учимся обращать\n",
        "\n",
        "Получите перевернутый список:"
      ]
    },
    {
      "cell_type": "code",
      "execution_count": 86,
      "metadata": {
        "colab": {
          "base_uri": "https://localhost:8080/"
        },
        "id": "7XJaNnuf_TUl",
        "outputId": "d27eb3e0-27b8-4a45-9bc9-9d81a91823a0",
        "_cell_id": "wyZhrcqDGjkrTWwu"
      },
      "outputs": [
        {
          "output_type": "stream",
          "name": "stdout",
          "text": [
            "[0, 1, 2, 3, 4, 5, 6, 7, 8, 9]\n",
            "Исходный список: [0, 1, 2, 3, 4, 5, 6, 7, 8, 9]\n",
            "Перевернутый список: [9, 8, 7, 6, 5, 4, 3, 2, 1, 0]\n"
          ]
        }
      ],
      "source": [
        "data = list(range(10))\n",
        "print(data)\n",
        "\n",
        "data = list(range(10))\n",
        "print(\"Исходный список:\", data)\n",
        "\n",
        "reversed_data = data[::-1]\n",
        "\n",
        "print(\"Перевернутый список:\", reversed_data)\n"
      ]
    },
    {
      "cell_type": "markdown",
      "metadata": {
        "id": "TT3t4yG5B8XW"
      },
      "source": [
        "### Задание - подмассив\n",
        "\n",
        "Получите массив без первого и двух последних элементов:"
      ]
    },
    {
      "cell_type": "code",
      "execution_count": 87,
      "metadata": {
        "colab": {
          "base_uri": "https://localhost:8080/"
        },
        "id": "evJXMrHrCFFj",
        "outputId": "a94ebeb1-a5cb-4047-9aac-779a9dc363ea",
        "_cell_id": "BUxf5XoTKIeOziIQ"
      },
      "outputs": [
        {
          "output_type": "stream",
          "name": "stdout",
          "text": [
            "[0, 1, 2, 3, 4, 5, 6, 7, 8, 9]\n",
            "Исходный список: [0, 1, 2, 3, 4, 5, 6, 7, 8, 9]\n",
            "Список без первого и двух последних элементов: [1, 2, 3, 4, 5, 6, 7]\n"
          ]
        }
      ],
      "source": [
        "data = list(range(10))\n",
        "print(data)\n",
        "\n",
        "data = list(range(10))\n",
        "print(\"Исходный список:\", data)\n",
        "\n",
        "modified_data = data[1:-2]\n",
        "\n",
        "print(\"Список без первого и двух последних элементов:\", modified_data)\n"
      ]
    },
    {
      "cell_type": "markdown",
      "metadata": {
        "id": "yr_Sgpxeg7nG"
      },
      "source": [
        "## Удобная индексация в матрицах <a name=\"mat_index\"></a>"
      ]
    },
    {
      "cell_type": "markdown",
      "metadata": {
        "id": "4vzYWeA1_nL4"
      },
      "source": [
        "Работа с одномерными списками удобна даже через класс `list`, но 2D массивы уже удобнее использовать через библиотеку numpy. Использование numpy никак не ограничивает применение такой индексации, так что можно делать много классных штук:"
      ]
    },
    {
      "cell_type": "code",
      "execution_count": null,
      "metadata": {
        "id": "roSKMhOd_7HG",
        "_cell_id": "fCbzXSa7omSY03y5"
      },
      "outputs": [],
      "source": [
        "arr = np.array([[1, 2, 3, 4], [5, 6, 7, 8], [9, 10, 11, 12]])\n",
        "print(arr)"
      ]
    },
    {
      "cell_type": "markdown",
      "metadata": {
        "id": "bw7Re8l_ASG0"
      },
      "source": [
        "В индексации numpy есть очень полезное правило: если последующие индексы не заданы, то они принимаются как \"весь диапазон\". Например, в двумерном массиве мы индексируем по двум числам $[3, 2]$. Если в 2D массиве задать индекс $[3]$, то это эквивалентно индексации $[3, :]$, то есть третий ряд, все колонки.\n",
        "\n",
        "В плане предшествующих индексов это не работает, поэтому, чтобы получить целую колонку, надо индексировать $[:, 2]$."
      ]
    },
    {
      "cell_type": "code",
      "execution_count": null,
      "metadata": {
        "id": "KhiA2r2-AK5d",
        "_cell_id": "mUJIQpC1qmyyYabn"
      },
      "outputs": [],
      "source": [
        "# Получим вторую строку массива\n",
        "print(arr[2])\n",
        "print(arr[2, :])"
      ]
    },
    {
      "cell_type": "code",
      "execution_count": null,
      "metadata": {
        "id": "dF2bEK7dBU5C",
        "_cell_id": "qQVaxYfY8Z0zLKyN"
      },
      "outputs": [],
      "source": [
        "# Получим первую колонку массива\n",
        "print(arr[:, 1])"
      ]
    },
    {
      "cell_type": "code",
      "execution_count": null,
      "metadata": {
        "id": "MjkcYLIUBoIZ",
        "_cell_id": "1QHRh4D31p3v0tWv"
      },
      "outputs": [],
      "source": [
        "# Получить первые два элемента (первые две колонки) первого ряда\n",
        "print(arr[1, :2])"
      ]
    },
    {
      "cell_type": "code",
      "execution_count": null,
      "metadata": {
        "id": "nsjlZWVkC4JV",
        "_cell_id": "6TxI23T13Nv43BjT"
      },
      "outputs": [],
      "source": [
        "# Можно повторять целые части массива\n",
        "#   (но при этом должны соотноситься размерности)\n",
        "# ndarray.copy() - функция копирования массива\n",
        "# Копируем, чтобы не изменить оригинальный\n",
        "new_arr = arr.copy()\n",
        "print(arr)\n",
        "\n",
        "new_arr[2, :] = arr[1, :]\n",
        "print(new_arr)"
      ]
    },
    {
      "cell_type": "code",
      "execution_count": null,
      "metadata": {
        "id": "Cok9ET1xDpHL",
        "_cell_id": "CAzKMKMtzS7MLxTi"
      },
      "outputs": [],
      "source": [
        "# При этом, такая индексация - это новый массив со своей размерностью.\n",
        "print(arr[:2, :2])\n",
        "print(arr[:2, :2].shape)"
      ]
    },
    {
      "cell_type": "code",
      "execution_count": null,
      "metadata": {
        "id": "cc0YJBmSEDlb",
        "_cell_id": "3Bm6GXrfiMcGhApI"
      },
      "outputs": [],
      "source": [
        "# В качестве индексов можно также задавать другие массивы\n",
        "# Получаем первую и последнюю колонки\n",
        "print(arr[:, [0, -1]])"
      ]
    },
    {
      "cell_type": "code",
      "execution_count": null,
      "metadata": {
        "id": "296Ww5MDFaY4",
        "_cell_id": "zZgfoSdWo1Y2a5hB"
      },
      "outputs": [],
      "source": [
        "# И таким образом никто не заставляет писать в том же порядке индексы\n",
        "# Перемешаем ряды\n",
        "print(arr[[2, 0, 1], :])"
      ]
    },
    {
      "cell_type": "code",
      "execution_count": null,
      "metadata": {
        "id": "RFkxEluyFpZb",
        "_cell_id": "t2RB7Jfw2XsG91ry"
      },
      "outputs": [],
      "source": [
        "# Также, можно комбинировать способы задания\n",
        "print(arr[[2, 0], [1, 3]])\n",
        "# То же самое, только первая запись дает массив\n",
        "print(arr[2, 1], arr[0, 3])"
      ]
    },
    {
      "cell_type": "code",
      "execution_count": null,
      "metadata": {
        "id": "EKQkjUnxE4vN",
        "_cell_id": "bjZ9mXwE16IWDOGb"
      },
      "outputs": [],
      "source": [
        "# Создаем список возможных индексов для рядов массива\n",
        "row_indices = list(range(arr.shape[0]))\n",
        "print(row_indices)\n",
        "\n",
        "# Переворачиваем его\n",
        "row_indices = list(reversed(row_indices))\n",
        "print(row_indices)\n",
        "\n",
        "# Используем для индексации\n",
        "print(\"----------------\")\n",
        "print(arr[row_indices])"
      ]
    },
    {
      "cell_type": "markdown",
      "metadata": {
        "id": "4jVVCGMSCPWu"
      },
      "source": [
        "### Задание - еще больше срезаем\n",
        "\n",
        "Получите массив без крайних рядов и колонок (по одной с каждой стороны)"
      ]
    },
    {
      "cell_type": "code",
      "execution_count": 91,
      "metadata": {
        "colab": {
          "base_uri": "https://localhost:8080/"
        },
        "id": "rJegDeQ6CcTD",
        "outputId": "48ac3676-d138-4139-cbc2-934e11545bab",
        "_cell_id": "FzD1A7PBHrrkn79u"
      },
      "outputs": [
        {
          "output_type": "stream",
          "name": "stdout",
          "text": [
            "[[2 3 3 8 7 3]\n",
            " [7 4 3 8 2 9]\n",
            " [1 5 7 3 7 5]\n",
            " [0 6 8 3 2 2]\n",
            " [0 4 6 0 6 6]]\n",
            "Исходная матрица:\n",
            " [[6 1 9 7 4 6]\n",
            " [7 7 4 8 6 0]\n",
            " [0 7 5 2 6 2]\n",
            " [1 5 1 1 1 9]\n",
            " [6 4 4 8 6 5]]\n",
            "Матрица без крайних рядов и колонок:\n",
            " [[7 4 8 6]\n",
            " [7 5 2 6]\n",
            " [5 1 1 1]]\n"
          ]
        }
      ],
      "source": [
        "data = np.random.randint(low=0, high=10, size=(5, 6))\n",
        "print(data)\n",
        "import numpy as np\n",
        "\n",
        "data = np.random.randint(low=0, high=10, size=(5, 6))\n",
        "print(\"Исходная матрица:\\n\", data)\n",
        "\n",
        "modified_data = data[1:-1, 1:-1]\n",
        "\n",
        "print(\"Матрица без крайних рядов и колонок:\\n\", modified_data)\n",
        "\n"
      ]
    },
    {
      "cell_type": "markdown",
      "metadata": {
        "id": "7R_2MeNRGsNq"
      },
      "source": [
        "### Задание - кручу-верчу - запутать хочу\n",
        "\n",
        "Произведите перемешивание колонок с помощью функции `numpy.random.permutation()`:\n",
        "\n",
        "<details>\n",
        "<summary>Подсказка</summary>\n",
        "\n",
        "Перемешать колонки можно путем перемешивания списка возможных индексов колонок (`range(<col_count>)`) и затем индексацией этого списка по индексам колонок (`[:, cols]`).\n",
        "</details>"
      ]
    },
    {
      "cell_type": "code",
      "execution_count": 94,
      "metadata": {
        "colab": {
          "base_uri": "https://localhost:8080/"
        },
        "id": "EawZBVacHHk4",
        "outputId": "7ddfa87c-836a-475c-d014-e609c5b2af33",
        "_cell_id": "9pv28BlOl7zeoNdw"
      },
      "outputs": [
        {
          "output_type": "stream",
          "name": "stdout",
          "text": [
            "[[2 7 5 0 2 3]\n",
            " [7 7 4 9 1 1]\n",
            " [9 7 4 8 0 6]]\n",
            "Исходная матрица:\n",
            " [[6 0 7 6 7 0]\n",
            " [5 6 2 1 4 1]\n",
            " [4 3 4 0 7 6]]\n",
            "Матрица с перемешанными колонками:\n",
            " [[7 0 7 0 6 6]\n",
            " [2 6 4 1 5 1]\n",
            " [4 3 7 6 4 0]]\n"
          ]
        }
      ],
      "source": [
        "data = np.random.randint(low=0, high=10, size=(3, 6))\n",
        "print(data)\n",
        "\n",
        "import numpy as np\n",
        "\n",
        "data = np.random.randint(low=0, high=10, size=(3, 6))\n",
        "print(\"Исходная матрица:\\n\", data)\n",
        "\n",
        "shuffled_data = data[:, np.random.permutation(data.shape[1])]\n",
        "\n",
        "print(\"Матрица с перемешанными колонками:\\n\", shuffled_data)\n"
      ]
    },
    {
      "cell_type": "markdown",
      "metadata": {
        "id": "RKssiBX6IWQ4"
      },
      "source": [
        "## Типы данных в массивах"
      ]
    },
    {
      "cell_type": "markdown",
      "metadata": {
        "id": "1W373guIIYpQ"
      },
      "source": [
        "Массивы в numpy имеют не только размер, но и конкретный тип данных, которые хранятся внутри массива. При создании массива почти все функции создания имеют аргумент `dtype`, который означает, с каким типом создать данным массив. Также, класс `ndarray` имеет атрибут `dtype`, который означает тип хранимых данных."
      ]
    },
    {
      "cell_type": "markdown",
      "metadata": {
        "id": "RkaZp3yUQ2l9"
      },
      "source": [
        "Подробнее о `dtype` можно прочитать в [документации](https://numpy.org/doc/stable/reference/arrays.dtypes.html)."
      ]
    },
    {
      "cell_type": "code",
      "execution_count": null,
      "metadata": {
        "id": "hhX2FD0xJC50",
        "_cell_id": "Vbpi1UzPZFpmV8Dy"
      },
      "outputs": [],
      "source": [
        "# Создадим массив без задания типа - тип будет определен автоматически\n",
        "arr = np.array([[1, 2, 3, 4], [5, 6, 7, 8], [9, 10, 11, 12]])\n",
        "print(arr.dtype)\n",
        "\n",
        "# int, так как все элементы являются целочисленными"
      ]
    },
    {
      "cell_type": "code",
      "execution_count": null,
      "metadata": {
        "id": "pVSghFu5JQTO",
        "_cell_id": "wr7XJTH7fmIqRAMO"
      },
      "outputs": [],
      "source": [
        "# Изменим один элемент на вещественный\n",
        "arr = np.array([[1.5, 2, 3, 4], [5, 6, 7, 8], [9, 10, 11, 12]])\n",
        "print(arr.dtype)\n",
        "\n",
        "# Один из элементов float, поэтому весь массив будет float"
      ]
    },
    {
      "cell_type": "code",
      "execution_count": null,
      "metadata": {
        "id": "OfAofWauJePj",
        "_cell_id": "HebuV0ZwUVmYw34z"
      },
      "outputs": [],
      "source": [
        "# Зададим явно тип массива\n",
        "# Хоть массив и содержит вещественные числа\n",
        "# мы создаем массив целочисленных, что приводит\n",
        "# к округлению\n",
        "arr = np.array([[1.1, 1.6, 2.4], [-1.7, 2.6, -1.2]], dtype=int)\n",
        "print(arr)\n",
        "print(arr.dtype)"
      ]
    },
    {
      "cell_type": "code",
      "execution_count": null,
      "metadata": {
        "id": "Nj1UkwjDKBr1",
        "_cell_id": "fVM4noinXEOVYRnk"
      },
      "outputs": [],
      "source": [
        "# Создаем массив вещественных\n",
        "arr = np.array([[1.1, 1.6, 2.4], [-1.7, 2.6, -1.2]])\n",
        "print(arr)\n",
        "print(arr.dtype)\n",
        "print(\"----------\")\n",
        "# Но в какой-то момент нам нужно привести массив к целочисленным\n",
        "# Воспользуемся методом ndarray.astype()\n",
        "arr = arr.astype(int)\n",
        "print(arr)\n",
        "print(arr.dtype)"
      ]
    },
    {
      "cell_type": "code",
      "execution_count": null,
      "metadata": {
        "id": "4Zv5Ss7KKa77",
        "_cell_id": "I1iq8cvRQVaGHvlo"
      },
      "outputs": [],
      "source": [
        "# При этом попытки записать в целочисленный массив\n",
        "# вещественное число приводят к округлению\n",
        "arr = np.array([[1.1, 1.6, 2.4], [-1.7, 2.6, -1.2]], dtype=int)\n",
        "print(arr)\n",
        "\n",
        "arr[0, 1] = 10.12\n",
        "print(arr)"
      ]
    }
  ],
  "metadata": {
    "colab": {
      "name": "Pr01_Numpy.ipynb",
      "provenance": [],
      "toc_visible": true,
      "include_colab_link": true
    },
    "kernelspec": {
      "display_name": "Python 3.8.10 ('.venv': poetry)",
      "language": "python",
      "name": "python3"
    },
    "language_info": {
      "codemirror_mode": {
        "name": "ipython",
        "version": 3
      },
      "file_extension": ".py",
      "mimetype": "text/x-python",
      "name": "python",
      "nbconvert_exporter": "python",
      "pygments_lexer": "ipython3",
      "version": "3.10.15"
    },
    "vscode": {
      "interpreter": {
        "hash": "5ef4d00d2bd0c756646408250b3e0222db1655439c25a4f11279476b8286db07"
      }
    }
  },
  "nbformat": 4,
  "nbformat_minor": 0
}