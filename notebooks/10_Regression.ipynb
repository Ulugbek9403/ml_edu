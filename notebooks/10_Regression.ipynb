{
  "cells": [
    {
      "cell_type": "markdown",
      "metadata": {
        "id": "view-in-github",
        "colab_type": "text"
      },
      "source": [
        "<a href=\"https://colab.research.google.com/github/Ulugbek9403/ml_edu/blob/master/notebooks/10_Regression.ipynb\" target=\"_parent\"><img src=\"https://colab.research.google.com/assets/colab-badge.svg\" alt=\"Open In Colab\"/></a>"
      ]
    },
    {
      "cell_type": "markdown",
      "metadata": {
        "id": "Gnhju96rpXIG"
      },
      "source": [
        "# Регрессия 101"
      ]
    },
    {
      "cell_type": "markdown",
      "source": [
        "> 🚀 В этой практике нам понадобятся: `numpy==1.26.4, pandas==2.2.2, matplotlib==3.8.4, scikit-learn==1.4.2`\n",
        "\n",
        "> 🚀 Установить вы их можете с помощью команды: `%pip install numpy==1.26.4 pandas==2.2.2 matplotlib==3.8.4 scikit-learn==1.4.2`\n"
      ],
      "metadata": {
        "id": "CGAYdgSYpXIH"
      }
    },
    {
      "cell_type": "markdown",
      "source": [
        "## Содержание\n",
        "\n",
        "* [Поговорим про шоппинг](#Поговорим-про-шоппинг)\n",
        "* [Оценка модели](#Оценка-модели)\n",
        "* [Пора применять современные инструменты](#Пора-применять-современные-инструменты)\n",
        "* [Вопросы для закрепления](#Вопросы-для-закрепления)\n",
        "* [Полезные ссылки](#Полезные-ссылки)\n"
      ],
      "metadata": {
        "id": "17reIZ3xpXIH"
      }
    },
    {
      "cell_type": "markdown",
      "metadata": {
        "id": "bMMnEcPXpXIH"
      },
      "source": [
        "Привет! Это первая практика по теме машинного обучения в нашем курсе и начнем мы её с небольшого введения. Все дальнейшие ноутбуки будут построены по принципу \"читаем, разбираемся и по ходу выполняем задачки\". В ноутбуке вы встретите следующие блоки:\n",
        "\n",
        "```python\n",
        "  # TODO - здесь может идти длиииииинное описание ...\n",
        "```\n",
        "Это блок, в котором предлагается выполнить какую-нибудь задачку, чтобы пройти дальше. Не забывайте, что непосильных задач вам никто не даст, и мы в вас верим! Поэтому, не беритесь за списывание у соседей, а попробуйте сделать самостоятельно - у вас получится!\n",
        "\n",
        "Сразу за ним обычно следует блок\n",
        "```python\n",
        "  # TEST\n",
        "```\n",
        "\n",
        "Блок с тестированием, в котором проверяется ваше решение. Если решение верное, то вы увидите \"Well done!\" в консоли. Иначе, будут ошибки с указанием на то, какой тест не удалось пройти.\n",
        "\n",
        "Не старайтесь убрать или закомментировать тесты - это проверка сделана для того, чтобы показать, что ваше решение делает то, что необходимо по заданию. Иначе, может получиться так, что вы неправильно поняли и дальше все идет неправильно - мы ведь не хотим такого развития событий?\n",
        "\n",
        "Другие интересные блоки:\n",
        "\n",
        "> 🤓 Вот здесь мы обычно пишем умный текст, который содержит умные слова и важные термины. Или просто скучный правильный текст =)\n",
        "\n",
        "> ⚠️ На это стоит обратить внимание и запомнить!\n",
        "\n",
        "> 🔥 Хотите стать супер разработчиком - в таких блоках будут даваться маленькие советы по разработке. Чаще всего они будут отсылкой к [PEP - Python Enhancement Proposal](https://www.python.org/dev/peps/)"
      ]
    },
    {
      "cell_type": "code",
      "source": [],
      "metadata": {
        "id": "y5L0QyeDYs5-"
      },
      "execution_count": null,
      "outputs": []
    },
    {
      "cell_type": "markdown",
      "metadata": {
        "id": "PjSNr9hZpXIJ"
      },
      "source": [
        "Вы уже закончили практику с базовыми фреймворками - замечательно! Поверьте, это было просто необходимо, чтобы не перегружать вас информацией по ходу разбора части по машинному обучению. Теперь, когда вы подкованы в работе с матрицами, математических операциях в питоне и табличном представлении данных, можно переходить к самой занимательной части - машинное обучение и зачем оно нужно.\n",
        "\n",
        "На самом деле, раньше мы спокойно жили без машинного обучения - ученые разрабатывали умные методы, которые решали разные задачки. Это могли быть задачи предсказания погоды, стоимости акций на фондовых рынках, распознавание людей на картинке и другие. Но вот наступила эра, когда компьютеры стали настолько мощными, что мы можем для некоторых задач не разрабатывать алгоритмы, а взять **огромные объемы данных**, которые в нашем мире поступают отовсюду (за подробностями обращаемся к термину Big Data), и передать компьютеру с указанием того, что мы от него хотим. Тогда компьютер переваривает эти данные, просматривает их, выявляет **зависимости** в данных и, наконец, запоминает эти зависимости, чтобы в будущем решать ту же задачку, для которой он учился, но уже с **новыми данными**. В этой схеме важно выделить основную составляющую - **данные**. Без данных машинное обучение не работает, совсем...\n",
        "\n",
        "<p align=\"center\"><img src=\"https://raw.githubusercontent.com/AleksDevEdu/ml_edu/master/assets/big_data_meme.jpg\" width=600/></p>\n",
        "\n",
        "Поэтому обратите внимание что любые действия, которые будут делаться в этом курсе - будут делаться с данными!\n"
      ]
    },
    {
      "cell_type": "code",
      "execution_count": 1,
      "metadata": {
        "_cell_id": "5uryx45JQro25G3U",
        "id": "Ul_0E4n_pXIJ"
      },
      "outputs": [],
      "source": [
        "# Настройки для визуализации\n",
        "# Если используется темная тема - лучше текст сделать белым\n",
        "import numpy as np\n",
        "import matplotlib.pyplot as plt\n",
        "import pandas as pd\n",
        "import random\n",
        "TEXT_COLOR = \"black\"\n",
        "\n",
        "plt.rcParams[\"figure.figsize\"] = (15, 10)\n",
        "plt.rcParams[\"text.color\"] = TEXT_COLOR\n",
        "plt.rcParams[\"font.size\"] = 14\n",
        "plt.rcParams[\"lines.markersize\"] = 15\n",
        "plt.rcParams[\"axes.labelcolor\"] = TEXT_COLOR\n",
        "plt.rcParams[\"xtick.color\"] = TEXT_COLOR\n",
        "plt.rcParams[\"ytick.color\"] = TEXT_COLOR\n",
        "\n",
        "# Зафиксируем состояние случайных чисел\n",
        "RANDOM_SEED = 42\n",
        "np.random.seed(RANDOM_SEED)\n",
        "random.seed(RANDOM_SEED)"
      ]
    },
    {
      "cell_type": "markdown",
      "metadata": {
        "id": "XWdWGuGnpXIL"
      },
      "source": [
        "## Поговорим про шоппинг"
      ]
    },
    {
      "cell_type": "markdown",
      "metadata": {
        "id": "0yXfDl7BpXIL"
      },
      "source": [
        "Сегодня мы начнем с одной из таких задач. И, чтобы не вдаваться в хитрые научные подробности и сразу не говорить о **полиномиальной регрессионной модели с высоким коэффициентом детерминированности** (звучит как название научной работы), мы пойдем в магазин!\n",
        "\n",
        "<p align=\"center\"><img src=\"https://raw.githubusercontent.com/AleksDevEdu/ml_edu/master/assets/did-someone-shopping-memes.jpg\" width=600/></p>\n",
        "\n"
      ]
    },
    {
      "cell_type": "markdown",
      "metadata": {
        "id": "GzY2r-AepXIM"
      },
      "source": [
        "Представьте себе, что мы приходим в магазин и видим 5 разных бутылочек йогурта. Посмотри, вот есть 600 мл за 58 рублей, ещё за 85 рублей видна 2х литровая банка. А вот ещё есть литр и 1.3 литра за 67 и 69! Ну и совсем мелкая за 50 - 330 мл.\n",
        "\n",
        "Вроде всего пять разных объемов, пять разных цен, но обратите внимание - это уже можно рассматривать как некоторые данные! Давайте представим их в виде таблицы:"
      ]
    },
    {
      "cell_type": "code",
      "execution_count": 2,
      "metadata": {
        "_cell_id": "k5KBaaEGIUe8lcaN",
        "id": "c8ZLb9FSpXIM",
        "outputId": "4260f1d8-f576-4902-b7f9-7a996ec6607b",
        "colab": {
          "base_uri": "https://localhost:8080/",
          "height": 206
        }
      },
      "outputs": [
        {
          "output_type": "execute_result",
          "data": {
            "text/plain": [
              "   volume  price_rub\n",
              "0     600         58\n",
              "1    2000         85\n",
              "2    1000         67\n",
              "3    1300         69\n",
              "4     330         50"
            ],
            "text/html": [
              "\n",
              "  <div id=\"df-01caffc9-9fa6-4f3a-9e45-56e2fefd6837\" class=\"colab-df-container\">\n",
              "    <div>\n",
              "<style scoped>\n",
              "    .dataframe tbody tr th:only-of-type {\n",
              "        vertical-align: middle;\n",
              "    }\n",
              "\n",
              "    .dataframe tbody tr th {\n",
              "        vertical-align: top;\n",
              "    }\n",
              "\n",
              "    .dataframe thead th {\n",
              "        text-align: right;\n",
              "    }\n",
              "</style>\n",
              "<table border=\"1\" class=\"dataframe\">\n",
              "  <thead>\n",
              "    <tr style=\"text-align: right;\">\n",
              "      <th></th>\n",
              "      <th>volume</th>\n",
              "      <th>price_rub</th>\n",
              "    </tr>\n",
              "  </thead>\n",
              "  <tbody>\n",
              "    <tr>\n",
              "      <th>0</th>\n",
              "      <td>600</td>\n",
              "      <td>58</td>\n",
              "    </tr>\n",
              "    <tr>\n",
              "      <th>1</th>\n",
              "      <td>2000</td>\n",
              "      <td>85</td>\n",
              "    </tr>\n",
              "    <tr>\n",
              "      <th>2</th>\n",
              "      <td>1000</td>\n",
              "      <td>67</td>\n",
              "    </tr>\n",
              "    <tr>\n",
              "      <th>3</th>\n",
              "      <td>1300</td>\n",
              "      <td>69</td>\n",
              "    </tr>\n",
              "    <tr>\n",
              "      <th>4</th>\n",
              "      <td>330</td>\n",
              "      <td>50</td>\n",
              "    </tr>\n",
              "  </tbody>\n",
              "</table>\n",
              "</div>\n",
              "    <div class=\"colab-df-buttons\">\n",
              "\n",
              "  <div class=\"colab-df-container\">\n",
              "    <button class=\"colab-df-convert\" onclick=\"convertToInteractive('df-01caffc9-9fa6-4f3a-9e45-56e2fefd6837')\"\n",
              "            title=\"Convert this dataframe to an interactive table.\"\n",
              "            style=\"display:none;\">\n",
              "\n",
              "  <svg xmlns=\"http://www.w3.org/2000/svg\" height=\"24px\" viewBox=\"0 -960 960 960\">\n",
              "    <path d=\"M120-120v-720h720v720H120Zm60-500h600v-160H180v160Zm220 220h160v-160H400v160Zm0 220h160v-160H400v160ZM180-400h160v-160H180v160Zm440 0h160v-160H620v160ZM180-180h160v-160H180v160Zm440 0h160v-160H620v160Z\"/>\n",
              "  </svg>\n",
              "    </button>\n",
              "\n",
              "  <style>\n",
              "    .colab-df-container {\n",
              "      display:flex;\n",
              "      gap: 12px;\n",
              "    }\n",
              "\n",
              "    .colab-df-convert {\n",
              "      background-color: #E8F0FE;\n",
              "      border: none;\n",
              "      border-radius: 50%;\n",
              "      cursor: pointer;\n",
              "      display: none;\n",
              "      fill: #1967D2;\n",
              "      height: 32px;\n",
              "      padding: 0 0 0 0;\n",
              "      width: 32px;\n",
              "    }\n",
              "\n",
              "    .colab-df-convert:hover {\n",
              "      background-color: #E2EBFA;\n",
              "      box-shadow: 0px 1px 2px rgba(60, 64, 67, 0.3), 0px 1px 3px 1px rgba(60, 64, 67, 0.15);\n",
              "      fill: #174EA6;\n",
              "    }\n",
              "\n",
              "    .colab-df-buttons div {\n",
              "      margin-bottom: 4px;\n",
              "    }\n",
              "\n",
              "    [theme=dark] .colab-df-convert {\n",
              "      background-color: #3B4455;\n",
              "      fill: #D2E3FC;\n",
              "    }\n",
              "\n",
              "    [theme=dark] .colab-df-convert:hover {\n",
              "      background-color: #434B5C;\n",
              "      box-shadow: 0px 1px 3px 1px rgba(0, 0, 0, 0.15);\n",
              "      filter: drop-shadow(0px 1px 2px rgba(0, 0, 0, 0.3));\n",
              "      fill: #FFFFFF;\n",
              "    }\n",
              "  </style>\n",
              "\n",
              "    <script>\n",
              "      const buttonEl =\n",
              "        document.querySelector('#df-01caffc9-9fa6-4f3a-9e45-56e2fefd6837 button.colab-df-convert');\n",
              "      buttonEl.style.display =\n",
              "        google.colab.kernel.accessAllowed ? 'block' : 'none';\n",
              "\n",
              "      async function convertToInteractive(key) {\n",
              "        const element = document.querySelector('#df-01caffc9-9fa6-4f3a-9e45-56e2fefd6837');\n",
              "        const dataTable =\n",
              "          await google.colab.kernel.invokeFunction('convertToInteractive',\n",
              "                                                    [key], {});\n",
              "        if (!dataTable) return;\n",
              "\n",
              "        const docLinkHtml = 'Like what you see? Visit the ' +\n",
              "          '<a target=\"_blank\" href=https://colab.research.google.com/notebooks/data_table.ipynb>data table notebook</a>'\n",
              "          + ' to learn more about interactive tables.';\n",
              "        element.innerHTML = '';\n",
              "        dataTable['output_type'] = 'display_data';\n",
              "        await google.colab.output.renderOutput(dataTable, element);\n",
              "        const docLink = document.createElement('div');\n",
              "        docLink.innerHTML = docLinkHtml;\n",
              "        element.appendChild(docLink);\n",
              "      }\n",
              "    </script>\n",
              "  </div>\n",
              "\n",
              "\n",
              "<div id=\"df-78db3c15-b66c-405c-939f-b8cd0e57857f\">\n",
              "  <button class=\"colab-df-quickchart\" onclick=\"quickchart('df-78db3c15-b66c-405c-939f-b8cd0e57857f')\"\n",
              "            title=\"Suggest charts\"\n",
              "            style=\"display:none;\">\n",
              "\n",
              "<svg xmlns=\"http://www.w3.org/2000/svg\" height=\"24px\"viewBox=\"0 0 24 24\"\n",
              "     width=\"24px\">\n",
              "    <g>\n",
              "        <path d=\"M19 3H5c-1.1 0-2 .9-2 2v14c0 1.1.9 2 2 2h14c1.1 0 2-.9 2-2V5c0-1.1-.9-2-2-2zM9 17H7v-7h2v7zm4 0h-2V7h2v10zm4 0h-2v-4h2v4z\"/>\n",
              "    </g>\n",
              "</svg>\n",
              "  </button>\n",
              "\n",
              "<style>\n",
              "  .colab-df-quickchart {\n",
              "      --bg-color: #E8F0FE;\n",
              "      --fill-color: #1967D2;\n",
              "      --hover-bg-color: #E2EBFA;\n",
              "      --hover-fill-color: #174EA6;\n",
              "      --disabled-fill-color: #AAA;\n",
              "      --disabled-bg-color: #DDD;\n",
              "  }\n",
              "\n",
              "  [theme=dark] .colab-df-quickchart {\n",
              "      --bg-color: #3B4455;\n",
              "      --fill-color: #D2E3FC;\n",
              "      --hover-bg-color: #434B5C;\n",
              "      --hover-fill-color: #FFFFFF;\n",
              "      --disabled-bg-color: #3B4455;\n",
              "      --disabled-fill-color: #666;\n",
              "  }\n",
              "\n",
              "  .colab-df-quickchart {\n",
              "    background-color: var(--bg-color);\n",
              "    border: none;\n",
              "    border-radius: 50%;\n",
              "    cursor: pointer;\n",
              "    display: none;\n",
              "    fill: var(--fill-color);\n",
              "    height: 32px;\n",
              "    padding: 0;\n",
              "    width: 32px;\n",
              "  }\n",
              "\n",
              "  .colab-df-quickchart:hover {\n",
              "    background-color: var(--hover-bg-color);\n",
              "    box-shadow: 0 1px 2px rgba(60, 64, 67, 0.3), 0 1px 3px 1px rgba(60, 64, 67, 0.15);\n",
              "    fill: var(--button-hover-fill-color);\n",
              "  }\n",
              "\n",
              "  .colab-df-quickchart-complete:disabled,\n",
              "  .colab-df-quickchart-complete:disabled:hover {\n",
              "    background-color: var(--disabled-bg-color);\n",
              "    fill: var(--disabled-fill-color);\n",
              "    box-shadow: none;\n",
              "  }\n",
              "\n",
              "  .colab-df-spinner {\n",
              "    border: 2px solid var(--fill-color);\n",
              "    border-color: transparent;\n",
              "    border-bottom-color: var(--fill-color);\n",
              "    animation:\n",
              "      spin 1s steps(1) infinite;\n",
              "  }\n",
              "\n",
              "  @keyframes spin {\n",
              "    0% {\n",
              "      border-color: transparent;\n",
              "      border-bottom-color: var(--fill-color);\n",
              "      border-left-color: var(--fill-color);\n",
              "    }\n",
              "    20% {\n",
              "      border-color: transparent;\n",
              "      border-left-color: var(--fill-color);\n",
              "      border-top-color: var(--fill-color);\n",
              "    }\n",
              "    30% {\n",
              "      border-color: transparent;\n",
              "      border-left-color: var(--fill-color);\n",
              "      border-top-color: var(--fill-color);\n",
              "      border-right-color: var(--fill-color);\n",
              "    }\n",
              "    40% {\n",
              "      border-color: transparent;\n",
              "      border-right-color: var(--fill-color);\n",
              "      border-top-color: var(--fill-color);\n",
              "    }\n",
              "    60% {\n",
              "      border-color: transparent;\n",
              "      border-right-color: var(--fill-color);\n",
              "    }\n",
              "    80% {\n",
              "      border-color: transparent;\n",
              "      border-right-color: var(--fill-color);\n",
              "      border-bottom-color: var(--fill-color);\n",
              "    }\n",
              "    90% {\n",
              "      border-color: transparent;\n",
              "      border-bottom-color: var(--fill-color);\n",
              "    }\n",
              "  }\n",
              "</style>\n",
              "\n",
              "  <script>\n",
              "    async function quickchart(key) {\n",
              "      const quickchartButtonEl =\n",
              "        document.querySelector('#' + key + ' button');\n",
              "      quickchartButtonEl.disabled = true;  // To prevent multiple clicks.\n",
              "      quickchartButtonEl.classList.add('colab-df-spinner');\n",
              "      try {\n",
              "        const charts = await google.colab.kernel.invokeFunction(\n",
              "            'suggestCharts', [key], {});\n",
              "      } catch (error) {\n",
              "        console.error('Error during call to suggestCharts:', error);\n",
              "      }\n",
              "      quickchartButtonEl.classList.remove('colab-df-spinner');\n",
              "      quickchartButtonEl.classList.add('colab-df-quickchart-complete');\n",
              "    }\n",
              "    (() => {\n",
              "      let quickchartButtonEl =\n",
              "        document.querySelector('#df-78db3c15-b66c-405c-939f-b8cd0e57857f button');\n",
              "      quickchartButtonEl.style.display =\n",
              "        google.colab.kernel.accessAllowed ? 'block' : 'none';\n",
              "    })();\n",
              "  </script>\n",
              "</div>\n",
              "\n",
              "  <div id=\"id_abda3979-3915-4bb8-9bfb-512a0d73b32a\">\n",
              "    <style>\n",
              "      .colab-df-generate {\n",
              "        background-color: #E8F0FE;\n",
              "        border: none;\n",
              "        border-radius: 50%;\n",
              "        cursor: pointer;\n",
              "        display: none;\n",
              "        fill: #1967D2;\n",
              "        height: 32px;\n",
              "        padding: 0 0 0 0;\n",
              "        width: 32px;\n",
              "      }\n",
              "\n",
              "      .colab-df-generate:hover {\n",
              "        background-color: #E2EBFA;\n",
              "        box-shadow: 0px 1px 2px rgba(60, 64, 67, 0.3), 0px 1px 3px 1px rgba(60, 64, 67, 0.15);\n",
              "        fill: #174EA6;\n",
              "      }\n",
              "\n",
              "      [theme=dark] .colab-df-generate {\n",
              "        background-color: #3B4455;\n",
              "        fill: #D2E3FC;\n",
              "      }\n",
              "\n",
              "      [theme=dark] .colab-df-generate:hover {\n",
              "        background-color: #434B5C;\n",
              "        box-shadow: 0px 1px 3px 1px rgba(0, 0, 0, 0.15);\n",
              "        filter: drop-shadow(0px 1px 2px rgba(0, 0, 0, 0.3));\n",
              "        fill: #FFFFFF;\n",
              "      }\n",
              "    </style>\n",
              "    <button class=\"colab-df-generate\" onclick=\"generateWithVariable('df_yogurths')\"\n",
              "            title=\"Generate code using this dataframe.\"\n",
              "            style=\"display:none;\">\n",
              "\n",
              "  <svg xmlns=\"http://www.w3.org/2000/svg\" height=\"24px\"viewBox=\"0 0 24 24\"\n",
              "       width=\"24px\">\n",
              "    <path d=\"M7,19H8.4L18.45,9,17,7.55,7,17.6ZM5,21V16.75L18.45,3.32a2,2,0,0,1,2.83,0l1.4,1.43a1.91,1.91,0,0,1,.58,1.4,1.91,1.91,0,0,1-.58,1.4L9.25,21ZM18.45,9,17,7.55Zm-12,3A5.31,5.31,0,0,0,4.9,8.1,5.31,5.31,0,0,0,1,6.5,5.31,5.31,0,0,0,4.9,4.9,5.31,5.31,0,0,0,6.5,1,5.31,5.31,0,0,0,8.1,4.9,5.31,5.31,0,0,0,12,6.5,5.46,5.46,0,0,0,6.5,12Z\"/>\n",
              "  </svg>\n",
              "    </button>\n",
              "    <script>\n",
              "      (() => {\n",
              "      const buttonEl =\n",
              "        document.querySelector('#id_abda3979-3915-4bb8-9bfb-512a0d73b32a button.colab-df-generate');\n",
              "      buttonEl.style.display =\n",
              "        google.colab.kernel.accessAllowed ? 'block' : 'none';\n",
              "\n",
              "      buttonEl.onclick = () => {\n",
              "        google.colab.notebook.generateWithVariable('df_yogurths');\n",
              "      }\n",
              "      })();\n",
              "    </script>\n",
              "  </div>\n",
              "\n",
              "    </div>\n",
              "  </div>\n"
            ],
            "application/vnd.google.colaboratory.intrinsic+json": {
              "type": "dataframe",
              "variable_name": "df_yogurths",
              "summary": "{\n  \"name\": \"df_yogurths\",\n  \"rows\": 5,\n  \"fields\": [\n    {\n      \"column\": \"volume\",\n      \"properties\": {\n        \"dtype\": \"number\",\n        \"std\": 649,\n        \"min\": 330,\n        \"max\": 2000,\n        \"num_unique_values\": 5,\n        \"samples\": [\n          2000,\n          330,\n          1000\n        ],\n        \"semantic_type\": \"\",\n        \"description\": \"\"\n      }\n    },\n    {\n      \"column\": \"price_rub\",\n      \"properties\": {\n        \"dtype\": \"number\",\n        \"std\": 13,\n        \"min\": 50,\n        \"max\": 85,\n        \"num_unique_values\": 5,\n        \"samples\": [\n          85,\n          50,\n          67\n        ],\n        \"semantic_type\": \"\",\n        \"description\": \"\"\n      }\n    }\n  ]\n}"
            }
          },
          "metadata": {},
          "execution_count": 2
        }
      ],
      "source": [
        "df_yogurths = pd.DataFrame({\n",
        "    \"volume\": [600, 2000, 1000, 1300, 330],\n",
        "    \"price_rub\": [58, 85, 67, 69, 50]\n",
        "})\n",
        "\n",
        "df_yogurths"
      ]
    },
    {
      "cell_type": "markdown",
      "metadata": {
        "id": "_L4rBEulpXIN"
      },
      "source": [
        "Замечательно! Здесь мы видим табличные данные, в которых каждому объёму соответствует своя цена.\n",
        "\n",
        "> 🤓 Если быть совсем точным, то такие данные называются структурированными, так как они имеют фиксированную структуру.\n",
        "\n",
        "Такой вид представления удобен, чтобы посмотреть данные глазами, но не забывайте про другой, более удобный для общей оценки формат - графики, визуализация!\n",
        "\n",
        "Для этого случая отлично подойдет scatter график:\n",
        "\n",
        "> 🤓 Диаграмма рассеяния"
      ]
    },
    {
      "cell_type": "code",
      "execution_count": 10,
      "metadata": {
        "_cell_id": "MUo6rVVbFohz1fZF",
        "id": "9ECgRUzXpXIN",
        "outputId": "b0532693-8e46-4f13-93b9-a9dd64b22da5",
        "colab": {
          "base_uri": "https://localhost:8080/",
          "height": 860
        }
      },
      "outputs": [
        {
          "output_type": "display_data",
          "data": {
            "text/plain": [
              "<Figure size 1500x1000 with 1 Axes>"
            ],
            "image/png": "[encoded data removed]"
          },
          "metadata": {}
        }
      ],
      "source": [
        "plt.scatter(x=\"volume\", y=\"price_rub\", data=df_yogurths, marker=\"x\")\n",
        "plt.xlabel(\"Объем, мл\")\n",
        "plt.ylabel(\"Цена, руб\")\n",
        "plt.grid()"
      ]
    },
    {
      "cell_type": "markdown",
      "metadata": {
        "id": "84Z3MNc2pXIO"
      },
      "source": [
        "Отлично! *Видите*, такой способ *посмотреть* на данные очень *нагляден* и мы сразу *видим*, что с ростом объёма йогурта растёт и цена!\n",
        "\n",
        "> ⚠️ Данные, как правило, имеют точечный характер. Например, в наших данных есть информация о конкретных объёмах и конкретных ценах. На графике видно, что они являются точками.\n",
        "\n",
        "Вот мы и пришли к первому выводу сегодняшней практики - данные содержат **зависимости** внутри себя.\n",
        "\n",
        "Зависимости - это то, что является самым интересным в данных, и именно они позволяют нам делать выводы об окружающем мире!\n",
        "\n",
        "В этих данных мы видим, что цена и объём зависят между собой, потому что с ростом цены растёт объём и наоборот.\n",
        "\n",
        "> 🤓 Если вы уже знаете, что такое **корреляция**, то вы знаете, что наличие зависимостей можно оценить именно с её помощью. Если нет, то не переживайте - узнаете чуть позже.\n",
        "\n",
        "Определить наличие зависимостей в данных - это уже огромный результат, но вот как их использовать? Давайте подумаем... хм..\n",
        "\n",
        "> ✨Вот здесь вы можете обсудить с предподавателем идеи, если занятие идет очно =)\n",
        "\n",
        "<p align=\"center\"><img src=\"https://raw.githubusercontent.com/AleksDevEdu/ml_edu/master/assets/think_about_it_image.png\" width=600/></p>"
      ]
    },
    {
      "cell_type": "markdown",
      "metadata": {
        "id": "5A9UjWIFpXIO"
      },
      "source": [
        "Итак, мы можем сказать, что у нас есть зависимость цены от объёма. С увеличением объёма растёт и цена. Что если мы попробуем выяснить, насколько сильно растет цена на единицу объёма - то есть постараемся описать рост прямой линией? Так мы узнаем, сколько стоит 1500 мл и даже 3000 мл йогурта!\n",
        "\n",
        "> 🤓 Если вы запамятовали, то прямая линия описывается уравнением $y = k*x+b$"
      ]
    },
    {
      "cell_type": "code",
      "execution_count": 11,
      "metadata": {
        "_cell_id": "NkPCMGFMQswSTsQK",
        "id": "INbFCjzlpXIP",
        "outputId": "7aad0de6-94bf-4b7c-dca1-288a4ed265e4",
        "colab": {
          "base_uri": "https://localhost:8080/",
          "height": 860
        }
      },
      "outputs": [
        {
          "output_type": "display_data",
          "data": {
            "text/plain": [
              "<Figure size 1500x1000 with 1 Axes>"
            ],
            "image/png": "[encoded data removed]"
          },
          "metadata": {}
        }
      ],
      "source": [
        "LINE_K = 0.07\n",
        "LINE_B = 0\n",
        "\n",
        "x_points = np.linspace(300, 3000, 1000)\n",
        "y_points = x_points * LINE_K + LINE_B\n",
        "\n",
        "plt.scatter(x=\"volume\", y=\"price_rub\", data=df_yogurths, marker=\"x\")\n",
        "plt.scatter(x_points, y_points, c=\"g\", s=10)\n",
        "plt.xlabel(\"Объем, мл\")\n",
        "plt.ylabel(\"Цена, руб\")\n",
        "plt.grid()"
      ]
    },
    {
      "cell_type": "markdown",
      "metadata": {
        "id": "1ksRcb35pXIP"
      },
      "source": [
        "> 🔥 Почему в коде `LINE_K` и `LINE_B` названы большими буквами? В практике разработки на Python есть правило, что константы именуются прописными буквами. Это же правило есть и в других языках. Подробнее [PEP8](https://www.python.org/dev/peps/pep-0008/#constants)\n",
        "\n",
        "Смотрите, мы нарисовали линию, но она проходит далеко от точек. Давайте попробуем подобрать такие коэффициенты, чтобы она шла как можно точнее через точки:"
      ]
    },
    {
      "cell_type": "code",
      "execution_count": 14,
      "metadata": {
        "_cell_id": "nH5BRtO21OkPDAzp",
        "id": "ZoL-339bpXIP",
        "outputId": "d660eabc-b251-47f2-e124-135ad67f1c1f",
        "colab": {
          "base_uri": "https://localhost:8080/",
          "height": 1000
        }
      },
      "outputs": [
        {
          "output_type": "stream",
          "name": "stdout",
          "text": [
            "Наклон k: 1.1090909090909091\n",
            "Пересечение b: 1.5090909090909088\n"
          ]
        },
        {
          "output_type": "display_data",
          "data": {
            "text/plain": [
              "<Figure size 1500x1000 with 1 Axes>"
            ],
            "image/png": "[encoded data removed]"
          },
          "metadata": {}
        },
        {
          "output_type": "display_data",
          "data": {
            "text/plain": [
              "<Figure size 1500x1000 with 1 Axes>"
            ],
            "image/png": "[encoded data removed]"
          },
          "metadata": {}
        }
      ],
      "source": [
        "MAX_OVERFLOW = 100\n",
        "TOTAL = 5\n",
        "URL_TEMPLATE = \"https://example.com\"\n",
        "import numpy as np\n",
        "\n",
        "x = np.array([0, 1, 2, 3, 4, 5, 6, 7, 8, 9])\n",
        "y = np.array([1, 2, 5, 6, 5, 7, 8, 9, 10, 12])\n",
        "\n",
        "coefficients = np.polyfit(x, y, 1)\n",
        "LINE_K, LINE_B = coefficients\n",
        "print(\"Наклон k:\", LINE_K)\n",
        "print(\"Пересечение b:\", LINE_B)\n",
        "import matplotlib.pyplot as plt\n",
        "\n",
        "\n",
        "plt.scatter(x, y, color='blue')\n",
        "plt.plot(x, LINE_K * x + LINE_B, color='red')\n",
        "plt.show()\n",
        "\n",
        "LINE_K = 0.07\n",
        "LINE_B = 0\n",
        "\n",
        "x_points = np.linspace(300, 3000, 1000)\n",
        "y_points = x_points * LINE_K + LINE_B\n",
        "\n",
        "plt.scatter(x=\"volume\", y=\"price_rub\", data=df_yogurths, marker=\"x\")\n",
        "plt.scatter(x_points, y_points, c=\"g\", s=10)\n",
        "plt.xlabel(\"Объем, мл\")\n",
        "plt.ylabel(\"Цена, руб\")\n",
        "plt.grid()\n",
        "plt.show()"
      ]
    },
    {
      "cell_type": "code",
      "execution_count": 15,
      "metadata": {
        "_cell_id": "nTRIspVmuc6J7oRj",
        "id": "p0zc7e9DpXIP"
      },
      "outputs": [],
      "source": [
        "def predict_price(volumes):\n",
        "    \"\"\"\n",
        "    Функция предсказывает цену на основе объема.\n",
        "\n",
        "    Args:\n",
        "        volumes: Массив объемов.\n",
        "\n",
        "    Returns:\n",
        "        Массив цен, соответствующий заданным объемам.\n",
        "    \"\"\"\n",
        "\n",
        "\n",
        "    a = 0.5\n",
        "    b = 0.1\n",
        "\n",
        "\n",
        "    prices = a + b * volumes\n",
        "\n",
        "\n",
        "    print(f\"Массив prices внутри функции: {prices}\")\n",
        "\n",
        "\n",
        "    return prices\n"
      ]
    },
    {
      "cell_type": "markdown",
      "metadata": {
        "id": "H9-YoGfqpXIQ"
      },
      "source": [
        "Проверка прошла и вы видите надпись `Well done!`? Отлично!\n",
        "\n",
        "Это означает, что вы правильно настроили линию, чтобы она проходила через точки! Молодцы!\n",
        "\n",
        "А зачем мы это делали? Хм-хм. Ну, давайте посмотрим, сейчас наша линия проходит так же, как изменяются данные о цене при росте объема. То есть, мы описали большой набор (представим, что сотни строк) наших данных простой зависимостью $y=kx+b$. Короче, мы выразили наши данные в виде формулы! То есть теперь, вместо того, чтобы знать, сколько стоят конкретные объёмы йогурта, мы можем **предсказать**, сколько будет стоить, например, 1.5 литра!\n",
        "\n",
        "Что за магия? Какие **предсказания**? Почему??\n",
        "\n",
        "Все просто, мы предсказываем, потому что в наших данных нет информации о 1500 мл. Это **новые данные** для нас, поэтому это называется предсказанием!\n",
        "\n",
        "> 🤓 Описание данных зависимостью вида $y=f(x)$ - это описание **дискретных** данных **аналитической** зависимостью.\n",
        "\n",
        "Но перед этим, давайте завернем нашу прекрасную формулу в функцию:"
      ]
    },
    {
      "cell_type": "code",
      "execution_count": 16,
      "metadata": {
        "_cell_id": "1bKKZ7t3HsIxlbWO",
        "id": "LmJT317wpXIR",
        "outputId": "26855950-0103-431c-f6c4-a75002e6d418",
        "colab": {
          "base_uri": "https://localhost:8080/"
        }
      },
      "outputs": [
        {
          "output_type": "stream",
          "name": "stdout",
          "text": [
            "Объемы: [10 20 30 40 50]\n",
            "Предсказанные цены: [1.5 2.5 3.5 4.5 5.5]\n"
          ]
        }
      ],
      "source": [
        "import numpy as np\n",
        "\n",
        "def predict_price(volumes):\n",
        "    \"\"\"\n",
        "    Функция предсказывает цену на основе объема.\n",
        "\n",
        "    Args:\n",
        "        volumes: Массив объемов.\n",
        "\n",
        "    Returns:\n",
        "        Массив цен, соответствующий заданным объемам.\n",
        "    \"\"\"\n",
        "\n",
        "\n",
        "    a = 0.5\n",
        "    b = 0.1\n",
        "\n",
        "    prices = a + b * volumes\n",
        "\n",
        "    return prices\n",
        "\n",
        "volumes = np.array([10, 20, 30, 40, 50])\n",
        "predicted_prices = predict_price(volumes)\n",
        "print(f\"Объемы: {volumes}\")\n",
        "print(f\"Предсказанные цены: {predicted_prices}\")\n"
      ]
    },
    {
      "cell_type": "code",
      "execution_count": 17,
      "metadata": {
        "_cell_id": "H6mDhMbLL1FHy4SA",
        "id": "UvQ0R_COpXIR"
      },
      "outputs": [],
      "source": [
        "import pandas as pd\n",
        "import numpy as np\n",
        "from sklearn.linear_model import LinearRegression\n",
        "\n",
        "\n",
        "model = LinearRegression()\n",
        "\n",
        "\n",
        "model.fit(df_yogurths[[\"volume\"]], df_yogurths[\"price_rub\"])\n",
        "\n",
        "\n",
        "LINE_K = model.coef_[0]\n",
        "LINE_B = model.intercept_\n",
        "\n",
        "\n",
        "def predict_price(volumes):\n",
        "\n",
        "    prices = LINE_K * volumes + LINE_B\n",
        "\n",
        "\n",
        "\n"
      ]
    },
    {
      "cell_type": "markdown",
      "metadata": {
        "id": "bVfbsjFLpXIR"
      },
      "source": [
        "> 🔥 Зачем нам писать функцию? Это нужно, чтобы в дальнейшем применять этот код в конечной системе. Такой шаг называется **интеграция**. В ходе разработки ваш код может быть путанным и плохо организованным, но завершающий этап - организация кода в хороший, комментированный и легкочитаемый вид, чтобы была возможность это поддерживать, а иногда даже сопровождать. Не забывайте ухаживать за своим кодом! Вы в ответе за то, что вы создали...\n",
        "\n",
        "\n",
        "\n",
        "Молодцы, а теперь давайте посмотрим, сколько же будут стоить йогурты объёмом 1.5 и 3 литра?"
      ]
    },
    {
      "cell_type": "code",
      "execution_count": 18,
      "metadata": {
        "_cell_id": "zpzUruZ8dhwwuD1q",
        "id": "9bKaMhbQpXIS"
      },
      "outputs": [],
      "source": [
        "def predict_price(volumes):\n",
        "    # ... ваш код ...\n",
        "    prices = LINE_K * volumes + LINE_B\n",
        "    return prices\n",
        "def predict_price(volumes):\n",
        "    # ... ваш код ...\n",
        "    prices = LINE_K * volumes + LINE_B # Убедитесь, что LINE_K и LINE_B определены верно\n",
        "    return prices\n"
      ]
    },
    {
      "cell_type": "markdown",
      "metadata": {
        "id": "6lfSaGcgpXIS"
      },
      "source": [
        "Видите, похоже на правду! Мы только что предсказали цены на новые объемы, при этом опираясь только на те данные, что мы имели! Круто, поздравляю!!\n",
        "\n",
        "Вы большие молодцы, потому что вы только что разработали модель предсказания цены по объёму продукта!\n",
        "\n",
        "> 🤓 Модель машинного обучения - алгоритм, который может быть обучен (настроен) на данных и далее использован для предсказания на новых данных\n",
        "\n",
        "Но не спешите бежать её продавать - давайте сначала разберёмся в терминах, которые нам пригодятся в будущем =)"
      ]
    },
    {
      "cell_type": "markdown",
      "metadata": {
        "id": "Iw7k_uZqpXIS"
      },
      "source": [
        "Несмотря на то, что пока что наша модель сама не училась, а мы ее ручками настроили, здесь есть пара важных моментов.\n",
        "\n",
        "Когда мы попытались выразить наши точки через прямую линию, мы по сути **аппроксимировали** данные зависимостью вида $y=f(x)$. То есть, описали точки через прямую линию.\n",
        "\n",
        "> 🤓 Аппроксимация - описание зависимости в данных аналитической формулой, это может быть прямая линия $y = kx+b$, полином $y=ax^2+bx+c$, логарифм $y=log(x)$ или что угодно другое.\n",
        "\n",
        "У нас две переменные цена и объём, при этом цена зависела от объёма. Это означает, что цена является тем, что мы хотим предсказывать - наша цель предсказания (или, проще, целевая переменная), а объём - переменная, по которой мы хотим предсказывать. В народе (ну или коммьюнити) переменные, по которым делаются предсказания называются признаками (или через англицизм - фичи).\n",
        "\n",
        "> 🤓 Признаки (фичи - features) - **независимые** переменные, которые используются для предсказания зависимой переменной. Ещё есть название *предикторы*.\n",
        "\n",
        "> 🤓 Целевая переменная - **зависимая** переменная в данных, которую мы хотим предсказать по независимым переменным.\n",
        "\n",
        "Подводя итоги того, что мы тут натворили, изначально у нас были данные о йогуртах, которые мы собрали в магазине. Данные имели пять записей (примеров) и две переменные: объём и цена. Мы поставили задачу так, что цену выбрали в качестве зависимой переменной, а объём в качестве независимой. Далее построили аналитическую зависимость $y = kx+b$, в которой $y$ - цена, $x$ - объём. Ну, и наконец, смогли предсказать цену для новых объёмов!\n",
        "\n",
        "А как правильно назвать $k$ и $b$, они же тоже участвуют в уравнении? Хороший вопрос!\n",
        "\n",
        "Это **параметры** модели - их мы настраивали сами. То есть, учился алгоритм не сам, а мы его учили так, чтобы настроить как хочется. Но не переживайте, скоро дойдёт до того, что не мы будем подбирать коэффициенты, а модель сама будет учиться по данным!\n",
        "\n",
        "> 🤓 Параметры модели машинного обучения - это параметры алгоритма, которые настраиваются в ходе обучения.\n",
        "\n",
        "Отлично, немного отдохнём и дальше в путь, мы же большие молодцы!\n",
        "\n",
        "<p align=\"center\"><img src=\"https://raw.githubusercontent.com/AleksDevEdu/ml_edu/master/assets/have_a_rest_sure.jpg\" width=600/></p>"
      ]
    },
    {
      "cell_type": "markdown",
      "metadata": {
        "id": "B07jd-CEpXIS"
      },
      "source": [
        "## Оценка модели"
      ]
    },
    {
      "cell_type": "markdown",
      "metadata": {
        "id": "M3FQ1x6dpXIT"
      },
      "source": [
        "Визуально подбирать коэффициенты - это круто, но тут есть две проблемы:\n",
        "\n",
        "1. Вы представляете, чтобы мы сидели и каждый раз подбирали коэффициенты для каждой модели? В практике за день бывает доводится поработать с десятком сложных моделей со множеством коэффициентов - это неблагодарный труд =(\n",
        "\n",
        "2. Чтобы подобрать коэффициенты, мы нарисовали зависимость цены от объёма, а что если в данных мы используем ещё больше фич, например, количество дней для хранения йогурта, тип упаковки, страна производства и ещё десяток других? Рисовать такое на одном графике уже затруднительно.\n",
        "\n",
        "Что же нам делать в таком случае? Получается, мы пока что не умеем заставлять модель учиться самостоятельно, но уже хочется на данных делать крутые модели для предсказания!\n",
        "\n",
        "Не беспокойтесь, умные люди придумали **метрики** оценки для разных случаев. С некоторыми из них мы сейчас и познакомимся!\n",
        "\n",
        "> 🤓 Метрика оценки - количественная характеристика оценки какого-либо явления. Например, есть метрики точности, нормальности, ошибки и т.д.\n",
        "\n",
        "> ⚠️Визуализация данных полезна для общего восприятия и анализа зависимостей, но это есть **качественная** оценка. Для сравнительного анализа лучше использовать **количественную** оценку - метрики."
      ]
    },
    {
      "cell_type": "markdown",
      "metadata": {
        "id": "2AMOLuuQpXIT"
      },
      "source": [
        "Когда мы подбираем коэффициенты, наша линия может проходить через точки или нет - это качественная оценка ситуации. Как же нам сказать, насколько \"хорошо\" она проходит через точки?\n",
        "\n",
        "Мы можем посмотреть, насколько сильно расходится **истинное** значение в данных от **предсказанного** моделью.\n",
        "\n",
        "> 🤓 Истинное значение - значение целевой переменной в данных.\n",
        "\n",
        "> 🤓 Предсказанное значение - значение, которое предсказывает модель на конкретных значениях фич при определенных параметрах.\n",
        "\n",
        "То есть, у нас есть в данных пять примеров объёмов - мы можем посмотреть, какие цены имеют эти объёмы в реальности (истинные значения) и какие предсказывает модель при определённых коэффициентах (предсказанные).\n",
        "\n",
        "Давайте напишем функцию предсказания, но уже на вход будут поступать коэффициенты, чтобы было проще управлять кодом:"
      ]
    },
    {
      "cell_type": "code",
      "execution_count": 19,
      "metadata": {
        "_cell_id": "KH8djVAEkvGFVQpF",
        "id": "jM3ehSpRpXIT",
        "outputId": "6f4775ad-3232-453f-c39a-79ea570acddc",
        "colab": {
          "base_uri": "https://localhost:8080/"
        }
      },
      "outputs": [
        {
          "output_type": "stream",
          "name": "stdout",
          "text": [
            "[250. 400. 550.]\n"
          ]
        }
      ],
      "source": [
        "import numpy as np\n",
        "\n",
        "def predict_price_linear(features, k, b):\n",
        "    \"\"\"\n",
        "    Функция предсказывает цену на основе линейной модели.\n",
        "\n",
        "    Args:\n",
        "        features: Вектор признаков (например, объемы).\n",
        "        k: Коэффициент k (наклон) линейной модели.\n",
        "        b: Коэффициент b (свободный член) линейной модели.\n",
        "\n",
        "    Returns:\n",
        "        Вектор предсказанных цен.\n",
        "    \"\"\"\n",
        "\n",
        "\n",
        "    predicted_prices = k * features + b\n",
        "\n",
        "    return predicted_prices\n",
        "\n",
        "volumes = np.array([1500, 3000, 4500])\n",
        "\n",
        "\n",
        "k = 0.1\n",
        "b = 100\n",
        "\n",
        "\n",
        "predicted_prices = predict_price_linear(volumes, k, b)\n",
        "\n",
        "\n",
        "print(predicted_prices)\n"
      ]
    },
    {
      "cell_type": "code",
      "execution_count": 20,
      "metadata": {
        "_cell_id": "9qxTqCyBMOggsAKB",
        "id": "HF4zCNZTpXIT",
        "outputId": "49b79a5d-dfc2-4951-e1e1-369838f7615c",
        "colab": {
          "base_uri": "https://localhost:8080/"
        }
      },
      "outputs": [
        {
          "output_type": "stream",
          "name": "stdout",
          "text": [
            "Well done!\n"
          ]
        }
      ],
      "source": [
        "# TEST - проверимс ваше решение\n",
        "_test_y_pred = predict_price_linear(np.array([1, 2, 4]), 1, 2)\n",
        "np.testing.assert_array_almost_equal(_test_y_pred, [3, 4, 6])\n",
        "\n",
        "print(\"Well done!\")"
      ]
    },
    {
      "cell_type": "markdown",
      "metadata": {
        "id": "33v0sWd3pXIT"
      },
      "source": [
        "А теперь посмотрим, насколько ошибается модель на наших данных в предсказаниях по сравнению с истинными значениями:"
      ]
    },
    {
      "cell_type": "code",
      "execution_count": 21,
      "metadata": {
        "_cell_id": "7qvh5I5T3IaRGYGN",
        "id": "dBps3p6jpXIU",
        "outputId": "9650025b-124d-4fba-83eb-e925d57d87ce",
        "colab": {
          "base_uri": "https://localhost:8080/",
          "height": 241
        }
      },
      "outputs": [
        {
          "output_type": "execute_result",
          "data": {
            "text/plain": [
              "0     -2.0\n",
              "1   -115.0\n",
              "2    -33.0\n",
              "3    -61.0\n",
              "4     17.0\n",
              "dtype: float64"
            ],
            "text/html": [
              "<div>\n",
              "<style scoped>\n",
              "    .dataframe tbody tr th:only-of-type {\n",
              "        vertical-align: middle;\n",
              "    }\n",
              "\n",
              "    .dataframe tbody tr th {\n",
              "        vertical-align: top;\n",
              "    }\n",
              "\n",
              "    .dataframe thead th {\n",
              "        text-align: right;\n",
              "    }\n",
              "</style>\n",
              "<table border=\"1\" class=\"dataframe\">\n",
              "  <thead>\n",
              "    <tr style=\"text-align: right;\">\n",
              "      <th></th>\n",
              "      <th>0</th>\n",
              "    </tr>\n",
              "  </thead>\n",
              "  <tbody>\n",
              "    <tr>\n",
              "      <th>0</th>\n",
              "      <td>-2.0</td>\n",
              "    </tr>\n",
              "    <tr>\n",
              "      <th>1</th>\n",
              "      <td>-115.0</td>\n",
              "    </tr>\n",
              "    <tr>\n",
              "      <th>2</th>\n",
              "      <td>-33.0</td>\n",
              "    </tr>\n",
              "    <tr>\n",
              "      <th>3</th>\n",
              "      <td>-61.0</td>\n",
              "    </tr>\n",
              "    <tr>\n",
              "      <th>4</th>\n",
              "      <td>17.0</td>\n",
              "    </tr>\n",
              "  </tbody>\n",
              "</table>\n",
              "</div><br><label><b>dtype:</b> float64</label>"
            ]
          },
          "metadata": {},
          "execution_count": 21
        }
      ],
      "source": [
        "LINE_K = 0.1\n",
        "LINE_B = 0\n",
        "\n",
        "# Вектор истинных значений\n",
        "y_true = df_yogurths[\"price_rub\"]\n",
        "# Признаки\n",
        "x = df_yogurths[\"volume\"]\n",
        "\n",
        "# Вектор предсказаний\n",
        "y_pred = predict_price_linear(x, LINE_K, LINE_B)\n",
        "\n",
        "# Вектор ошибок\n",
        "error = y_true-y_pred\n",
        "\n",
        "error"
      ]
    },
    {
      "cell_type": "markdown",
      "metadata": {
        "id": "9cmcqM3apXIU"
      },
      "source": [
        "Вооу, вот это ошибки, во втором случае мы промахнулись на 115 рублей - многовато!\n",
        "\n",
        "Вот мы получили вектор того, насколько расходится истинное значение с предсказанным - уже что-то. Может попробовать просматривать каждую ошибку и смотреть, насколько каждая изменилась?\n",
        "\n",
        "> А теперь представим, что у нас 1 000 000 записей данных (миллион) - мы же запаримся анализировать ошибки =(\n",
        "\n",
        "Тогда нам нужно выразить это одним числом, чтобы затем каждое изменение параметров нам говорило, линия лучше описывает данные или нет.\n",
        "\n",
        "Что же делать..."
      ]
    },
    {
      "cell_type": "markdown",
      "metadata": {
        "id": "5VvAUombpXIV"
      },
      "source": [
        "Начнем знакомство с первой метрики под названием Mean Absolute Error (Средняя абсолютная ошибка). Она очень простая, вот формула:\n",
        "\n",
        "$$ MAE = (\\frac{1}{n})\\sum_{i=1}^{n}\\left | y_{pred} - y_{true} \\right | $$\n",
        "\n",
        "Смотрите, всего-то, берём разницу каждого примера, берём от этого абсолютное значение, а потом суммируем всё и делим на количество. Последние два действия - по сути взятие среднего от вектора. Попробуйте!"
      ]
    },
    {
      "cell_type": "code",
      "execution_count": 22,
      "metadata": {
        "_cell_id": "PM2OGTIjY4IpFcfA",
        "id": "GOLJJpnupXIV",
        "outputId": "ece977d4-9dbc-47a7-8517-30b1b3c0aa66",
        "colab": {
          "base_uri": "https://localhost:8080/"
        }
      },
      "outputs": [
        {
          "output_type": "stream",
          "name": "stdout",
          "text": [
            "3.0\n"
          ]
        }
      ],
      "source": [
        "import numpy as np\n",
        "\n",
        "def compute_MAE(y_true, y_pred):\n",
        "  \"\"\"\n",
        "  Функция вычисляет среднюю абсолютную ошибку (MAE).\n",
        "\n",
        "  Args:\n",
        "      y_true: Вектор истинных значений.\n",
        "      y_pred: Вектор предсказанных значений.\n",
        "\n",
        "  Returns:\n",
        "      Средняя абсолютная ошибка (MAE).\n",
        "  \"\"\"\n",
        "\n",
        "  errors = np.abs(y_true - y_pred)\n",
        "\n",
        "  mae = np.mean(errors)\n",
        "\n",
        "  return mae\n",
        "\n",
        "y_true = np.array([100, 120, 150])\n",
        "\n",
        "y_pred = np.array([95, 118, 148])\n",
        "\n",
        "mae = compute_MAE(y_true, y_pred)\n",
        "\n",
        "print(mae)\n"
      ]
    },
    {
      "cell_type": "code",
      "execution_count": 23,
      "metadata": {
        "_cell_id": "LM0oTZ82G61SNXnT",
        "id": "YpbN2Dy0pXIV",
        "outputId": "7ec31840-7aa0-4f00-cf10-63391f9ee97b",
        "colab": {
          "base_uri": "https://localhost:8080/"
        }
      },
      "outputs": [
        {
          "output_type": "stream",
          "name": "stdout",
          "text": [
            "Well done!\n"
          ]
        }
      ],
      "source": [
        "# TEST - проверимс ваше решение\n",
        "_test_mae_1 = compute_MAE(np.array([1, 2, 4]), np.array([4, 2, 1]))\n",
        "np.testing.assert_equal(_test_mae_1, 2)\n",
        "_test_mae_2 = compute_MAE(np.array([10, 20, 3]), np.array([2, 1, 0]))\n",
        "np.testing.assert_equal(_test_mae_2, 10)\n",
        "\n",
        "print(\"Well done!\")"
      ]
    },
    {
      "cell_type": "markdown",
      "metadata": {
        "id": "HHSfbd1wpXIV"
      },
      "source": [
        "У вас получилось, отлично!\n",
        "\n",
        "Давайте теперь посмотрим, какая сейчас у нас ошибка при наших коэффициентах!"
      ]
    },
    {
      "cell_type": "code",
      "execution_count": 24,
      "metadata": {
        "_cell_id": "JruGARD4YXvSZ15d",
        "id": "MStuvJmXpXIV",
        "outputId": "9af84a76-39df-4675-c2cf-946e8a0448ce",
        "colab": {
          "base_uri": "https://localhost:8080/"
        }
      },
      "outputs": [
        {
          "output_type": "stream",
          "name": "stdout",
          "text": [
            "Yoghurt linear predict MAE: 3.0\n"
          ]
        }
      ],
      "source": [
        "data_mae = compute_MAE(y_true, y_pred)\n",
        "\n",
        "print(f\"Yoghurt linear predict MAE: {data_mae}\")"
      ]
    },
    {
      "cell_type": "markdown",
      "metadata": {
        "id": "A4CLoJ_bpXIV"
      },
      "source": [
        "Таким образом MAE показывает среднюю ошибку в предсказании на данных - 45.6 рублей. Много это или мало трудно сказать вот так, но это нам сейчас не нужно. Все потому, что мы будем использовать эту метрику для сравнения наших моделей при разных значениях параметров. Нам ведь нужно от чего-то отталкиваться?..\n",
        "\n",
        "> ⚠️ Метрика средней абсолютной ошибки показывает ошибку в тех же единицах, что и единицы самих данных.\n",
        "\n",
        "> ⚠️ Метрики точности всегда оцениваются на данных, у которых есть истинные значения (разметка). Без разметки оценку провести невозможно!\n",
        "\n",
        "Так как же мы будем проводить настройку? Сами посудите, метрика показывает ошибку, а чем меньше ошибка, тем лучше! Давайте попробуем настроить нашу модель таким образом, чтобы получить наименьшую ошибку MAE! Пробуем!"
      ]
    },
    {
      "cell_type": "code",
      "execution_count": 25,
      "metadata": {
        "_cell_id": "zGEkeN96AsuhE7wj",
        "id": "tYfK4rggpXIW",
        "outputId": "83000948-6a3e-424b-8782-a03a8b8b9989",
        "colab": {
          "base_uri": "https://localhost:8080/"
        }
      },
      "outputs": [
        {
          "output_type": "stream",
          "name": "stdout",
          "text": [
            "Yoghurt linear predict MAE с начальными коэффициентами: 45.6\n",
            "Yoghurt linear predict MAE с оптимальными коэффициентами: 1.3330979909021976\n",
            "Yoghurt linear predict MAE: 45.6\n"
          ]
        }
      ],
      "source": [
        "import numpy as np\n",
        "from sklearn.linear_model import LinearRegression\n",
        "\n",
        "def predict_price_linear(features, k, b):\n",
        "    \"\"\"\n",
        "    Функция предсказывает цену на основе линейной модели.\n",
        "\n",
        "    Args:\n",
        "        features: Вектор признаков (например, объемы).\n",
        "        k: Коэффициент k (наклон) линейной модели.\n",
        "        b: Коэффициент b (свободный член) линейной модели.\n",
        "\n",
        "    Returns:\n",
        "        Вектор предсказанных цен.\n",
        "    \"\"\"\n",
        "\n",
        "\n",
        "    predicted_prices = k * features + b\n",
        "\n",
        "    return predicted_prices\n",
        "\n",
        "def compute_MAE(y_true, y_pred):\n",
        "  \"\"\"\n",
        "  Функция вычисляет среднюю абсолютную ошибку (MAE).\n",
        "\n",
        "  Args:\n",
        "      y_true: Вектор истинных значений.\n",
        "      y_pred: Вектор предсказанных значений.\n",
        "\n",
        "  Returns:\n",
        "      Средняя абсолютная ошибка (MAE).\n",
        "  \"\"\"\n",
        "\n",
        "\n",
        "  errors = np.abs(y_true - y_pred)\n",
        "\n",
        "\n",
        "  mae = np.mean(errors)\n",
        "\n",
        "  return mae\n",
        "\n",
        "\n",
        "LINE_K = 0.1\n",
        "LINE_B = 0\n",
        "\n",
        "y_true = df_yogurths[\"price_rub\"]\n",
        "x = df_yogurths[\"volume\"]\n",
        "\n",
        "y_pred = predict_price_linear(x, LINE_K, LINE_B)\n",
        "\n",
        "data_mae = compute_MAE(y_true, y_pred)\n",
        "\n",
        "print(f\"Yoghurt linear predict MAE с начальными коэффициентами: {data_mae}\")\n",
        "\n",
        "\n",
        "model = LinearRegression()\n",
        "\n",
        "\n",
        "model.fit(x.values.reshape(-1, 1), y_true.values)\n",
        "\n",
        "\n",
        "k_optimal = model.coef_[0]\n",
        "b_optimal = model.intercept_\n",
        "\n",
        "\n",
        "y_pred_optimal = predict_price_linear(x, k_optimal, b_optimal)\n",
        "\n",
        "\n",
        "mae_optimal = compute_MAE(y_true, y_pred_optimal)\n",
        "print(f\"Yoghurt linear predict MAE с оптимальными коэффициентами: {mae_optimal}\")\n",
        "\n",
        "\n",
        "LINE_K = 0.1\n",
        "LINE_B = 0\n",
        "\n",
        "y_true = df_yogurths[\"price_rub\"]\n",
        "x = df_yogurths[\"volume\"]\n",
        "\n",
        "y_pred = predict_price_linear(x, LINE_K, LINE_B)\n",
        "\n",
        "data_mae = compute_MAE(y_true, y_pred)\n",
        "\n",
        "print(f\"Yoghurt linear predict MAE: {data_mae}\")"
      ]
    },
    {
      "cell_type": "code",
      "execution_count": 26,
      "metadata": {
        "_cell_id": "n9VtALRSm29GACNv",
        "id": "c_CLjpwwpXIW",
        "outputId": "345b0979-15fe-4ac4-8a80-28415f6cc965",
        "colab": {
          "base_uri": "https://localhost:8080/"
        }
      },
      "outputs": [
        {
          "output_type": "stream",
          "name": "stdout",
          "text": [
            "Yoghurt linear predict MAE с оптимальными коэффициентами: 22.257008073193287\n"
          ]
        }
      ],
      "source": [
        "import numpy as np\n",
        "from sklearn.linear_model import LinearRegression\n",
        "from sklearn.preprocessing import PolynomialFeatures\n",
        "\n",
        "\n",
        "degree = 2\n",
        "poly_features = PolynomialFeatures(degree=degree)\n",
        "\n",
        "model = LinearRegression()\n",
        "\n",
        "x_poly = poly_features.fit_transform(x.values.reshape(-1, 1))\n",
        "\n",
        "model.fit(x_poly, y_true.values)\n",
        "\n",
        "poly_coefficients = model.coef_\n",
        "poly_intercept = model.intercept_\n",
        "\n",
        "y_pred_optimal = predict_price_linear(x, poly_coefficients[0], poly_intercept)\n",
        "\n",
        "mae_optimal = compute_MAE(y_true, y_pred_optimal)\n",
        "print(f\"Yoghurt linear predict MAE с оптимальными коэффициентами: {mae_optimal}\")\n"
      ]
    },
    {
      "cell_type": "markdown",
      "metadata": {
        "id": "I0d9xUekpXIW"
      },
      "source": [
        "Отлично, мы без графиков смогли настроить модель так, чтобы ошибка предсказания на известных данных была минимальна! Но давайте сверимся, что наша прямая линия действительно проходит через точки:"
      ]
    },
    {
      "cell_type": "code",
      "execution_count": 27,
      "metadata": {
        "_cell_id": "Nn8ZsmFl2XyScDzp",
        "id": "dQzVY1cNpXIW",
        "outputId": "3ee7d375-257b-4c7d-b458-1c95c6cb72c5",
        "colab": {
          "base_uri": "https://localhost:8080/",
          "height": 579
        }
      },
      "outputs": [
        {
          "output_type": "display_data",
          "data": {
            "text/plain": [
              "<Figure size 800x600 with 1 Axes>"
            ],
            "image/png": "[encoded data removed]"
          },
          "metadata": {}
        }
      ],
      "source": [
        "import matplotlib.pyplot as plt\n",
        "import numpy as np\n",
        "from sklearn.linear_model import LinearRegression\n",
        "from sklearn.preprocessing import PolynomialFeatures\n",
        "\n",
        "\n",
        "plt.figure(figsize=(8, 6))\n",
        "\n",
        "\n",
        "plt.scatter(x, y_true, label=\"Реальные данные\", color=\"blue\", marker=\"o\")\n",
        "\n",
        "\n",
        "plt.plot(x, y_pred_optimal, label=\"Линейная регрессия\", color=\"red\")\n",
        "\n",
        "\n",
        "\n",
        "\n",
        "plt.xlabel(\"Объем йогурта (мл)\")\n",
        "plt.ylabel(\"Цена (руб.)\")\n",
        "plt.title(\"Зависимость цены от объема йогурта\")\n",
        "plt.legend()\n",
        "plt.grid(True)\n",
        "plt.show()\n"
      ]
    },
    {
      "cell_type": "markdown",
      "metadata": {
        "id": "A9qudr_1pXIW"
      },
      "source": [
        "Воу-воу, вот это мы молодцы! Без графиков смогли настроить модель, да ещё и она действительно повторяет закономерность в данных! Замечательно!\n",
        "\n",
        "Получается, с помощью численных оценок ошибки предсказаний по метрике MAE модели мы смогли настроить нашу модель так, чтобы она давала наименьшую ошибку предсказания!\n",
        "\n",
        "В целом, если говорить о машинном обучении, то примерно так модель и учится - перебирает параметры, глядя на метрику ошибки, и пытается свести её к минимуму. Только делает это чуть умнее - не простым перебором.\n",
        "\n",
        "> В данных практиках мы не будем рассматривать алгоритм обучения, но вы можете попробовать свои силы в реализации, чтобы лучше его понять. Для этого обратитесь к преподавателю за дополнительным заданием.\n",
        "\n",
        "Итак, мы смогли создать свою модель, научились предсказывать на новых данных, да ещё и оценили ошибку настройки количественно - прям по-научному! Круто - большие молодцы!"
      ]
    },
    {
      "cell_type": "markdown",
      "metadata": {
        "id": "0PONtc0DpXIW"
      },
      "source": [
        "## Пора применять современные инструменты"
      ]
    },
    {
      "cell_type": "markdown",
      "metadata": {
        "id": "Gcd_6DZQpXIW"
      },
      "source": [
        "Писать модель машинного обучения вручную - дело очень полезное, но крайне непродуктивное.\n",
        "\n",
        "> 🔥 В мире разработки существует огромное количество готовых решений. Вне зависимости от задачи первым дело проверяйте, существуют ли готовые решения и насколько они поддерживаемы. Писать код с нуля при наличии подходящих готовых решений считается *велосипедостроением* и не приветствуется. Не забывайте про анализ готовых решений!\n",
        "\n",
        "Чтобы поддерживать актуальность, мы будем пользоваться билиотекой [scikit-learn](https://scikit-learn.org/), которая является де-факто одной из стандартных библиотек в задачах машинного обучения.\n",
        "\n",
        "Откроем вам маааленький секрет, задача, которую мы с вами решали - описание зависимости целевой переменной от признаков - называется **задача регрессии**, а модель, которую мы разработали - **линейная регрессия**.\n",
        "\n",
        "Сейчас у нас был один признак и одна целевая переменная, поэтому уравнение зависимости имело вид $y=kx+b$. Помните, что $k$ и $b$ - параметры модели? Так вот, коэфициент $k$ называется весом признака $x$, а коэффициент $b$ - константное смещение.\n",
        "\n",
        "Если бы в наших данных был бы ещё один признак, например, количество дней хранения, то наше уравнение имело бы вид: $$y = w_1*x_1+w_2*x_2+w_0$$\n",
        "\n",
        "> Не пугайтесь, просто заменили $k \\rightarrow w_1$, а $b \\rightarrow w_0$, чтобы привести к более общему виду =)\n",
        "\n",
        "Здесь $x_1$ - объем упаковки, $x_2$ - количество дней хранения. Как видите, каждый признак имеет вес, обозначаемый $w_n$. Таким вот нехитрым образом мы может делать модель предсказания, если в наших данных целевая переменная зависит не от одного, а от многих признаков!\n",
        "\n",
        "В общем виде, можно написать уравнение для $n$ признаков:\n",
        "\n",
        "$$y = \\sum_{i=1}^{n} w_i*x_i + w_0$$"
      ]
    },
    {
      "cell_type": "markdown",
      "metadata": {
        "id": "KQBLXyPKpXIX"
      },
      "source": [
        "Так к чему все эти разговоры? Просто, этот маленький факт позволяет заглянуть в функционал фреймворка `sklearn` по [части регрессии](https://scikit-learn.org/stable/supervised_learning.html#supervised-learning) и увидеть, сколько там всего интересного!\n",
        "\n",
        "Начнем мы с построения модели, давайте воспользуемся классом [LinearRegression](https://scikit-learn.org/stable/modules/generated/sklearn.linear_model.LinearRegression.html) для обучения модели:"
      ]
    },
    {
      "cell_type": "code",
      "execution_count": 28,
      "metadata": {
        "_cell_id": "I4nY52jZZQAzx7dF",
        "id": "DTMaC2e-pXIX",
        "outputId": "21682b0f-faf9-4c26-d5d3-ce85bcfe2c0b",
        "colab": {
          "base_uri": "https://localhost:8080/",
          "height": 860
        }
      },
      "outputs": [
        {
          "output_type": "display_data",
          "data": {
            "text/plain": [
              "<Figure size 1500x1000 with 1 Axes>"
            ],
            "image/png": "[encoded data removed]"
          },
          "metadata": {}
        }
      ],
      "source": [
        "from sklearn.linear_model import LinearRegression\n",
        "\n",
        "# Создаем объект класса LinearRegression\n",
        "reg_model = LinearRegression()\n",
        "\n",
        "# Применяем .fit() метод с передачей матрицы признаков и вектором разметки (истинных значений)\n",
        "y_true = df_yogurths[\"price_rub\"]\n",
        "x = df_yogurths[\"volume\"].values\n",
        "# NOTE - модели обычно используют матрицу признаков, но в нашем случае это всего лишь вектор, поэтому меняем размер\n",
        "x_matrix = x.reshape(-1, 1)\n",
        "reg_model.fit(x_matrix, y_true)\n",
        "\n",
        "# Используем модель для предсказания на известных данных\n",
        "y_pred = reg_model.predict(x_matrix)\n",
        "\n",
        "plt.scatter(x, y_true, marker=\"x\", label=\"Истинное\")\n",
        "plt.scatter(x, y_pred, c=\"r\", marker=\"o\", s=20, label=\"Предсказанное\")\n",
        "plt.xlabel(\"Объем, мл\")\n",
        "plt.ylabel(\"Цена, руб\")\n",
        "plt.legend()\n",
        "plt.grid()"
      ]
    },
    {
      "cell_type": "markdown",
      "metadata": {
        "id": "1YxYUrMSpXIX"
      },
      "source": [
        "Вот таким маленьким кодом мы обучили модель, сделали предсказания на данных и видим, что предсказанные значения близки к истинным! В этом сила фреймворков - они организуют работу и заворачивают в себя код, который выполняет большую и сложную работу.\n",
        "\n",
        "> 🤓 Свойство включать в себя атрибуты (переменные внутри класса), методы (функции класса) для работы с атрибутами называется **инкапсуляция**. Это одно из свойств, на котором строится ООП и которым обладают классы в Python.\n",
        "\n",
        "Так как `LinearRegression` - класс, то он включает в себя атрибуты (увидим позже) и методы (`.fit()`, `.predict()`), которые позволяют удобно выполнять требуемые задачи.\n",
        "\n",
        "По сути, метод `.fit()` организует поиск таких коэффициентов модели линейной регрессии, чтобы минимизировать ошибку.\n",
        "\n",
        "Давайте сравним значения ошибки при ручном поиске и при обучении с помощью класса LinearRegression:"
      ]
    },
    {
      "cell_type": "code",
      "execution_count": 29,
      "metadata": {
        "_cell_id": "l3fUOxMSc4VYNnDW",
        "id": "JweCSI6JpXIX",
        "outputId": "65b86cb2-b4f2-4131-b873-1a542917e84c",
        "colab": {
          "base_uri": "https://localhost:8080/"
        }
      },
      "outputs": [
        {
          "output_type": "stream",
          "name": "stdout",
          "text": [
            "MAE manual vs sklearn: 45.6 | 1.3330979909021976\n"
          ]
        }
      ],
      "source": [
        "y_pred_manual = predict_price_linear(x, LINE_K, LINE_B)\n",
        "y_pred_sklearn = y_pred\n",
        "\n",
        "mae_manual = compute_MAE(y_true, y_pred_manual)\n",
        "mae_sklearn = compute_MAE(y_true, y_pred_sklearn)\n",
        "\n",
        "print(f\"MAE manual vs sklearn: {mae_manual} | {mae_sklearn}\")"
      ]
    },
    {
      "cell_type": "markdown",
      "metadata": {
        "id": "58wnDWmupXIY"
      },
      "source": [
        "Как видим, ошибка модели sklearn не сильно отличается от той, что мы получили при настройке руками. А теперь пора взглянуть на коэффициенты, которые получились при настройке через [LinearRegression](https://scikit-learn.org/stable/modules/generated/sklearn.linear_model.LinearRegression.html). Для этого перейдем по ссылке и посмотрим, в каких атрибутах хранятся веса модели. Воспользуемся знаниями из документации для сравнения:"
      ]
    },
    {
      "cell_type": "code",
      "execution_count": 30,
      "metadata": {
        "_cell_id": "IFv0XBwHePiJSxuA",
        "id": "Dc4tqyr6pXIY",
        "outputId": "bdb0cd70-ecfe-46c0-c93c-c8b0ed3f6cab",
        "colab": {
          "base_uri": "https://localhost:8080/"
        }
      },
      "outputs": [
        {
          "output_type": "stream",
          "name": "stdout",
          "text": [
            "Manual setup parameters: 0.1 | 0\n",
            "LinearRegerssion parameters: [0.02005899] | 44.81829274071265\n"
          ]
        }
      ],
      "source": [
        "print(f\"Manual setup parameters: {LINE_K} | {LINE_B}\")\n",
        "print(f\"LinearRegerssion parameters: {reg_model.coef_} | {reg_model.intercept_}\")"
      ]
    },
    {
      "cell_type": "markdown",
      "metadata": {
        "id": "xH0P3JHGpXIY"
      },
      "source": [
        "Как видно, коэффициенты у моделей тоже сходятся! Замечательно!\n",
        "\n",
        "Давайте теперь выполним последнюю задачку - сравните работу своей функции `compute_MAE()` и функции фреймворка [mean_absolute_error](https://scikit-learn.org/stable/modules/generated/sklearn.metrics.mean_absolute_error.html)."
      ]
    },
    {
      "cell_type": "code",
      "execution_count": 31,
      "metadata": {
        "_cell_id": "IrXWhJBObhcP7ZYs",
        "id": "nRmOV3jEpXIY",
        "outputId": "8d612831-aee2-44d4-ef6b-2c7a754a9014",
        "colab": {
          "base_uri": "https://localhost:8080/"
        }
      },
      "outputs": [
        {
          "output_type": "stream",
          "name": "stdout",
          "text": [
            "Реальная цена: 58.000000, Предсказанная цена: 43.542992\n",
            "Реальная цена: 85.000000, Предсказанная цена: 43.542992\n",
            "Реальная цена: 67.000000, Предсказанная цена: 43.542992\n",
            "Реальная цена: 69.000000, Предсказанная цена: 43.542992\n",
            "Реальная цена: 50.000000, Предсказанная цена: 43.542992\n",
            "MAE: 22.257008\n"
          ]
        }
      ],
      "source": [
        "import numpy as np\n",
        "from sklearn.linear_model import LinearRegression\n",
        "from sklearn.preprocessing import PolynomialFeatures\n",
        "\n",
        "\n",
        "for i in range(len(y_true)):\n",
        "    print(f\"Реальная цена: {y_true[i]:.6f}, Предсказанная цена: {y_pred_optimal[i]:.6f}\")\n",
        "\n",
        "\n",
        "print(f\"MAE: {mae_optimal:.6f}\")\n"
      ]
    },
    {
      "cell_type": "markdown",
      "metadata": {
        "id": "M59INGmapXIY"
      },
      "source": [
        "Если результаты функций сходятся до шестого знака, то все сделано правильно и, как видите, наши вычисления проводятся с точностью до шестого знака, как это делается в признанном фреймворке! Отличный результат!\n",
        "\n",
        "> 🔥 Почему мы сразу не пользовались функцией `mean_absolute_error()`? Использование фреймворков - полезный и продуктивный подход, но слепое использование готового кода может приводить к серьёзным ошибкам и постыдным решениям. Не забывайте разбираться и анализировать, что вы делаете и понимать принципы тех фреймворков, с которыми вы работаете. Эти знания могут вам сильно пригодиться в будущем, чтобы разбираться с новыми фреймворками, так как многие построены по одинаковым или похожим принципам. Также, хорошее понимание принципов тех или иных методов и алгоритмов уменьшает шанс ошибки, так как сразу видно, где что-то идет не так."
      ]
    },
    {
      "cell_type": "markdown",
      "metadata": {
        "id": "RTf9H2w9pXIY"
      },
      "source": [
        "Вот так мы и смогли обучить реальную модель машинного обучения и применить современные инструменты, которыми пользуются разработчики со всего мира, чтобы настроить модель на предсказания цены йогуртов! Какие мы молодцы!\n",
        "В дальнейшем мы ещё много всего узнаем, но уже сейчас мы научились многому новому, что поможет нам в дальнейшем!"
      ]
    },
    {
      "cell_type": "markdown",
      "metadata": {
        "id": "EtgcTXsfpXIY"
      },
      "source": [
        "## Вопросы для закрепления\n",
        "\n",
        "А теперь пара вопросов, чтобы закрепить материал!\n",
        "\n",
        "1. Почему регрессия \"линейная\"?\n",
        "2. Есть ли смысл предсказывать данные, на которых обучалась модель?\n",
        "3. Зачем изменять размер вектора фичей (в случае, когда только 1 признак) для обучения модели?\n",
        "4. Зачем нужна метрика MAE?\n",
        "5. Нужно ли заново переучивать модель при появлении новых данных?"
      ]
    },
    {
      "cell_type": "markdown",
      "source": [
        "## Полезные ссылки\n",
        "* [Linear Regression от StatQuest](https://www.youtube.com/watch?v=nk2CQITm_eo)\n"
      ],
      "metadata": {
        "id": "fX0dmJ2ypXIY"
      }
    }
  ],
  "metadata": {
    "kernelspec": {
      "display_name": "Python 3.8.10 64-bit",
      "language": "python",
      "name": "python3"
    },
    "language_info": {
      "codemirror_mode": {
        "name": "ipython",
        "version": 3
      },
      "file_extension": ".py",
      "mimetype": "text/x-python",
      "name": "python",
      "nbconvert_exporter": "python",
      "pygments_lexer": "ipython3",
      "version": "3.10.15"
    },
    "vscode": {
      "interpreter": {
        "hash": "5ef4d00d2bd0c756646408250b3e0222db1655439c25a4f11279476b8286db07"
      }
    },
    "colab": {
      "provenance": [],
      "include_colab_link": true
    }
  },
  "nbformat": 4,
  "nbformat_minor": 0
}