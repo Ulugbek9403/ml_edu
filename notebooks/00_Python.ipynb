{
  "cells": [
    {
      "cell_type": "markdown",
      "metadata": {
        "id": "view-in-github",
        "colab_type": "text"
      },
      "source": [
        "<a href=\"https://colab.research.google.com/github/Ulugbek9403/ml_edu/blob/master/notebooks/00_Python.ipynb\" target=\"_parent\"><img src=\"https://colab.research.google.com/assets/colab-badge.svg\" alt=\"Open In Colab\"/></a>"
      ]
    },
    {
      "cell_type": "markdown",
      "metadata": {
        "id": "Qesf_YoJGLD4"
      },
      "source": [
        "# Знакомимся с основами Python"
      ]
    },
    {
      "cell_type": "markdown",
      "source": [
        "## Содержание\n",
        "\n",
        "* [Что такое Jupyter](#Что-такое-Jupyter)\n",
        "* [Python. Начало](#Python.-Начало)\n",
        "  * [Задание - первый код](#Задание---первый-код)\n",
        "* [Итоги по работе с ноутбуками](#Итоги-по-работе-с-ноутбуками)\n",
        "* [Типы данных](#Типы-данных)\n",
        "  * [Int, Float, Boolean](#Int,-Float,-Boolean)\n",
        "  * [Complex](#Complex)\n",
        "  * [String](#String)\n",
        "  * [None](#None)\n",
        "  * [List](#List)\n",
        "  * [Задание - работаем со списком](#Задание---работаем-со-списком)\n",
        "  * [Tuple](#Tuple)\n",
        "  * [Задание - внезапчик](#Задание---внезапчик)\n",
        "  * [Dict](#Dict)\n",
        "  * [Задание - что-то новенькое](#Задание---что-то-новенькое)\n",
        "  * [Set](#Set)\n",
        "  * [Задание - учимся объединять](#Задание---учимся-объединять)\n",
        "* [Преобразование типов](#Преобразование-типов)\n",
        "* [Никуда без ложки дёгтя...](#Никуда-без-ложки-дёгтя...)\n",
        "* [Заключение](#Заключение)\n"
      ],
      "metadata": {
        "id": "ZB3bAQ6-9g-I"
      }
    },
    {
      "cell_type": "markdown",
      "metadata": {
        "id": "EpPbRXM79g-K"
      },
      "source": [
        "В этом ноубуке:\n",
        "- Что такое Юпитер? (ответ про пятую от солнца планету не принимается),\n",
        "- Привет, доброе утро, мир!\n",
        "- Типы данных"
      ]
    },
    {
      "cell_type": "markdown",
      "metadata": {
        "id": "yBHeFE2N9g-K"
      },
      "source": [
        "## Что такое Jupyter"
      ]
    },
    {
      "cell_type": "markdown",
      "metadata": {
        "id": "RW8-pMw49g-L"
      },
      "source": [
        "В первой практике сначала мы познакомимся с Jupyter.\n",
        "\n",
        "<img src = \"https://raw.githubusercontent.com/AleksDevEdu/ml_edu/master/assets/logo/main-logo.svg\" height=\"150px\"></img>\n",
        "\n",
        "Jupyter - это проект, в рамках которого на данный момент разрабатываются 3 среды для работы с интерактивными приложениями в виде \"вычислительных тетрадей\" или же ноутбуков(notebooks). Если говорить коротко, то этот вид подразумевает блочную структуру в рамках одного файла, чередуя исполняемый код с поясняющим текстом, математикой и графическим представлением результирующих объектов.\n",
        "\n",
        "Формат файлов, с которым работают приложения ipynb - интерактивные+питоновские+ноутбуки. ipynb - сам по себе текстовый формат, состоящий из структур, содержащих метаданные, код, и выходные данные (всё в виде JSON структур: \"имя-значение\").\n",
        "\n",
        "В названии формата нашел отражение проект - предок, а именно IPython - это интерактивная оболочка для языка Python (архитектура которой позволяет добиться одновременного подключения нескольких интерфейсов к интерпретатору).\n",
        "\n",
        "<img src = \"https://raw.githubusercontent.com/AleksDevEdu/ml_edu/master/assets/logo/IPy-logo.png\" height=\"150px\" ></img>\n",
        "<style>\n",
        "   img {\n",
        "    background-color: #FFFFFF; /* Цвет фона */\n",
        "   }\n",
        "</style>\n",
        "\n",
        "Назовем три приложения от самой команды проекта:\n",
        "* JupyterLab - веб приложение для работы с IPython\n",
        "* Jupyter Notebooks - это веб оболочка для работы с IPython. Имеет именно такое название и оно именно web приложение\n",
        "* Voila\n",
        "\n",
        "Работать с этой модифицированной оболочкой, а следовательно и с форматом ноутбука, можно со многими другими IDE: Anacondas, VSCode и других\n",
        "\n",
        "Кто не знал, в английском языке слово notebook не сильно замылено значением laptop и часто используется по своему прямому назначению, и потому совсем не режет слух. Привыкаем...\n",
        "\n",
        "Окончили вводную, теперь пара очень важных хоткеев для работы с этой оболочкой:\n",
        "- `Ctrl + Enter` - выполнить ячейку;\n",
        "- `Shift + Enter` - выполнить ячейку и перейти к следующей;\n",
        "- `Ctrl + Space` - вывести подсказки автодополнения (на основе функций модулей, ваших функций из выполненных ячеек и переменных из выполненных ячеек);\n",
        "- `Инструменты -> Сочетания клавиш (Ctrl+M H)` - просмотр и настройка основных сочетаний клавиш;\n",
        "\n",
        "Вся среда разработки разбита на **ячейки**, которые содержат код. Напомним, что в ноутбуках есть 2 основных типа ячеек:\n",
        "- текстовый с разными \"особенностями\" - Markdown;\n",
        "- исполняемые блоки - например, на языке Python.\n",
        "\n",
        "Формат ячейки можно увидеть в её углу. Так как язык Python интерпретируемый, то все команды в ячейке передаются интерпретатору по очереди. Данное правило работает даже для случая, если ячейки выполняются не последовательно.\n",
        "\n",
        "> Можно открыть навигацию по заголовкам (в VSCode - Outline на верхней панели)"
      ]
    },
    {
      "cell_type": "markdown",
      "metadata": {
        "id": "kbkDnoj2RgxY"
      },
      "source": [
        "## Python. Начало"
      ]
    },
    {
      "cell_type": "markdown",
      "metadata": {
        "id": "V9zCGtuoKksp"
      },
      "source": [
        "Начнем с простого Hello World. Выполните ячейку и вы увидите результат ее выполнения ниже."
      ]
    },
    {
      "cell_type": "code",
      "execution_count": 23,
      "metadata": {
        "colab": {
          "base_uri": "https://localhost:8080/"
        },
        "id": "8Cv-XnvPGRvx",
        "outputId": "c2f57465-3169-4369-ff74-c6eaa806a5de",
        "_cell_id": "kCbekANd0f0RpzKC"
      },
      "outputs": [
        {
          "output_type": "stream",
          "name": "stdout",
          "text": [
            "Hello World!\n"
          ]
        }
      ],
      "source": [
        "print(\"Hello World!\")"
      ]
    },
    {
      "cell_type": "markdown",
      "metadata": {
        "id": "M4QnJ_3aK27F"
      },
      "source": [
        "Часто бывает нужно посмотреть краткую информацию о той или иной функции, среда jupyter также поддерживает краткую справку по функциям, но при этом полное описание с примерами чаще всего можно найти на официальном сайте фреймворка, к которому относится функция.\n",
        "\n",
        "Давайте выведем информацию о функции, которую используем. После выполнения следующей ячейки откроется окно справки, в котором можно прочитать базовую информацию и аргументы функции."
      ]
    },
    {
      "cell_type": "code",
      "execution_count": 25,
      "metadata": {
        "id": "7SPUO6tTK0XN",
        "_cell_id": "hfUEP88vXCa3ImWY",
        "outputId": "0fc8d5a5-9d99-4d24-a208-b726cfebc906",
        "colab": {
          "base_uri": "https://localhost:8080/"
        }
      },
      "outputs": [
        {
          "output_type": "execute_result",
          "data": {
            "text/plain": [
              "<function print>"
            ]
          },
          "metadata": {},
          "execution_count": 25
        }
      ],
      "source": [
        "print"
      ]
    },
    {
      "cell_type": "code",
      "source": [
        "import pandas as pd\n",
        "\n",
        "# Создаем DataFrame\n",
        "data = {'Name': ['Alice', 'Bob', 'Charlie'],\n",
        "        'Age': [25, 30, 28],\n",
        "        'City': ['New York', 'London', 'Paris']}\n",
        "df = pd.DataFrame(data)\n",
        "\n",
        "print(df)\n",
        "\n",
        "# Чтение данных из CSV файла\n",
        "# df = pd.read_csv('data.csv')\n"
      ],
      "metadata": {
        "id": "0ROsMQXIAP76",
        "outputId": "851136b8-97a7-4640-f777-5c2cc8277bef",
        "colab": {
          "base_uri": "https://localhost:8080/"
        }
      },
      "execution_count": 26,
      "outputs": [
        {
          "output_type": "stream",
          "name": "stdout",
          "text": [
            "      Name  Age      City\n",
            "0    Alice   25  New York\n",
            "1      Bob   30    London\n",
            "2  Charlie   28     Paris\n"
          ]
        }
      ]
    },
    {
      "cell_type": "markdown",
      "metadata": {
        "id": "TkZxK-67Lihe"
      },
      "source": [
        "Отлично! Мы не только написали свой первый Hello World на Python, но и узнали краткую информацию о функции для вывода в стандартный вывод.\n",
        "\n",
        "> В Google Colab при наведении на функцию или переменную появляется также небольшая справка\n",
        "\n",
        "Самое время перейти к вопросам **управления пакетами**. В языке Python дополнительные модули (библиотеки) поставляются в виде модулей, которые можно установить из стандартного репозитория PyPI (https://pypi.org/). Для того, чтобы в среде jupyter установить пакет для интерпретатора используется волшебная команда с помощью знака \"%\", который предполагает выполнения команд вне синтаксиса языка Python на языке Shell (консольные команды).\n",
        "\n",
        "> Подробнее о командах с \"%\" (магические команды) можно почитать на [странице](https://ipython.readthedocs.io/en/stable/interactive/magics.html)"
      ]
    },
    {
      "cell_type": "markdown",
      "metadata": {
        "id": "joQrUBWgOrCr"
      },
      "source": [
        "Пора установить наш первый необходимый пакет математических операций numpy."
      ]
    },
    {
      "cell_type": "code",
      "execution_count": 27,
      "metadata": {
        "colab": {
          "base_uri": "https://localhost:8080/"
        },
        "id": "QgEFGLjsOw2I",
        "outputId": "2572d0f6-88db-40ef-c20e-08387f89f934",
        "_cell_id": "aS0rQdLrTqXIdx3P"
      },
      "outputs": [
        {
          "output_type": "stream",
          "name": "stdout",
          "text": [
            "Requirement already satisfied: numpy==1.26.4 in /usr/local/lib/python3.10/dist-packages (1.26.4)\n"
          ]
        }
      ],
      "source": [
        "%pip install numpy==1.26.4"
      ]
    },
    {
      "cell_type": "markdown",
      "metadata": {
        "id": "TquNzvi1PLss"
      },
      "source": [
        "Команда установки пакета не представляет сложностей, но при этом **всегда** рекомендуется устанавливать конкретную версию пакетов, чтобы не попасть в ловушку версий, когда разработчики пакета изменили определенный функционал, а мы об этом не узнали и программа перестает работать.\n",
        "\n",
        "Чтобы понять, какие версии есть, можно зайти на сайт пакета в репозитории [PyPI](https://pypi.org/project/numpy/).\n",
        "\n",
        "<details>\n",
        "    <summary>Как работать с версиями? [Нажми на меня]</summary>\n",
        "\n",
        "В практике работы с Python в папке с проектом создается файл `requirements.txt`, в который прописывают имена пакета и версии требуемых для проекта пакетов:\n",
        "```\n",
        "numpy==1.19.0\n",
        "pandas==1.0.3\n",
        "```\n",
        "Так для начала работы с проектом легко установить требуемые пакеты командой `pip install -r requirements`.\n",
        "\n",
        "В результате такой файл является источником информации о том, какие пакеты используются в проекте.\n",
        "\n",
        "Если вы начинаете новый проект, то обязательно создайте такой файл и записывайте в него все пакеты и версии, которые используете!\n",
        "</details>"
      ]
    },
    {
      "cell_type": "markdown",
      "metadata": {
        "id": "NdHfsit3PenE"
      },
      "source": [
        "После того, как мы установили пакет, давайте попробуем его подключить в нашу среду, чтобы затем использовать."
      ]
    },
    {
      "cell_type": "code",
      "execution_count": 28,
      "metadata": {
        "id": "7fQou8iYLhrh",
        "_cell_id": "cnYClAPIM86TiXx5"
      },
      "outputs": [],
      "source": [
        "import numpy as np"
      ]
    },
    {
      "cell_type": "markdown",
      "source": [],
      "metadata": {
        "id": "Ww6WxSvV-baS"
      }
    },
    {
      "cell_type": "markdown",
      "metadata": {
        "id": "93f6dx9tPoZJ"
      },
      "source": [
        "В данной команде мы познакомились с двумя ключевыми словами Python: `import` и `as`. Первое слово подключает пакет к программе. Второе позволяет переименовать название модуля, чтобы использовать общепринятое сокращение и набирать меньше текста. Так, вместо команды `numpy.linspace()` достаточно написать `np.linspace()`, при этом смысл команды не потерялся. Кстати, что это за команда такая?"
      ]
    },
    {
      "cell_type": "markdown",
      "metadata": {
        "id": "N1IG94HncXZl"
      },
      "source": [
        "### Задание - первый код\n",
        "\n",
        "Выведите справку по команде `numpy.linspace()` в ячейке ниже.\n",
        "\n",
        "> Не пугайтесь символа \"#\" - это стандартный способ задания однострочного комментария, они игнорируются интерпретатором."
      ]
    },
    {
      "cell_type": "code",
      "execution_count": 29,
      "metadata": {
        "colab": {
          "base_uri": "https://localhost:8080/"
        },
        "id": "BNxEH5DWHYus",
        "_cell_id": "PUqjcbeEplU2gK1O",
        "outputId": "223a10c7-35d5-4d46-cf45-123ef7e3106f"
      },
      "outputs": [
        {
          "output_type": "stream",
          "name": "stdout",
          "text": [
            "Help on _ArrayFunctionDispatcher in module numpy:\n",
            "\n",
            "linspace(start, stop, num=50, endpoint=True, retstep=False, dtype=None, axis=0)\n",
            "    Return evenly spaced numbers over a specified interval.\n",
            "    \n",
            "    Returns `num` evenly spaced samples, calculated over the\n",
            "    interval [`start`, `stop`].\n",
            "    \n",
            "    The endpoint of the interval can optionally be excluded.\n",
            "    \n",
            "    .. versionchanged:: 1.16.0\n",
            "        Non-scalar `start` and `stop` are now supported.\n",
            "    \n",
            "    .. versionchanged:: 1.20.0\n",
            "        Values are rounded towards ``-inf`` instead of ``0`` when an\n",
            "        integer ``dtype`` is specified. The old behavior can\n",
            "        still be obtained with ``np.linspace(start, stop, num).astype(int)``\n",
            "    \n",
            "    Parameters\n",
            "    ----------\n",
            "    start : array_like\n",
            "        The starting value of the sequence.\n",
            "    stop : array_like\n",
            "        The end value of the sequence, unless `endpoint` is set to False.\n",
            "        In that case, the sequence consists of all but the last of ``num + 1``\n",
            "        evenly spaced samples, so that `stop` is excluded.  Note that the step\n",
            "        size changes when `endpoint` is False.\n",
            "    num : int, optional\n",
            "        Number of samples to generate. Default is 50. Must be non-negative.\n",
            "    endpoint : bool, optional\n",
            "        If True, `stop` is the last sample. Otherwise, it is not included.\n",
            "        Default is True.\n",
            "    retstep : bool, optional\n",
            "        If True, return (`samples`, `step`), where `step` is the spacing\n",
            "        between samples.\n",
            "    dtype : dtype, optional\n",
            "        The type of the output array.  If `dtype` is not given, the data type\n",
            "        is inferred from `start` and `stop`. The inferred dtype will never be\n",
            "        an integer; `float` is chosen even if the arguments would produce an\n",
            "        array of integers.\n",
            "    \n",
            "        .. versionadded:: 1.9.0\n",
            "    \n",
            "    axis : int, optional\n",
            "        The axis in the result to store the samples.  Relevant only if start\n",
            "        or stop are array-like.  By default (0), the samples will be along a\n",
            "        new axis inserted at the beginning. Use -1 to get an axis at the end.\n",
            "    \n",
            "        .. versionadded:: 1.16.0\n",
            "    \n",
            "    Returns\n",
            "    -------\n",
            "    samples : ndarray\n",
            "        There are `num` equally spaced samples in the closed interval\n",
            "        ``[start, stop]`` or the half-open interval ``[start, stop)``\n",
            "        (depending on whether `endpoint` is True or False).\n",
            "    step : float, optional\n",
            "        Only returned if `retstep` is True\n",
            "    \n",
            "        Size of spacing between samples.\n",
            "    \n",
            "    \n",
            "    See Also\n",
            "    --------\n",
            "    arange : Similar to `linspace`, but uses a step size (instead of the\n",
            "             number of samples).\n",
            "    geomspace : Similar to `linspace`, but with numbers spaced evenly on a log\n",
            "                scale (a geometric progression).\n",
            "    logspace : Similar to `geomspace`, but with the end points specified as\n",
            "               logarithms.\n",
            "    :ref:`how-to-partition`\n",
            "    \n",
            "    Examples\n",
            "    --------\n",
            "    >>> np.linspace(2.0, 3.0, num=5)\n",
            "    array([2.  , 2.25, 2.5 , 2.75, 3.  ])\n",
            "    >>> np.linspace(2.0, 3.0, num=5, endpoint=False)\n",
            "    array([2. ,  2.2,  2.4,  2.6,  2.8])\n",
            "    >>> np.linspace(2.0, 3.0, num=5, retstep=True)\n",
            "    (array([2.  ,  2.25,  2.5 ,  2.75,  3.  ]), 0.25)\n",
            "    \n",
            "    Graphical illustration:\n",
            "    \n",
            "    >>> import matplotlib.pyplot as plt\n",
            "    >>> N = 8\n",
            "    >>> y = np.zeros(N)\n",
            "    >>> x1 = np.linspace(0, 10, N, endpoint=True)\n",
            "    >>> x2 = np.linspace(0, 10, N, endpoint=False)\n",
            "    >>> plt.plot(x1, y, 'o')\n",
            "    [<matplotlib.lines.Line2D object at 0x...>]\n",
            "    >>> plt.plot(x2, y + 0.5, 'o')\n",
            "    [<matplotlib.lines.Line2D object at 0x...>]\n",
            "    >>> plt.ylim([-0.5, 1])\n",
            "    (-0.5, 1)\n",
            "    >>> plt.show()\n",
            "\n"
          ]
        }
      ],
      "source": [
        "help(np.linspace)"
      ]
    },
    {
      "cell_type": "markdown",
      "metadata": {
        "id": "U-CnHXZSZIRN"
      },
      "source": [
        "## Итоги по работе с ноутбуками"
      ]
    },
    {
      "cell_type": "markdown",
      "metadata": {
        "id": "-HP9Nj4aZRen"
      },
      "source": [
        "Работа с ноутбуками отличается от разработки через Python скрипты. В этой секции мы обсудим некоторые базовые правила, которых следует придерживаться, чтобы не создавать сложностей при работе с таким форматом.\n",
        "\n",
        "* В ноутбуках можно выполнять ячейки в любом порядке, но это чаще всего приводит к ошибкам, которые трудно разобрать! Пишите код и организуйте выполнение в ячейках **последовательно**.\n",
        "* Если надо поменять код ячейки и перезапустить ее - убедитесь, что вы не забыли ни про какие переменные. Простая проверка - перезапустить ядро (Инструменты -> Перезапустить среду управления) и выполнить все ячейки до измененной.\n",
        "\n",
        "<details>\n",
        "    <summary>Зачем помнить о переменных? [Нажми на меня]</summary>\n",
        "\n",
        "Например, вы выполните ячейку с кодом `a = 3`, а потом ее же перепишите (удалите код ячейки и замените) на `b = a + 2`, то вы получите переменную `b` со значение 5, но вот только такой код не будет рабочим, так как при перезапуске ядра определения переменной не будет существовать. Вся идея в модели исполнения - язык Python интерпретируемый, так что когда вы ему передаете команду `a = 3`, то переменная создастся и останется в памяти пока работает ядро, но рассчитывать на такое - плохо! Надо об этом помнить, но применять это не стоит, лучше явно определять переменные и затем их использовать.\n",
        "</details>\n",
        "\n",
        "*Список созданных переменных* можно посмотреть в среде или через locals() - отображает словарь с именами и значениями переменных в локальной области, но лучше делать так, чтобы это не было нужно.\n",
        "\n",
        "* Комментарии! Ноутбуки совмещают два прекрасных компонента - ячейки с кодом, который можно выполнить, и ячейки с текстом, которые поддерживают яык разметки Markdown. Первые дают возможность писать код, а вторые - делать красивые описания. Теперь не только однострочные комментарии в коде доступны, а еще и красивый текст, формулы и картинки!\n"
      ]
    },
    {
      "cell_type": "markdown",
      "metadata": {
        "id": "HIxyI13kQrk5"
      },
      "source": [
        "Отлично, значит теперь, мы овладели способностью управлять пакетами, а значит все ранее разработанные модули и функции нам подвластны! Но ведь на то и нужны разработчики, чтобы разрабатывать новое или делать что-то лучше! Сегодня предлагаю заняться первым. Перейдем к основным конструкциям и синтаксису языка Python."
      ]
    },
    {
      "cell_type": "markdown",
      "metadata": {
        "id": "i5EqcPFlResP"
      },
      "source": [
        "## Типы данных"
      ]
    },
    {
      "cell_type": "markdown",
      "metadata": {
        "id": "kPN5r_z7RkfY"
      },
      "source": [
        "Какой код обойдется без переменных? Всегда должны быть корзинки, которые хранят состояния, чтобы затем можно было использовать. Бегло пройдемся по порядку. Более расширенную информацию вы найдете на оф.сайте: https://docs.python.org/3.8/library/stdtypes.html."
      ]
    },
    {
      "cell_type": "markdown",
      "metadata": {
        "id": "iN0g0pfuW5Zg"
      },
      "source": [
        "### Int, Float, Boolean"
      ]
    },
    {
      "cell_type": "code",
      "execution_count": 30,
      "metadata": {
        "id": "GD8uQZ8YQdJG",
        "_cell_id": "aPCCfT0mqEi72FJY"
      },
      "outputs": [],
      "source": [
        "var_int = 3\n",
        "var_float = 3.0\n",
        "var_boolean = True"
      ]
    },
    {
      "cell_type": "markdown",
      "metadata": {
        "id": "GqpJV4r7Tdah"
      },
      "source": [
        "Целочисленные, с плавающей точкой и булевы значения, классика. Если вы знакомы с любым другим языком, например, С, С++, Java, то вы точно слышали про данные типы."
      ]
    },
    {
      "cell_type": "markdown",
      "metadata": {
        "id": "dn6bvtGoW_wK"
      },
      "source": [
        "### Complex"
      ]
    },
    {
      "cell_type": "code",
      "execution_count": 31,
      "metadata": {
        "id": "QKdBfJ_0TR7E",
        "_cell_id": "k8X6mJH9xxGcKzM8"
      },
      "outputs": [],
      "source": [
        "var_complex = 3+2j"
      ]
    },
    {
      "cell_type": "markdown",
      "metadata": {
        "id": "Ej_QVagDT6N-"
      },
      "source": [
        "Комплексные числа, уже интереснее. На них распространяются все математические правила, вы даже можете проверить это, создав новую ячейку и проведя интересующие операции."
      ]
    },
    {
      "cell_type": "markdown",
      "metadata": {
        "id": "vBeoJ60hXCJj"
      },
      "source": [
        "### String"
      ]
    },
    {
      "cell_type": "code",
      "execution_count": 32,
      "metadata": {
        "id": "8y7n80P3TTBy",
        "_cell_id": "WbacPrRJnhL3HRdT"
      },
      "outputs": [],
      "source": [
        "var_string = \"hello text\"\n",
        "var_another_string = \"me too!\"\n",
        "var_multiline_string = \"\"\"\n",
        "    big\n",
        "    multiline\n",
        "    string\n",
        "\"\"\""
      ]
    },
    {
      "cell_type": "markdown",
      "metadata": {
        "id": "1etXpMQmUHsB"
      },
      "source": [
        "Различные способы задания строковых значений, пользуйтесь на здоровье."
      ]
    },
    {
      "cell_type": "markdown",
      "metadata": {
        "id": "bbHtfu30XD07"
      },
      "source": [
        "### None"
      ]
    },
    {
      "cell_type": "code",
      "execution_count": 33,
      "metadata": {
        "id": "8zcRvMULTVID",
        "_cell_id": "Kqp80LxLexWUbOAi"
      },
      "outputs": [],
      "source": [
        "var_none = None"
      ]
    },
    {
      "cell_type": "markdown",
      "metadata": {
        "id": "Z-IOAabvUOTu"
      },
      "source": [
        "В языке Python также присутствует специальный тип None, он обособлен от остальных, но пользуется крайне высокой популярностью."
      ]
    },
    {
      "cell_type": "markdown",
      "metadata": {
        "id": "YnKYFUFmUY7K"
      },
      "source": [
        "Теперь коснемся контейнерных типов."
      ]
    },
    {
      "cell_type": "markdown",
      "source": [],
      "metadata": {
        "id": "udngD2vhA3bK"
      }
    },
    {
      "cell_type": "markdown",
      "metadata": {
        "id": "-jaCmvHQXFiN"
      },
      "source": [
        "### List"
      ]
    },
    {
      "cell_type": "code",
      "execution_count": 34,
      "metadata": {
        "id": "twreijv7TZKt",
        "_cell_id": "tCV5UPFQcZlKY63f"
      },
      "outputs": [],
      "source": [
        "var_list = [1, \"111\"]"
      ]
    },
    {
      "cell_type": "markdown",
      "metadata": {
        "id": "eIZv__ejVArI"
      },
      "source": [
        "Список, базовый контейнер для хранения набора данных. Не ограничен конкретным типом. Поддерживает динамическое расширение и удаление элементов. Как же обратиться к элементу списка?"
      ]
    },
    {
      "cell_type": "code",
      "execution_count": 35,
      "metadata": {
        "colab": {
          "base_uri": "https://localhost:8080/",
          "height": 36
        },
        "id": "WRGZ8YJoVq9x",
        "outputId": "503b11a2-e536-4e2e-e391-079ebf9565b2",
        "_cell_id": "r5Pvh6RhemfEKfrd"
      },
      "outputs": [
        {
          "output_type": "execute_result",
          "data": {
            "text/plain": [
              "'111'"
            ],
            "application/vnd.google.colaboratory.intrinsic+json": {
              "type": "string"
            }
          },
          "metadata": {},
          "execution_count": 35
        }
      ],
      "source": [
        "var_list[1]"
      ]
    },
    {
      "cell_type": "markdown",
      "metadata": {
        "id": "rTXPAizHVvuo"
      },
      "source": [
        "Напомним, что **индексация начинается с 0**.\n",
        "\n",
        "Попробуем изменить элемент и вывести список."
      ]
    },
    {
      "cell_type": "code",
      "execution_count": 36,
      "metadata": {
        "colab": {
          "base_uri": "https://localhost:8080/"
        },
        "id": "X10nto8sV6RO",
        "outputId": "37933e3c-2345-4828-f2da-cd21305bf4e9",
        "_cell_id": "5ZIailWiYfsKjcG9"
      },
      "outputs": [
        {
          "output_type": "execute_result",
          "data": {
            "text/plain": [
              "[501, '111']"
            ]
          },
          "metadata": {},
          "execution_count": 36
        }
      ],
      "source": [
        "var_list[0] = 501\n",
        "var_list"
      ]
    },
    {
      "cell_type": "markdown",
      "metadata": {
        "id": "3o2pxOb3V99r"
      },
      "source": [
        "> Обратите внимание, чтобы просмотреть значение переменной достаточно написать ее имя.\n",
        "\n",
        "Как же получить индекс элемента по значению?"
      ]
    },
    {
      "cell_type": "code",
      "execution_count": 37,
      "metadata": {
        "id": "DNpGWqoIWdcm",
        "_cell_id": "a1C3AciEDWFJGmd1",
        "outputId": "318ec86c-7917-4629-a04c-483761101f4f",
        "colab": {
          "base_uri": "https://localhost:8080/"
        }
      },
      "outputs": [
        {
          "output_type": "execute_result",
          "data": {
            "text/plain": [
              "1"
            ]
          },
          "metadata": {},
          "execution_count": 37
        }
      ],
      "source": [
        "var_list.index(\"111\")"
      ]
    },
    {
      "cell_type": "markdown",
      "metadata": {
        "id": "KuOI-DBecMsX"
      },
      "source": [
        "### Задание - работаем со списком\n",
        "\n",
        "Посмотрите, что будет, если записать по индексу [1] любое значение."
      ]
    },
    {
      "cell_type": "markdown",
      "metadata": {
        "id": "eJs0Y-e0WgiZ"
      },
      "source": [
        "Как видно, функция `index()` вызывается от самого списка (то есть это функция списка) и выводит индекс элемента, если такое значение есть. Теперь проверьте, что же будет, если вызвать `index()` по значению, которого нет?"
      ]
    },
    {
      "cell_type": "code",
      "execution_count": 38,
      "metadata": {
        "colab": {
          "base_uri": "https://localhost:8080/"
        },
        "id": "9f_4onVKW1Yp",
        "_cell_id": "zfId3bxg7cVuQ5ys",
        "outputId": "da6001a1-0230-4344-de2d-efb7e471f9d4"
      },
      "outputs": [
        {
          "output_type": "stream",
          "name": "stdout",
          "text": [
            "2\n",
            "4\n",
            "Элемент 6 отсутствует в списке\n"
          ]
        }
      ],
      "source": [
        "my_list = [1, 2, 3, 4, 5]\n",
        "\n",
        "print(my_list.index(3))\n",
        "print(my_list.index(5))\n",
        "if 6 in my_list:\n",
        "    print(my_list.index(6))\n",
        "else:\n",
        "    print(\"Элемент 6 отсутствует в списке\")\n",
        "\n"
      ]
    },
    {
      "cell_type": "markdown",
      "metadata": {
        "id": "kUthmzbtXNuB"
      },
      "source": [
        "Отлично, вот конкретно это *значение* он возвращает, если элемента нет. Осталось узнать, как добавить элемент в список. Воспользуйтесь функцией `append()` списка, чтобы добавить элемент в список и выведите весь список."
      ]
    },
    {
      "cell_type": "code",
      "execution_count": 39,
      "metadata": {
        "colab": {
          "base_uri": "https://localhost:8080/"
        },
        "id": "5e79CkE8XlLt",
        "_cell_id": "dbVph6hJvPUnCrMp",
        "outputId": "27064943-be59-46d2-c03e-6e97c46e0e62"
      },
      "outputs": [
        {
          "output_type": "stream",
          "name": "stdout",
          "text": [
            "[1, 2, 3, 4, 5]\n",
            "[1, 2, 3, 4, 5, 6]\n"
          ]
        }
      ],
      "source": [
        "my_list = [1, 2, 3, 4, 5]\n",
        "\n",
        "print(my_list)\n",
        "\n",
        "my_list.append(6)\n",
        "\n",
        "print(my_list)\n"
      ]
    },
    {
      "cell_type": "markdown",
      "metadata": {
        "id": "9mIXJAYqXHJt"
      },
      "source": [
        "### Tuple"
      ]
    },
    {
      "cell_type": "code",
      "execution_count": 40,
      "metadata": {
        "id": "4OYDtdkhTZyx",
        "_cell_id": "5lk1oeBzH9Sb22Pt"
      },
      "outputs": [],
      "source": [
        "var_tuple = (1, \"111\", \"hey\")"
      ]
    },
    {
      "cell_type": "markdown",
      "metadata": {
        "id": "psnLbBZzVUuW"
      },
      "source": [
        "Кортеж, вроде похож на список, но вот его главное отличие в том, что он неизменяем (Immutable).\n",
        "\n",
        "> Подробнее о mutable/immutable почитайте здесь: https://realpython.com/courses/immutability-python/\n"
      ]
    },
    {
      "cell_type": "markdown",
      "metadata": {
        "id": "bdjlDJumcJ-d"
      },
      "source": [
        "### Задание - внезапчик\n",
        "\n",
        "Посмотрите, что будет, если записать по индексу [1] любое значение."
      ]
    },
    {
      "cell_type": "code",
      "execution_count": 41,
      "metadata": {
        "colab": {
          "base_uri": "https://localhost:8080/"
        },
        "id": "V67Sbb_IYiNb",
        "_cell_id": "S4FCm6jx9G0SKqeJ",
        "outputId": "39f5a6b2-86de-4081-dc72-7c34a05c9098"
      },
      "outputs": [
        {
          "output_type": "stream",
          "name": "stdout",
          "text": [
            "[1, 2, 3, 4, 5]\n",
            "[1, 10, 3, 4, 5]\n"
          ]
        }
      ],
      "source": [
        "my_list = [1, 2, 3, 4, 5]\n",
        "\n",
        "print(my_list)\n",
        "\n",
        "my_list[1] = 10\n",
        "\n",
        "print(my_list)\n",
        "\n",
        "\n"
      ]
    },
    {
      "cell_type": "markdown",
      "metadata": {
        "id": "TCTkgqD8XIjW"
      },
      "source": [
        "### Dict"
      ]
    },
    {
      "cell_type": "code",
      "execution_count": 42,
      "metadata": {
        "id": "x6nafJapTWd0",
        "_cell_id": "XmZ6yMWLFlMbNGrT"
      },
      "outputs": [],
      "source": [
        "var_dict = {\n",
        "    \"string_key\": \"string_value\",\n",
        "    1: \"oh, integer key?\"\n",
        "}"
      ]
    },
    {
      "cell_type": "markdown",
      "metadata": {
        "id": "GN4nIr0XYmQ1"
      },
      "source": [
        "Словарь, очень интересный и полезный тип. Хранит данные по принципу ключ-значение. Ключ должен быть уникальным. Можно обращаться к конкретным элементам по ключу. Поддерживает запись новых элементов по несуществующему ключу."
      ]
    },
    {
      "cell_type": "code",
      "execution_count": 43,
      "metadata": {
        "colab": {
          "base_uri": "https://localhost:8080/",
          "height": 36
        },
        "id": "X4bEXPhgY-qu",
        "outputId": "40f770a7-62e5-4dc5-c256-c1846c9cc46c",
        "_cell_id": "49d3vws0hubcqvjN"
      },
      "outputs": [
        {
          "output_type": "execute_result",
          "data": {
            "text/plain": [
              "'string_value'"
            ],
            "application/vnd.google.colaboratory.intrinsic+json": {
              "type": "string"
            }
          },
          "metadata": {},
          "execution_count": 43
        }
      ],
      "source": [
        "var_dict[\"string_key\"]"
      ]
    },
    {
      "cell_type": "code",
      "execution_count": 44,
      "metadata": {
        "colab": {
          "base_uri": "https://localhost:8080/"
        },
        "id": "nZsXIhX0ZKPE",
        "outputId": "ee8cfb87-d85a-4459-f3d3-0f71d3678b72",
        "_cell_id": "RmXHoyoANbna3Y3z"
      },
      "outputs": [
        {
          "output_type": "execute_result",
          "data": {
            "text/plain": [
              "{'string_key': 'string_value', 1: 'oh, integer key?', 'new_key': 'new_value'}"
            ]
          },
          "metadata": {},
          "execution_count": 44
        }
      ],
      "source": [
        "var_dict[\"new_key\"] = \"new_value\"\n",
        "var_dict"
      ]
    },
    {
      "cell_type": "markdown",
      "metadata": {
        "id": "3IjO3edHZi2F"
      },
      "source": [
        "### Задание - что-то новенькое\n",
        "\n",
        "Попробуйте создать новый словарь `new_dict` с другими парами ключ-значение и воспользуйтесь функцией `var_dict.update(new_dict)` (мы передаем новый словарь как аргумент функции). Посмотрите, что поменялось в обоих словарях."
      ]
    },
    {
      "cell_type": "code",
      "execution_count": 45,
      "metadata": {
        "colab": {
          "base_uri": "https://localhost:8080/"
        },
        "id": "vdsT1U4MZ8Pl",
        "_cell_id": "pMExbzF0DWQXdbwM",
        "outputId": "e8abc06c-472c-48f3-ffd0-738c8ebd4c29"
      },
      "outputs": [
        {
          "output_type": "stream",
          "name": "stdout",
          "text": [
            "Исходный словарь var_dict: {'Ulugbek': 'Tashkent', 'Vozrast': 27}\n",
            "Новый словарь new_dict: {'gorod': 'Uzbekistan', 'Enjenering': 'LETI'}\n",
            "Обновленный словарь var_dict: {'Ulugbek': 'Tashkent', 'Vozrast': 27, 'gorod': 'Uzbekistan', 'Enjenering': 'LETI'}\n",
            "Новый словарь new_dict: {'gorod': 'Uzbekistan', 'Enjenering': 'LETI'}\n"
          ]
        }
      ],
      "source": [
        "var_dict = {\"Ulugbek\": \"Tashkent\", \"Vozrast\": 27}\n",
        "new_dict = {\"gorod\": \"Uzbekistan\", \"Enjenering\": \"LETI\"}\n",
        "\n",
        "print(\"Исходный словарь var_dict:\", var_dict)\n",
        "print(\"Новый словарь new_dict:\", new_dict)\n",
        "\n",
        "var_dict.update(new_dict)\n",
        "\n",
        "print(\"Обновленный словарь var_dict:\", var_dict)\n",
        "print(\"Новый словарь new_dict:\", new_dict)\n",
        "\n"
      ]
    },
    {
      "cell_type": "markdown",
      "metadata": {
        "id": "tXdPUt8TXJ1N"
      },
      "source": [
        "### Set"
      ]
    },
    {
      "cell_type": "code",
      "execution_count": 46,
      "metadata": {
        "id": "NPtQmNtSTXOk",
        "_cell_id": "ovSdsSgfg6QZcoVW"
      },
      "outputs": [],
      "source": [
        "var_set = {\n",
        "    \"no, keys\",\n",
        "    \"only unique values!\"\n",
        "}"
      ]
    },
    {
      "cell_type": "markdown",
      "metadata": {
        "id": "sRtAVj9kZ_6r"
      },
      "source": [
        "Множество, очень похож по определению на словарь скобками, но он уникален тем, что хранит только уникальные значения."
      ]
    },
    {
      "cell_type": "markdown",
      "metadata": {
        "id": "mWiGshiaaTc8"
      },
      "source": [
        "### Задание - учимся объединять\n",
        "\n",
        "Создайте свое множество `new_set` и с помощью операторов \"|\" и \"&\" получите объединение и пересечение множеств. Выведите результаты."
      ]
    },
    {
      "cell_type": "code",
      "execution_count": 47,
      "metadata": {
        "colab": {
          "base_uri": "https://localhost:8080/"
        },
        "id": "hfhRlEi5ajhE",
        "_cell_id": "uRe5c2eleFsiuXzu",
        "outputId": "bb14b374-e29b-45b5-fe40-6e03907e1619"
      },
      "outputs": [
        {
          "output_type": "stream",
          "name": "stdout",
          "text": [
            "Объединение множеств: {1, 2, 3, 4, 5, 6}\n",
            "Пересечение множеств: {3, 4}\n"
          ]
        }
      ],
      "source": [
        "my_set = {1, 2, 3, 4}\n",
        "new_set = {3, 4, 5, 6}\n",
        "\n",
        "union_set = my_set | new_set\n",
        "print(\"Объединение множеств:\", union_set)\n",
        "\n",
        "intersection_set = my_set & new_set\n",
        "print(\"Пересечение множеств:\", intersection_set)\n"
      ]
    },
    {
      "cell_type": "markdown",
      "metadata": {
        "id": "qbq8ND1t9g-x"
      },
      "source": [
        "## Преобразование типов"
      ]
    },
    {
      "cell_type": "markdown",
      "metadata": {
        "id": "Mjkl1bx59g-x"
      },
      "source": [
        "Подытожим информацию о *контейнерах* в Python.\n",
        "- Есть встроенные последовательности (`list`, `tuple`) - упорядоченные, т.е. можно обратиться через a[i], сделать срезы ([:]) и т.п.,\n",
        "- Есть встроенные неупорядоченные последовательности `set`\n",
        "- Есть встроенные структуры с ключами `dict`\n",
        "\n",
        "Кому интересно страница в официальной документации https://docs.python.org/3/reference/datamodel.html#the-standard-type-hierarchy\n",
        "\n",
        "При изучении языка нельзя забывать и опыт его становления как общего для большой группы людей. В свое время в сообществе разработчиков появились и развились отдельные библиотеки, которые позже стали общепринятыми, в которых есть свои собственные типы данных, которые удобно и даже необходимо применять на практике. О них в следующих практиках\n",
        "\n",
        "Есть явное преобразование типов, есть неявное. В питоне переменные объявляются в момент определения, то есть только после присваивания им чего-либо. Неявное преобразование зашито в некоторые операторы (например, \"+\" или  \"=\").  Явное вызывается \"явно\" с помощью функций (например, x = float(y)).\n",
        "\n",
        "Но будьте аккуратны"
      ]
    },
    {
      "cell_type": "code",
      "execution_count": 48,
      "metadata": {
        "_cell_id": "Z6yK9maukEm2u1TB",
        "colab": {
          "base_uri": "https://localhost:8080/"
        },
        "id": "W1JUzR9-9g-y",
        "outputId": "e94a3dcc-1dc7-4819-aa05-a0acce4be7eb"
      },
      "outputs": [
        {
          "output_type": "stream",
          "name": "stdout",
          "text": [
            "['a', 'b', 'c', 'd', 'e', 'f'] <class 'list'>\n",
            "{'e', 'd', 'a', 'c', 'b', 'f'} <class 'set'>\n",
            "('a', 'b', 'c', 'd', 'e', 'f') <class 'tuple'>\n",
            "[['a', 'b', 'c', 'd', 'e', 'f'], ['a', 'b', 'c', 'd', 'e', 'f']] <class 'list'>\n",
            "{0: 'a', 1: 'b', 2: 'c', 3: 'd', 4: 'e', 5: 'f'} <class 'dict'>\n",
            "dict_keys([0, 1, 2, 3, 4, 5])\n"
          ]
        }
      ],
      "source": [
        "def print_value_type(a):\n",
        "    print(a, type(a))\n",
        "\n",
        "a = list(\"abcdef\")\n",
        "\n",
        "print_value_type(a)\n",
        "print_value_type(set(a))\n",
        "print_value_type(tuple(a))\n",
        "print_value_type([a, a])\n",
        "\n",
        "d = dict(enumerate(a))\n",
        "print_value_type(d)\n",
        "print(d.keys())"
      ]
    },
    {
      "cell_type": "markdown",
      "metadata": {
        "id": "g1d2KEOb9g-y"
      },
      "source": [
        "## Никуда без ложки дёгтя..."
      ]
    },
    {
      "cell_type": "markdown",
      "metadata": {
        "id": "70iFsDZh9g-z"
      },
      "source": [
        "Jupyter формат имеет одну неявную особенность, которая вам может подпортить настроение в некоторых ситуациях - он позволяет выполнять ячейки непоследовательно.\n",
        "\n",
        "Это явно проявляется в определении и задании переменных, давайте посмотрим пример ниже:"
      ]
    },
    {
      "cell_type": "code",
      "execution_count": 49,
      "metadata": {
        "_cell_id": "lUpUEvZnXSmLPKTG",
        "id": "RQbh9TwD9g-z"
      },
      "outputs": [],
      "source": [
        "# Эту ячейку выполните первой\n",
        "cow_count = 10"
      ]
    },
    {
      "cell_type": "code",
      "execution_count": 50,
      "metadata": {
        "_cell_id": "jy07DOkvE8aMkkc6",
        "id": "b16b0U759g-z"
      },
      "outputs": [],
      "source": [
        "# Дальше выполните эту\n",
        "cow_count += 5\n",
        "sheeps_count = 2\n",
        "\n",
        "sheeps_count += 2"
      ]
    },
    {
      "cell_type": "code",
      "execution_count": 51,
      "metadata": {
        "_cell_id": "z3lBZMV24kMh7zkw",
        "colab": {
          "base_uri": "https://localhost:8080/"
        },
        "id": "quXdwuOV9g-0",
        "outputId": "83c4e957-0894-4d28-819c-5e96a2c425ce"
      },
      "outputs": [
        {
          "output_type": "stream",
          "name": "stdout",
          "text": [
            "15 4\n"
          ]
        }
      ],
      "source": [
        "# И потом эту\n",
        "print(cow_count, sheeps_count)"
      ]
    },
    {
      "cell_type": "markdown",
      "metadata": {
        "id": "-D0Kln2s9g-0"
      },
      "source": [
        "Вот мы имеет три ячейки и, если выполним их последовательно, то по логике этих ячеек получим, что все у нас 15 коров и 4 овечки (в результате вывода).\n",
        "\n",
        "Но мы можем прямо сейчас выполнить самую первую ячейку и повторить третью, пропустив вторую ячейки и получим, что у нас 10 коров.\n",
        "\n",
        "Это говорит о том, что в отличии от `.py` скриптов, где вы никуда не денетесь от последовательного выполнения, Jupyter дает возможность вклиниться в логику выполнения в любой момент, что дает очень сильный инструмент в хороших руках, но и очень мощный генератор багов (ака проблем), если эти неправильно пользоваться!\n",
        "\n",
        "> Совет - пишите и выполняйте код линейно или по блокам (от заголовка к заголовку). Не пытайтесь использовать эту нелинейность!"
      ]
    },
    {
      "cell_type": "markdown",
      "metadata": {
        "id": "OF2Gn5YAak_d"
      },
      "source": [
        "## Заключение"
      ]
    },
    {
      "cell_type": "markdown",
      "metadata": {
        "id": "qFyOIyUfapJW"
      },
      "source": [
        "Замечательно! Мы познакомились с основными типами данных, давайте подведем главный итог - для определения переменной достаточно написать название переменной и присвоить ей значение. Тип переменной конкретно не указывается, так как Python - **динамически типизируемый язык** и определяет тип в ходе работы. Именно эта особенность позволяет, например, спискам хранить разные типы данных.\n",
        "\n",
        "> Большая просьба к будущим разработчика, не называйте свои переменные (и функции) менее, чем в три символа. Ваш код - это рассказ о том, что программа делает, поэтому переменные (и функции) - слова, которыми вы говорите. Называйте переменные в соответствии с их назначением, ёмко и лаконично."
      ]
    }
  ],
  "metadata": {
    "colab": {
      "name": "Pr00_Python.ipynb",
      "provenance": [],
      "toc_visible": true,
      "include_colab_link": true
    },
    "kernelspec": {
      "display_name": "Python 3.8.10 ('.venv': poetry)",
      "language": "python",
      "name": "python3"
    },
    "language_info": {
      "codemirror_mode": {
        "name": "ipython",
        "version": 3
      },
      "file_extension": ".py",
      "mimetype": "text/x-python",
      "name": "python",
      "nbconvert_exporter": "python",
      "pygments_lexer": "ipython3",
      "version": "3.10.15"
    },
    "vscode": {
      "interpreter": {
        "hash": "5ef4d00d2bd0c756646408250b3e0222db1655439c25a4f11279476b8286db07"
      }
    }
  },
  "nbformat": 4,
  "nbformat_minor": 0
}