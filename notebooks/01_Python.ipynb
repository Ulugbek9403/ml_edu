{
  "cells": [
    {
      "cell_type": "markdown",
      "metadata": {
        "id": "view-in-github",
        "colab_type": "text"
      },
      "source": [
        "<a href=\"https://colab.research.google.com/github/Ulugbek9403/ml_edu/blob/master/notebooks/01_Python.ipynb\" target=\"_parent\"><img src=\"https://colab.research.google.com/assets/colab-badge.svg\" alt=\"Open In Colab\"/></a>"
      ]
    },
    {
      "cell_type": "markdown",
      "metadata": {
        "id": "Qesf_YoJGLD4"
      },
      "source": [
        "# Знакомимся с основами Python (Часть 2)"
      ]
    },
    {
      "cell_type": "markdown",
      "source": [
        "## Содержание\n",
        "\n",
        "* [Циклы](#Циклы)\n",
        "  * [Задание - что по циклам?](#Задание---что-по-циклам?)\n",
        "  * [Задание - закрепим range](#Задание---закрепим-range)\n",
        "* [Функции](#Функции)\n",
        "  * [Задание - вспомним математику](#Задание---вспомним-математику)\n",
        "* [Дзен питона](#Дзен-питона)\n",
        "* [Классы и объекты](#Классы-и-объекты)\n",
        "  * [Задание - попробуйте написать свой класс](#Задание---попробуйте-написать-свой-класс)\n",
        "* [Type Hinting - подсказыватель типов](#Type-Hinting---подсказыватель-типов)\n",
        "* [Классы и объекты (дополнения)](#Классы-и-объекты-дополнения)\n",
        "* [Форматированные строки](#Форматированные-строки)\n",
        "  * [Задание - расскажите немного о себе](#Задание---расскажите-немного-о-себе)\n",
        "* [Больше тренировок!](#Больше-тренировок)\n",
        "* [Полезные ссылки](#Полезные-ссылки)\n"
      ],
      "metadata": {
        "id": "TdXhYtLxN6Ne"
      }
    },
    {
      "cell_type": "markdown",
      "metadata": {
        "id": "klaZHxTpN6Nf"
      },
      "source": [
        "В этом ноутбуке:\n",
        "- Определения циклов и функций,\n",
        "- Дзен Питона!\n",
        "- ООП, будь оно не ладно,\n",
        "- Немного \"штук\" для читабельности кода (:, ->),\n",
        "- Строки"
      ]
    },
    {
      "cell_type": "markdown",
      "metadata": {
        "id": "Z23ssWtAboFC"
      },
      "source": [
        "## Циклы"
      ]
    },
    {
      "cell_type": "markdown",
      "metadata": {
        "id": "RESCcfwXb0Kd"
      },
      "source": [
        "С переменными освоились, но только на них логику не построить - нужно уметь создавать управляющую логику и **циклы** - один из важных инструментов в языках. Начнем с простого `while`. Как и во многих нормальных языках он проверяет условное значение на каждой итерации."
      ]
    },
    {
      "cell_type": "code",
      "execution_count": 1,
      "metadata": {
        "id": "hZATQDonZVaV",
        "_cell_id": "c3j27xdcg2lMLzge",
        "outputId": "06ea69ee-a65c-4b95-a7b5-90860e18a6d8",
        "colab": {
          "base_uri": "https://localhost:8080/"
        }
      },
      "outputs": [
        {
          "output_type": "stream",
          "name": "stdout",
          "text": [
            "0\n",
            "1\n",
            "2\n",
            "3\n",
            "4\n",
            "5\n",
            "6\n",
            "7\n",
            "8\n",
            "9\n"
          ]
        }
      ],
      "source": [
        "iter = 0\n",
        "while iter < 10:\n",
        "    print(iter)\n",
        "    # Python не имеет операций инкремента/декремента (++/--)\n",
        "    iter += 1"
      ]
    },
    {
      "cell_type": "markdown",
      "metadata": {
        "id": "Y_8of8XGdnQr"
      },
      "source": [
        "Вот и получился простой цикл от 0 до 9. Но такую конструкцию вы вряд ли встретите, так как для генерации последовательности чисел есть очень полезная функция `range()`. Сделаем то же самое, но в цикле `for` и с помощью нового ключевого слова `in`."
      ]
    },
    {
      "cell_type": "code",
      "execution_count": 2,
      "metadata": {
        "id": "0FGI7UWadhMT",
        "_cell_id": "onyLGcTJFiz4soCm",
        "outputId": "71c25718-acf2-4714-8e6c-565085d68e44",
        "colab": {
          "base_uri": "https://localhost:8080/"
        }
      },
      "outputs": [
        {
          "output_type": "stream",
          "name": "stdout",
          "text": [
            "0\n",
            "1\n",
            "2\n",
            "3\n",
            "4\n",
            "5\n",
            "6\n",
            "7\n",
            "8\n",
            "9\n"
          ]
        }
      ],
      "source": [
        "for iter in range(10):\n",
        "    print(iter)"
      ]
    },
    {
      "cell_type": "markdown",
      "metadata": {
        "id": "dw0nt51Nee7R"
      },
      "source": [
        "Немного слов о том, что здесь творится. Ключевое слово `in` в конструкции цикла `for` выполняет функцию получения значений одного за другим из списка справа. На самом деле, функция `range()` создает объект подобный списку, по которому цикл проходит и в каждой итерации размещает значение в переменную `iter`, которую мы и выводим.\n",
        "\n",
        "Многие ругают Python за \"примитисность\", в этом есть доля правды, так как писать на нём интуитивно понятно (читай \"дзен питона\"). При переборе данных бывает полезно использовать счетчики цикла, чтобы доставать позицию в нем отдельных элементов. Для нумерации списка есть есть функция `enumerate()`"
      ]
    },
    {
      "cell_type": "code",
      "execution_count": 3,
      "metadata": {
        "_cell_id": "Z9cpvnpKnA1hEDCM",
        "colab": {
          "base_uri": "https://localhost:8080/"
        },
        "id": "T_TfbLcZN6Ng",
        "outputId": "3a21a549-1fb3-439a-8294-5d1b4243c6d7"
      },
      "outputs": [
        {
          "output_type": "stream",
          "name": "stdout",
          "text": [
            "['a', 'b', 'c', 'd', 'e', 'f']\n",
            "0 - a\n",
            "1 - b\n",
            "2 - c\n",
            "3 - d\n",
            "4 - e\n",
            "5 - f\n"
          ]
        }
      ],
      "source": [
        "names = list(\"abcdef\")\n",
        "print(names)\n",
        "for num, elem in enumerate(names):\n",
        "    print(num,\"-\",elem)"
      ]
    },
    {
      "cell_type": "markdown",
      "metadata": {
        "id": "uGD-FgfGN6Ng"
      },
      "source": [
        "<details>\n",
        "    <summary> О списках в одной картинке [Нажми на меня] </summary>\n",
        "\n",
        "<img src=\"https://i.pinimg.com/originals/4a/ba/9d/4aba9df87cc26dcc06effb1a3e53314a.png\" height=\"500px\"/>\n",
        "</details>"
      ]
    },
    {
      "cell_type": "markdown",
      "metadata": {
        "id": "NaMYoLkBe47b"
      },
      "source": [
        "### Задание - что по циклам?\n",
        "\n",
        "Закрепим, создайте свой список и выполните проход по нему с помощью цикла `for`."
      ]
    },
    {
      "cell_type": "code",
      "execution_count": 4,
      "metadata": {
        "colab": {
          "base_uri": "https://localhost:8080/"
        },
        "id": "_qqbULlVeI92",
        "_cell_id": "4PmBxdUcl1MhOoSf",
        "outputId": "b79196c0-3679-452a-cd1c-858235703045"
      },
      "outputs": [
        {
          "output_type": "stream",
          "name": "stdout",
          "text": [
            "яблоко\n",
            "банан\n",
            "груша\n",
            "вишня\n"
          ]
        }
      ],
      "source": [
        "my_list = [\"яблоко\", \"банан\", \"груша\", \"вишня\"]\n",
        "\n",
        "for fruit in my_list:\n",
        "    print(fruit)\n"
      ]
    },
    {
      "cell_type": "markdown",
      "metadata": {
        "id": "vL4OjGWpfLRj"
      },
      "source": [
        "Также, в Python присутствуют ключевые слова `break` и `continue`. Первое слово прерывает цикл, второе - переходит к следующей итерации."
      ]
    },
    {
      "cell_type": "markdown",
      "metadata": {
        "id": "1qKY-Ht6N6Nh"
      },
      "source": [
        "### Задание - закрепим range\n",
        "\n",
        "Создайте список из 20 последовательных элементов от 5 до 25 и выведите первые 10 элементов. Обратите внимание, что нужно вывести именно ПЕРВЫЕ!"
      ]
    },
    {
      "cell_type": "code",
      "execution_count": 5,
      "metadata": {
        "_cell_id": "AqFdpRaj71FtQUwO",
        "colab": {
          "base_uri": "https://localhost:8080/"
        },
        "id": "Ctj24HRlN6Nh",
        "outputId": "7944c721-7424-4d9f-dcbe-614d303dfc94"
      },
      "outputs": [
        {
          "output_type": "stream",
          "name": "stdout",
          "text": [
            "[5, 6, 7, 8, 9, 10, 11, 12, 13, 14]\n"
          ]
        }
      ],
      "source": [
        "my_list = list(range(5, 26))\n",
        "\n",
        "print(my_list[:10])\n"
      ]
    },
    {
      "cell_type": "markdown",
      "metadata": {
        "id": "izqk9TF-fgWy"
      },
      "source": [
        "## Функции"
      ]
    },
    {
      "cell_type": "markdown",
      "metadata": {
        "id": "yp2KA4r9fwiQ"
      },
      "source": [
        "После того, как мы научились строить зацикленные конструкции, проходить по спискам, нужно научиться объединять код в функции, что делает его более структурированным и понятным, а также исключает огромное количество ошибок. Для начала определим простую функцию, которая выполняет суммирование."
      ]
    },
    {
      "cell_type": "code",
      "execution_count": 6,
      "metadata": {
        "id": "6mLZC3UxfK1C",
        "_cell_id": "gSBEkxGZG2SYE9B2"
      },
      "outputs": [],
      "source": [
        "def summation(a, b):\n",
        "    return a + b"
      ]
    },
    {
      "cell_type": "markdown",
      "metadata": {
        "id": "UIWT2KgRgJal"
      },
      "source": [
        "- `def` - ключевое слово определения функции;\n",
        "- `summation` - название функции;\n",
        "- `a, b` - два аргумента функции;\n",
        "- `return` - ключевое слово возврата результата функции; если не определено - функция вернет None;\n",
        "\n",
        "Хорошо, функцию определили, пора бы ее использовать."
      ]
    },
    {
      "cell_type": "code",
      "execution_count": 7,
      "metadata": {
        "id": "bPH90n6igfbg",
        "_cell_id": "rANN76DeYtZaEkoM"
      },
      "outputs": [],
      "source": [
        "result = summation(1, 4)"
      ]
    },
    {
      "cell_type": "code",
      "execution_count": 8,
      "metadata": {
        "colab": {
          "base_uri": "https://localhost:8080/"
        },
        "id": "k_5TxLEOJ-Ds",
        "outputId": "44f87d55-1044-41de-ef6d-69019e4d0f2d",
        "_cell_id": "xrRVFTVA9aw7HIPt"
      },
      "outputs": [
        {
          "output_type": "execute_result",
          "data": {
            "text/plain": [
              "5"
            ]
          },
          "metadata": {},
          "execution_count": 8
        }
      ],
      "source": [
        "result"
      ]
    },
    {
      "cell_type": "markdown",
      "metadata": {
        "id": "LUEMHb0QgqFr"
      },
      "source": [
        "Отлично, мы видим в выводе, что результат соответствует ожиданиям.\n",
        "\n",
        "> Не забывайте, что много кода присутствует в стандартной библиотеке Python и устанавливаемых модулях. Например, гляньте здесь: https://docs.python.org/3/library/functions.html. Также, гугл всегда поможет!"
      ]
    },
    {
      "cell_type": "markdown",
      "metadata": {
        "id": "w0rvY_XicwbT"
      },
      "source": [
        "### Задание - вспомним математику\n",
        "\n",
        "Напишите функцию для вычисления периметра прямоугольника. В качестве аргументов передайте стороны прямоугольника."
      ]
    },
    {
      "cell_type": "code",
      "execution_count": 9,
      "metadata": {
        "colab": {
          "base_uri": "https://localhost:8080/"
        },
        "id": "4DE6yOUsdUcR",
        "_cell_id": "GADdzfLrjMcgMuxI",
        "outputId": "04ef37d0-4b58-431e-c1d9-75377240fc7e"
      },
      "outputs": [
        {
          "output_type": "stream",
          "name": "stdout",
          "text": [
            "Периметр прямоугольника: 30\n"
          ]
        }
      ],
      "source": [
        "def perimeter_rectangle(a, b):\n",
        "  \"\"\"\n",
        "  Функция для вычисления периметра прямоугольника.\n",
        "\n",
        "  Args:\n",
        "    a: Длина одной стороны прямоугольника.\n",
        "    b: Длина другой стороны прямоугольника.\n",
        "\n",
        "  Returns:\n",
        "    Периметр прямоугольника.\n",
        "  \"\"\"\n",
        "  return 2 * (a + b)\n",
        "a = 5\n",
        "b = 10\n",
        "perimeter = perimeter_rectangle(a, b)\n",
        "print(\"Периметр прямоугольника:\", perimeter)\n"
      ]
    },
    {
      "cell_type": "markdown",
      "metadata": {
        "id": "kxAxCAQAN6Ni"
      },
      "source": [
        "## Дзен питона"
      ]
    },
    {
      "cell_type": "markdown",
      "metadata": {
        "id": "HoiVRUMeN6Ni"
      },
      "source": [
        "В 1999 году разработчики языка Python придумали свой набор норм, который должен был определить дальнейшее развитие языка. Это называют философией \"The Zen of Python\" (во, как всё серьёзно!).\n",
        "\n",
        "<p align=\"center\"><img src=\"https://raw.githubusercontent.com/AleksDevEdu/ml_edu/master/assets/01_zen.jpg\" width=400/></p>\n",
        "\n",
        "Её текст уже встроен в сам язык. Давайте же посмотрим."
      ]
    },
    {
      "cell_type": "code",
      "execution_count": 10,
      "metadata": {
        "_cell_id": "apYHZaNAR3zlT4BN",
        "id": "oViH_y5ON6Ni",
        "outputId": "5e4b51b3-6d03-4e63-a499-2701b611484d",
        "colab": {
          "base_uri": "https://localhost:8080/"
        }
      },
      "outputs": [
        {
          "output_type": "stream",
          "name": "stdout",
          "text": [
            "The Zen of Python, by Tim Peters\n",
            "\n",
            "Beautiful is better than ugly.\n",
            "Explicit is better than implicit.\n",
            "Simple is better than complex.\n",
            "Complex is better than complicated.\n",
            "Flat is better than nested.\n",
            "Sparse is better than dense.\n",
            "Readability counts.\n",
            "Special cases aren't special enough to break the rules.\n",
            "Although practicality beats purity.\n",
            "Errors should never pass silently.\n",
            "Unless explicitly silenced.\n",
            "In the face of ambiguity, refuse the temptation to guess.\n",
            "There should be one-- and preferably only one --obvious way to do it.\n",
            "Although that way may not be obvious at first unless you're Dutch.\n",
            "Now is better than never.\n",
            "Although never is often better than *right* now.\n",
            "If the implementation is hard to explain, it's a bad idea.\n",
            "If the implementation is easy to explain, it may be a good idea.\n",
            "Namespaces are one honking great idea -- let's do more of those!\n"
          ]
        }
      ],
      "source": [
        "import this"
      ]
    },
    {
      "cell_type": "markdown",
      "metadata": {
        "id": "-7ud-8OiN6Ni"
      },
      "source": [
        "В целом её можно использовать в любом языке программирования.\n",
        "\n",
        "На всякий случай приведём её перевод\n",
        "\n",
        "* Красивое лучше, чем уродливое.\n",
        "* Явное лучше, чем неявное.\n",
        "* Простое лучше, чем сложное.\n",
        "* Сложное лучше, чем запутанное.\n",
        "* Плоское лучше, чем вложенное.\n",
        "* Разреженное лучше, чем плотное.\n",
        "* Читаемость имеет значение.\n",
        "* Особые случаи не настолько особые, чтобы нарушать правила.\n",
        "* При этом практичность важнее безупречности.\n",
        "* Ошибки никогда не должны замалчиваться.\n",
        "* Если они не замалчиваются явно.\n",
        "* Встретив двусмысленность, отбрось искушение угадать.\n",
        "* Должен существовать один и, желательно, только один очевидный способ сделать это.\n",
        "* Хотя он поначалу может быть и не очевиден, если вы не голландец [^1].\n",
        "* Сейчас лучше, чем никогда.\n",
        "* Хотя никогда зачастую лучше, чем прямо сейчас.\n",
        "* Если реализацию сложно объяснить — идея плоха.\n",
        "* Если реализацию легко объяснить — идея, возможно, хороша.\n",
        "* Пространства имён — отличная штука! Будем делать их больше!"
      ]
    },
    {
      "cell_type": "markdown",
      "metadata": {
        "id": "S_xG6cUMN6Ni"
      },
      "source": [
        "🤓 Эта философия призывает разработчиков писать в определённом стиле. Но сам текст довольно абстрактный, поэтому придумали ещё так называется стандарт [PEP8](https://www.python.org/dev/peps/pep-0008/). Написан он довольно просто, поэтому если будут вопросы по стилю, с какой буквы лучше придумывать название классам и функциям, сколько пробелов ставить и всё такое прочее, то смело открывайте этот документ - скорее всего там вы найдёте ответы на свои вопросы."
      ]
    },
    {
      "cell_type": "markdown",
      "metadata": {
        "id": "rktsjak0Bnyc"
      },
      "source": [
        "## Классы и объекты"
      ]
    },
    {
      "cell_type": "markdown",
      "metadata": {
        "id": "EpqTR9tRBsQD"
      },
      "source": [
        "Для дальнейшей работы мы пройдемся по основным понятиям, связанным с классами. **Крайне рекомендуется ознакомиться с концепцией ООП в специализированной литературе**, а в данной секции мы просто конкретизируем терминологию, чтобы далее ее использовать.\n",
        "\n",
        "> ООП = объектно ориентированное программирование\n",
        "\n",
        "> Полезные ссылки:\n",
        "> - https://python-scripts.com/object-oriented-programming-in-python\n",
        "\n",
        "Язык Python является интерпретируемым и имеет поддержку ООП. Эти два факта приводят к одному простому правилу: **в языке Python всё является объектом определенного класса**.\n",
        "\n",
        "Что это значит? Да именно то, что даже определение переменной создает объект. По сравнению с, например, языком С++, где создание переменной через `int var = 3;` лишь выделяет кусочек памяти, то в Python `var = 3` создает объект класса."
      ]
    },
    {
      "cell_type": "markdown",
      "metadata": {
        "id": "iL7gOQb9hFwi"
      },
      "source": [
        "Теперь обратимся к четырем основным терминам, которые относятся к теме:\n",
        "- **класс** - прототип, описание, которое определяет содержание объектов;\n",
        "- **объект** - единица-сущность определенного класса. Если класс считать чертежом машины, то объект - сама машина по чертежу с набором своих индивидуальных качеств для закрепеленных в чертеже параметров (свойств);\n",
        "- **атрибуты класса** - переменные, которые содержатся в классе (и, соответственно, в его объектах);\n",
        "- **методы класса** - функции, которые содержатся в классе (и, соответственно, в объектах).\n",
        "\n",
        "> Данные описания терминов не являются определениями и нацелены на упрощение понимания, нежели на точную характеристику.\n",
        "\n",
        "Разберем на примере языка Python и научимся писать свои.\n",
        "\n",
        "Для начала создадим класс `MyClass`:\n",
        "\n",
        "1) создадим конструктор (метод, который вызывается при создании объекта данного класса - `__init__()`) с аргументом `value`\n",
        "\n",
        "2) метод `sample_method()`\n",
        "\n",
        "3) определим член класса `member_var` со значением 10.\n",
        "\n",
        "4) В конструкторе сохраним значение аргумента в `member_var`. Метод будет выводить некоторую информацию и отображать значение члена класса `member_var`.\n"
      ]
    },
    {
      "cell_type": "code",
      "execution_count": 11,
      "metadata": {
        "_cell_id": "LZ2mpkGCJNcQAxnV",
        "id": "RyJGsv5bN6Ni"
      },
      "outputs": [],
      "source": [
        "class MyClass:\n",
        "    def __init__(self, value):\n",
        "        self.member_var = value\n",
        "\n",
        "    def sample_method(self):\n",
        "        print(f\"sample_method() called with {self.member_var}\")"
      ]
    },
    {
      "cell_type": "markdown",
      "metadata": {
        "id": "mcLT-u9GjBx9"
      },
      "source": [
        "! Обратите внимание, во всех методах передается первым аргументом некоторый `self` - это фактически указатель на объект класса.\n",
        "\n",
        "Запись `self.member_var = value` означает \"объекту \"Я\" в атрибут класса `member_var` записать значение `value`\".\n",
        "\n",
        "Этот аргумент нужен, чтобы управлять содержанием объекта явно, так как в конструкторе можно создать переменную `member_var` без `self`, но от этого она не станет атрибутом класса - просто локальной переменной внутри конструктора."
      ]
    },
    {
      "cell_type": "markdown",
      "metadata": {
        "id": "6emUcq7akUih"
      },
      "source": [
        "После того, как класс написан, надо создать объект, а лучше парочку, и вызвать методы."
      ]
    },
    {
      "cell_type": "code",
      "execution_count": 13,
      "metadata": {
        "_cell_id": "1SYEEFNloPAmXXnd",
        "colab": {
          "base_uri": "https://localhost:8080/"
        },
        "id": "zn7KRRPTN6Ni",
        "outputId": "39da0923-4d23-4625-a49c-5ff2c59903c5"
      },
      "outputs": [
        {
          "output_type": "stream",
          "name": "stdout",
          "text": [
            "Woof!\n",
            "My name is Buddy and I am a Golden Retriever.\n",
            "Woof!\n",
            "My name is Lucy and I am a Labrador.\n"
          ]
        }
      ],
      "source": [
        "class Dog:\n",
        "    def __init__(self, name, breed):\n",
        "        self.name = name\n",
        "        self.breed = breed\n",
        "\n",
        "    def bark(self):\n",
        "        print(\"Woof!\")\n",
        "\n",
        "    def describe(self):\n",
        "        print(f\"My name is {self.name} and I am a {self.breed}.\")\n",
        "\n",
        "\n",
        "# Создаем объекты класса Dog\n",
        "dog1 = Dog(\"Buddy\", \"Golden Retriever\")\n",
        "dog2 = Dog(\"Lucy\", \"Labrador\")\n",
        "\n",
        "\n",
        "# Вызываем методы объектов\n",
        "dog1.bark() # Выведет: Woof!\n",
        "dog1.describe() # Выведет: My name is Buddy and I am a Golden Retriever.\n",
        "\n",
        "dog2.bark() # Выведет: Woof!\n",
        "dog2.describe() # Выведет: My name is Lucy and I am a Labrador.\n",
        "\n"
      ]
    },
    {
      "cell_type": "markdown",
      "metadata": {
        "id": "IogpB_DVk0hW"
      },
      "source": [
        "Мы выяснили, как создать объект класса, передать в конструктор аргументы и получить доступ к членам и методам класса конкретного объекта. Как видим, это несложно и нужно для понимания того, что в следующем коде делаются аналогичные вещи (создается объект класса `list`, и вызывается метод `append()`)."
      ]
    },
    {
      "cell_type": "code",
      "execution_count": 14,
      "metadata": {
        "colab": {
          "base_uri": "https://localhost:8080/"
        },
        "id": "-hLaQseQlcFf",
        "outputId": "3feeb5cd-32a9-4229-f10e-8d3b87261f6f",
        "_cell_id": "I9le1kI3YLoJT6O0"
      },
      "outputs": [
        {
          "output_type": "execute_result",
          "data": {
            "text/plain": [
              "[1, 2, 3, 10]"
            ]
          },
          "metadata": {},
          "execution_count": 14
        }
      ],
      "source": [
        "sample_list = list([1, 2, 3])\n",
        "\n",
        "\n",
        "sample_list.append(10)\n",
        "\n",
        "sample_list"
      ]
    },
    {
      "cell_type": "markdown",
      "metadata": {
        "id": "G8vKMdvPl5B0"
      },
      "source": [
        "Замечательно! Вспомнили основные понятия, которые относятся к классам и готовы идти дальше!\n",
        "\n",
        "Для чего это нужно? Большинство модулей строится на основе классов, так как это отличный способ разделить код по частям, чтобы затем из них было проще собирать конечную программу."
      ]
    },
    {
      "cell_type": "markdown",
      "metadata": {
        "id": "tyr2BxI8hJ__"
      },
      "source": [
        "### Задание - попробуйте написать свой класс\n",
        "\n",
        "Напишите класс без конструктора (так можно, у него будет конструктор по-умолчанию) с методом, который на вход принимает число `x` и производит вычисления по формуле: $2*e^{x}$\n",
        "\n",
        "Для вычисления степени экспоненты воспользуйтесь функцией `exp()` модуля `math` (не забудьте подключить его, устаналивать не требуется).\n",
        "\n",
        "Выведите в цикле значения метода при целочисленных аргументах от 4 до 12 с использованием новой функции.\n",
        "\n",
        "> Для создания диапазона чисел (для цикла) воспользуйтесь справкой функции `range()`"
      ]
    },
    {
      "cell_type": "code",
      "execution_count": 15,
      "metadata": {
        "colab": {
          "base_uri": "https://localhost:8080/"
        },
        "id": "LXnvKjIQgo8O",
        "_cell_id": "nPuMKvo8jMr8Y4em",
        "outputId": "7f7fa67c-a608-485d-9310-5e60a7e4e24f"
      },
      "outputs": [
        {
          "output_type": "stream",
          "name": "stdout",
          "text": [
            "При x = 4, результат: 109.20\n",
            "При x = 5, результат: 296.83\n",
            "При x = 6, результат: 806.86\n",
            "При x = 7, результат: 2193.27\n",
            "При x = 8, результат: 5961.92\n",
            "При x = 9, результат: 16206.17\n",
            "При x = 10, результат: 44052.93\n",
            "При x = 11, результат: 119748.28\n",
            "При x = 12, результат: 325509.58\n"
          ]
        }
      ],
      "source": [
        "import math\n",
        "\n",
        "class MyCalculator:\n",
        "    def calculate(self, x):\n",
        "        \"\"\"\n",
        "        Вычисляет значение по формуле 2 * e^x.\n",
        "\n",
        "        Args:\n",
        "            x: Число, для которого производится вычисление.\n",
        "\n",
        "        Returns:\n",
        "            Результат вычисления.\n",
        "        \"\"\"\n",
        "        return 2 * math.exp(x)\n",
        "\n",
        "calculator = MyCalculator()\n",
        "\n",
        "for x in range(4, 13):\n",
        "    result = calculator.calculate(x)\n",
        "    print(f\"При x = {x}, результат: {result:.2f}\")\n"
      ]
    },
    {
      "cell_type": "markdown",
      "metadata": {
        "id": "cF11LiS7N6Nj"
      },
      "source": [
        "## Type Hinting - подсказыватель типов"
      ]
    },
    {
      "cell_type": "markdown",
      "metadata": {
        "id": "iMfLlqVhN6Nj"
      },
      "source": [
        "Язык Python - это язык с динамическим типизированием, то есть одна и та же переменная может иметь разный тип в разных частях кода.\n",
        "\n",
        "Например"
      ]
    },
    {
      "cell_type": "code",
      "execution_count": 16,
      "metadata": {
        "_cell_id": "FaDGGCg9QPvtZQa0",
        "colab": {
          "base_uri": "https://localhost:8080/"
        },
        "collapsed": true,
        "id": "7hLuR6rkN6Nj",
        "outputId": "54793f63-d2e2-4ab0-a3ed-1c66644be39f"
      },
      "outputs": [
        {
          "output_type": "stream",
          "name": "stdout",
          "text": [
            "Type of 'Bazzinga' var: <class 'str'>\n",
            "Type of 3.14 var: <class 'float'>\n"
          ]
        }
      ],
      "source": [
        "var = \"Bazzinga\"\n",
        "print(f\"Type of 'Bazzinga' var: {type(var)}\")\n",
        "\n",
        "var = 3.14\n",
        "print(f\"Type of 3.14 var: {type(var)}\")"
      ]
    },
    {
      "cell_type": "markdown",
      "metadata": {
        "id": "EUcBxOSWN6Nj"
      },
      "source": [
        "Но тем не менее придумали штуку, которая может подсказывать типы разработчикам. Она работает скорее как комментарии, проверки на типы **НЕТ**.\n",
        "\n",
        "Её используют в функциях и методах. Давайте посмотрим пример."
      ]
    },
    {
      "cell_type": "code",
      "execution_count": 17,
      "metadata": {
        "_cell_id": "5mfShL7uEIOejp2n",
        "id": "8PdncFy_N6Nj"
      },
      "outputs": [],
      "source": [
        "class MyClass:\n",
        "    def __init__(self, name: str, age: int):\n",
        "        self.name = name\n",
        "        self.age = age\n",
        "\n",
        "    def get_age(self) -> int:\n",
        "        return self.age"
      ]
    },
    {
      "cell_type": "markdown",
      "metadata": {
        "id": "lhGGekEdN6Nj"
      },
      "source": [
        "После двоеточия мы указываем типы входных аргументов, а после стрелочки выходной тип. Вот это и есть Type Hinting. Ему даже сделали отдельный стандарт [PEP484](https://www.python.org/dev/peps/pep-0484/). Более подробно предлагаем вам самим почитать (в конце ноутбука оставили вам парочку полезных ссылок), внутри этой штуки есть много разных типов: `List`, `Union`, `Iterable`, etc."
      ]
    },
    {
      "cell_type": "markdown",
      "metadata": {
        "id": "vqZAvl13N6Nj"
      },
      "source": [
        "Но давайте попробуем использовать типы данных, которые противоречат нашим аннотациям."
      ]
    },
    {
      "cell_type": "code",
      "execution_count": 18,
      "metadata": {
        "_cell_id": "nERN66NvBERacPDC",
        "colab": {
          "base_uri": "https://localhost:8080/"
        },
        "id": "2Vv33hnDN6Nj",
        "outputId": "f16ee312-54fc-4657-ce4e-792a35fa2a91"
      },
      "outputs": [
        {
          "output_type": "stream",
          "name": "stdout",
          "text": [
            "<class 'str'>\n"
          ]
        }
      ],
      "source": [
        "my_class = MyClass(123, \"immortal\")\n",
        "\n",
        "age = my_class.get_age()\n",
        "print(type(age))"
      ]
    },
    {
      "cell_type": "markdown",
      "metadata": {
        "id": "EeCfGDizN6Nj"
      },
      "source": [
        "Как вы можете видеть, никаких ошибок или предупреждений не появилось. Что и требовалось доказать.\n",
        "\n",
        "Type Hinting используется для улучшения читаемости кода, и это правда работает. Также, эта штука позволяет уменьшить количество комментариев, так как сам код уже содержит в себе как бы документацию (аннотацию типов).\n",
        "\n",
        "Мы очень рекомендуем вам использовать этот инструмент, ибо он классный!"
      ]
    },
    {
      "cell_type": "markdown",
      "metadata": {
        "id": "DdppgjXXN6Nj"
      },
      "source": [
        "## Классы и объекты (дополнения)"
      ]
    },
    {
      "cell_type": "markdown",
      "metadata": {
        "id": "eWum7KHbN6Nk"
      },
      "source": [
        "*Еще одно важное уточнение*. В языке Python атрибуты классов можно не объявлять явно - если при вызове метода класса в его теле инициализируется атрибут, то только тогда он и создается, до этого его не существует. Если вызвать его до момента создания - будет ошибка"
      ]
    },
    {
      "cell_type": "code",
      "execution_count": 19,
      "metadata": {
        "_cell_id": "LSXhkIFXI5cVqush",
        "colab": {
          "base_uri": "https://localhost:8080/"
        },
        "id": "sU7flDA1N6Nk",
        "outputId": "7a71e219-3769-4008-e97c-9f6806809c42"
      },
      "outputs": [
        {
          "output_type": "stream",
          "name": "stdout",
          "text": [
            "Всё пропало, шеф. Ошибка:\n",
            " Traceback (most recent call last):\n",
            "  File \"<ipython-input-19-d552d61039db>\", line 16, in print_attr_and_find_error\n",
            "    a.print_attr()\n",
            "  File \"<ipython-input-19-d552d61039db>\", line 9, in print_attr\n",
            "    print(self.attr)\n",
            "AttributeError: 'MyClass_2' object has no attribute 'attr'\n",
            "\n",
            "Some_data_of_attribute\n",
            "Ошибок нет\n"
          ]
        }
      ],
      "source": [
        "import traceback\n",
        "\n",
        "class MyClass_2:\n",
        "    def __init__(self):\n",
        "\n",
        "        pass\n",
        "\n",
        "    def print_attr(self):\n",
        "        print(self.attr)\n",
        "\n",
        "    def def_attr(self):\n",
        "        self.attr = \"Some_data_of_attribute\"\n",
        "\n",
        "def print_attr_and_find_error(a: MyClass_2):\n",
        "    try:\n",
        "        a.print_attr()\n",
        "    except:\n",
        "\n",
        "        print(f\"Всё пропало, шеф. Ошибка:\\n {traceback.format_exc()}\")\n",
        "    else:\n",
        "\n",
        "        print(\"Ошибок нет\")\n",
        "\n",
        "a = MyClass_2()\n",
        "print_attr_and_find_error(a)\n",
        "a.def_attr()\n",
        "print_attr_and_find_error(a)\n"
      ]
    },
    {
      "cell_type": "markdown",
      "metadata": {
        "id": "LSPXTvDOdeAK"
      },
      "source": [
        "## Форматированные строки"
      ]
    },
    {
      "cell_type": "markdown",
      "metadata": {
        "id": "DcEgqT34diH0"
      },
      "source": [
        "> **Форматированные строки** - строки со втроенными значениями данных. Более подробно в примере:"
      ]
    },
    {
      "cell_type": "code",
      "execution_count": 20,
      "metadata": {
        "id": "UsC4mJvnaru3",
        "_cell_id": "l8IlC7Be6WsT9CBm"
      },
      "outputs": [],
      "source": [
        "name = \"Юзер\"\n",
        "age = 30"
      ]
    },
    {
      "cell_type": "markdown",
      "metadata": {
        "id": "EAjDUBG-aylQ"
      },
      "source": [
        "Положим, что мы имеем представленные переменные и хотим вывести строку \"Привет, меня зовут Юзер и мне 30\". Форматирование строки - как раз способ встроить данные в строку.\n",
        "\n",
        "Первый способ похож на форматирование строк в языке С. Для форматирования используется оператор `%`, шаблон строки и кортеж с данными для заполнения шаблона:"
      ]
    },
    {
      "cell_type": "code",
      "execution_count": 21,
      "metadata": {
        "id": "-QD8qJBkbTQ2",
        "_cell_id": "oEeEuTUIEEciXvC5",
        "outputId": "a6f92123-0bce-4f26-a6dc-355c4a05f257",
        "colab": {
          "base_uri": "https://localhost:8080/"
        }
      },
      "outputs": [
        {
          "output_type": "stream",
          "name": "stdout",
          "text": [
            "Привет, меня зовут Юзер и мне 30\n"
          ]
        }
      ],
      "source": [
        "template_string = \"Привет, меня зовут %s и мне %d\"\n",
        "formatted_string = template_string % (name, age)\n",
        "print(formatted_string)"
      ]
    },
    {
      "cell_type": "code",
      "execution_count": 22,
      "metadata": {
        "id": "z0gSLv6idPec",
        "_cell_id": "7vvtIy96VWFre5E3",
        "outputId": "8049447c-c3ef-48f4-b07a-3e9167f66a7f",
        "colab": {
          "base_uri": "https://localhost:8080/"
        }
      },
      "outputs": [
        {
          "output_type": "stream",
          "name": "stdout",
          "text": [
            "Привет, меня зовут Юзер и мне 30\n"
          ]
        }
      ],
      "source": [
        "# То же самое, только раньше мы сохранили строку в переменную,\n",
        "#   а сейчас сразу в вывод\n",
        "print(\"Привет, меня зовут %s и мне %d\" % (name, age))"
      ]
    },
    {
      "cell_type": "markdown",
      "metadata": {
        "id": "gb9ajl4obhpT"
      },
      "source": [
        "То есть, в шаблоне расставляются места с указанием типа заполняемого значения и после через оператор `%` подставляется по порядку данные из кортежа. Так, значение `name` подставляется вместо `%s`, а `age` - вместо %d.\n",
        "\n",
        "Шаблоны формируются на основе следующих типов:\n",
        "- `%s` - строчные типы;\n",
        "- `%d` - целочисленный тип;\n",
        "- `%x` - целочисленный тип (в шестнадцатеричной системе);\n",
        "- `%f` - вещественный тип;\n"
      ]
    },
    {
      "cell_type": "code",
      "execution_count": 23,
      "metadata": {
        "colab": {
          "base_uri": "https://localhost:8080/"
        },
        "id": "uqnV03FccTHa",
        "outputId": "e792e112-85cf-4e6e-e784-bb5650d0b9b5",
        "_cell_id": "2a8yB3fkAnqYYlAm"
      },
      "outputs": [
        {
          "output_type": "stream",
          "name": "stdout",
          "text": [
            "Сравним 0.333333, 0.33, 0.3\n"
          ]
        }
      ],
      "source": [
        "\n",
        "var = 0.33333333\n",
        "print(\"Сравним %f, %.2f, %.1f\" % (var, var, var))"
      ]
    },
    {
      "cell_type": "markdown",
      "source": [
        "# Новый раздел"
      ],
      "metadata": {
        "id": "g6OPkE6rSbZ2"
      }
    },
    {
      "cell_type": "markdown",
      "metadata": {
        "id": "7r0g1PCmcsD8"
      },
      "source": [
        "Типов и способов представления данных намного больше, но мы не будем на этом останавливаться, так как для конкретной ситуации можно найти требуемое представление в документации или на форумах."
      ]
    },
    {
      "cell_type": "markdown",
      "metadata": {
        "id": "HlMMyGQ0chYZ"
      },
      "source": [
        "Второй способ формирования является более \"питоническим\", так как для форматирования используется метод `str.format()` класса строки:"
      ]
    },
    {
      "cell_type": "code",
      "execution_count": 24,
      "metadata": {
        "colab": {
          "base_uri": "https://localhost:8080/"
        },
        "id": "bv_MWtxcdNok",
        "outputId": "d65e7a28-e79a-47b0-8533-34031406019f",
        "_cell_id": "EFFoHQ4auVY7vsld"
      },
      "outputs": [
        {
          "output_type": "stream",
          "name": "stdout",
          "text": [
            "Привет, меня зовут Юзер и мне 30\n"
          ]
        }
      ],
      "source": [
        "print(\"Привет, меня зовут {} и мне {}\".format(name, age))"
      ]
    },
    {
      "cell_type": "markdown",
      "metadata": {
        "id": "-zcxkqeRdlSc"
      },
      "source": [
        "Такой способ требует немного другого шаблона в виде фигурных скобок. Тип задавать не обязательно, расставляются данные по порядку. Для задания формата отображения, например, для вещественных чисел, устанавливается двоеточие и далее пишется дополнительное описание представления:"
      ]
    },
    {
      "cell_type": "code",
      "execution_count": 25,
      "metadata": {
        "colab": {
          "base_uri": "https://localhost:8080/"
        },
        "id": "8edDud8xd3TD",
        "outputId": "fa52a99a-8b3c-4dcb-c423-dacafcf4009b",
        "_cell_id": "cd1iFhwgBTmFeBO9"
      },
      "outputs": [
        {
          "output_type": "stream",
          "name": "stdout",
          "text": [
            "Сравним 0.444444444, 0.44, 0.4\n"
          ]
        }
      ],
      "source": [
        "var = 0.444444444\n",
        "print(\"Сравним {}, {:.2f}, {:.1f}\".format(var, var, var))"
      ]
    },
    {
      "cell_type": "markdown",
      "metadata": {
        "id": "TDxfY45DeJqj"
      },
      "source": [
        "Последний способ является наиболее современным, так как появился в Python3.6 и называется \"f-строки\". В этом способе перемешиваются понятия шаблона и данных, так что он бывает удобнее ранее представленных способов:"
      ]
    },
    {
      "cell_type": "code",
      "execution_count": 26,
      "metadata": {
        "id": "djHTOKfneczr",
        "_cell_id": "sHfxnq6fQ5AXTJrn",
        "outputId": "d27eb948-b432-4bd7-9cd5-95da2426cae5",
        "colab": {
          "base_uri": "https://localhost:8080/"
        }
      },
      "outputs": [
        {
          "output_type": "stream",
          "name": "stdout",
          "text": [
            "Привет, меня зовут Юзер и мне 30\n"
          ]
        }
      ],
      "source": [
        "print(f\"Привет, меня зовут {name} и мне {age}\")"
      ]
    },
    {
      "cell_type": "markdown",
      "metadata": {
        "id": "SeLMy01lehdm"
      },
      "source": [
        "Основные требования: перед строкой ставится символ `f` и в фигурные скобки записываются сами переменные. Для задания формата отображения также ставится двоеточие и задается формат:"
      ]
    },
    {
      "cell_type": "code",
      "execution_count": 27,
      "metadata": {
        "id": "altpRd4Ge1kG",
        "_cell_id": "MhKw5Vq7cf5PUZqQ",
        "outputId": "816affd0-bf4e-47eb-b562-7c2a56d00b15",
        "colab": {
          "base_uri": "https://localhost:8080/"
        }
      },
      "outputs": [
        {
          "output_type": "stream",
          "name": "stdout",
          "text": [
            "Сравним 0.173456, 0.17, 0.2\n"
          ]
        }
      ],
      "source": [
        "# Обратите внимание на округление!\n",
        "var = 0.173456\n",
        "print(f\"Сравним {var}, {var:.2f}, {var:.1f}\")"
      ]
    },
    {
      "cell_type": "markdown",
      "metadata": {
        "id": "x48Zd_CYfBek"
      },
      "source": [
        "### Задание - расскажите немного о себе\n",
        "\n",
        "Напишите функцию, которая принимает имя, возраст и среднюю оценку в качестве аргументов и отображает данные тремя способами, рассмотренными ранее, в виде строк.\n",
        "\n",
        "```\n",
        "Добрый день! Мое имя: <name>, возраст: <age>, оценка: <avg_grade>. Приятно познакомиться!\n",
        "```\n",
        "\n",
        "> Средняя оценка должна отображаться не более, чем с двумя символами после запятой."
      ]
    },
    {
      "cell_type": "code",
      "execution_count": 28,
      "metadata": {
        "colab": {
          "base_uri": "https://localhost:8080/"
        },
        "id": "aHV4yym-fXYc",
        "_cell_id": "Mobzzw6M4NYOl6UN",
        "outputId": "f2b7884a-86ce-4492-cc5d-6b48a0ec433a"
      },
      "outputs": [
        {
          "output_type": "stream",
          "name": "stdout",
          "text": [
            "Имя: Иван, Возраст: 18, Средняя оценка: 4.57\n",
            "Имя: Иван, Возраст: 18, Средняя оценка: 4.57\n",
            "Имя: Иван, Возраст: 18, Средняя оценка: 4.57\n"
          ]
        }
      ],
      "source": [
        "def show_info(name, age, avg_grade):\n",
        "    pass\n",
        "\n",
        "    print(f\"Имя: {name}, Возраст: {age}, Средняя оценка: {avg_grade:.2f}\")\n",
        "    print(\"Имя: {}, Возраст: {}, Средняя оценка: {:.2f}\".format(name, age, avg_grade))\n",
        "    print(\"Имя: %s, Возраст: %d, Средняя оценка: %.2f\" % (name, age, avg_grade))\n",
        "show_info(\"Иван\", 18, 4.5678)\n"
      ]
    },
    {
      "cell_type": "markdown",
      "metadata": {
        "id": "6KTSxXmnLDA6"
      },
      "source": [
        "## Больше тренировок!"
      ]
    },
    {
      "cell_type": "markdown",
      "metadata": {
        "id": "RvewWQC4LG5Y"
      },
      "source": [
        "- [Задачка на среднее](https://www.codewars.com/kata/563e320cee5dddcf77000158/train/python)\n",
        "- [Починка if условия](https://www.codewars.com/kata/57089707fe2d01529f00024a/train/python)\n",
        "- [Поиск неиспользованного ID](https://www.codewars.com/kata/55eea63119278d571d00006a/train/python)\n",
        "- [Работа со строками](https://www.codewars.com/kata/55a70521798b14d4750000a4/train/python)\n",
        "- [Определение четности](https://www.codewars.com/kata/53da3dbb4a5168369a0000fe/train/python)\n",
        "- [Удаление элементов строк (работа с индексами)](https://www.codewars.com/kata/56bc28ad5bdaeb48760009b0/train/python)\n",
        "- [Регулярные выражения](https://www.codewars.com/kata/57eae20f5500ad98e50002c5/train/python)\n",
        "- [Сложение](https://www.codewars.com/kata/55d24f55d7dd296eb9000030/train/python)\n",
        "- [Подсчет овечек](https://www.codewars.com/kata/54edbc7200b811e956000556/train/python)\n",
        "- [Подсчет гласных букв](https://www.codewars.com/kata/54ff3102c1bad923760001f3/train/python)\n",
        "- [Строки-числа, поиск минимума/максимума](https://www.codewars.com/kata/554b4ac871d6813a03000035/train/python)\n",
        "- [Поиск повторяющихся букв](https://www.codewars.com/kata/54ba84be607a92aa900000f1/train/python)\n",
        "- [Замена символов](https://www.codewars.com/kata/554e4a2f232cdd87d9000038/train/python)\n",
        "\n",
        "И т.д. на https://www.codewars.com/"
      ]
    },
    {
      "cell_type": "markdown",
      "source": [
        "## Полезные ссылки\n",
        "Если хочется поиграть:\n",
        "  - https://codecombat.com/\n",
        "  - https://www.codingame.com/ide/puzzle/onboarding\n",
        "* [The Zen of Python (PEP20)](https://www.python.org/dev/peps/pep-0008/)\n",
        "* [How to Write Beautiful Code with PEP8](https://realpython.com/python-pep8/)\n",
        "* [Type Hinting](https://www.python.org/dev/peps/pep-0484/)\n",
        "* [Get started with Python Type Hinting](https://www.infoworld.com/article/3630372/get-started-with-python-type-hints.html)\n"
      ],
      "metadata": {
        "id": "YMWvpGSPN6Nl"
      }
    }
  ],
  "metadata": {
    "colab": {
      "name": "Pr00_Python.ipynb",
      "provenance": [],
      "toc_visible": true,
      "include_colab_link": true
    },
    "kernelspec": {
      "display_name": "Python 3.8.10 ('.venv': poetry)",
      "language": "python",
      "name": "python3"
    },
    "language_info": {
      "codemirror_mode": {
        "name": "ipython",
        "version": 3
      },
      "file_extension": ".py",
      "mimetype": "text/x-python",
      "name": "python",
      "nbconvert_exporter": "python",
      "pygments_lexer": "ipython3",
      "version": "3.10.15"
    },
    "vscode": {
      "interpreter": {
        "hash": "5ef4d00d2bd0c756646408250b3e0222db1655439c25a4f11279476b8286db07"
      }
    }
  },
  "nbformat": 4,
  "nbformat_minor": 0
}